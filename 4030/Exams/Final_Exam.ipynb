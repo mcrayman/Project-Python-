{
 "cells": [
  {
   "cell_type": "markdown",
   "id": "644624ad-0546-49df-bee2-e4135630fbd6",
   "metadata": {},
   "source": [
    "# COMP 4030  / 6030 Final Exam"
   ]
  },
  {
   "cell_type": "markdown",
   "id": "2bfafed0-e2cc-4a98-9c28-b14222d7b33c",
   "metadata": {},
   "source": [
    "YOUR NAME: Matthew McMeans\n",
    "\n",
    "Exam Policy:\n",
    "+ Write your name above. Without your name, it's not your exam.\n",
    "+ Export to HTML and upload the HTML.\n",
    "+ No internet, no phones, no conversation.  Using other people's work results in failing the course.\n",
    "\n",
    "In problems 2, 3, 4, 5 and 6, there are design requirements that you have to adhere to. For example, if the problem requires a recursive design, your design must be recursive.  The goal is to test your ability to apply the concepts and techniques that were taught.\n",
    "\n",
    "Read the problem descriptions carefully.\n"
   ]
  },
  {
   "cell_type": "markdown",
   "id": "908f3633-ef12-4fba-b3fe-f7d5f345a5d3",
   "metadata": {},
   "source": [
    "--- \n",
    "**Problem 1** (20 points)\n",
    "\n",
    "The program \"prob1\" belows calls the function \"move\" to complete its tasks.  The running time of \"prob1\" depends on the running time of \"move\".\n",
    "\n",
    "Write down the running time equation of \"prob1\" and find its complexity (in terms of $\\Theta$) for each of the following cases:\n",
    "\n",
    "1. The running time complexity of \"move\" is $\\Theta(n)$.\n",
    "2. The running time complexity of \"move\" is $\\Theta(n^2)$.\n",
    "\n"
   ]
  },
  {
   "cell_type": "code",
   "execution_count": null,
   "id": "7c2bf320-3486-4178-bb6a-0cf0b22ba532",
   "metadata": {},
   "outputs": [],
   "source": [
    "def prob1(L):\n",
    "    if len(L) <= 1: #a\n",
    "        return L\n",
    "    less, more = move(L)  #   # move returns two lists, each with n/2 numbers.\n",
    "    A = prob1(less) \n",
    "    B = prob1(more) \n",
    "    return A + [L[0]] + B"
   ]
  },
  {
   "cell_type": "markdown",
   "id": "3f975a21-6a3f-481b-9a61-a2b9d8650c71",
   "metadata": {},
   "source": [
    "### Part 1\n",
    "\n",
    "T(n) = $\\Theta(n) + 2T(n/2)$\n",
    "\n",
    "d = 1 = $log_2 2$ = 1\n",
    "\n",
    "$T(n) \\in \\Theta(n \\log n)$"
   ]
  },
  {
   "cell_type": "markdown",
   "id": "61806349-335c-4331-aaa0-418b24d2aee1",
   "metadata": {},
   "source": [
    "## Part 2\n",
    "\n",
    "T(n) = $\\Theta(n^2) + 2T(n/2)$\n",
    "\n",
    "d = 2 > $log_2 2$ = 1\n",
    "\n",
    "$T(n) \\in \\Theta(n^2)$"
   ]
  },
  {
   "cell_type": "markdown",
   "id": "121fab6d-54ea-49a3-a4fb-e8a63a30922c",
   "metadata": {},
   "source": [
    "---\n",
    "**Problem 2** (20 points)\n",
    "\n",
    "\n",
    "Given a 2D grid, use a recursive design to implement the program **reachable(m, n, obstacles)** that determines if it's possible for a robot to move from position (m,n), which is the top right corner on the grid, to position (1,1), which is the bottom left corner of the grid.\n",
    "\n",
    "From a given coordinate, the robot can only move in one of 3 ways: (i) left, (ii) down, or (iii) diagonal left/down.\n",
    "\n",
    "For example, from position (5,4) for example, it can either move to (4,4), or to (5,3), or to (4,3).\n",
    "\n",
    "The third parameter *obstacles* is a list of coordinates of obstacles, that the robot cannot move through.\n",
    "\n",
    "\n",
    "Examples:\n",
    "+ **reachable(7, 3, [(3,2), (5,1)])** should return True.\n",
    "\n",
    "<img src=\"https://i.imgur.com/xNoHWaf.png\">\n",
    "\n",
    "\n",
    "\n",
    "On the other hand:\n",
    "+ **reachable(7, 3, [(6,3), (6, 2), (5,1)])** should return False.\n",
    "\n",
    "\n",
    "**You must use a recursive design to solve this problem.**\n",
    "\n"
   ]
  },
  {
   "cell_type": "markdown",
   "id": "f3911719-e499-496b-9b4d-4cdb88e2ef63",
   "metadata": {},
   "source": [
    "ANSWER"
   ]
  },
  {
   "cell_type": "code",
   "execution_count": 311,
   "id": "341aa073-14f4-4871-bcd0-1ce23f547c3a",
   "metadata": {},
   "outputs": [],
   "source": [
    "#\n",
    "# Write your code here\n",
    "#\n",
    "def reachable(m, n, obstacles):\n",
    "    if (m,n) in obstacles:\n",
    "        return 0\n",
    "    if m==1 and n==1:\n",
    "        return 1\n",
    "    if m==1:\n",
    "        return reachable(m, n-1, obstacles)\n",
    "    if n==1:\n",
    "        return reachable(m-1, n, obstacles)\n",
    "    if (reachable(m-1, n, obstacles) + reachable(m, n-1, obstacles) + reachable(m-1, n-1, obstacles)) > 0:\n",
    "        return True\n",
    "    else:\n",
    "        return False\n",
    "    \n"
   ]
  },
  {
   "cell_type": "markdown",
   "id": "f930f78c-fdb2-45a7-90cf-ec94df3e8218",
   "metadata": {},
   "source": [
    "Test your code"
   ]
  },
  {
   "cell_type": "code",
   "execution_count": 313,
   "id": "212c7097-87ad-4423-9e84-896f5d3ae413",
   "metadata": {},
   "outputs": [
    {
     "data": {
      "text/plain": [
       "True"
      ]
     },
     "execution_count": 313,
     "metadata": {},
     "output_type": "execute_result"
    }
   ],
   "source": [
    "reachable(7, 3, [(3,2), (5,1)]) "
   ]
  },
  {
   "cell_type": "code",
   "execution_count": 314,
   "id": "a3348898-3bb7-42b1-bd51-51e789939c48",
   "metadata": {},
   "outputs": [
    {
     "data": {
      "text/plain": [
       "False"
      ]
     },
     "execution_count": 314,
     "metadata": {},
     "output_type": "execute_result"
    }
   ],
   "source": [
    "reachable(7, 3, [(6,3), (6, 2), (5,1)]) "
   ]
  },
  {
   "cell_type": "markdown",
   "id": "8c6476f3-28a5-4cd9-a8d8-542d16bbde19",
   "metadata": {},
   "source": [
    "---\n",
    "**Problem 3** (10 points)\n",
    "\n",
    "Assuming you have at least a mostly correct solution for problem 2 and that it repeatedly recalculate things.\n",
    "\n",
    "Redesign your solution for problem 2 to use a table to store calculations in a way that does not recalculate things.\n",
    "\n",
    "Note: if your solution to problem 2 already uses a table to store calculations and does not repeatedly calculate things, you can copy and paste it here."
   ]
  },
  {
   "cell_type": "markdown",
   "id": "400bc7a7-ffbe-490d-93ce-86cb1958a609",
   "metadata": {},
   "source": [
    "ANSWER"
   ]
  },
  {
   "cell_type": "code",
   "execution_count": 138,
   "id": "f9cbdb57-e84f-40ab-85f0-94585a661778",
   "metadata": {},
   "outputs": [],
   "source": [
    "#\n",
    "# Write your code here\n",
    "#\n",
    "Table = {}\n",
    "def reachable(m, n, obstacles):\n",
    "    if (m,n) in Table:\n",
    "        return False\n",
    "    if (m,n) in obstacles:\n",
    "        return 0\n",
    "    if m==1 and n==1:\n",
    "        return 1\n",
    "    if m==1:\n",
    "        return reachable(m, n-1, obstacles)\n",
    "    if n==1:\n",
    "        return reachable(m-1, n, obstacles)\n",
    "    Table[m,n] = (reachable(m-1, n, obstacles) + reachable(m, n-1, obstacles) + reachable(m-1, n-1, obstacles))\n",
    "    if Table[m,n] > 0:\n",
    "        return True\n",
    "    else:\n",
    "        return False\n"
   ]
  },
  {
   "cell_type": "code",
   "execution_count": 139,
   "id": "d657f31e-d86a-4ab8-8a9e-60871afe6d10",
   "metadata": {},
   "outputs": [
    {
     "data": {
      "text/plain": [
       "True"
      ]
     },
     "execution_count": 139,
     "metadata": {},
     "output_type": "execute_result"
    }
   ],
   "source": [
    "reachable(7, 3, [(3,2), (5,1)]) "
   ]
  },
  {
   "cell_type": "code",
   "execution_count": 140,
   "id": "eeb50a24-03b5-4dbc-9903-90265c68b71a",
   "metadata": {},
   "outputs": [
    {
     "data": {
      "text/plain": [
       "False"
      ]
     },
     "execution_count": 140,
     "metadata": {},
     "output_type": "execute_result"
    }
   ],
   "source": [
    "reachable(7, 3, [(6,3), (6, 2), (5,1)]) "
   ]
  },
  {
   "cell_type": "markdown",
   "id": "513c565c-8c1a-4575-b622-e62359dfa21d",
   "metadata": {},
   "source": [
    "---\n",
    "**Problem 4** (20 points)\n",
    "\n",
    "Recall that in assignment 6, the following program can find a solution that makes changes for a certain amount **X**, given coins **values**:\n",
    "```\n",
    "def make_change_with_solution(values, X):\n",
    "    if X==0:\n",
    "        return []\n",
    "    if X<0:\n",
    "        # not possible to make change for X\n",
    "        return None\n",
    "    for v in values:\n",
    "        changes = make_change_with_solution(values, X-v)\n",
    "        if changes is not None:\n",
    "            changes.append(v)\n",
    "            return changes\n",
    "    return None\n",
    "```\n",
    "\n",
    "And that make_change_with_solution([5,7], 15) returns [5, 5, 5].\n",
    "\n",
    "In this problem, you **must** modify this program to create a new program called **optimal_change**. This new program finds a solution that has the fewest number of coins.\n",
    "\n",
    "For example, optimal_change([1,5,7,10,20], 21) returns [1, 20].  Note that there are many ways to make change for 21, e.g. [1,5,5,5,5], but [1,20] is the one with the fewest number of coins.\n",
    "\n",
    "**Hint**: consider this analysis. In the for loop of **make_change_with_solution**, as soon as we can make change for X-v, we add v to the solution for X-v and return it.  This works for **make_change_with_solution** because we don't care how many coins there are in a solution; we only care about finding a solution. So, when we find it, we return it.\n",
    "\n",
    "To find a solution with the fewest number of coins for **optimal_change**, we should not return a solution when we find one.  Instead, we should save all solutions and figure which has the fewest number of coins.\n"
   ]
  },
  {
   "cell_type": "markdown",
   "id": "9825bd26-aa8e-4221-b952-c6d9a5481b59",
   "metadata": {},
   "source": [
    "ANSWER:"
   ]
  },
  {
   "cell_type": "code",
   "execution_count": 325,
   "id": "98603329-811f-4417-af5a-4b928c5452c9",
   "metadata": {},
   "outputs": [],
   "source": [
    "#\n",
    "# Write your code here\n",
    "#\n",
    "def optimal_change(values, X):\n",
    "    if X==0:\n",
    "        return []\n",
    "    if X<0:\n",
    "        # not possible to make change for X\n",
    "        return None\n",
    "    for v in values:\n",
    "        changes = optimal_change(values, X-v)\n",
    "        if changes is not None:\n",
    "            changes.append(v)\n",
    "            \n",
    "            return changes\n",
    "    return None"
   ]
  },
  {
   "cell_type": "code",
   "execution_count": 326,
   "id": "515dc7fa-d364-4c68-8df0-77f9ecfa2f19",
   "metadata": {
    "tags": []
   },
   "outputs": [
    {
     "data": {
      "text/plain": [
       "[1, 1, 1, 1, 1, 1, 1, 1, 1, 1, 1, 1, 1, 1, 1, 1, 1, 1, 1, 1, 1]"
      ]
     },
     "execution_count": 326,
     "metadata": {},
     "output_type": "execute_result"
    }
   ],
   "source": [
    "#\n",
    "# Test your code\n",
    "#\n",
    "optimal_change([1,5,7,10,20], 21)"
   ]
  },
  {
   "cell_type": "markdown",
   "id": "57bff773-b461-4169-b9c3-552337fb4947",
   "metadata": {},
   "source": [
    "---\n",
    "**Problem 5** (20 points)\n",
    "\n",
    "In this problem, you must use the backtracking template provided below to generate all cliques with at least 3 people in each of them in a network.\n",
    "\n",
    "A clique is a group of friends who mutually know each other (i.e. there's an edge for each pair of node in the clique).\n",
    "\n",
    "In the backtracking template called \"generate\" below, the parameter **is_valid** is a function that checks if a solution is valid. In this problem, you must pass an **is_valid** function (together with other parameters) to \"generate\" all cliques with at least 3 people in each of them.  In this problem, a valid solution is a clique with at least 3 people.\n",
    "\n",
    "Specifically, define a function called **is_a_clique** and use it as a check for valid solutions and generate all cliques with at least 3 people in each of them.  "
   ]
  },
  {
   "cell_type": "code",
   "execution_count": 85,
   "id": "889460d7-45c3-431e-85c1-226086a21995",
   "metadata": {},
   "outputs": [],
   "source": [
    "\n",
    "def get_nodes(solution):\n",
    "    return [i for i in range(len(solution)) if solution[i]]\n",
    "     \n",
    "def generate(solution, i, g, is_valid):\n",
    "    if i==len(solution):\n",
    "        if is_valid(solution, g):\n",
    "            print(get_nodes(solution))\n",
    "    else:\n",
    "        for possibility in [True, False]:\n",
    "            solution[i] = possibility\n",
    "            generate(solution, i+1, g, is_valid)\n"
   ]
  },
  {
   "cell_type": "markdown",
   "id": "c61aeb60-49e8-44bc-a09b-8a317ac7e062",
   "metadata": {},
   "source": [
    "ANSWER"
   ]
  },
  {
   "cell_type": "code",
   "execution_count": 291,
   "id": "44c29615-52c7-423e-9fa7-65ad9a28614e",
   "metadata": {},
   "outputs": [],
   "source": [
    "#\n",
    "# Use this graph to test your solution\n",
    "#\n",
    "import networkx as nx\n",
    "G = nx.gnp_random_graph(n=5, p=0.8, seed=24)\n"
   ]
  },
  {
   "cell_type": "code",
   "execution_count": 327,
   "id": "49dd8247-f98e-4c2a-b58e-5a070d7f7b3e",
   "metadata": {},
   "outputs": [],
   "source": [
    "#\n",
    "# Write your code here to solve this problem\n",
    "#\n",
    "def is_a_clique(solution, g):\n",
    "    the_nodes = [i for i in range(len(solution)) if solution[i]==True]\n",
    "    if len(the_nodes)!=3:\n",
    "        return False\n",
    "    a, b, c = the_nodes\n",
    "    return (a,b) in g.edges and (b,c) in g.edges and (a,c) in g.edges\n",
    "\n",
    "  \n",
    "def possibilities(solution, i, g):\n",
    "    the_nodes = []\n",
    "    for j in range(i):\n",
    "        if solution[j]==True:\n",
    "            the_nodes.append(j)\n",
    "    \n",
    "    for v in the_nodes:\n",
    "        if (i,v) not in g.edges:\n",
    "            return [False]\n",
    "    return [True,False]\n",
    "\n",
    "def all_cliques(g):\n",
    "    solution = [None]*len(g)\n",
    "    generate(solution, 0, possibilities, g)"
   ]
  },
  {
   "cell_type": "code",
   "execution_count": 328,
   "id": "6a5cc8c3-7979-4837-bfe8-7e005457d487",
   "metadata": {},
   "outputs": [
    {
     "ename": "TypeError",
     "evalue": "generate() missing 1 required positional argument: 'possibilities'",
     "output_type": "error",
     "traceback": [
      "\u001b[0;31m---------------------------------------------------------------------------\u001b[0m",
      "\u001b[0;31mTypeError\u001b[0m                                 Traceback (most recent call last)",
      "\u001b[0;32m/var/folders/g5/l_41rntj5q5fcrbv7lhtt1qw0000gn/T/ipykernel_27729/947951570.py\u001b[0m in \u001b[0;36m<module>\u001b[0;34m\u001b[0m\n\u001b[1;32m      2\u001b[0m \u001b[0;31m# Now use your function to generate all cliques\u001b[0m\u001b[0;34m\u001b[0m\u001b[0;34m\u001b[0m\u001b[0m\n\u001b[1;32m      3\u001b[0m \u001b[0;31m#\u001b[0m\u001b[0;34m\u001b[0m\u001b[0;34m\u001b[0m\u001b[0m\n\u001b[0;32m----> 4\u001b[0;31m \u001b[0mgenerate\u001b[0m\u001b[0;34m(\u001b[0m\u001b[0;34m[\u001b[0m\u001b[0;32mNone\u001b[0m\u001b[0;34m]\u001b[0m\u001b[0;34m*\u001b[0m\u001b[0mlen\u001b[0m\u001b[0;34m(\u001b[0m\u001b[0mG\u001b[0m\u001b[0;34m)\u001b[0m\u001b[0;34m,\u001b[0m \u001b[0;36m0\u001b[0m\u001b[0;34m,\u001b[0m \u001b[0mG\u001b[0m\u001b[0;34m,\u001b[0m \u001b[0mis_a_clique\u001b[0m\u001b[0;34m)\u001b[0m\u001b[0;34m\u001b[0m\u001b[0;34m\u001b[0m\u001b[0m\n\u001b[0m",
      "\u001b[0;31mTypeError\u001b[0m: generate() missing 1 required positional argument: 'possibilities'"
     ]
    }
   ],
   "source": [
    "#\n",
    "# Now use your function to generate all cliques\n",
    "#\n",
    "generate([None]*len(G), 0, G, is_a_clique)"
   ]
  },
  {
   "cell_type": "code",
   "execution_count": 84,
   "id": "6e6b39f8-b4bb-484e-9254-b803438bb590",
   "metadata": {},
   "outputs": [
    {
     "data": {
      "image/png": "[encoded data removed]",
      "text/plain": [
       "<Figure size 640x480 with 1 Axes>"
      ]
     },
     "metadata": {},
     "output_type": "display_data"
    }
   ],
   "source": [
    "nx.draw_networkx(G, with_labels=True)"
   ]
  },
  {
   "cell_type": "markdown",
   "id": "e3684e5e-b0e8-48d7-b6dd-f4a544b0e765",
   "metadata": {},
   "source": [
    "This network has 5 cliques with at least 3 people in each of them:\n",
    "```\n",
    "[0, 1, 3]\n",
    "[1, 2, 3, 4]\n",
    "[1, 2, 3]\n",
    "[1, 2, 4]\n",
    "[1, 3, 4]\n",
    "[2, 3, 4]\n",
    "```"
   ]
  },
  {
   "cell_type": "markdown",
   "id": "bb08a3d1-17be-41a7-9033-ab6eb9576820",
   "metadata": {},
   "source": [
    "---\n",
    "**Problem 6** (10 points)\n",
    "\n",
    "In the previous problem's backtracking template \"generate\", there're 2 possibilites for solution[i] (True or False), i.e. node i is either selected or not selected.\n",
    "\n",
    "\n",
    "In this problem, \"generate\" has an extra parameter, \"possibilities\", which is a function that returns all possibilities to set solution[i].\n"
   ]
  },
  {
   "cell_type": "markdown",
   "id": "9bced2d5-49cb-4893-bc48-7e398bb970b2",
   "metadata": {},
   "source": [
    "In this problem, you must design a function called **possibilities_for_only_red_cliques**.\n",
    "\n",
    "After you define this function, use it to generate cliques that contain only red nodes."
   ]
  },
  {
   "cell_type": "code",
   "execution_count": null,
   "id": "fe71f6b3-f0da-4350-85c4-8b9e97a0263c",
   "metadata": {},
   "outputs": [],
   "source": [
    "     \n",
    "def generate(solution, i, g, is_valid, possibilities):\n",
    "    if i==len(solution):\n",
    "        if is_valid(solution, g):\n",
    "            print(get_nodes(solution))\n",
    "    else:\n",
    "        for possibility in possibilities(solution, i, g):\n",
    "            solution[i] = possibility\n",
    "            generate(solution, i+1, g, is_valid, possibilities)\n"
   ]
  },
  {
   "cell_type": "code",
   "execution_count": null,
   "id": "5cf5aafd-d951-481d-867a-8107c7ca4ab0",
   "metadata": {},
   "outputs": [],
   "source": [
    "#\n",
    "# Write your code here to solve this problem\n",
    "#\n",
    "def possibilities_for_only_red_cliques(solution, i, g):\n",
    "    pass\n"
   ]
  },
  {
   "cell_type": "markdown",
   "id": "669c86cf-31b0-4933-b680-65b135e9a8c3",
   "metadata": {},
   "source": [
    "You can test your solution with the code below."
   ]
  },
  {
   "cell_type": "code",
   "execution_count": null,
   "id": "5880c37c-5cd5-4a96-addc-d6faed7d3f9f",
   "metadata": {},
   "outputs": [],
   "source": [
    "# This code is for generating a random network with randomly colored nodes.\n",
    "# You don't need to understand it.\n",
    "#\n",
    "import networkx as nx\n",
    "import random\n",
    "\n",
    "def randomly_colored_graph(n, pair_prob=0.5, color_prob=0.25, seed=2022):\n",
    "    random.seed(seed)\n",
    "    G = nx.Graph()\n",
    "    for i in range(n):\n",
    "        if random.random() < color_prob:\n",
    "            G.add_node(i, color='red')\n",
    "        else:\n",
    "            G.add_node(i, color='white')\n",
    "    for i in range(n):\n",
    "        for j in range(i+1,n):\n",
    "            if random.random() < pair_prob:\n",
    "                G.add_edge(i,j)\n",
    "    return G\n",
    "\n",
    "\n",
    "def draw_colored_graph(G):\n",
    "    nx.draw_networkx(\n",
    "        G, \n",
    "        with_labels=True, \n",
    "        node_color=[ G.nodes[i]['color'] for i in G.nodes ],\n",
    "    )\n"
   ]
  },
  {
   "cell_type": "markdown",
   "id": "6d082c41-501d-400a-894a-2476b0b8aed5",
   "metadata": {},
   "source": [
    "Use this network G2 below for testing. "
   ]
  },
  {
   "cell_type": "code",
   "execution_count": 301,
   "id": "cb31fc52-28f6-4277-980b-1e084e53895f",
   "metadata": {},
   "outputs": [
    {
     "name": "stdout",
     "output_type": "stream",
     "text": [
      "The color of node 4 is red\n"
     ]
    },
    {
     "data": {
      "image/png": "[encoded data removed]",
      "text/plain": [
       "<Figure size 640x480 with 1 Axes>"
      ]
     },
     "metadata": {},
     "output_type": "display_data"
    }
   ],
   "source": [
    "G2 = randomly_colored_graph(10, pair_prob=0.6, color_prob=0.5, seed=78)\n",
    "draw_colored_graph(G2)\n",
    "print('The color of node 4 is', G2.nodes[4]['color'])"
   ]
  },
  {
   "cell_type": "code",
   "execution_count": 133,
   "id": "e01871b7-7ac3-44a3-81e2-761d36958a78",
   "metadata": {},
   "outputs": [],
   "source": [
    "#\n",
    "# Test your code. This should print out only red cliques.\n",
    "#\n",
    "\n",
    "# generate([None]*len(G), 0, G, is_a_clique, possibilities_for_only_red_cliques)"
   ]
  },
  {
   "cell_type": "code",
   "execution_count": null,
   "id": "9e0146ab-884d-4405-be3c-dc5934f44ee7",
   "metadata": {},
   "outputs": [],
   "source": []
  }
 ],
 "metadata": {
  "kernelspec": {
   "display_name": "Python 3 (ipykernel)",
   "language": "python",
   "name": "python3"
  },
  "language_info": {
   "codemirror_mode": {
    "name": "ipython",
    "version": 3
   },
   "file_extension": ".py",
   "mimetype": "text/x-python",
   "name": "python",
   "nbconvert_exporter": "python",
   "pygments_lexer": "ipython3",
   "version": "3.9.13"
  }
 },
 "nbformat": 4,
 "nbformat_minor": 5
}
