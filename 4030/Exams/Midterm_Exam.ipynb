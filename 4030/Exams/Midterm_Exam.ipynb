{
 "cells": [
  {
   "cell_type": "markdown",
   "id": "644624ad-0546-49df-bee2-e4135630fbd6",
   "metadata": {},
   "source": [
    "# COMP 4030  / 6030 Midterm Exam"
   ]
  },
  {
   "cell_type": "markdown",
   "id": "2bfafed0-e2cc-4a98-9c28-b14222d7b33c",
   "metadata": {},
   "source": [
    "YOUR NAME: Matthew McMeans"
   ]
  },
  {
   "cell_type": "markdown",
   "id": "2fc034f4-a549-42a6-a70b-c9e18b07e50d",
   "metadata": {},
   "source": [
    "---\n",
    "\n",
    "**How a coding problem is graded**\n",
    "\n",
    "This is a general guideline for grading coding problems.\n",
    "\n",
    "* If you are not asked for an explanation of your code:\n",
    "    * Coding: 85%\n",
    "        + Code is correct: 85%\n",
    "        + Code is correct, but missing some minor elements: 25%-75%\n",
    "        + Incorrect solution, but make an effort: 10%-25%\n",
    "        + Empty: 0% \n",
    "    * Testing: 15%\n",
    "        + Providing adequate testing of code: 15%\n",
    "        + Code operational but does not show how the answer(s) were generated: 5%\n",
    "        + Code not runnable or no testing: 0%\n",
    "* If  you are specifically asked for an explanation of your code:\n",
    "    * Coding: 70%\n",
    "        + Code is correct: 70%\n",
    "        + Code is correct, but missing some minor elements: 25%-60%\n",
    "        + Incorrect solution, but make an effort: 10%-25%\n",
    "        + Empty: 0% \n",
    "    * Explanation of code: 15%\n",
    "        + Concise English explanation of your strategy/code: 15%\n",
    "        + No explanation: 0%\n",
    "    * Testing: 15%\n",
    "        + Providing adequate testing of code: 15%\n",
    "        + Code operational but does not show how the answer(s) were generated: 5%\n",
    "        + Code not runnable or no testing: 0%\n"
   ]
  },
  {
   "cell_type": "markdown",
   "id": "957a52db-400b-4527-843a-0ee0253a26f7",
   "metadata": {},
   "source": [
    "**Each question is worth 10 points.**"
   ]
  },
  {
   "cell_type": "markdown",
   "id": "9b04ca2b-e443-42bc-adb1-b3160044b083",
   "metadata": {},
   "source": [
    "---\n",
    "**Problem 1**\n",
    "\n",
    "Use the definition of O to show that $n^2 + 5n \\in O(n^2)$"
   ]
  },
  {
   "cell_type": "markdown",
   "id": "109574f0-b84f-4bfc-aa34-d50db6cdbaa6",
   "metadata": {},
   "source": [
    "Upper bound each term with n^2\n",
    "\n",
    "$n^2 + 5n ≤ n^2 + 5n^2 ≤ 6n^2$\n",
    "\n",
    "With c = 6\n",
    "\n",
    "$n^2 + 5n ≤ c * n^2$ for all n > 1\n",
    "\n",
    "Therefore, $n^2 + 5n \\in O(n^2)$"
   ]
  },
  {
   "cell_type": "markdown",
   "id": "d3ea75b4-65e7-4b7b-9410-a668a6397dc6",
   "metadata": {},
   "source": [
    "---\n",
    "**Problem 2**\n",
    "\n",
    "Use the definition of $\\Omega$ to show that $n^2 + 5n \\in \\Omega(n)$"
   ]
  },
  {
   "cell_type": "markdown",
   "id": "34f694d7-6fd4-4822-96ec-9bd9ab139b1d",
   "metadata": {},
   "source": [
    "T(n) = $n^2 + 5n$\n",
    "\n",
    "Need to find a lower bound constant\n",
    "\n",
    "With c = 1\n",
    "\n",
    "$n^2 + 5n ≥ c * n$ for all n > 1\n",
    "\n",
    "Therefore, $n^2 + 5n \\in \\Omega(n)$"
   ]
  },
  {
   "cell_type": "markdown",
   "id": "6499ba45-63d0-42b0-8493-f414840d84f7",
   "metadata": {},
   "source": [
    "---\n",
    "**Problem 3**\n",
    "\n",
    "Find an upper bound complexity (using the O notation) of the running time of this program.  Follow these steps:\n",
    "\n",
    "+ Find the running time function, T(n)\n",
    "+ Upper bound number of iterations each loop takes.\n",
    "+ Upper bound the entire loop so you can upper bound T(n)\n",
    "    + In other words, show that $T(n) \\le something$\n",
    "+ Use O to specify the upper bound of T(n)."
   ]
  },
  {
   "cell_type": "code",
   "execution_count": 2,
   "id": "9ead8cf0-f259-429e-ab80-f375041ac37b",
   "metadata": {},
   "outputs": [],
   "source": [
    "#\n",
    "# Input: a list with n numbers\n",
    "#\n",
    "def prob3(L):\n",
    "    s = 0 #a1\n",
    "    for i in range(0, len(L)): #n\n",
    "        for j in range(0, len(L)): #n\n",
    "            for k in range(i+j, len(L)): #n\n",
    "                s = s + L[i]*L[j]*2 + L[k] #b\n",
    "    return s #a2\n",
    "    "
   ]
  },
  {
   "cell_type": "markdown",
   "id": "320e9b86-e40e-4a25-b2f1-8cdd366b9b9f",
   "metadata": {},
   "source": [
    "T(n) = $a1 + a2 + b * n^3$\n",
    "\n",
    "Simplify \n",
    "\n",
    "T(n) = $a + bn^3$\n",
    "\n",
    "Upper bound each term \n",
    "\n",
    "$a + bn^3 ≤ an^3 + bn^3 ≤ (a + b)n^3$ for all n > 1\n",
    "\n",
    "Therefore, $a + bn^3 \\in O(n^3)$"
   ]
  },
  {
   "cell_type": "markdown",
   "id": "55c9d7f7-b873-4ab3-9aaa-30210ab7e34a",
   "metadata": {},
   "source": [
    "---\n",
    "**Problem 4**\n",
    "\n",
    "Find the running time equation, $T(n)$, of this program.\n",
    "\n",
    "Note: list's pop method takes 1 step."
   ]
  },
  {
   "cell_type": "code",
   "execution_count": 8,
   "id": "fa8d08d4-3669-407f-8c12-964bb4ec4200",
   "metadata": {},
   "outputs": [],
   "source": [
    "#\n",
    "# Input: L is a list with n numbers; x is a number.\n",
    "#\n",
    "def prob4(L, x):\n",
    "    if L==[]:\n",
    "        return 0 #a1\n",
    "    count = 0 #a2\n",
    "    if L[0]==x:\n",
    "        for y in L: #n\n",
    "            if y==x:\n",
    "                count += 1 #b\n",
    "    L.pop(0) #a3\n",
    "    return count + prob4(L, x) #a4\n"
   ]
  },
  {
   "cell_type": "markdown",
   "id": "983dcc5d-7bc0-499b-bfd2-d5976ac80ca2",
   "metadata": {},
   "source": [
    "T(n) = a + bn + T(n-1) "
   ]
  },
  {
   "cell_type": "markdown",
   "id": "34baed56-f4ec-4d34-9b56-32dfbdbe8290",
   "metadata": {},
   "source": [
    "---\n",
    "\n",
    "**Problem 5**\n",
    "\n",
    "Prob5 has two inputs a list of distinct numbers (L) and another number (s).  Prob5 must returns all pairs of numbers in L, whose sums are less than s.\n",
    "\n",
    "For example, prob5([5,7,1,8,3], 10) returns [(5, 1), (5, 3), (7, 1), (1, 8), (1, 3)].\n",
    "\n",
    "Note: the pairs (5, 1) and (1, 5) are the same.  So, you can only keep one of them.\n"
   ]
  },
  {
   "cell_type": "code",
   "execution_count": 32,
   "id": "4f81f0fc-d7a2-4f5c-8637-b5bbc1439134",
   "metadata": {},
   "outputs": [],
   "source": [
    "def prob5(L, s):\n",
    "    output = []\n",
    "    for i in L:\n",
    "        for x in L:\n",
    "            if x + i < s and i != x and (x,i) not in output:\n",
    "                output.append((i,x))\n",
    "            else:\n",
    "                pass\n",
    "    \n",
    "    return output"
   ]
  },
  {
   "cell_type": "code",
   "execution_count": 31,
   "id": "7a50becc-86c4-42d0-a6d5-d81957f5dce8",
   "metadata": {},
   "outputs": [
    {
     "data": {
      "text/plain": [
       "[(5, 1), (5, 3), (7, 1), (1, 8), (1, 3)]"
      ]
     },
     "execution_count": 31,
     "metadata": {},
     "output_type": "execute_result"
    }
   ],
   "source": [
    "prob5([5,7,1,8,3], 10)"
   ]
  },
  {
   "cell_type": "code",
   "execution_count": 37,
   "id": "3f3ad64d-d5bc-4328-b39d-8a7076bbe60f",
   "metadata": {},
   "outputs": [
    {
     "data": {
      "text/plain": [
       "[(5, 1), (5, 3), (7, 1), (7, 3), (1, 8), (1, 3), (1, 10), (8, 3)]"
      ]
     },
     "execution_count": 37,
     "metadata": {},
     "output_type": "execute_result"
    }
   ],
   "source": [
    "prob5([5,7,1,8,3,10], 12)"
   ]
  },
  {
   "cell_type": "markdown",
   "id": "97b5d33e-129c-4ba5-9745-a3b7c4fa4c79",
   "metadata": {},
   "source": [
    "---\n",
    "**Problem 6**\n",
    "\n",
    "The function \"move\" takes as input a list of numbers.  Explain what it does.\n"
   ]
  },
  {
   "cell_type": "markdown",
   "id": "cabd532c-250d-4423-b8e4-8cd7780de62c",
   "metadata": {},
   "source": [
    "Returns less than and greater than lists compared to the first item in A.\n",
    "\n",
    "+ If A has one or no items, then there is nothing less than or equal to.\n",
    "    + Return nothing.\n",
    "+ For each item in the list:\n",
    "    + Compare to the first item.\n",
    "    + If it is less than or equal to the first item we add it to a list.\n",
    "    + Else, compare again.\n",
    "    + If it is more than the first item we add it to a different list.\n",
    "+ Return the two lists. "
   ]
  },
  {
   "cell_type": "code",
   "execution_count": 38,
   "id": "3a448078-0e10-4dc9-a866-04e36a6921fe",
   "metadata": {},
   "outputs": [],
   "source": [
    "def move(A):\n",
    "    if len(A)<=1:\n",
    "        return None #a\n",
    "    less = [] #a\n",
    "    for i in range(1, len(A)): #n\n",
    "        if A[i] <= A[0]:\n",
    "            less.append(A[i]) #b\n",
    "    more = [] #a\n",
    "    for i in range(1, len(A)): #n\n",
    "        if A[i] > A[0]:\n",
    "            more.append(A[i]) #d\n",
    "    return less, more #a"
   ]
  },
  {
   "cell_type": "code",
   "execution_count": 42,
   "id": "374fb2a4-b2a1-4f87-a68d-b0b424e461c2",
   "metadata": {},
   "outputs": [
    {
     "data": {
      "text/plain": [
       "([10, 15, 7], [27, 40, 36])"
      ]
     },
     "execution_count": 42,
     "metadata": {},
     "output_type": "execute_result"
    }
   ],
   "source": [
    "move([25, 10, 27, 40, 15, 7, 36])"
   ]
  },
  {
   "cell_type": "markdown",
   "id": "e13ade9f-4a7a-4110-a735-817f1fdc6043",
   "metadata": {},
   "source": [
    "---\n",
    "**Problem 7**\n",
    "\n",
    "Find the running time complexity in terms of $\\Theta$ of the function \"move\" in the previous problem."
   ]
  },
  {
   "cell_type": "markdown",
   "id": "1f08f72e-3df7-4ce5-aba2-3405cc3e5e60",
   "metadata": {},
   "source": [
    "T(n) = a + bn + dn\n",
    "\n",
    "Upper bound:\n",
    "    \n",
    "a + bn + dn ≤ an + bn + dn ≤ (a + b + d)n for all n > 1\n",
    "\n",
    "Therefore $a + bn + dn \\in O(n)$\n",
    "\n",
    "Lower bound:\n",
    "\n",
    "c = 1\n",
    "\n",
    "a + bn + dn ≥ c * n for all n > 1\n",
    "\n",
    "Therefore $a + bn + dn \\in \\Omega(n)$\n",
    "\n",
    "By the definition of $\\Theta$:\n",
    "\n",
    "n ≤ a + bn + dn ≤ (a + b + d)n for all n > 1\n",
    "\n",
    "Therefore, $a + bn + dn \\in \\Theta(n)$"
   ]
  },
  {
   "cell_type": "markdown",
   "id": "533a8c9f-b705-4426-b662-b8ece47fb098",
   "metadata": {},
   "source": [
    "---\n",
    "**Problem 8**\n",
    "\n",
    "Go through the following strategy to sort this list L = [10, 8, 20, 1, 12, 7], and answer the questions. \n",
    "\n",
    "* Use the \"move\" function (defined above) to move [10, 8, 20, 1, 12, 7] into two smaller lists: \"less\" and \"more\".\n",
    "    + Question A: What do the two lists \"less\" and \"more\" look like?\n",
    "* Sort the numbers in the list \"less\" using the same strategy recursively.\n",
    "    + Question B: What does the result look like when \"less\" is sorted using the same strategy recursively?\n",
    "* Sort the numbers in the list \"more\" using the same strategy recursively.\n",
    "    + Question C: What does the result look like when \"more\" is sorted using the same strategy recursively?\n",
    "* Now, you should have everything needed to produce a sorted version of the input list.\n",
    "    + Question D: How do you construct the sorted version of L (the input list) based on the results of sorting \"less\" and \"more?"
   ]
  },
  {
   "cell_type": "markdown",
   "id": "0c1437c7-3251-462a-b7d0-5ac451b4d83e",
   "metadata": {},
   "source": [
    "Answer:  write you answer below.\n",
    "\n",
    "(Question A): ([8, 1, 7], [20, 12])\n",
    "\n",
    "(Question B): ____\n",
    "\n",
    "(Question C): ____\n",
    "\n",
    "(Question D): ____\n",
    "\n",
    "\n",
    "\n"
   ]
  },
  {
   "cell_type": "code",
   "execution_count": 98,
   "id": "40c24f7f-2ef6-4e7c-b856-5fe521c1ada7",
   "metadata": {},
   "outputs": [],
   "source": [
    "def move(A):\n",
    "    if len(A)<=1:\n",
    "        return None #a\n",
    "    less = [] #a\n",
    "    for i in range(1, len(A)): #n\n",
    "        if A[i] <= A[0]:\n",
    "            less.append(A[i]) #b\n",
    "    more = [] #a\n",
    "    for i in range(1, len(A)): #n\n",
    "        if A[i] > A[0]:\n",
    "            more.append(A[i]) #d\n",
    "    return less, more #a"
   ]
  },
  {
   "cell_type": "code",
   "execution_count": 99,
   "id": "4a85959b-32ce-4bd5-b470-543f9a21db05",
   "metadata": {},
   "outputs": [
    {
     "data": {
      "text/plain": [
       "([8, 1, 7], [20, 12])"
      ]
     },
     "execution_count": 99,
     "metadata": {},
     "output_type": "execute_result"
    }
   ],
   "source": [
    "move([10, 8, 20, 1, 12, 7])"
   ]
  },
  {
   "cell_type": "code",
   "execution_count": 104,
   "id": "230b65b3-8a8b-43b5-bd5c-dcb48037d630",
   "metadata": {},
   "outputs": [],
   "source": [
    "def sort_less(L):\n",
    "    first = L[0]\n",
    "    for i in L:\n",
    "        if i < first:\n",
    "            return sort_less([i] + L[1:])\n",
    "        \n",
    "            "
   ]
  },
  {
   "cell_type": "code",
   "execution_count": 106,
   "id": "d6397a70-43e1-44f2-a10c-466f69a67a44",
   "metadata": {},
   "outputs": [],
   "source": [
    "sort_less([8, 1, 7])"
   ]
  },
  {
   "cell_type": "markdown",
   "id": "ecfa9770-f071-486a-ac4c-355393e39486",
   "metadata": {},
   "source": [
    "---\n",
    "**Problem 9**\n",
    "\n",
    "Use the strategy in the previous problem to implement the sort function below.\n",
    "\n",
    "Notes:\n",
    "* This program must return a list of sorted numbers.\n",
    "* If the input list has only 1 numbers, it's already sorted, return the same list.\n",
    "* If the input list has more than 1 numbers, use the strategy described in the previous problem."
   ]
  },
  {
   "cell_type": "code",
   "execution_count": 96,
   "id": "9c8c779d-3b95-49bb-9d85-a306502839c5",
   "metadata": {},
   "outputs": [],
   "source": [
    "\n",
    "def sort(L):\n",
    "    if len(L) == 1:\n",
    "        return L\n",
    "    else:\n",
    "        if L[1] < L[0]:\n",
    "            x = L[1]\n",
    "            return sort()\n",
    "            "
   ]
  },
  {
   "cell_type": "code",
   "execution_count": 97,
   "id": "9c3f78a4-2870-49f0-bde9-f8246d2d3688",
   "metadata": {},
   "outputs": [
    {
     "ename": "TypeError",
     "evalue": "object of type 'int' has no len()",
     "output_type": "error",
     "traceback": [
      "\u001b[0;31m---------------------------------------------------------------------------\u001b[0m",
      "\u001b[0;31mTypeError\u001b[0m                                 Traceback (most recent call last)",
      "\u001b[0;32m/var/folders/g5/l_41rntj5q5fcrbv7lhtt1qw0000gn/T/ipykernel_47851/1250937328.py\u001b[0m in \u001b[0;36m<module>\u001b[0;34m\u001b[0m\n\u001b[0;32m----> 1\u001b[0;31m \u001b[0msort\u001b[0m\u001b[0;34m(\u001b[0m\u001b[0;34m[\u001b[0m\u001b[0;36m8\u001b[0m\u001b[0;34m,\u001b[0m \u001b[0;36m1\u001b[0m\u001b[0;34m,\u001b[0m \u001b[0;36m7\u001b[0m\u001b[0;34m]\u001b[0m\u001b[0;34m)\u001b[0m\u001b[0;34m\u001b[0m\u001b[0;34m\u001b[0m\u001b[0m\n\u001b[0m",
      "\u001b[0;32m/var/folders/g5/l_41rntj5q5fcrbv7lhtt1qw0000gn/T/ipykernel_47851/249193054.py\u001b[0m in \u001b[0;36msort\u001b[0;34m(L)\u001b[0m\n\u001b[1;32m      5\u001b[0m         \u001b[0;32mif\u001b[0m \u001b[0mL\u001b[0m\u001b[0;34m[\u001b[0m\u001b[0;36m1\u001b[0m\u001b[0;34m]\u001b[0m \u001b[0;34m<\u001b[0m \u001b[0mL\u001b[0m\u001b[0;34m[\u001b[0m\u001b[0;36m0\u001b[0m\u001b[0;34m]\u001b[0m\u001b[0;34m:\u001b[0m\u001b[0;34m\u001b[0m\u001b[0;34m\u001b[0m\u001b[0m\n\u001b[1;32m      6\u001b[0m             \u001b[0mx\u001b[0m \u001b[0;34m=\u001b[0m \u001b[0mL\u001b[0m\u001b[0;34m[\u001b[0m\u001b[0;36m1\u001b[0m\u001b[0;34m]\u001b[0m\u001b[0;34m\u001b[0m\u001b[0;34m\u001b[0m\u001b[0m\n\u001b[0;32m----> 7\u001b[0;31m             \u001b[0;32mreturn\u001b[0m \u001b[0msort\u001b[0m\u001b[0;34m(\u001b[0m\u001b[0mx\u001b[0m\u001b[0;34m)\u001b[0m\u001b[0;34m\u001b[0m\u001b[0;34m\u001b[0m\u001b[0m\n\u001b[0m\u001b[1;32m      8\u001b[0m \u001b[0;34m\u001b[0m\u001b[0m\n",
      "\u001b[0;32m/var/folders/g5/l_41rntj5q5fcrbv7lhtt1qw0000gn/T/ipykernel_47851/249193054.py\u001b[0m in \u001b[0;36msort\u001b[0;34m(L)\u001b[0m\n\u001b[1;32m      1\u001b[0m \u001b[0;32mdef\u001b[0m \u001b[0msort\u001b[0m\u001b[0;34m(\u001b[0m\u001b[0mL\u001b[0m\u001b[0;34m)\u001b[0m\u001b[0;34m:\u001b[0m\u001b[0;34m\u001b[0m\u001b[0;34m\u001b[0m\u001b[0m\n\u001b[0;32m----> 2\u001b[0;31m     \u001b[0;32mif\u001b[0m \u001b[0mlen\u001b[0m\u001b[0;34m(\u001b[0m\u001b[0mL\u001b[0m\u001b[0;34m)\u001b[0m \u001b[0;34m==\u001b[0m \u001b[0;36m1\u001b[0m\u001b[0;34m:\u001b[0m\u001b[0;34m\u001b[0m\u001b[0;34m\u001b[0m\u001b[0m\n\u001b[0m\u001b[1;32m      3\u001b[0m         \u001b[0;32mreturn\u001b[0m \u001b[0mL\u001b[0m\u001b[0;34m\u001b[0m\u001b[0;34m\u001b[0m\u001b[0m\n\u001b[1;32m      4\u001b[0m     \u001b[0;32melse\u001b[0m\u001b[0;34m:\u001b[0m\u001b[0;34m\u001b[0m\u001b[0;34m\u001b[0m\u001b[0m\n\u001b[1;32m      5\u001b[0m         \u001b[0;32mif\u001b[0m \u001b[0mL\u001b[0m\u001b[0;34m[\u001b[0m\u001b[0;36m1\u001b[0m\u001b[0;34m]\u001b[0m \u001b[0;34m<\u001b[0m \u001b[0mL\u001b[0m\u001b[0;34m[\u001b[0m\u001b[0;36m0\u001b[0m\u001b[0;34m]\u001b[0m\u001b[0;34m:\u001b[0m\u001b[0;34m\u001b[0m\u001b[0;34m\u001b[0m\u001b[0m\n",
      "\u001b[0;31mTypeError\u001b[0m: object of type 'int' has no len()"
     ]
    }
   ],
   "source": [
    "sort([8, 1, 7])"
   ]
  },
  {
   "cell_type": "markdown",
   "id": "ec105143-bdc7-4d3e-b98f-4a3d0838df7a",
   "metadata": {},
   "source": [
    "---\n",
    "**Problem 10**\n",
    "\n",
    "Find the running time equation of the sort function in the previous problem."
   ]
  },
  {
   "cell_type": "code",
   "execution_count": null,
   "id": "1a359c88-7ddf-4b57-be6f-bd6ea5738960",
   "metadata": {},
   "outputs": [],
   "source": []
  }
 ],
 "metadata": {
  "kernelspec": {
   "display_name": "Python 3 (ipykernel)",
   "language": "python",
   "name": "python3"
  },
  "language_info": {
   "codemirror_mode": {
    "name": "ipython",
    "version": 3
   },
   "file_extension": ".py",
   "mimetype": "text/x-python",
   "name": "python",
   "nbconvert_exporter": "python",
   "pygments_lexer": "ipython3",
   "version": "3.9.13"
  }
 },
 "nbformat": 4,
 "nbformat_minor": 5
}
