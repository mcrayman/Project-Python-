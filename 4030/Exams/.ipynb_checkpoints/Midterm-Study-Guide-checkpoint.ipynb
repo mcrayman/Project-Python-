{
 "cells": [
  {
   "cell_type": "markdown",
   "id": "03f2f212-9285-40bf-a1ec-59c63f296af7",
   "metadata": {},
   "source": [
    "# Midterm Study Guide"
   ]
  },
  {
   "cell_type": "markdown",
   "id": "ffa7792b-0c9a-4baa-a299-edf20c7fa2b1",
   "metadata": {},
   "source": [
    "### General information\n",
    "\n",
    "+ The exam is Thursday March 2, 2023, at the same time and same location.  The exam stars at 9:40AM and ends at 11:05AM.  \n",
    "+ If you need special accommodation, please let me know.\n",
    "+ The format and logistics are similar to assignment.  You download a notebook from Canvas, and upload your worked notebook to the Midterm Exam folder on Canvas.\n",
    "+ Do not upload empty files.  Know how to export Jupyter notebooks to HTML files.\n",
    "+ Upload your exam before the deadline.  The Exam folder will close.  Do not send me your midterm exam.\n",
    "\n",
    "\n",
    "### Preparation\n",
    "\n",
    "+ Study all notebooks (lectures and assignment solutions).\n",
    "+ Notebooks can be unorganized (because they reflect the lectures' dynamics).  So, make sure you understand the learning goals in each notebook.\n",
    "+ Charge your laptop fully.\n",
    "+ Show up before the test starts.\n",
    "\n",
    "\n",
    "### Academic Misconduct\n",
    "\n",
    "+ The penalty for academic misconduct in an exam is an F for the course.\n",
    "+ You can look at all notebooks that are in the course's Canvas.\n",
    "+ You can look at official pages of Pandas and scikit-learn.\n",
    "+ Aside from these official papges, you cannot use code or answers from anyone.\n",
    "+ You cannot use code/answer from classmates.\n",
    "+ You cannot communicate with anyone during the exam. Examples of violations:\n",
    "    * You send your exam work to someone.\n",
    "    * You receive someone's exam work.\n",
    "    * You text someone during the exam.\n",
    "    * You join a discussion group during the exam.\n",
    "\n"
   ]
  },
  {
   "cell_type": "markdown",
   "id": "e14af891-aa14-43a0-b8f9-6de1a5dc66b6",
   "metadata": {},
   "source": [
    "### Topics\n",
    "\n",
    "You will be asked to do some of these:\n",
    "\n",
    "* Write an iterative program.\n",
    "* Find the running time equation of an iterative program.\n",
    "* Implement a recursive strategy.\n",
    "* Find an upper bound complexity (O) or lower bound complexity ($\\Omega$) or both.\n",
    "* Know how to show that a function is in O or $\\Omega$ or $\\Theta$.\n",
    "* Find the running time equation of a recursive program.\n",
    "* Use the substitution method of find the complexity of a recursive running time equation.\n",
    "* Use the Master's theorem to find the running time equation of a recursive program.\n"
   ]
  },
  {
   "cell_type": "code",
   "execution_count": null,
   "id": "8516b31c-bbe0-44fc-b2b1-137096232dd0",
   "metadata": {},
   "outputs": [],
   "source": []
  }
 ],
 "metadata": {
  "kernelspec": {
   "display_name": "Python 3 (ipykernel)",
   "language": "python",
   "name": "python3"
  },
  "language_info": {
   "codemirror_mode": {
    "name": "ipython",
    "version": 3
   },
   "file_extension": ".py",
   "mimetype": "text/x-python",
   "name": "python",
   "nbconvert_exporter": "python",
   "pygments_lexer": "ipython3",
   "version": "3.9.7"
  }
 },
 "nbformat": 4,
 "nbformat_minor": 5
}
