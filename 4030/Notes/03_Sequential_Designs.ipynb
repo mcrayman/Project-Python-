{
 "cells": [
  {
   "cell_type": "markdown",
   "id": "7a2e0497-baa7-409c-a517-424584293908",
   "metadata": {},
   "source": [
    "# Sequential (Iterative) Designs\n",
    "\n",
    "Learning goals:\n",
    "+ Master how to iterate data using loops.\n",
    "+ Know how to go through a collection to filter and accumulate.\n",
    "+ Know how to estimate the number of steps in loops.\n",
    "+ Understand nested loops.\n",
    "\n",
    "Exercises:\n",
    "+ Select even numbers from a list\n",
    "+ Generate random numbers\n",
    "+ List comprehension: procedural versus declarative programming\n",
    "+ Squares of odd numbers\n",
    "+ Cubes of odd numbers\n",
    "+ Functions as arguments\n",
    "+ Selecting sentences that satisfy a pattern."
   ]
  },
  {
   "cell_type": "markdown",
   "id": "9f6b32cf-9c28-430f-96e9-3b77811c6bc0",
   "metadata": {},
   "source": [
    "### Ex1\n",
    "\n",
    "Define a Python function that takes as input a list and returns another list containing all even numbers from the input list."
   ]
  },
  {
   "cell_type": "code",
   "execution_count": 6,
   "id": "d76b1a78-7c39-4297-8a09-810d3d668034",
   "metadata": {},
   "outputs": [],
   "source": [
    "#\n",
    "# L : a list of numbers\n",
    "#\n",
    "def select_even_numbers(L):\n",
    "    evens = []\n",
    "    for num in L:\n",
    "        if num % 2 == 0:\n",
    "            evens.append(num)\n",
    "    return evens"
   ]
  },
  {
   "cell_type": "code",
   "execution_count": 7,
   "id": "14421179-6470-44e7-b54c-1012d046a163",
   "metadata": {},
   "outputs": [
    {
     "data": {
      "text/plain": [
       "[2, 4, 6, 8, 4]"
      ]
     },
     "execution_count": 7,
     "metadata": {},
     "output_type": "execute_result"
    }
   ],
   "source": [
    "select_even_numbers([1,2,3,4,5,6,7,8,1,4])"
   ]
  },
  {
   "cell_type": "markdown",
   "id": "b866c71c-e711-482e-b4be-c505966e56bb",
   "metadata": {},
   "source": [
    "Translating Python to English:\n",
    "\n",
    "+ We define a Python function called select_even_numbers, which has a list of numbers as input.\n",
    "\n",
    "+ We start with an empty list, evens.\n",
    "\n",
    "+ It's looking through each number in a list.  And if the number is divisible by 2 (i.e. it's even), it will be added to evens.\n",
    "\n",
    "+ We **go through each item of the list**, **select even numbers** and append them to the list \"evens\".\n",
    "\n",
    "+ Finally, we return the list evens.\n",
    "\n",
    "\n"
   ]
  },
  {
   "cell_type": "markdown",
   "id": "e52d2062-df80-47fa-bbde-9f00ef3e7a5f",
   "metadata": {},
   "source": [
    "## Ex2\n",
    "\n",
    "Define a Python function that takes as input a list and returns another list containing items (in the input list), which satisfy a certain property.\n",
    "\n",
    "The list can be a list of anything.\n",
    "\n",
    "This property can be any condition that can be anything.\n",
    "\n",
    "Examples: \n",
    "+ The condition can check if a number is even.\n",
    "+ The condition can check if a string has the word \"Microsoft\"."
   ]
  },
  {
   "cell_type": "code",
   "execution_count": 14,
   "id": "bdcbd628-7a8a-41a5-b02d-ce17756ea832",
   "metadata": {},
   "outputs": [],
   "source": [
    "#\n",
    "# L : a list of things\n",
    "# condition : a function that checks for a specific criterion\n",
    "#    input of \"condition\" : a thing\n",
    "#    output of \"condition\" : True or False.\n",
    "#\n",
    "def select_items(L, condition):\n",
    "    collector = []\n",
    "    for thing in L:\n",
    "        if condition(thing) == True:\n",
    "            collector.append(thing)\n",
    "    return collector\n"
   ]
  },
  {
   "cell_type": "markdown",
   "id": "f7f29298-7bef-4263-ae9c-7c46ff48d1c0",
   "metadata": {},
   "source": [
    "Strategy:\n",
    "\n",
    "+ Start with an empty collector (a list).\n",
    "\n",
    "+ Go through the list L one by one, and check if the current item satisfies the condition. If so, append it to the collector.\n",
    "\n",
    "+ Return the collector."
   ]
  },
  {
   "cell_type": "code",
   "execution_count": 20,
   "id": "446b3976-3daf-4dfc-a1d7-75c7f22753cc",
   "metadata": {},
   "outputs": [],
   "source": [
    "def is_even(number):\n",
    "    if number%2==0:\n",
    "        return True\n",
    "    else:\n",
    "        return False\n",
    "\n",
    "def is_even(number):\n",
    "    return number%2==0"
   ]
  },
  {
   "cell_type": "code",
   "execution_count": 21,
   "id": "7632bbeb-a61b-4664-9f8a-f6dd9dd8faa8",
   "metadata": {},
   "outputs": [
    {
     "data": {
      "text/plain": [
       "[2, 4, 10, 2]"
      ]
     },
     "execution_count": 21,
     "metadata": {},
     "output_type": "execute_result"
    }
   ],
   "source": [
    "select_items([1,2,3,4,5,5,10,2,21], is_even)"
   ]
  },
  {
   "cell_type": "code",
   "execution_count": 22,
   "id": "06d5c9c0-085c-487b-b7e3-529ca042a838",
   "metadata": {},
   "outputs": [
    {
     "data": {
      "text/plain": [
       "[1, 3, 5, 5, 21]"
      ]
     },
     "execution_count": 22,
     "metadata": {},
     "output_type": "execute_result"
    }
   ],
   "source": [
    "# selecting odd numbers\n",
    "select_items([1,2,3,4,5,5,10,2,21], lambda n: n%2==1)"
   ]
  },
  {
   "cell_type": "code",
   "execution_count": 23,
   "id": "c2bf1199-1cf9-4639-9139-7b6a24a4513b",
   "metadata": {},
   "outputs": [],
   "source": [
    "def is_odd(n):\n",
    "    return n%2==1\n",
    "\n",
    "is_odd = lambda n: n%2==1"
   ]
  },
  {
   "cell_type": "code",
   "execution_count": 24,
   "id": "6397a4a0-f0d5-49c5-b053-d2f0a5f0c14c",
   "metadata": {},
   "outputs": [
    {
     "data": {
      "text/plain": [
       "[1, 3, 5, 5, 21]"
      ]
     },
     "execution_count": 24,
     "metadata": {},
     "output_type": "execute_result"
    }
   ],
   "source": [
    "select_items([1,2,3,4,5,5,10,2,21], is_odd)"
   ]
  },
  {
   "cell_type": "markdown",
   "id": "88126810-d7f7-496c-a890-ab16af4bce65",
   "metadata": {},
   "source": [
    "### Finding discussions of database in declarative programming\n",
    "\n",
    "Look for paragraphs in an article that have the word \"database\" in them."
   ]
  },
  {
   "cell_type": "code",
   "execution_count": 25,
   "id": "ff851889-c4d8-466e-99ee-0a225368e9ba",
   "metadata": {},
   "outputs": [],
   "source": [
    "import requests\n",
    "from bs4 import BeautifulSoup"
   ]
  },
  {
   "cell_type": "code",
   "execution_count": 29,
   "id": "7aa3db06-38e6-47ea-be3c-a0c583a8f210",
   "metadata": {},
   "outputs": [],
   "source": [
    "url = 'https://en.wikipedia.org/wiki/Declarative_programming'\n",
    "result = requests.get(url)\n",
    "# print(result.text)"
   ]
  },
  {
   "cell_type": "markdown",
   "id": "a14be20c-8a2e-4059-9f6e-22791a52bed9",
   "metadata": {},
   "source": [
    "Grab the paragraphs from this page."
   ]
  },
  {
   "cell_type": "code",
   "execution_count": 30,
   "id": "ed27d058-f839-4fd6-beeb-4232bdd11792",
   "metadata": {},
   "outputs": [],
   "source": [
    "soup = BeautifulSoup(result.text, 'html.parser')"
   ]
  },
  {
   "cell_type": "code",
   "execution_count": 36,
   "id": "5771160c-9669-477d-94e2-04e4b6a729ee",
   "metadata": {},
   "outputs": [],
   "source": [
    "paragraphs = soup.find_all('p')"
   ]
  },
  {
   "cell_type": "code",
   "execution_count": 39,
   "id": "4c7bb8fd-f4ac-44b7-99c9-3c0815966a1c",
   "metadata": {},
   "outputs": [
    {
     "data": {
      "text/plain": [
       "'In computer science, declarative programming is a programming paradigm—a style of building the structure and elements of computer programs—that expresses the logic of a computation without describing its control flow.[1]\\n'"
      ]
     },
     "execution_count": 39,
     "metadata": {},
     "output_type": "execute_result"
    }
   ],
   "source": [
    "paragraphs[0].text"
   ]
  },
  {
   "cell_type": "code",
   "execution_count": 41,
   "id": "5786154d-4104-4209-aa5c-6aec7eb8f2c5",
   "metadata": {},
   "outputs": [],
   "source": [
    "selected_paragraphs = select_items(paragraphs, lambda p: 'database' in p.text)"
   ]
  },
  {
   "cell_type": "code",
   "execution_count": 42,
   "id": "a341192e-3b35-40dc-8350-39a00c52f400",
   "metadata": {},
   "outputs": [
    {
     "data": {
      "text/plain": [
       "[<p>Common declarative languages include those of <a class=\"mw-redirect\" href=\"/wiki/Query_languages\" title=\"Query languages\">database query languages</a> (e.g., <a href=\"/wiki/SQL\" title=\"SQL\">SQL</a>, <a href=\"/wiki/XQuery\" title=\"XQuery\">XQuery</a>), <a href=\"/wiki/Regular_expression\" title=\"Regular expression\">regular expressions</a>, <a href=\"/wiki/Logic_programming\" title=\"Logic programming\">logic programming</a>, <a href=\"/wiki/Functional_programming\" title=\"Functional programming\">functional programming</a>, and <a href=\"/wiki/Configuration_management_database\" title=\"Configuration management database\">configuration management</a> systems.\n",
       " </p>,\n",
       " <p>Some logical programming languages, such as <a href=\"/wiki/Prolog\" title=\"Prolog\">Prolog</a>, and database query languages, such as SQL, while declarative in principle, also support a procedural style of programming.\n",
       " </p>,\n",
       " <p>As of 2013<sup class=\"plainlinks noexcerpt noprint asof-tag update\" style=\"display:none;\"><a class=\"external text\" href=\"https://en.wikipedia.org/w/index.php?title=Declarative_programming&amp;action=edit\">[update]</a></sup>, some software systems<sup class=\"noprint Inline-Template\" style=\"white-space:nowrap;\">[<i><a class=\"mw-redirect\" href=\"/wiki/Wikipedia:Avoid_weasel_words\" title=\"Wikipedia:Avoid weasel words\"><span title=\"The material near this tag possibly uses too vague attribution or weasel words. (July 2020)\">which?</span></a></i>]</sup> combine traditional user-interface markup languages (such as HTML) with declarative markup that defines what (but not how) the back-end server systems should do to support the declared interface. Such systems, typically using a domain-specific <a href=\"/wiki/XML_namespace\" title=\"XML namespace\">XML namespace</a>, may include abstractions of SQL database syntax or parameterized calls to web services using <a href=\"/wiki/Representational_state_transfer\" title=\"Representational state transfer\">representational state transfer</a> (REST) and <a href=\"/wiki/SOAP\" title=\"SOAP\">SOAP</a>.<sup class=\"noprint Inline-Template Template-Fact\" style=\"white-space:nowrap;\">[<i><a href=\"/wiki/Wikipedia:Citation_needed\" title=\"Wikipedia:Citation needed\"><span title=\"This claim needs references to reliable sources. (July 2020)\">citation needed</span></a></i>]</sup>\n",
       " </p>]"
      ]
     },
     "execution_count": 42,
     "metadata": {},
     "output_type": "execute_result"
    }
   ],
   "source": [
    "selected_paragraphs"
   ]
  },
  {
   "cell_type": "markdown",
   "id": "2f50f9ef-5dc3-4eea-a071-571198fabb32",
   "metadata": {
    "tags": []
   },
   "source": [
    "### Parsing through texts"
   ]
  },
  {
   "cell_type": "code",
   "execution_count": 22,
   "id": "d3d989d4-4e99-45c7-ac88-a2e102a339d4",
   "metadata": {
    "jupyter": {
     "source_hidden": true
    },
    "tags": []
   },
   "outputs": [],
   "source": [
    "import requests\n",
    "from bs4 import BeautifulSoup\n",
    "url = 'https://composingprograms.com/pages/43-declarative-programming.html'\n",
    "r = requests.get(url)\n",
    "soup = BeautifulSoup(r.text, 'html.parser')\n",
    "paragraphs = soup.find_all('p')\n",
    "selected_paragraphs = [p for p in paragraphs if 'database' in p.text]"
   ]
  },
  {
   "cell_type": "markdown",
   "id": "726fc406-4f52-429a-9b32-3f4a88e6d10b",
   "metadata": {},
   "source": [
    "### Procedural vs declarative programming"
   ]
  },
  {
   "cell_type": "markdown",
   "id": "da2ae92b-5f5b-4c87-ba6a-b4ded5685dd9",
   "metadata": {},
   "source": [
    "A procedural programming style specifies the steps that the program goes through to get the result.\n",
    "\n",
    "A procedural programming style specifies \"how\" something works.\n",
    "\n",
    "A declarative programming style specifies \"what\" something is."
   ]
  },
  {
   "cell_type": "code",
   "execution_count": 43,
   "id": "7cc7d664-6e98-437a-a571-29104891eda1",
   "metadata": {},
   "outputs": [],
   "source": [
    "def select_even_numbers(L):\n",
    "    evens = []\n",
    "    for num in L:\n",
    "        if num % 2 == 0:\n",
    "            evens.append(num)\n",
    "    return evens"
   ]
  },
  {
   "cell_type": "markdown",
   "id": "ef7b6e04-2418-40c6-91c3-742fdc55bc02",
   "metadata": {},
   "source": [
    "Here's a declarative solution that accomplishes the same thing."
   ]
  },
  {
   "cell_type": "code",
   "execution_count": 47,
   "id": "dbae3157-2b85-40ed-9024-a88d2304d0e9",
   "metadata": {},
   "outputs": [],
   "source": [
    "def select_even_numbers(L):\n",
    "    output = [ number for number in L if number%2==0 ]\n",
    "    return output"
   ]
  },
  {
   "cell_type": "markdown",
   "id": "f81e7068-da9f-4a52-9748-df001a3d6398",
   "metadata": {},
   "source": [
    "In English, this reads as follows: \"output is a list of numbers L that is even.\"\n"
   ]
  },
  {
   "cell_type": "code",
   "execution_count": 48,
   "id": "b68e4bd0-53be-4c3e-90cc-de9cb17b8e70",
   "metadata": {},
   "outputs": [
    {
     "data": {
      "text/plain": [
       "[2, 4]"
      ]
     },
     "execution_count": 48,
     "metadata": {},
     "output_type": "execute_result"
    }
   ],
   "source": [
    "select_even_numbers([1,2,3,4,5,3,3])"
   ]
  },
  {
   "cell_type": "markdown",
   "id": "7389c999-c393-40c4-87ab-caace28dd402",
   "metadata": {},
   "source": [
    "This is list comprehension."
   ]
  },
  {
   "cell_type": "markdown",
   "id": "cf3f857b-a04b-4d77-83a7-3eab5be6ed7c",
   "metadata": {},
   "source": [
    "### Summary\n",
    "\n",
    "We've learned/reviewed the sequential algorithmic pattern: going through a list of things to do what we want.\n",
    "\n",
    "There're some key ideas we picked up along the way:\n",
    "\n",
    "+ It's important to think and articulate your thinking in English and Python.\n",
    "\n",
    "+ Declarative programming can be useful. But we must know what it is."
   ]
  },
  {
   "cell_type": "code",
   "execution_count": null,
   "id": "9b0deeef-ba3a-47da-a7aa-2582520c2438",
   "metadata": {},
   "outputs": [],
   "source": []
  }
 ],
 "metadata": {
  "kernelspec": {
   "display_name": "Python 3 (ipykernel)",
   "language": "python",
   "name": "python3"
  },
  "language_info": {
   "codemirror_mode": {
    "name": "ipython",
    "version": 3
   },
   "file_extension": ".py",
   "mimetype": "text/x-python",
   "name": "python",
   "nbconvert_exporter": "python",
   "pygments_lexer": "ipython3",
   "version": "3.9.12"
  }
 },
 "nbformat": 4,
 "nbformat_minor": 5
}
