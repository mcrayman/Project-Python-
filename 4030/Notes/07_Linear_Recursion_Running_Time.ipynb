{
 "cells": [
  {
   "cell_type": "markdown",
   "id": "dd9b6731-b47f-422a-9e07-fd884e78a443",
   "metadata": {},
   "source": [
    "# Running Time of Linearly Recursive Strategies\n",
    "\n",
    "Goals:\n",
    "+ Know how to specify running time equations\n",
    "    + Using specific numbers: e.g. T(n) = 5n + 2.   Not the best way.\n",
    "    + Using constants: e.g. T(n) = an + b.  Better.\n",
    "+ Use repeated substitutions"
   ]
  },
  {
   "cell_type": "code",
   "execution_count": 1,
   "id": "c18d4bd0-695f-4fe8-bfec-9b250195553d",
   "metadata": {},
   "outputs": [],
   "source": [
    "def string_reverse(s):\n",
    "    if len(s) <= 1:\n",
    "        return s\n",
    "    else:\n",
    "        first = s[0]\n",
    "        remaining_of_s = s[1:]\n",
    "        reverse_of_remaining_of_s = string_reverse( remaining_of_s )\n",
    "        return reverse_of_remaining_of_s + first\n"
   ]
  },
  {
   "cell_type": "markdown",
   "id": "7da40c27-d67d-4134-bfb9-9125af21af42",
   "metadata": {},
   "source": [
    "Core recursive strategy:\n",
    "+ reverse the \"remaining string\" (remainig string = same string but without the first character)\n",
    "    + use the same strategy recursively: just a recursive call.\n",
    "    + constrast this with using the same strategy iteratively\n",
    "        \n",
    "+ add the first character to the reverse of the remaining string.\n",
    "    + this is the reverse of the origin string.\n"
   ]
  },
  {
   "cell_type": "markdown",
   "id": "bef41a40-a04f-4be2-aabc-230b8bc388c6",
   "metadata": {},
   "source": [
    "Let's write down the running time equation of string_reverse.\n",
    "\n",
    "Lines 2, 3, 4, 5, 8: all take constant time.  This means, regardless of n (length of s), these instructions take the same amount of time. It's constant: a.\n",
    "\n",
    "Line 6: s[1:] string slicing, S(n).  It can be either constant (b steps) or linear (b*n steps).\n",
    "+ S(n) is either b or b*n.  We'll analyze both cases.\n",
    "\n",
    "Line 7: how many steps does this take? \"string_reverse( remaining_of_s )\"\n",
    "\n",
    "We know that T(n) is the running time of string_reverse when the input size is n.\n",
    "\n",
    "We know that if the input size (length of s) is n, then the running time of string_reverse is T(n).\n",
    "\n",
    "On line 6, the input size of the recursive call is n-1.\n",
    "\n",
    "If the input size is n-1, the running time of string reverse is T(n-1).\n",
    "\n",
    "If s has 100 characters, the running time of string reverse is T(100).\n",
    "\n",
    "T(n) = a + b + T(n-1)\n",
    "\n",
    "or\n",
    "\n",
    "T(n) = a + bn + T(n-1)\n",
    "\n",
    "Because the left hand side (LHS) is in the form of T, we need to work it out into a final form.\n",
    "\n",
    "We'll use \"repeated substitution\" to figure out the final form of T.  Repeated substitution is just tracing T.  Conceptually, it's similar to tracing recursive calls."
   ]
  },
  {
   "cell_type": "code",
   "execution_count": null,
   "id": "a9fafba1-fdeb-4a00-b592-f6fbe6606cd7",
   "metadata": {},
   "outputs": [],
   "source": [
    "def string_reverse(s):\n",
    "    if len(s) <= 1:\n",
    "        return s\n",
    "    else:\n",
    "        first = s[0]\n",
    "        remaining_of_s = s[1:]\n",
    "        reverse_of_remaining_of_s = string_reverse( remaining_of_s )\n",
    "        return reverse_of_remaining_of_s + first\n"
   ]
  },
  {
   "cell_type": "markdown",
   "id": "a7d1806a-950e-4c87-8d1c-fe59d18e34dc",
   "metadata": {},
   "source": [
    "#### Case 1: step 6 takes $\\Theta(1)$ time"
   ]
  },
  {
   "cell_type": "markdown",
   "id": "ecaa75d3-0b58-4a8c-bfa3-430b192c3cd2",
   "metadata": {},
   "source": [
    "T(n) = a + b + T(n-1)\n",
    "\n",
    "Simplify T, T(n) = c + T(n-1)\n",
    "\n",
    "For this exercise, we'll simplify it little more:  \n",
    "\n",
    "T(n) = 1 + T(n-1)\n",
    "\n",
    "Idea: repeatedly replace T on the right hand side with the original recursive equation of T.\n",
    "\n",
    "T(n) = 1 + T(n-1)\n",
    "\n",
    "T(n) = 1 + 1 + T(n-2) = 2 + T(n-2)\n",
    "\n",
    "T(n) = 2 +  1 + T(n-3) = 3 + T(n-3)\n",
    "\n",
    "T(n) =  3 + 1 + T(n-4) = 4 + T(n-4)\n",
    "\n",
    "Next step: observe the pattern.\n",
    "\n",
    "After 4 steps of substitutions, T(n) = 4 + T(n-4)\n",
    "\n",
    "After 10 steps, T(n) = 10 + T(n-10)\n",
    "\n",
    "After n steps, T(n) = n + T(0)\n",
    "\n",
    "T(0) takes constant time.\n",
    "\n",
    "The final form:  T(n) = n + a.  We can lower-bound and upper-bound T(n) with n.  \n",
    "+ $n \\le n+a \\le (a+1)n$.\n",
    "\n",
    "$T(n) \\in \\Theta(n)$\n",
    "\n",
    "\n",
    "**SCRATCH SPACE:**\n",
    "\n",
    "Replace n with n-1 in the original equation: T(n) = 1 + T(n-1)\n",
    "\n",
    "Replace n with 5 in the original equation, we get this: T(5) = 1 + T(4).\n",
    "\n",
    "Replace n with n-1 in the original equation, we get this: T(n-1) = 1 + T(n-2).\n",
    "\n",
    "Replace n with n-2 in the original equation, we get this: T(n-2) = 1 + T(n-3).\n",
    "\n",
    "Replace n with n-3 in the original equation, we get this: T(n-3) = 1 + T(n-4).\n"
   ]
  },
  {
   "cell_type": "markdown",
   "id": "085c5082-218b-496e-8ceb-7160c954f6e3",
   "metadata": {},
   "source": [
    "#### Case 2: step 6 takes $\\Theta(n)$ time"
   ]
  },
  {
   "cell_type": "markdown",
   "id": "bfd28b84-f5e7-4e4c-8dda-74af0ed59409",
   "metadata": {},
   "source": [
    "T(n) = a + bn + T(n-1)\n",
    "\n",
    "Simplify T, T(n) = cn + T(n-1)\n",
    "\n",
    "For this exercise, we'll simplify it little more:  \n",
    "\n",
    "T(n) = n + T(n-1)\n",
    "\n",
    "T(n) = n + (n-1) + T(n-2)\n",
    "\n",
    "Trick: don't simply this yet.\n",
    "\n",
    "T(n) = n + (n-1) + (n-2) + T(n-3)\n",
    "\n",
    "Observe the pattern.\n",
    "\n",
    "After 3 steps, T(n) = n + (n-1) + (n-2) + T(n-3)\n",
    "\n",
    "After 10 steps, T(n) = n + (n-1) + (n-2) + .... + (n-9) + T(n-10)\n",
    "\n",
    "We are interested in getting the parameter of T on the RHS to 0 or 1.\n",
    "\n",
    "After n steps,  T(n) = n + (n-1) + (n-2) + .... + (n-(n-1)) + T(n-n)\n",
    "\n",
    "T(n) = n + (n-1) + (n-2) + (n-3) + .... + 2 + 1 + a\n",
    "\n",
    "T(0) = a\n",
    "\n",
    "T(n) = a + 1 + 2 + 3 + .... + n = n(n+1)/2 + a\n",
    "\n",
    "$T(n) = {n^2 \\over 2} + {n \\over 2} + a$\n",
    "\n",
    "\n",
    "**SCRATCH SPACE:**\n",
    "\n",
    "To figure out what T(n-1) is, we replace n with n-1 in the original equation.\n",
    "\n",
    "Replace n with n-1 in the original equation, we get  T(n-1) = n-1 + T(n-2)\n",
    "\n",
    "Replace n with n-2 in the original equation, we get  T(n-2) = n-2 + T(n-3)\n",
    "\n",
    "\n",
    "\n"
   ]
  },
  {
   "cell_type": "markdown",
   "id": "5b89a8ec-03d2-4325-916c-8a84ac80a3dc",
   "metadata": {},
   "source": [
    "${n^2 \\over 2} \\le {n^2 \\over 2} + {n \\over 2} \\le n^2$ for all n > 1"
   ]
  },
  {
   "cell_type": "markdown",
   "id": "3df7bad1-9042-4c25-96c9-88aeb4af831e",
   "metadata": {},
   "source": [
    "$T(n) \\in \\Theta(n^2)$"
   ]
  },
  {
   "cell_type": "markdown",
   "id": "d9c51e29-b583-4867-a633-e627492d92bf",
   "metadata": {},
   "source": [
    "#### Another example"
   ]
  },
  {
   "cell_type": "markdown",
   "id": "a271eeeb-4dd1-4d14-a8a0-5c710d7cc378",
   "metadata": {},
   "source": [
    "T(n) = 1 + T(n/2)\n",
    "\n",
    "After 1 step of substitution, what do we get?\n",
    "\n",
    "T(n) = 1 + 1 + T(n/2^2) = 2 + T(n/2^2)\n",
    "\n",
    "After 2 steps of substitution, what do we get?\n",
    "\n",
    "T(n) = 2 + 1 + T(n/2^3) = 3 + T(n/2^3)\n",
    "\n",
    "After 3 steps, what do we get?\n",
    "\n",
    "T(n) =  3 + T(n/2^3)\n",
    "\n",
    "T(n) = 3 +  1 + T(n/2^4) = 4 + T(n/2^4)\n",
    "\n",
    "\n",
    "T(n) = 5 + T(n/2^5)\n",
    "\n",
    "T(n) = 6 + T(n/2^6)\n",
    "\n",
    "T(n) = 7 + T(n/2^7)\n",
    "\n",
    "When do we stop, after $\\log_2 n$ steps.\n",
    "\n",
    "$T(n) = \\log_2 n + T(n/2^{\\log_2 n}) = \\log_2 n + T(1) \\in \\Theta(\\log n)$\n",
    "\n",
    "\n",
    "SCRATCH SPACE:\n",
    "\n",
    "Replace n with n-1, T(n-1) = 1 + T((n-1)/2)\n",
    "\n",
    "Replace n with n/2, T(n/2) = 1 + T(n/2^2)\n",
    "\n",
    "Replace n with n/2^2, T(n/2^2) = 1 + T(n/2^3)\n",
    "\n",
    "Replace n with n/2^3,  T(n/2^3) = 1 + T(n/2^4)\n",
    "\n",
    "\n",
    "Let's say we want to know what T(999) is, we replace n with 999.\n",
    "\n",
    "\n",
    "Do not skip steps in the scratch space."
   ]
  },
  {
   "cell_type": "markdown",
   "id": "cc417043-e4e1-47a1-822e-83f889959d82",
   "metadata": {},
   "source": [
    "### Logarithms\n"
   ]
  },
  {
   "cell_type": "markdown",
   "id": "7ad7521d-4dcf-47d6-bfc9-6a64773b158f",
   "metadata": {},
   "source": [
    "If $\\log_b n = x$, then $b^x = n$\n",
    "* $\\log_3 3 = 1$\n",
    "* $\\log_2 16 = 4$ means $2^4 = 16$"
   ]
  },
  {
   "cell_type": "markdown",
   "id": "395231b7-d937-4d7e-86e2-8f5480ab0b43",
   "metadata": {},
   "source": [
    "$\\log_b a^c = c \\log_b a$\n",
    "* $\\log_2 16 = \\log_2 2^4 = 4 \\log_2 2 = 4$."
   ]
  },
  {
   "cell_type": "markdown",
   "id": "defeb1c8-f0a5-497a-9d1e-1af520f48729",
   "metadata": {},
   "source": [
    "$\\log_b mn = \\log_b m + \\log_b n$\n",
    "* $\\log_2 16 = \\log_2 2*2*2*2 = \\log_2 2 + \\log_2 2 + \\log_2 2 + \\log_2 2 = 1 + 1 + 1 + 1 = 4$."
   ]
  }
 ],
 "metadata": {
  "kernelspec": {
   "display_name": "Python 3 (ipykernel)",
   "language": "python",
   "name": "python3"
  },
  "language_info": {
   "codemirror_mode": {
    "name": "ipython",
    "version": 3
   },
   "file_extension": ".py",
   "mimetype": "text/x-python",
   "name": "python",
   "nbconvert_exporter": "python",
   "pygments_lexer": "ipython3",
   "version": "3.9.13"
  }
 },
 "nbformat": 4,
 "nbformat_minor": 5
}
