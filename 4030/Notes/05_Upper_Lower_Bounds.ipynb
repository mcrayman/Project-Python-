{
 "cells": [
  {
   "cell_type": "markdown",
   "id": "167aa8e5-896f-4a64-996e-ff81af120bdf",
   "metadata": {},
   "source": [
    "# Upper and Lower Bounds of Running Time"
   ]
  },
  {
   "cell_type": "markdown",
   "id": "c7891e06-35db-4683-b21c-1cf3ee874574",
   "metadata": {},
   "source": [
    "There are three main measures of complexity:\n",
    "\n",
    "+ O -- upper bounds\n",
    "\n",
    "+ Omega ($\\Omega$) -- lower bounds\n",
    "\n",
    "+ Theta ($\\Theta$)  -- tight bounds"
   ]
  },
  {
   "cell_type": "markdown",
   "id": "4c4966c4-a681-4a7b-a1a6-887cfc672c32",
   "metadata": {},
   "source": [
    "Key ideas:\n",
    "\n",
    "+ Complexity describes a set of running time functions.\n",
    "\n",
    "+ Additive and multiplicative differences make no difference in complexity.\n",
    "\n",
    "+ Upper bounds and lower bounds can be very useful when tight bounds are hard to determine."
   ]
  },
  {
   "cell_type": "markdown",
   "id": "33afe817-e9fe-4932-befb-21a71b299420",
   "metadata": {},
   "source": [
    "### Understanding Upper Bounds and O"
   ]
  },
  {
   "cell_type": "code",
   "execution_count": 1,
   "id": "e2e7b00b-d813-46f8-b89a-71de55584230",
   "metadata": {},
   "outputs": [],
   "source": [
    "# input: a list of number\n",
    "def prog1(L):\n",
    "    s = 0\n",
    "    for i in range(len(L)):\n",
    "        s = L[i]*L[i] + 1\n",
    "        print(i, y)\n",
    "        s = L[i]**2 - 10*len(L)\n",
    "    s = s*5 + 10\n",
    "    s = s*s / 7\n",
    "    return s"
   ]
  },
  {
   "cell_type": "markdown",
   "id": "44092b8d-5b84-4567-815c-19698fe57f0a",
   "metadata": {},
   "source": [
    "When we say that $T(n) \\in O(n^2)$, it means that $T(n)$ takes at most order of $n^2$ steps.\n",
    "\n",
    "This means $O$ is a measure of upper bounds.  And that can be very useful.\n"
   ]
  },
  {
   "cell_type": "markdown",
   "id": "be0735ae-e369-48a0-afa4-116a0250cc96",
   "metadata": {},
   "source": [
    "### Big-O\n",
    "\n",
    "O is a measure of upper bound.\n",
    "\n",
    "Omega ($\\Omega$) is a measure of lower bound.\n",
    "\n",
    "Theta ($\\Theta$) is a measure of tight bound.\n"
   ]
  },
  {
   "cell_type": "markdown",
   "id": "47105935-0a89-42ba-914a-7ae636909ece",
   "metadata": {},
   "source": [
    "Intuitive understanding:\n",
    "\n",
    "$T(n) \\in O( f(n) )$ means that $f(n)$ is an upper bound of $T(n).\n",
    "\n",
    "$T(n) \\in \\Omega( f(n) )$ means that $f(n)$ is a lower bound of $T(n).\n",
    "\n",
    "$T(n) \\in \\Theta( f(n) )$ means that $f(n)$ is the tight bound of $T(n)."
   ]
  },
  {
   "cell_type": "markdown",
   "id": "3aace224-a775-4bc5-bff5-c124a8435156",
   "metadata": {},
   "source": [
    "Some examples:\n",
    "+ $n^2 + 10 \\in O(n^2)$\n",
    "\n",
    "+ $n^2 + 10 \\in O(n^3)$\n",
    "\n",
    "+ $n^2 + 10 \\in \\Omega(n)$"
   ]
  },
  {
   "cell_type": "markdown",
   "id": "bb8c5564-66e1-42cc-9272-9d28f7bb0d99",
   "metadata": {},
   "source": [
    "$T(n) \\in O(f(n))$ if there is some number $c$ such that $T(n) \\le c * f(n)$ for all large values of n."
   ]
  },
  {
   "cell_type": "markdown",
   "id": "d8ba832d-ea65-45de-b940-a5aeda3fbe55",
   "metadata": {},
   "source": [
    "$T(n) \\in \\Omega(f(n))$ if there is some number $c$ such that $T(n) \\ge c * f(n)$ for all large values of n."
   ]
  },
  {
   "cell_type": "markdown",
   "id": "0f108c55-cbac-4281-86cd-d515d5eb1c1c",
   "metadata": {},
   "source": [
    "Examples:\n",
    "\n",
    "* Show that $n^2 + 10 \\in O(n^3)$.\n",
    "\n",
    "$n^2 + 10 \\le n^3 + 10n^3 = 11n^3$.  With c=11, $n^2+10 \\le c * n^3$ for all n>1."
   ]
  },
  {
   "cell_type": "markdown",
   "id": "223171de-a4d8-4e43-941a-9ed5d6403012",
   "metadata": {},
   "source": [
    "* Show that $n^2 + 10 \\in \\Omega(n)$.\n",
    "\n",
    "$n^2 + 10 \\ge n + 0 = 1n$.  With c=1, $n^2 + 10 \\ge c*n$ for all n>1."
   ]
  },
  {
   "cell_type": "markdown",
   "id": "f90c6e9b-d69e-446e-a9f0-63641af3c14d",
   "metadata": {},
   "source": [
    "### Theta ($\\Theta$) -- tight bound"
   ]
  },
  {
   "cell_type": "markdown",
   "id": "e7ea62be-1f2b-473b-b657-c34e8edd43f4",
   "metadata": {},
   "source": [
    "Intutively, $T(n) \\in \\Theta( f(n) )$ if f(n) is both an upper bound and a lower bound of $T(n)$."
   ]
  },
  {
   "cell_type": "markdown",
   "id": "8d218c81-ec55-4462-9ad6-88f0229e567f",
   "metadata": {},
   "source": [
    "This also means that $T(n) \\in O(f(n))$ and $T(n) \\in \\Omega(f(n))$."
   ]
  },
  {
   "cell_type": "markdown",
   "id": "c49144ba-98e1-416f-8b4f-4f199ade2d41",
   "metadata": {},
   "source": [
    "Mathematically, $T(n) \\in \\Theta(f(n))$ if there are two numbers $c_1$ and $c_2$ such that $c_1 \\cdot f(n) \\le T(n) \\le c_2 \\cdot f(n)$, for all large values of n."
   ]
  },
  {
   "cell_type": "markdown",
   "id": "8a9f0634-71fe-4eb4-8df2-7b2d654113da",
   "metadata": {},
   "source": [
    "Examples:\n",
    "\n",
    "+ Show that $5n^3 + n^2 + 7 \\in \\Theta(n^3)$."
   ]
  },
  {
   "cell_type": "markdown",
   "id": "5c36a897-6784-4756-9f4d-84d087d610a1",
   "metadata": {},
   "source": [
    "After skipping a few steps, we get this:\n",
    "\n",
    "$n^3 \\le 5n^3 + n^2 + 7 \\le 13n^3$ for all n>1."
   ]
  },
  {
   "cell_type": "markdown",
   "id": "39c506cf-919b-465f-b35b-34caa9b8fd22",
   "metadata": {},
   "source": [
    "With $c_1=1$ and $c_2=13$, we show that $c_1 n^3 \\le 5n^3 + n^2 + 7 \\le c_2 n^3$, for all n>1."
   ]
  },
  {
   "cell_type": "markdown",
   "id": "3c5179f5-a379-43b4-8375-cb109c7a82d0",
   "metadata": {},
   "source": [
    "Small quiz:\n",
    "\n",
    "True or False\n",
    "\n",
    "* $n^2 + 7 \\in \\Omega(n)$"
   ]
  },
  {
   "cell_type": "markdown",
   "id": "e6ca66be-3895-47ff-85f8-bbc41e2e959c",
   "metadata": {},
   "source": [
    "+ $n^2 + 7 \\in O(n^4)$"
   ]
  },
  {
   "cell_type": "markdown",
   "id": "c8b26fd5-870e-4a56-8fb7-0cf77d48ee40",
   "metadata": {},
   "source": [
    "* $n^2 + 7 \\in \\Theta(n^3)$"
   ]
  },
  {
   "cell_type": "markdown",
   "id": "91b72cf9-b6eb-4255-847d-d9c2aee0a255",
   "metadata": {},
   "source": [
    "Answers: T, T and F."
   ]
  },
  {
   "cell_type": "markdown",
   "id": "34ddd200-54fb-47d0-b48e-51b2b3e88d5b",
   "metadata": {},
   "source": [
    "Summary:\n",
    "+ O, Omega and Theta are three measures of complexity.\n",
    "+ Complexity is not one function; it's a set of functions.\n",
    "+ Ideally, we want to get the tight bound (Theta) complexity for a program.  But often, a program can be very complex that it's much easier to establish an upper bound or a lower bound."
   ]
  },
  {
   "cell_type": "markdown",
   "id": "5c8983ab-48d2-460c-a056-70f0743e1d9d",
   "metadata": {},
   "source": [
    "Another quiz:\n",
    "+ Is O a measure of worst case running times? No\n",
    "+ Is Omega a measure of best case running times? No"
   ]
  },
  {
   "cell_type": "markdown",
   "id": "a6f16bec-1f1b-4f1d-8a5b-1570415b52bb",
   "metadata": {},
   "source": [
    "Many people say something like $n^2 + 1$ is $O(n^2)$. This is not exactly right.\n",
    "It's more accurate to say this $n^2 + 1 \\in O(n^2)$."
   ]
  }
 ],
 "metadata": {
  "kernelspec": {
   "display_name": "Python 3 (ipykernel)",
   "language": "python",
   "name": "python3"
  },
  "language_info": {
   "codemirror_mode": {
    "name": "ipython",
    "version": 3
   },
   "file_extension": ".py",
   "mimetype": "text/x-python",
   "name": "python",
   "nbconvert_exporter": "python",
   "pygments_lexer": "ipython3",
   "version": "3.9.13"
  }
 },
 "nbformat": 4,
 "nbformat_minor": 5
}
