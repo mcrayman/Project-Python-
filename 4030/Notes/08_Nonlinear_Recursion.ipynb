{
 "cells": [
  {
   "cell_type": "markdown",
   "id": "63a5ed46-67a5-47d6-8f8c-02d3b661f675",
   "metadata": {},
   "source": [
    "# Nonlinear Recursion"
   ]
  },
  {
   "cell_type": "markdown",
   "id": "0728b100-7d7e-468c-88a9-b0fd37a5d5fd",
   "metadata": {},
   "source": [
    "Problems:\n",
    "+ Merging two sorted lists [ linear recursion ]\n",
    "+ Merge sort [ non-linear recursion ]\n",
    "+ Binary search [ non-linear recursion ]\n"
   ]
  },
  {
   "cell_type": "markdown",
   "id": "a73f7759-a44d-448a-b5d2-f964dba5574d",
   "metadata": {},
   "source": [
    "### Quick  review of the substitution method\n",
    "\n",
    "To find a \"closed\"/final formula of T, we need to replace T on the RHS of the equation with something else.\n",
    "\n",
    "We need to know what T(n-1) on the RHS is.  To do this, we will replace \"n\" in the original equation with $n-1$.\n",
    "\n",
    "\n",
    "\n",
    "+ T(n) = 3 + T(n-1)\n",
    "\n",
    "T(n) = 3 + T(n-1)\n",
    "\n",
    "T(n) = 3 + 3 + T(n-2) = 6 + T(n-2)\n",
    "\n",
    "T(n) = 6 + 3 + T(n-3) = 9 + T(n-3)\n",
    "\n",
    "T(n) = 9 + 3 + T(n-4) = 12 + T(n-4)\n",
    "\n",
    "After k steps:  T(n) = 3*k + T(n-k)\n",
    "\n",
    "After n steps: $T(n) = 3*n + T(n-n) = 3n + T(0) = 3n + c \\in \\Theta(n)$.\n",
    "\n",
    "T(0) = c\n",
    "\n",
    "\n",
    "Scratch space:\n",
    "\n",
    "Replace n with n-1 in the original equation, T(n-1) = 3 + T(n-2)\n",
    "\n",
    "Replace n with n-2 in the original equation, T(n-2) = 3 + T(n-3)\n",
    "\n",
    "Replace n with n-3 in the original equation, T(n-3) = 3 + T(n-4)\n",
    "\n"
   ]
  },
  {
   "cell_type": "markdown",
   "id": "4252ad34-b6d7-4ae4-aca4-9902567e99de",
   "metadata": {},
   "source": [
    "#### How about this?\n",
    "\n",
    "+ S(n) = 3 + S(n-2)\n"
   ]
  },
  {
   "cell_type": "markdown",
   "id": "9f659f52-b062-4f03-873d-fd2c33608934",
   "metadata": {},
   "source": [
    "If we do substitution, we should be able to get a $\\Theta$ (tight-bound) complexity.\n",
    "\n",
    "If we compare S to T, we can get an upper bound complexity quickly.\n",
    "\n",
    "Let's compare S and T:\n",
    "+ T(n) = 3 + T(n-1)\n",
    "+ S(n) = 3 + S(n-2)"
   ]
  },
  {
   "cell_type": "markdown",
   "id": "47441e42-27e5-4c70-bf1a-f6ad0747b73c",
   "metadata": {},
   "source": [
    "Both T and S are increasing functions.  The larger n is, the larger T is and the larger S is."
   ]
  },
  {
   "cell_type": "markdown",
   "id": "399abcbc-0c9c-4cfe-ba67-88a52b2d2544",
   "metadata": {},
   "source": [
    "$T(n) \\ge T(n-1) \\ge T(n-2) \\cdots$\n",
    "\n",
    "$S(n) \\ge S(n-1) \\ge S(n-2) \\cdots$\n"
   ]
  },
  {
   "cell_type": "markdown",
   "id": "b13d0726-dd6e-4057-b1ee-811f4e9f94bb",
   "metadata": {},
   "source": [
    "Which of these is true?\n",
    "+ $S(n) \\le T(n)$ , or\n",
    "+ $T(n) \\le S(n)$\n",
    "\n",
    "$F(n) = 3 + F(n-2)$ and $G(n) = 3 + G(n-2)$ are the same equation."
   ]
  },
  {
   "cell_type": "markdown",
   "id": "cd41388c-f700-4bf3-b042-d5927fd4d807",
   "metadata": {},
   "source": [
    "Therefore, $S(n) \\le T(n) = 3n + c \\le (3+c)n$ for all n>1.\n",
    "\n",
    "$S(n) \\in O(n)$"
   ]
  },
  {
   "cell_type": "markdown",
   "id": "7ee1ead0-4c6d-4659-bd28-1616e5b94ca2",
   "metadata": {},
   "source": [
    "##### Summary\n",
    "+ We have T(n) = 3 + T(n-1), after some tedious substitutions, we get T(n) = 3n + c.\n",
    "This allows us to say that $T(n) \\in \\Theta(n)$."
   ]
  },
  {
   "cell_type": "markdown",
   "id": "e75e2b49-e471-4a1a-a186-06d53e7312c5",
   "metadata": {},
   "source": [
    "* Given that S(n) = 3 + S(n-2), by comparing S and T, we can quickly establish an upper bound for S.  We can say that $S(n) \\in O(n)$ after this comparison.\n",
    "\n",
    "Note: if we use the long tedious substitution method, we should also be able to get the tight bound ($\\Theta$) for S.\n",
    "\n",
    "Because $S \\le T$, we can use T to establish an upper bound for S. But we don't know anything about the lower bound for S.\n",
    "\n",
    "It turns out that the tight bound complexity of S is also $\\Theta(n)$. But we will have to spend actually more work (compared to what we did for T) to figure this out, using substitution."
   ]
  },
  {
   "cell_type": "markdown",
   "id": "b47326fe-ce23-4321-a340-f7b21d2ae44a",
   "metadata": {},
   "source": [
    "### Merging two sorted lists\n",
    "\n",
    "merge([1, 10, 15, 20, 21], [2, 4, 12]) returns [1,2,4,10,12,15,20,21]\n",
    "\n",
    "Strategy for merge(A, B):\n",
    "\n",
    "+ Deal with the smallest case(s). \n",
    "    + Either A is empty or B is empty.\n",
    "+ Compare first of A and first of B.\n",
    "    1. A[0] < B[0], \n",
    "        + Merge B and the remaining of A *using the same strategy recursively*.\n",
    "        + Concat [ first_A ] and the merged list.\n",
    "    2. A[0] >= B[0], ....\n",
    "        + Merge A and the remaining of B *using the same strategy recursively*.\n",
    "        + Concat [ first_B ] and the merged list.\n",
    "\n",
    "\n",
    "merge([1, 10, 15, 20, 21], [2, 4, 12])\n",
    "\n",
    "A[0] < B[0]\n",
    "\n",
    "A[0] = 1\n",
    "remaining_of_A = [10, 15, 20, 21]\n",
    "B = [2, 4, 12]\n",
    "\n",
    "If **somehow** we can merge remaining_of_A and B, that merged list looks like this: [2, 4, 10, 12, 15, 20, 21]\n",
    "\n",
    "Now, with this, how can we get the merged list of A and B? concatenate [1] and the merged of remaining_A and B.\n",
    "\n"
   ]
  },
  {
   "cell_type": "code",
   "execution_count": 19,
   "id": "883ea752-b04b-4367-9511-9e77d6f88a22",
   "metadata": {},
   "outputs": [],
   "source": [
    "#\n",
    "# Input: A is sorted, B is sorted (increasing order)\n",
    "# Output: a sorted list of A and B combined.\n",
    "#\n",
    "def merge(A, B):\n",
    "    if A==[]:\n",
    "        return B\n",
    "    if B==[]:\n",
    "        return A\n",
    "    firstA = A[0]\n",
    "    firstB = B[0]\n",
    "    if firstA < firstB:\n",
    "        remainingA = A[1:]\n",
    "        \n",
    "        # Merge B and the remaining of A using the same strategy recursively.\n",
    "        tmp = merge(remainingA, B)\n",
    "\n",
    "        return [firstA] + tmp\n",
    "    else:\n",
    "        remainingB = B[1:]\n",
    "        tmp = merge(A, remainingB)\n",
    "        return [firstB] + tmp\n",
    "    \n"
   ]
  },
  {
   "cell_type": "code",
   "execution_count": 20,
   "id": "0a17c264-5e4c-47e9-911a-20a5566fd536",
   "metadata": {},
   "outputs": [
    {
     "data": {
      "text/plain": [
       "[1, 2, 4, 10, 12, 15, 20, 21]"
      ]
     },
     "execution_count": 20,
     "metadata": {},
     "output_type": "execute_result"
    }
   ],
   "source": [
    "merge([1, 10, 15, 20, 21], [2, 4, 12])"
   ]
  },
  {
   "cell_type": "markdown",
   "id": "396593c4-b5f6-4c41-befa-a36ff3780e3d",
   "metadata": {},
   "source": [
    "##### We'll determine the running time equation, and then complexity of merge."
   ]
  },
  {
   "cell_type": "code",
   "execution_count": 21,
   "id": "1f73cd49-090a-460e-b75e-ad6dc1c44275",
   "metadata": {},
   "outputs": [],
   "source": [
    "def merge(A, B):\n",
    "    if A==[]:\n",
    "        return B\n",
    "    if B==[]:\n",
    "        return A\n",
    "    if A[0] < B[0]:\n",
    "        return [A[0]] + merge(A[1:], B)\n",
    "    else:\n",
    "        return [B[0]] + merge(A, B[1:])"
   ]
  },
  {
   "cell_type": "code",
   "execution_count": 22,
   "id": "be68fed8-0d27-438f-9468-9831d24eebe9",
   "metadata": {},
   "outputs": [
    {
     "data": {
      "text/plain": [
       "[1, 2, 4, 10, 12, 15, 20, 21]"
      ]
     },
     "execution_count": 22,
     "metadata": {},
     "output_type": "execute_result"
    }
   ],
   "source": [
    "merge([1, 10, 15, 20, 21], [2, 4, 12])"
   ]
  },
  {
   "cell_type": "markdown",
   "id": "8db1aec7-18da-4c4d-8541-d526f9b31962",
   "metadata": {},
   "source": [
    "n is the total items in A and B.\n",
    "\n",
    "T(n) = c + T(n-1)\n",
    "\n",
    "Lines 2, 3, 4, 5, 6, 8 take constant time: c\n",
    "\n",
    "The recursive call on lines 7 and 9 must be expressed in terms of T.\n",
    "\n",
    "Both A and B have n items.\n",
    "\n",
    "In either recursive calls, the number of items is n-1."
   ]
  },
  {
   "cell_type": "markdown",
   "id": "3b1458de-2dd8-4cc7-bb9f-3e48fb32e466",
   "metadata": {},
   "source": [
    "$T(n) = c + T(n-1) \\in \\Theta(n)$\n"
   ]
  },
  {
   "cell_type": "markdown",
   "id": "e772be34-a076-4676-a58e-4c4bbb58fb9e",
   "metadata": {},
   "source": [
    "Assumption: remove first item of the list takes constant time."
   ]
  },
  {
   "cell_type": "markdown",
   "id": "baaca42b-c326-44e8-9b41-2af76b579ebc",
   "metadata": {},
   "source": [
    "#### Sorting a list using merging.\n",
    "\n",
    "We already know how to merge two already-sorted lists. \n",
    "\n",
    "We can utilize this function to sort a list numbers."
   ]
  },
  {
   "cell_type": "code",
   "execution_count": 28,
   "id": "b93b52c9-bfbc-479a-8a48-1ddd08b8dba9",
   "metadata": {},
   "outputs": [],
   "source": [
    "def merge_sort(L):\n",
    "    if len(L) <= 1:\n",
    "        return L\n",
    "    else:\n",
    "        A = L[0: len(L)//2]\n",
    "        B = L[len(L)//2 : len(L)]\n",
    "        sorted_A = merge_sort(A)\n",
    "        sorted_B = merge_sort(B)\n",
    "        sorted_L =  merge(sorted_A, sorted_B)\n",
    "        return sorted_L"
   ]
  },
  {
   "cell_type": "code",
   "execution_count": 29,
   "id": "81ec265a-fb3d-433d-b900-21a795bffd13",
   "metadata": {},
   "outputs": [
    {
     "data": {
      "text/plain": [
       "[1, 2, 2, 10, 20, 50]"
      ]
     },
     "execution_count": 29,
     "metadata": {},
     "output_type": "execute_result"
    }
   ],
   "source": [
    "merge_sort([50,1,20,2,10,2])  # returns [1,2,2,10,20,50]"
   ]
  },
  {
   "cell_type": "markdown",
   "id": "19a0e4a3-9f1d-425a-96e1-d8f9ceb488ba",
   "metadata": {},
   "source": [
    "**Recurive strategy for sorting a list using merging**:\n",
    "\n",
    "+ Deal with smallest case.\n",
    "    + len(L) <= 1\n",
    "+ Split L into two halves.\n",
    "    * A = L[0 : len(L)//2]\n",
    "    * B = L[len(L)//2 : len(L)]\n",
    "+ Sort the first half using the same strategy recursively.\n",
    "+ Sort the second half using the same strategy recursively.\n",
    "+ Merge the two sorted halves together using merge."
   ]
  },
  {
   "cell_type": "code",
   "execution_count": 26,
   "id": "a58fb5b2-ece7-4473-b299-22478dea6b30",
   "metadata": {},
   "outputs": [
    {
     "data": {
      "text/plain": [
       "[50, 1, 20]"
      ]
     },
     "execution_count": 26,
     "metadata": {},
     "output_type": "execute_result"
    }
   ],
   "source": [
    "L = [50,1,20,2,10,2]\n",
    "L[0:len(L)//2]"
   ]
  },
  {
   "cell_type": "code",
   "execution_count": 27,
   "id": "95f1041b-d014-4f8a-a907-5ce9a0a6c363",
   "metadata": {},
   "outputs": [
    {
     "data": {
      "text/plain": [
       "[2, 10, 2]"
      ]
     },
     "execution_count": 27,
     "metadata": {},
     "output_type": "execute_result"
    }
   ],
   "source": [
    "L[len(L)//2 : len(L)]"
   ]
  },
  {
   "cell_type": "code",
   "execution_count": null,
   "id": "63832c7a-3a49-4f9d-8fb6-d0f54a847510",
   "metadata": {},
   "outputs": [],
   "source": []
  },
  {
   "cell_type": "markdown",
   "id": "eebd4335-b9a9-4432-8da3-cad7ae4a6e34",
   "metadata": {},
   "source": [
    "### Review \n",
    "\n",
    "+ Merging two sorted lists of numbers.\n",
    "+ Sorting a list of unsorted numbers.\n",
    "\n",
    "Key idea:\n",
    "* Be able to understand recursive strategies described in English.\n",
    "* Be able to implement recursive strategies in English."
   ]
  },
  {
   "cell_type": "code",
   "execution_count": 2,
   "id": "4cffd079-baae-41d3-aeb5-0a9e97990092",
   "metadata": {},
   "outputs": [],
   "source": [
    "#\n",
    "# Suppose that we know how to merge 2 sorted lists into 1 sorted list.\n",
    "#    merge([1,3,5], [2,4,5,6,10]) ---> [1,2,3,4,5,5,6,10]\n",
    "# We can use it to sort a list.\n",
    "#    merge_sort([10,5,1,2,3,4,7,6,9])  ---> [1,2,3,4,5,6,7,9,10]\n",
    "#\n",
    "\n",
    "def merge_sort(L):\n",
    "    if len(L) <= 1:\n",
    "        return L\n",
    "    else:\n",
    "        left = L[0: len(L)//2]\n",
    "        right = L[len(L)//2 : len(L)]\n",
    "        sorted_left = merge_sort(left)\n",
    "        sorted_right = merge_sort(right)\n",
    "        sorted_L =  merge(sorted_left, sorted_right)\n",
    "        return sorted_L"
   ]
  },
  {
   "cell_type": "markdown",
   "id": "67486741-511b-4b77-87bb-60383d21dbcb",
   "metadata": {},
   "source": [
    "This program works correctly, if these two assumptions are correct.\n",
    "+ the call to **merge** (line 16) returns the correct output.\n",
    "+ the recursive calls to **merge_sort** (lines 14 and 15) return the correct outputs.\n",
    "\n",
    "How can we assume that the recursive merge_sort calls return correct outputs?\n",
    "\n",
    "Because of two things:\n",
    "1. It works correctly for smallest cases.\n",
    "2. Logically, the strategy works.\n",
    "\n",
    "We call this inductive reasoning.\n",
    "\n",
    "You should have learned mathematical induction in COMP 2700."
   ]
  },
  {
   "cell_type": "markdown",
   "id": "c185ec9c-382a-4620-9ca3-3820bc14f4b4",
   "metadata": {},
   "source": [
    "### Binary Search\n",
    "\n",
    "Given a list of sorted numbers in increasing order and a number x, find x.  If x doesn't exist return False. If it does, return True."
   ]
  },
  {
   "cell_type": "code",
   "execution_count": 7,
   "id": "d8559469-b298-47da-aaa8-ce48722e373d",
   "metadata": {},
   "outputs": [],
   "source": [
    "#\n",
    "# Input: x is a number; L is a list in increasing order.\n",
    "# Output: True (x in L) or False (x not in L)\n",
    "#\n",
    "def search(L, x):\n",
    "    pass\n"
   ]
  },
  {
   "cell_type": "code",
   "execution_count": null,
   "id": "cb30847f-0934-4611-babc-aa20e46eeb80",
   "metadata": {},
   "outputs": [],
   "source": []
  },
  {
   "cell_type": "code",
   "execution_count": 8,
   "id": "2b7e27ee-34f4-4a05-89ac-fce7b7ca9a08",
   "metadata": {},
   "outputs": [],
   "source": [
    "search([1, 10, 20, 25, 31, 43], 31)   # should be True "
   ]
  },
  {
   "cell_type": "code",
   "execution_count": 9,
   "id": "04100d04-e91c-47f0-883f-2783515613a1",
   "metadata": {},
   "outputs": [],
   "source": [
    "search([1, 10, 20, 25, 31, 43], 32)   # should be False "
   ]
  },
  {
   "cell_type": "markdown",
   "id": "cb549867-bda3-4556-9d73-62c41213692d",
   "metadata": {},
   "source": [
    "A linear iterative loop can solve this in $\\Theta(n)$ complexity."
   ]
  },
  {
   "cell_type": "markdown",
   "id": "b9b3bb2f-275d-486b-aaaa-906714999c78",
   "metadata": {},
   "source": [
    "Binary search is exponentially faster.  It assumes that the list is sorted."
   ]
  },
  {
   "cell_type": "code",
   "execution_count": 18,
   "id": "ae57d758-3eb0-4465-805c-b0ccca4ad6e3",
   "metadata": {},
   "outputs": [],
   "source": [
    "#\n",
    "# Input: x is a number; L is a list in increasing order.\n",
    "# Output: True (x in L) or False (x not in L)\n",
    "#\n",
    "def search(L, x):\n",
    "    if len(L)==0:\n",
    "        return False\n",
    "    \n",
    "    mid_index = len(L)//2\n",
    "    if x == L[mid_index]:\n",
    "        return True\n",
    "    if x < L[mid_index]:\n",
    "        # Use the same strategy recursively, to find x on the left side.\n",
    "        return search(L[0: mid_index], x)\n",
    "    else:\n",
    "        # Use the same strategy recursively, to find x on the right side.\n",
    "        return search(L[mid_index+1 : len(L)], x)\n"
   ]
  },
  {
   "cell_type": "code",
   "execution_count": 19,
   "id": "197e15d9-21c5-4b4f-8eb4-dff939938b80",
   "metadata": {},
   "outputs": [
    {
     "data": {
      "text/plain": [
       "True"
      ]
     },
     "execution_count": 19,
     "metadata": {},
     "output_type": "execute_result"
    }
   ],
   "source": [
    "search([1, 10, 20, 25, 31, 43], 31)   # should be True "
   ]
  },
  {
   "cell_type": "code",
   "execution_count": 20,
   "id": "5ed2156e-3563-4309-94bc-53b4c7762adc",
   "metadata": {},
   "outputs": [
    {
     "data": {
      "text/plain": [
       "False"
      ]
     },
     "execution_count": 20,
     "metadata": {},
     "output_type": "execute_result"
    }
   ],
   "source": [
    "search([1, 10, 20, 25, 31, 43], 32)   # should be False "
   ]
  },
  {
   "cell_type": "markdown",
   "id": "01096c7c-d3ca-4ac3-bf2f-017a77c88c2d",
   "metadata": {},
   "source": [
    "A recursive strategy:\n",
    "+ look at the item in the middle of L\n",
    "+ compare x to the middle item.  If they are the same, we found it. Return True.\n",
    "+ If x < the middle item,\n",
    "    * Logic: if x is in L, it has to be on the left side of the middle item.\n",
    "    * Use the same strategy recursively, to find x on the left side.\n",
    "+ Else (i.e. x > the middle item)\n",
    "    * Logic: if x is in L, it has to be on the right side of the middle item.\n",
    "    * Use the same strategy recursively, to find x on the right side.\n",
    "+ If L is empty, return False"
   ]
  },
  {
   "cell_type": "code",
   "execution_count": 16,
   "id": "e726c516-d4ed-4a7a-9c6a-a31927949a69",
   "metadata": {},
   "outputs": [
    {
     "data": {
      "text/plain": [
       "(12, 6, 'w')"
      ]
     },
     "execution_count": 16,
     "metadata": {},
     "output_type": "execute_result"
    }
   ],
   "source": [
    "L = list('hello world!')\n",
    "mid_index = len(L)//2\n",
    "len(L), mid_index, L[mid_index]"
   ]
  },
  {
   "cell_type": "code",
   "execution_count": 14,
   "id": "768585ed-a04a-4ca6-863a-5f2c8be3dd9b",
   "metadata": {},
   "outputs": [
    {
     "data": {
      "text/plain": [
       "['h', 'e', 'l', 'l', 'o', ' ']"
      ]
     },
     "execution_count": 14,
     "metadata": {},
     "output_type": "execute_result"
    }
   ],
   "source": [
    "L[0: 6]"
   ]
  },
  {
   "cell_type": "code",
   "execution_count": 17,
   "id": "406bd348-4288-4db6-a193-997f2d8a7020",
   "metadata": {},
   "outputs": [
    {
     "data": {
      "text/plain": [
       "['o', 'r', 'l', 'd', '!']"
      ]
     },
     "execution_count": 17,
     "metadata": {},
     "output_type": "execute_result"
    }
   ],
   "source": [
    "L[6+1: len(L)]"
   ]
  },
  {
   "cell_type": "code",
   "execution_count": null,
   "id": "175d9af3-4736-4538-b740-cd3a089f20d1",
   "metadata": {},
   "outputs": [],
   "source": []
  }
 ],
 "metadata": {
  "kernelspec": {
   "display_name": "Python 3 (ipykernel)",
   "language": "python",
   "name": "python3"
  },
  "language_info": {
   "codemirror_mode": {
    "name": "ipython",
    "version": 3
   },
   "file_extension": ".py",
   "mimetype": "text/x-python",
   "name": "python",
   "nbconvert_exporter": "python",
   "pygments_lexer": "ipython3",
   "version": "3.9.13"
  }
 },
 "nbformat": 4,
 "nbformat_minor": 5
}
