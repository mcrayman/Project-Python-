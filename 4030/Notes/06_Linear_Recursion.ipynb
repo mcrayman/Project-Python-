{
 "cells": [
  {
   "cell_type": "code",
   "execution_count": null,
   "id": "655257b2-0c00-426c-aa27-afbf5e6e67af",
   "metadata": {},
   "outputs": [],
   "source": []
  },
  {
   "cell_type": "markdown",
   "id": "17cb22a8-7031-407c-a670-4d97b22089c1",
   "metadata": {},
   "source": [
    "Skills and concepts to master\n",
    "+ Understand input size\n",
    "+ Explain recursive strategies in English.\n",
    "+ Design recursive programs, given a strategy (described in English)\n",
    "    * What a function does versus how a function does its job.\n",
    "+ Handle the case when input is not decreased and must be solved directly.\n",
    "\n",
    "\n",
    "Problems\n",
    "+ Counting from a list\n",
    "+ Checking if a string is a palindrome\n",
    "+ Reversing a list\n",
    "+ Finding a minimum number in a list\n",
    "+ Bubble sort"
   ]
  },
  {
   "cell_type": "markdown",
   "id": "85d8b7ce-86ba-4588-85cb-fead26935147",
   "metadata": {},
   "source": [
    "### Task: count the number of times x occurs in a list.\n",
    "\n",
    "Goal: \n",
    "+ think about how to solve this in English, recursively.\n",
    "+ implement that idea in Python.\n",
    "\n",
    "Strategy in English:\n",
    "+ Compare x to first item L[0].\n",
    "    + If x==L[0], then the frequency of x is 1 + its frequency in the remaining list.\n",
    "        + we'll calculate x's frequency in the remaining list, using the same strategy.\n",
    "    + If x!=L[0], then the frequency of x is the same as its frequency in the remaining list.\n",
    "    \n",
    "+ Using this strategy, eventually, we'll have to deal with an empty list.\n",
    "    \n",
    "    "
   ]
  },
  {
   "cell_type": "code",
   "execution_count": 7,
   "id": "008ba883-884b-4fcd-ba87-beb2ce6b2d76",
   "metadata": {},
   "outputs": [],
   "source": [
    "# \n",
    "# Input: L a list, x a number\n",
    "# Output: the number of times x occurs in a list.\n",
    "#\n",
    "def count(L, x):\n",
    "    if L==[]:\n",
    "        return 0\n",
    "    if x == L[0]:\n",
    "        freq_x_in_remaining_list = count(L[1:], x)\n",
    "        return 1 + freq_x_in_remaining_list\n",
    "    else:\n",
    "        freq_x_in_remaining_list = count(L[1:], x)\n",
    "        return freq_x_in_remaining_list\n"
   ]
  },
  {
   "cell_type": "markdown",
   "id": "6f969050-bf84-4c78-aa3f-03c6fa073401",
   "metadata": {},
   "source": [
    "Note: it can be difficult to conceptualize that \"computing the frequency of x in the remaining list\" can be done using a recursive call."
   ]
  },
  {
   "cell_type": "code",
   "execution_count": 8,
   "id": "ab901d56-3510-4131-86ff-4453e46e92f8",
   "metadata": {},
   "outputs": [
    {
     "data": {
      "text/plain": [
       "2"
      ]
     },
     "execution_count": 8,
     "metadata": {},
     "output_type": "execute_result"
    }
   ],
   "source": [
    "count([2,3,5,1,3], 3)  # answer: 2"
   ]
  },
  {
   "cell_type": "markdown",
   "id": "6fdba5a8-87c6-464e-8256-bbe74714364c",
   "metadata": {},
   "source": [
    "The number of times x occurs in L =\n",
    "\n",
    "* 0 + the of times x occurs in the rest of L (w.o. the first item != x)\n",
    "* 1 + the of times x occurs in the rest of L (w.o. the first item == x)\n",
    "\n"
   ]
  },
  {
   "cell_type": "markdown",
   "id": "3f365575-7f1d-4ef6-bd96-e6086ed1d395",
   "metadata": {},
   "source": [
    "L = [1,2,3,4,1,5,32,230,32]\n",
    "\n",
    "x = 1\n",
    "\n"
   ]
  },
  {
   "cell_type": "markdown",
   "id": "80761511-4647-47cd-96bc-fa0967a5fa3e",
   "metadata": {},
   "source": [
    "### Quick warmup\n",
    "\n",
    "Show that $1 + 10n^3 \\in \\Theta(n^3)$"
   ]
  },
  {
   "cell_type": "markdown",
   "id": "d11076b7-bf27-4565-b9f6-66cf0c01310f",
   "metadata": {},
   "source": [
    "+ We need to show that the function is both in $O(n^3)$ and $\\Omega(n^3)$"
   ]
  },
  {
   "cell_type": "markdown",
   "id": "a7ab1b62-7b2c-4588-9b33-ca25442a99be",
   "metadata": {},
   "source": [
    "We need to find two constants (c1 and c2) that show that n^3 is both the upper bound and lower bound of the function."
   ]
  },
  {
   "cell_type": "markdown",
   "id": "0497841b-90f8-4140-85ff-a2a8eef72431",
   "metadata": {},
   "source": [
    "c1 = 10\n",
    "\n",
    "c2 = 11\n",
    "\n",
    "Because $10n^3 \\le 1 + 10n^3 \\le 11n^3$ for all $n>1$,  $1 + 10n^3 \\in \\Theta(n^3)$."
   ]
  },
  {
   "cell_type": "markdown",
   "id": "8b6af934-70a3-49a8-9796-420403699b41",
   "metadata": {},
   "source": [
    "By definition,  $1+10n^3 \\in O(n^3)$ if there is a number $c_1$ such that $1+10n^3 \\le c_1 n^3$.\n",
    "\n",
    "By definition,  $1+10n^3 \\in \\Omega(n^3)$ if there is a number $c_1$ such that $1+10n^3 \\ge c_1 n^3$.\n"
   ]
  },
  {
   "cell_type": "markdown",
   "id": "c7cb9a31-54ec-4e18-81c2-d005285963c2",
   "metadata": {},
   "source": [
    "### Task: Check if a list is a palindrome.\n",
    "\n",
    "A palindrome is a string that is the same if you read it in reverse.\n",
    "\n",
    "Examples:\n",
    "* abba\n",
    "* XYX\n",
    "* H\n",
    "* ''\n"
   ]
  },
  {
   "cell_type": "code",
   "execution_count": 10,
   "id": "38345c38-ef3a-424c-8b4b-a09a05c00244",
   "metadata": {},
   "outputs": [],
   "source": [
    "#\n",
    "# Input: s, a string\n",
    "# Output: True or False\n",
    "#\n",
    "def is_palindrome(s):\n",
    "    if len(s) <= 1:\n",
    "        return True\n",
    "    if s[0] != s[-1]:\n",
    "        return False\n",
    "    else:\n",
    "        # first and last characters are the same.\n",
    "        the_middle_part = s[1 : -1]\n",
    "        return is_palindrome( the_middle_part )\n"
   ]
  },
  {
   "cell_type": "markdown",
   "id": "90a6fd31-cdef-4be6-b546-83e56de5c205",
   "metadata": {},
   "source": [
    "Strategy:\n",
    "+ If s is empty, it is of course a palindrome, this function should return True.\n",
    "\n",
    "+ If s is a character (len=1), it is also a palindrome.\n",
    "\n",
    "+ If first and last characters are not the same, it cannot be a palindrome.\n",
    "\n",
    "+ Else, i.e. if first and last characters are the same,\n",
    "    + how can we tell if s is a palindrome or not?"
   ]
  },
  {
   "cell_type": "markdown",
   "id": "89263d80-f73a-4724-9ffa-516bcd14c7af",
   "metadata": {},
   "source": [
    "\n",
    "s = A the_middle_part A\n",
    "\n",
    "the_middle_part = s[1:-1]\n",
    "\n",
    "+ first = last\n",
    "+ how do we know if s is a palindrome? Answer: the_middle_part is also a palidrome.\n",
    "    + Option 1: check to see if first and last characters of the_middle_part are the same.\n",
    "        + if they are not the same, return False\n",
    "        + if they are the same, check the first & last characters of the midle part of the middle part, \n",
    "        + keep doing this ...\n",
    "        + Option 1: iteratively attempts to figure out if the_middle_part is a palindrome.\n",
    "        + Avoid Option 1, if possible.\n",
    "    + Option 2: we will use \"some method\" to do this for us, i.e. to determine if the middle_part is a palinrome.\n",
    "        + Note: we don't need a magic method to this, we can use \"THE SAME STRATEGY\" that is captured by is_palindrome.   So, using the same strategy is essentially a recursive call.\n",
    "    \n",
    "        \n"
   ]
  },
  {
   "cell_type": "markdown",
   "id": "27b0cca9-eae3-49a2-b7dc-db8ee78f7352",
   "metadata": {},
   "source": [
    "Whether or not the middle part is a palindrome is exactly the same problem.\n",
    "\n",
    "It can be solved by the same strategy, i.e. by making a recursive call."
   ]
  },
  {
   "cell_type": "markdown",
   "id": "bba7ebad-9bc8-414b-8466-c225291401dd",
   "metadata": {},
   "source": [
    "### Recursion versus Circular Reasoning\n",
    "\n",
    "Is this (a recursive strategy) like circular reasoning?\n",
    "\n",
    "How can you use the same strategy to solve that strategy?\n",
    "\n",
    "It's not, because when we use the same strategy to solve the problem recursively, we use it **on a smaller input**."
   ]
  },
  {
   "cell_type": "markdown",
   "id": "df0b7fd6-96ef-4b81-911a-72a09ed5278b",
   "metadata": {},
   "source": [
    "The following is circular reasoning:"
   ]
  },
  {
   "cell_type": "code",
   "execution_count": 5,
   "id": "b987d600-0125-4b92-9552-c5ca190deeb4",
   "metadata": {},
   "outputs": [],
   "source": [
    "def is_palindrome(s):\n",
    "    if len(s) <= 1:\n",
    "        return True\n",
    "    if s[0] != s[-1]:\n",
    "        return False\n",
    "    else:\n",
    "        return is_palindrome( s )\n"
   ]
  },
  {
   "cell_type": "markdown",
   "id": "ca76048c-5a0d-4830-84be-e04f569a1f06",
   "metadata": {},
   "source": [
    "In implementing a recursive strategy, the input has to be reduced in each recursive call.\n",
    "\n",
    "And, we have to handle the case(s) when the input is smallest, i.e. no longer reducible in size."
   ]
  },
  {
   "cell_type": "markdown",
   "id": "e11390d6-8937-4670-a38d-79172d5f14c0",
   "metadata": {},
   "source": [
    "### Reversing a string\n",
    "\n",
    "\n",
    "We'll use a recursive strategy to solve this problem.\n",
    "\n",
    "* If s has 1 or 0 character, the reverse of s is itself.\n",
    "\n",
    "* Else, i.e. s has more than 1 characters,  in this case, s looks like this:\n",
    "    * s = x remaining_of_s\n",
    "        - example: s = 'abc', then x=a, remaining_of_s = 'bc'\n",
    "    * x = s[0]\n",
    "    * remaining_of_s = s[1 : ]\n",
    "    * How do we reverse s?\n",
    "    "
   ]
  },
  {
   "cell_type": "code",
   "execution_count": 23,
   "id": "35a611a9-f3da-4b34-b234-c25077bf2a9f",
   "metadata": {},
   "outputs": [],
   "source": [
    "\n",
    "def string_reverse(s):\n",
    "    if len(s) <= 1:\n",
    "        return s\n",
    "    else:\n",
    "        first = s[0]\n",
    "        remaining_of_s = s[1:]\n",
    "        reverse_of_remaining_of_s = string_reverse( remaining_of_s )\n",
    "        return reverse_of_remaining_of_s + first\n",
    "\n",
    "    \n",
    "# simplified\n",
    "def string_reverse(s):\n",
    "    if len(s) <= 1:\n",
    "        return s\n",
    "    else:\n",
    "        return string_reverse(s[1:]) + s[0]"
   ]
  },
  {
   "cell_type": "code",
   "execution_count": 24,
   "id": "55b3df1d-30f5-4aea-8bcc-d7b84c67253c",
   "metadata": {},
   "outputs": [
    {
     "data": {
      "text/plain": [
       "'DCBA'"
      ]
     },
     "execution_count": 24,
     "metadata": {},
     "output_type": "execute_result"
    }
   ],
   "source": [
    "string_reverse('ABCD')  "
   ]
  },
  {
   "cell_type": "markdown",
   "id": "5014dce7-a852-4152-af3c-3ed32a32aa88",
   "metadata": {},
   "source": [
    "s = ABCD\n",
    "\n",
    "reverse of BCD = DCB.\n",
    "\n",
    "Suppose that you know how to reverse the remaining_of_s, how do we construct the reverse of s?\n",
    "\n",
    "reverse of s = reverse of the remaining of s + first\n",
    "\n",
    "How do we reverse the remaining of s?  we use **THE SAME STRATEGY** (recursively)"
   ]
  },
  {
   "cell_type": "markdown",
   "id": "4f75bcde-d91f-40a3-9831-eb7cd1df4bcc",
   "metadata": {},
   "source": [
    "### Finding the smallest number in a list\n",
    "\n",
    "+ If L is smallest (len 1), the smallest is the one item.\n",
    "+ Else,\n",
    "    * Compare the first item to the smallest number in \"the remaining list\".\n",
    "        + The minimum number of L, is either the first number or the smallest number of the remaining list.\n",
    "    * Use the same strategy to find the smallest number in the remaining list."
   ]
  },
  {
   "cell_type": "code",
   "execution_count": 53,
   "id": "c62e871a-3e8a-4578-b767-50c8f5aa1726",
   "metadata": {},
   "outputs": [],
   "source": [
    "#\n",
    "# Input: a list of numbers (at least 1 number)\n",
    "#\n",
    "def find_smallest(L):\n",
    "    if len(L)==1:\n",
    "        return L[0]\n",
    "    else:\n",
    "        first = L[0]\n",
    "        remaining_list = L[1:]\n",
    "        a = find_smallest(remaining_list)\n",
    "        if a<first:\n",
    "            return a\n",
    "        else:\n",
    "            return first\n",
    "    "
   ]
  },
  {
   "cell_type": "code",
   "execution_count": 51,
   "id": "b6ed1e74-d842-45b3-84ae-cd6a22913a13",
   "metadata": {},
   "outputs": [
    {
     "data": {
      "text/plain": [
       "1"
      ]
     },
     "execution_count": 54,
     "metadata": {},
     "output_type": "execute_result"
    }
   ],
   "source": [
    "find_smallest([10,3,2,39,1,5])"
   ]
  },
  {
   "cell_type": "code",
   "execution_count": 52,
   "id": "384c18f2-bb20-4f62-a2ed-20037561c4e3",
   "metadata": {},
   "outputs": [
    {
     "name": "stdout",
     "output_type": "stream",
     "text": [
      "first h\n",
      "remaining list ['e', 'l', 'l', 'o']\n"
     ]
    }
   ],
   "source": [
    "A = list('hello')\n",
    "print('first', A[0])\n",
    "print('remaining list', A[1:])"
   ]
  },
  {
   "cell_type": "code",
   "execution_count": 37,
   "id": "67c6ff5f-4325-4ee1-9008-0d0b541b1737",
   "metadata": {},
   "outputs": [
    {
     "data": {
      "text/plain": [
       "(['h', 'e', 'l', 'l', 'o'], list)"
      ]
     },
     "execution_count": 37,
     "metadata": {},
     "output_type": "execute_result"
    }
   ],
   "source": [
    "A, type(A)"
   ]
  },
  {
   "cell_type": "code",
   "execution_count": 49,
   "id": "9ccffa9f-6a67-4760-aa01-9fb539be6aeb",
   "metadata": {},
   "outputs": [
    {
     "data": {
      "text/plain": [
       "['__add__',\n",
       " '__class__',\n",
       " '__class_getitem__',\n",
       " '__contains__',\n",
       " '__delattr__',\n",
       " '__delitem__',\n",
       " '__dir__',\n",
       " '__doc__',\n",
       " '__eq__',\n",
       " '__format__',\n",
       " '__ge__',\n",
       " '__getattribute__',\n",
       " '__getitem__',\n",
       " '__gt__',\n",
       " '__hash__',\n",
       " '__iadd__',\n",
       " '__imul__',\n",
       " '__init__',\n",
       " '__init_subclass__',\n",
       " '__iter__',\n",
       " '__le__',\n",
       " '__len__',\n",
       " '__lt__',\n",
       " '__mul__',\n",
       " '__ne__',\n",
       " '__new__',\n",
       " '__reduce__',\n",
       " '__reduce_ex__',\n",
       " '__repr__',\n",
       " '__reversed__',\n",
       " '__rmul__',\n",
       " '__setattr__',\n",
       " '__setitem__',\n",
       " '__sizeof__',\n",
       " '__str__',\n",
       " '__subclasshook__',\n",
       " 'append',\n",
       " 'clear',\n",
       " 'copy',\n",
       " 'count',\n",
       " 'extend',\n",
       " 'index',\n",
       " 'insert',\n",
       " 'pop',\n",
       " 'remove',\n",
       " 'reverse',\n",
       " 'sort']"
      ]
     },
     "execution_count": 49,
     "metadata": {},
     "output_type": "execute_result"
    }
   ],
   "source": [
    "dir(A)"
   ]
  },
  {
   "cell_type": "code",
   "execution_count": 41,
   "id": "1182d48e-3afb-49a2-9651-b0f1668357e4",
   "metadata": {},
   "outputs": [],
   "source": [
    "A.append(20)"
   ]
  },
  {
   "cell_type": "code",
   "execution_count": 42,
   "id": "70807eba-cd2b-45fc-8b9b-4a43b553bedf",
   "metadata": {},
   "outputs": [
    {
     "data": {
      "text/plain": [
       "['h', 'e', 'l', 'l', 'o', 20]"
      ]
     },
     "execution_count": 42,
     "metadata": {},
     "output_type": "execute_result"
    }
   ],
   "source": [
    "A"
   ]
  },
  {
   "cell_type": "code",
   "execution_count": 46,
   "id": "9e62efea-8330-4106-b239-7a8573d77ad0",
   "metadata": {},
   "outputs": [],
   "source": [
    "first = A.pop(0)"
   ]
  },
  {
   "cell_type": "code",
   "execution_count": 47,
   "id": "096540d7-62de-4e56-a811-cdf757849a61",
   "metadata": {},
   "outputs": [
    {
     "data": {
      "text/plain": [
       "'h'"
      ]
     },
     "execution_count": 47,
     "metadata": {},
     "output_type": "execute_result"
    }
   ],
   "source": [
    "first"
   ]
  },
  {
   "cell_type": "code",
   "execution_count": 48,
   "id": "7718789a-0948-41e8-b9c8-5ca6c620e111",
   "metadata": {},
   "outputs": [
    {
     "data": {
      "text/plain": [
       "['e', 'l', 'l', 'o']"
      ]
     },
     "execution_count": 48,
     "metadata": {},
     "output_type": "execute_result"
    }
   ],
   "source": [
    "A"
   ]
  },
  {
   "cell_type": "code",
   "execution_count": null,
   "id": "00c7f3bc-aaa0-4113-b826-d6713bb79736",
   "metadata": {},
   "outputs": [],
   "source": []
  }
 ],
 "metadata": {
  "kernelspec": {
   "display_name": "Python 3 (ipykernel)",
   "language": "python",
   "name": "python3"
  },
  "language_info": {
   "codemirror_mode": {
    "name": "ipython",
    "version": 3
   },
   "file_extension": ".py",
   "mimetype": "text/x-python",
   "name": "python",
   "nbconvert_exporter": "python",
   "pygments_lexer": "ipython3",
   "version": "3.9.13"
  }
 },
 "nbformat": 4,
 "nbformat_minor": 5
}
