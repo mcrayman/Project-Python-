{
 "cells": [
  {
   "cell_type": "markdown",
   "id": "4b947958-a425-4ba5-a56b-4b158097e89a",
   "metadata": {},
   "source": [
    "# Running Time Functions and Complexity\n"
   ]
  },
  {
   "cell_type": "markdown",
   "id": "eab6bef3-bec8-4874-8191-fb3e892d3d43",
   "metadata": {},
   "source": [
    "Do this first:\n",
    "+ Download this notebook and place it in your Lectures folder.\n",
    "\n",
    "Review:\n",
    "+ Practice implementing sequential designs.\n",
    "\n",
    "Key ideas for running time analysis:\n",
    "\n",
    "+ A running time function of a program is a function of the program's input size.\n",
    "\n",
    "+ Running time complexity is a set of running time functions.\n",
    "\n",
    "+ Running time complexity is not exact.  It describes magnitudes.\n",
    "\n",
    "+ Running time complexity describes the magnitudes of growth.\n",
    "\n",
    "+ An \"additive\" difference makes no difference in complexity.\n",
    "\n",
    "+ A \"multiplicative\" difference makes no difference in complexity.\n",
    "\n"
   ]
  },
  {
   "cell_type": "markdown",
   "id": "ba818620-7863-4794-92a1-77548cf34d48",
   "metadata": {},
   "source": [
    "### Warm-up"
   ]
  },
  {
   "cell_type": "markdown",
   "id": "84388999-cce0-418b-bde6-a2665551f102",
   "metadata": {},
   "source": [
    "**Task: Design a Python function that computes the average horse power of cars.**\n",
    "\n",
    "First, get the data. Second, articulate the sequential steps you need to do to accomplish the task.\n",
    "\n",
    "Reference: https://github.com/mwaskom/seaborn-data/blob/master/mpg.csv\n",
    "\n",
    "Goal:\n",
    "+ See if you can design a relatively simple sequential program.\n",
    "+ See if you can clean the data. Preliminary processing."
   ]
  },
  {
   "cell_type": "code",
   "execution_count": 16,
   "id": "17b46d9c-c9ed-436a-875a-ae7573e8e20b",
   "metadata": {},
   "outputs": [],
   "source": [
    "import requests\n",
    "url = 'https://raw.githubusercontent.com/mwaskom/seaborn-data/master/mpg.csv'\n",
    "result = requests.get(url)"
   ]
  },
  {
   "cell_type": "code",
   "execution_count": null,
   "id": "832ad19f-fe4d-49e1-8ea2-90b0d783cc47",
   "metadata": {
    "collapsed": true,
    "jupyter": {
     "outputs_hidden": true
    },
    "tags": []
   },
   "outputs": [
    {
     "ename": "NameError",
     "evalue": "name 'result' is not defined",
     "output_type": "error",
     "traceback": [
      "\u001b[0;31m---------------------------------------------------------------------------\u001b[0m",
      "\u001b[0;31mNameError\u001b[0m                                 Traceback (most recent call last)",
      "\u001b[0;32m/var/folders/n6/2k2gb4ls47lds174z9_xdg7h0000gn/T/ipykernel_88231/322790635.py\u001b[0m in \u001b[0;36m<module>\u001b[0;34m\u001b[0m\n\u001b[0;32m----> 1\u001b[0;31m \u001b[0mresult\u001b[0m\u001b[0;34m.\u001b[0m\u001b[0mtext\u001b[0m\u001b[0;34m\u001b[0m\u001b[0;34m\u001b[0m\u001b[0m\n\u001b[0m",
      "\u001b[0;31mNameError\u001b[0m: name 'result' is not defined"
     ]
    }
   ],
   "source": [
    "result.text"
   ]
  },
  {
   "cell_type": "markdown",
   "id": "ffca52e1-4866-4258-ae6b-098cc19a57c9",
   "metadata": {},
   "source": [
    "* First, get the data. \n",
    "* Second, clean it up.\n",
    "    + Split the text into a list of lines.\n",
    "        + Split each line into a list of things.\n",
    "* Given the cleaned data to the function\n",
    "    + \n",
    "    + "
   ]
  },
  {
   "cell_type": "code",
   "execution_count": 13,
   "id": "50d17827-d866-4422-ac30-3746796ed1d7",
   "metadata": {},
   "outputs": [
    {
     "data": {
      "text/plain": [
       "['28.0', '4', '120.0', '79.0', '2625', '18.6', '82', 'usa', 'ford ranger']"
      ]
     },
     "execution_count": 13,
     "metadata": {},
     "output_type": "execute_result"
    }
   ],
   "source": [
    "d = '28.0,4,120.0,79.0,2625,18.6,82,usa,ford ranger\\n31.0,4,119.0,82.0,2720,19.4,82,usa,chevy s-10\\n'\n",
    "line1 = d.strip().split('\\n')[0]\n",
    "line1.split(',')"
   ]
  },
  {
   "cell_type": "markdown",
   "id": "0b98b09d-0b77-4fbf-a810-3d117100c942",
   "metadata": {},
   "source": [
    "GOAL: given a set of instructions written in English, you have to be able to translate to Python, i.e. to implement a design."
   ]
  },
  {
   "cell_type": "code",
   "execution_count": 34,
   "id": "fd16536c-47a5-489d-966b-cde944a4e639",
   "metadata": {},
   "outputs": [],
   "source": [
    "def clean_data(text):\n",
    "    # strip and split text into a list of lines\n",
    "    lines = text.strip().split('\\n')\n",
    "    output = []\n",
    "    \n",
    "    # go through each line, \n",
    "    #    split it into a list of things\n",
    "    #    append that list to output\n",
    "    for line in lines:\n",
    "        things = line.split(',')\n",
    "        output.append(things)\n",
    "    \n",
    "    return output\n",
    "\n",
    "def compute_average_hp( data ):\n",
    "    # go through each item in the data, skipping the first item (header)\n",
    "    #   pick out the horse power from the current item, \n",
    "    #   and add the horse power to a current sum.\n",
    "    # return the average\n",
    "    cur_sum = 0\n",
    "    count = 0\n",
    "    for i in range(1, len(data)):\n",
    "        if data[i][3] != '':\n",
    "            hp = float(data[i][3])\n",
    "            cur_sum += hp\n",
    "            count += 1\n",
    "    return cur_sum / count\n"
   ]
  },
  {
   "cell_type": "code",
   "execution_count": 35,
   "id": "fc00f839-0b9c-4b1a-a5f9-1d59f20adae1",
   "metadata": {},
   "outputs": [],
   "source": [
    "import requests\n",
    "url = 'https://raw.githubusercontent.com/mwaskom/seaborn-data/master/mpg.csv'\n",
    "result = requests.get(url)\n",
    "data = clean_data(result.text)\n",
    "average_hp = compute_average_hp(data)"
   ]
  },
  {
   "cell_type": "code",
   "execution_count": 37,
   "id": "d5730bbd-77d6-4ff2-a557-b9a827325652",
   "metadata": {},
   "outputs": [
    {
     "data": {
      "text/plain": [
       "104.46938775510205"
      ]
     },
     "execution_count": 37,
     "metadata": {},
     "output_type": "execute_result"
    }
   ],
   "source": [
    "average_hp"
   ]
  },
  {
   "cell_type": "markdown",
   "id": "f1b00531-c9b0-49d2-8d7f-c5eefc6dc811",
   "metadata": {
    "tags": []
   },
   "source": [
    "---\n",
    "**Task: Compute the average horse power of cars for each origin.**\n",
    "\n",
    "First, get the data. Second, articulate the sequential steps you need to do to accomplish the task.\n",
    "\n",
    "Steps:\n",
    "+ Go through each line in the data.\n",
    "    + Get the hp and origin (usa, europe, japan).\n",
    "    + Accumulate the sum of hp for that origin.\n",
    "+ Calculate the average hp for each origin.\n",
    "+ Return the average hp's.\n",
    "\n",
    "Design decision: how to keep track of total hp for each origin.\n",
    "+ Solution A: a dedicated variable (e.g. usa_hp) for each origin.  Problem: if there's a new origin, you need to create a new variable. Also, you have to analyze the data before hand.\n",
    "+ Solution B: have a list of sum hp's. Problem: lists are indexed by numbers.\n",
    "+ Solution C: have a dictionary that stores total hp for each origin.  We can index a dictionary using strings (e.g. 'usa', 'japan', etc.)\n",
    "    * Start with an empty dict.\n",
    "    * When an origin arrives, we check if it's already in the dict.\n",
    "\n",
    "\n",
    "GOAL: implement the design.  We want to be able to translate English instructions to Python."
   ]
  },
  {
   "cell_type": "markdown",
   "id": "796c9bf8-df57-4045-91b9-90706726b318",
   "metadata": {
    "tags": []
   },
   "source": [
    "### Analyze running times of sequential programs."
   ]
  },
  {
   "cell_type": "code",
   "execution_count": 38,
   "id": "7fdb8678-840d-4ba3-8bef-544c05781e4b",
   "metadata": {},
   "outputs": [],
   "source": [
    "def clean_data(text):\n",
    "    lines = text.strip().split('\\n')\n",
    "    output = []\n",
    "    for line in lines:\n",
    "        things = line.split(',')\n",
    "        output.append(things)\n",
    "    \n",
    "    return output"
   ]
  },
  {
   "cell_type": "markdown",
   "id": "6c273d35-9dfa-4794-9c3c-ea279a5bc8f2",
   "metadata": {},
   "source": [
    "What is the running time of this program?\n",
    "\n",
    "Possible answers:\n",
    "* n\n",
    "\n",
    "What is n?  number of items (lines).\n",
    "\n",
    "What's the unit of measurement?\n",
    "+ iterations? problem: an iteration can take a lot of time.\n",
    "+ seconds? minutes? problem: this depends on the hardware.\n",
    "+ **steps**. This is abstract.  How fast is a step?\n",
    "    + This depends on the hardware.\n",
    "    + BUT... it remains **more or less** constant once we choose a hardware frame of reference.\n",
    "    \n",
    "We have n iterations.\n",
    "\n",
    "Each iteration can have many steps.  But in each iteration, they are the same number of steps.\n",
    "    + We split into 9 columns, and append them into a list.\n",
    "\n",
    "\n",
    "So, is \"n steps\" the correct answer? Yes.\n",
    "\n",
    "Although it is more correct to say that 10*n steps, it is also correct to say it's n steps (if we ignore/absorb the constant 10).\n",
    "\n",
    "A constant is always implicit when we say \"n steps\".\n"
   ]
  },
  {
   "cell_type": "markdown",
   "id": "89148a1b-f118-4986-886f-dad5b93bd6a9",
   "metadata": {},
   "source": [
    "Summary:\n",
    "+ There's an implicit constant in front of the variable n.\n",
    "\n",
    "+ It's more correct to say that, e.g., this program takes c*n steps.\n",
    "\n",
    "+ It's actually likely inaccurate to say that this program takes 10*n steps.  Because it's nearly impossible to count the exact number of steps.\n",
    "\n",
    "But because we know it's constant, it's nicer (more accurate) to say that the program takes c*n steps.\n",
    "\n"
   ]
  },
  {
   "cell_type": "markdown",
   "id": "a232eaa9-f3ce-4956-8266-970301561674",
   "metadata": {},
   "source": [
    "### Running time analysis\n",
    "\n",
    "+ Key concepts: running time function, running time complexity\n",
    "+ Big-O, upperbound"
   ]
  },
  {
   "cell_type": "markdown",
   "id": "c715aaa4-87bd-478b-bca3-f8a8b68416b0",
   "metadata": {},
   "source": [
    "The running time function of a program specifies the number of steps the program takes.\n",
    "\n",
    "Definition: T(n) is the running time equation of prob1, where n is the number of items on the input list, L.\n",
    "\n",
    "n is what we call \"input size\".\n",
    "\n",
    "The running time equation is a function of input size.\n",
    "\n",
    "T(10) is the running time of this program when the input has 10 items.\n",
    "\n",
    "T(21) is the running time of this program when the input has 25 items.\n",
    "\n",
    "T(n) is the running time of this program when the input has n items."
   ]
  },
  {
   "cell_type": "markdown",
   "id": "f7867ece-f454-49ee-af1d-394452e6766c",
   "metadata": {},
   "source": [
    "How do we determine T(n)?  Answer: we sum up all the steps in the program."
   ]
  },
  {
   "cell_type": "code",
   "execution_count": 2,
   "id": "b8a30016-d0d7-4d04-9c88-dbefbb67f844",
   "metadata": {},
   "outputs": [],
   "source": [
    "def prob1(L):     # T(n)\n",
    "    s = 0         # 1 step (a1 steps) \n",
    "    for x in L:   # n iterations (L has n items)\n",
    "        s += x    #   each iteration takes: b steps\n",
    "    s = s * 5     # 1 step (a2 steps)\n",
    "    return s      # a3 steps"
   ]
  },
  {
   "cell_type": "markdown",
   "id": "35e45de1-f60f-4ec4-8fc6-60ad0627ed14",
   "metadata": {},
   "source": [
    "$T(n) = a + b*n$\n",
    "\n",
    "a = a1+a2+a3\n"
   ]
  },
  {
   "cell_type": "markdown",
   "id": "b6f0eae8-8266-44e5-a588-693252cc7720",
   "metadata": {},
   "source": [
    "If n = 10, T(10) = a + 10b."
   ]
  },
  {
   "cell_type": "markdown",
   "id": "f5542a84-ecac-491a-98c7-ecf3253fad0c",
   "metadata": {},
   "source": [
    "This running time function linearly dependent on n."
   ]
  },
  {
   "cell_type": "markdown",
   "id": "06d960b9-1fba-4a5a-8c48-d354c442854d",
   "metadata": {},
   "source": [
    "What is the running time complexity of prob1? Is it O(n)?"
   ]
  },
  {
   "cell_type": "markdown",
   "id": "117ad791-5c61-44d9-b14a-91fd2788c007",
   "metadata": {},
   "source": [
    "What's the difference between T(n) and the complexity?\n",
    "\n",
    "The complexity is a shorter description of T(n).\n",
    "\n",
    "The complexity includes T(n)."
   ]
  },
  {
   "cell_type": "markdown",
   "id": "27e3178f-19ba-4277-88a9-3d6d2d42f971",
   "metadata": {},
   "source": [
    "What is O(n)?\n",
    "+ Order of n\n",
    "+ Input grows the program runs linearly.\n",
    "\n",
    "Big-O or O is a measurement of complexity.\n",
    "\n",
    "Is is correct to say the complexity of prob1 is O(n)?  Yes.\n",
    "\n",
    "Is is correct to say the complexity of prob1 is O(n^2)? Yes.\n"
   ]
  },
  {
   "cell_type": "markdown",
   "id": "99c70672-a1bb-447d-bfa0-a266114441ad",
   "metadata": {},
   "source": [
    "### O (or Big-O)\n",
    "\n",
    "O is a measurement of complexity.\n",
    "\n",
    "O is a way to specify upper bounds of (resource) functions.\n",
    "\n",
    "#### A running time complexity of O(n) means that the program takes **at most** a constant times n steps.\n",
    "\n",
    "O(n) means: $T(n) \\le c * n$"
   ]
  },
  {
   "cell_type": "markdown",
   "id": "0ae0ed3c-9cc1-4789-8aaa-dcdca0b635bf",
   "metadata": {},
   "source": [
    "Upper bound estimation is very useful for complex programs. "
   ]
  },
  {
   "cell_type": "markdown",
   "id": "1cf90349-d632-4278-a709-73a8e0766471",
   "metadata": {},
   "source": [
    "$T(n) = a + b*n \\le a*n + b*n$ for $n>1$"
   ]
  },
  {
   "cell_type": "markdown",
   "id": "b2454416-f728-48a5-863c-af247281007a",
   "metadata": {},
   "source": [
    "I'm upper bounding T(n), specifically the term \"a\"."
   ]
  },
  {
   "cell_type": "markdown",
   "id": "4944941e-6125-4037-a057-c857c74f1fc2",
   "metadata": {},
   "source": [
    "$T(n) \\le (a+b)*n$"
   ]
  },
  {
   "cell_type": "markdown",
   "id": "a81e4269-81f5-4cf3-8484-e87b6057a393",
   "metadata": {},
   "source": [
    "In other words, $T(n) \\le c * n$.\n",
    "\n",
    "Therefore, $T(n)$ is in O(n)."
   ]
  },
  {
   "cell_type": "markdown",
   "id": "0fc2bc75-9d53-4522-9b64-9a981fa7763c",
   "metadata": {},
   "source": [
    "$O(n)$ is a set of functions."
   ]
  },
  {
   "cell_type": "markdown",
   "id": "2743f2ce-bf93-48c7-999b-5c23bdccca97",
   "metadata": {},
   "source": [
    "$10n + 5 \\in O(n)$\n",
    "\n",
    "$20n + 1 \\in O(n)$\n",
    "\n",
    "$5 \\in O(n)$"
   ]
  },
  {
   "cell_type": "markdown",
   "id": "273f41cc-0082-47cc-81bb-977a72ad2386",
   "metadata": {},
   "source": [
    "Revising the complexity of prob1.\n",
    "\n",
    "We've established that $T(n) \\le c * n \\le c * n^2$ for all $n>1$."
   ]
  },
  {
   "cell_type": "markdown",
   "id": "d66bd56f-d7e0-4dbe-ab79-a41cd228e086",
   "metadata": {},
   "source": [
    "Therefore, by definition, $T(n) \\in O(n^2)$."
   ]
  },
  {
   "cell_type": "markdown",
   "id": "76172e64-d05a-49e7-8e51-c212e7001cff",
   "metadata": {},
   "source": [
    "### Intuitive understanding\n",
    "\n",
    "$T(n) \\in O(n)$ means the upper bound of this running time function is a constant times n.\n",
    "\n",
    "$T(n) \\in O(n^2)$ means the upper bound of this running time function is a constant times $n^2$.\n"
   ]
  },
  {
   "cell_type": "markdown",
   "id": "145ed1ea-7395-430d-8f69-f385a07ec6d4",
   "metadata": {},
   "source": [
    "### True or False?\n",
    "\n",
    "+ $5n^3 + 10 \\in O(n^2)$  FALSE\n",
    "\n",
    "+ $5n^3 + 10 \\in O(n^3)$  TRUE\n",
    "\n",
    "+ $5n^3 + 10 \\in O(n^4)$  TRUE"
   ]
  },
  {
   "cell_type": "markdown",
   "id": "0ee5699e-781e-4cdc-b51e-005d1b0ab4ef",
   "metadata": {},
   "source": [
    "We can show this using the definition of O (this is what you'll need to do in upcoming assignments)\n",
    "\n",
    "$5n^3 + 10 \\le 5n^3 + 10n^3 = 15n^3$, for all $n>1$.\n",
    "\n",
    "I have chosen the constant c to be 15.  With this choice, we've shown that $5n^3 + 10 \\in O(n^3)$.\n"
   ]
  },
  {
   "cell_type": "markdown",
   "id": "39d42a7c-4344-4121-9cb6-c4910786b320",
   "metadata": {},
   "source": [
    "$T(n) \\in O(n^3)$ means $T(n) \\le c * n^3$ for some constant c and when n is greater than some value."
   ]
  },
  {
   "cell_type": "markdown",
   "id": "dadbef3f-3693-4cba-95ba-ad81230a4954",
   "metadata": {},
   "source": [
    "If you want to prove/show that $T(n) \\in O(n^3)$, you have to identify a specific constant c."
   ]
  },
  {
   "cell_type": "markdown",
   "id": "f141f0e0-a066-4655-ae25-9694e9cfdd27",
   "metadata": {},
   "source": [
    "#### An example\n",
    "\n",
    "Show that $n^4 + 5 \\in O(n^7)$"
   ]
  },
  {
   "cell_type": "markdown",
   "id": "495969cb-da19-4f4c-bcd2-bf745fde7253",
   "metadata": {},
   "source": [
    "Answer:\n",
    "\n",
    "$n^4 + 5 \\le n^7 + 5n^7 = 6n^7$, for all $n>1$\n",
    "\n",
    "With the choice of c=6, $n^4 + 5 \\le c*n^7$.  In other words, $n^4 + 5 \\in O(n^7)$\n",
    "\n",
    "Why are we doing this?  This is because the definition of O states that: $T(n) \\in O(n^7)$ if $T(n) \\le c * n^7$ for some constant c and for all n greater than a number.\n"
   ]
  },
  {
   "cell_type": "markdown",
   "id": "3b80ced3-b839-4eb1-898a-e87b2c841085",
   "metadata": {},
   "source": [
    "$n^7$ is not a tight upper bound, but it's still an upper bound."
   ]
  },
  {
   "cell_type": "markdown",
   "id": "451b17bb-7379-4289-8598-3d0b3800a05a",
   "metadata": {},
   "source": [
    "### Quick summary\n",
    "\n",
    "We should understand:\n",
    "+ What running time functions are.\n",
    "+ What Big-O complexity means.\n",
    "+ How to upper bound a running time function to show its upper bound complexity. "
   ]
  },
  {
   "cell_type": "markdown",
   "id": "570b5a55-85d2-4c3d-bca0-813c41df2527",
   "metadata": {},
   "source": [
    "Definition of O:\n",
    "\n",
    "$T(n) \\in O( f(n) )$ if $T(n) \\le c * f(n)$ for some specific value of c and for n larger than a number."
   ]
  },
  {
   "cell_type": "markdown",
   "id": "960d110c-afdb-421f-8f97-d2fdac8ffe7f",
   "metadata": {},
   "source": [
    "This means f(n) is an upper bound of T(n)."
   ]
  },
  {
   "cell_type": "markdown",
   "id": "c2fecced-e6d6-4ede-bb7c-d76b6bb5161e",
   "metadata": {},
   "source": [
    "Let's do some estimate of upper bounds for a function."
   ]
  },
  {
   "cell_type": "code",
   "execution_count": 13,
   "id": "1526db01-ce85-4000-abab-111b189a67f3",
   "metadata": {},
   "outputs": [],
   "source": [
    "#\n",
    "# L is a list of numbers.\n",
    "# We don't know in advance how many numbers, so we'll just say \"n\"\n",
    "#\n",
    "def prob2(L):                         # T(n)\n",
    "    s = 0                             # a1 steps\n",
    "    for i in range(len(L)):           # n iterations\n",
    "        for j in range(0, len(L)):    #    n iterations\n",
    "            s += L[i]*L[j]            #       b steps\n",
    "    return s                          # a2 steps"
   ]
  },
  {
   "cell_type": "code",
   "execution_count": 19,
   "id": "005e30d1-50ce-4433-a6aa-dcf49152271c",
   "metadata": {},
   "outputs": [
    {
     "data": {
      "text/plain": [
       "2768"
      ]
     },
     "execution_count": 19,
     "metadata": {},
     "output_type": "execute_result"
    }
   ],
   "source": [
    "prob2([1,80,3,5,3,30])"
   ]
  },
  {
   "cell_type": "markdown",
   "id": "9b7e6afe-dacc-4261-87bf-b949f8bc4929",
   "metadata": {},
   "source": [
    "What is the upper-bound complexity of prob2?"
   ]
  },
  {
   "cell_type": "markdown",
   "id": "9ce2120f-a987-4184-a5bc-a08063e533a8",
   "metadata": {},
   "source": [
    "What do we need to answer this question? T(n)"
   ]
  },
  {
   "cell_type": "markdown",
   "id": "272ac45c-50de-40a9-bf0c-977cb97e86f4",
   "metadata": {},
   "source": [
    "$T(n) = a + b*n^2 \\in O(n^2)$\n",
    "\n",
    "a=a1+a2\n"
   ]
  },
  {
   "cell_type": "code",
   "execution_count": 24,
   "id": "ce9893d7-f6cc-4540-b0ed-7bce2dec6e29",
   "metadata": {},
   "outputs": [
    {
     "name": "stdout",
     "output_type": "stream",
     "text": [
      "0 h\n",
      "0 e\n",
      "0 l\n",
      "0 l\n",
      "0 o\n",
      "1 h\n",
      "1 e\n",
      "1 l\n",
      "1 l\n",
      "1 o\n",
      "2 h\n",
      "2 e\n",
      "2 l\n",
      "2 l\n",
      "2 o\n"
     ]
    }
   ],
   "source": [
    "for i in range(3):           # always 3 iterations\n",
    "    for c in list('hello'):  # always take 5 iterations\n",
    "        print(i,c)\n",
    "# there're 3 * 5 steps"
   ]
  },
  {
   "cell_type": "code",
   "execution_count": 25,
   "id": "5ac19698-1694-422a-9dce-f20b33701e49",
   "metadata": {},
   "outputs": [],
   "source": [
    "#\n",
    "# L is a list of numbers.\n",
    "# We don't know in advance how many numbers, so we'll just say \"n\"\n",
    "#\n",
    "def prob3(L):                         # T(n)\n",
    "    s = 0                             # a1 steps\n",
    "    for i in range(len(L)):           # n iterations\n",
    "        for j in range(i+3, len(L)):  #    at most n iterations\n",
    "            s += L[i]*L[j]            #       b steps\n",
    "    return s                          # a2 steps"
   ]
  },
  {
   "cell_type": "markdown",
   "id": "f7c49ca8-2f48-4ab0-9bcf-0c1dc0263cd5",
   "metadata": {},
   "source": [
    "$T(n) = a + bn^2$ is no longer correct because line 8 does not have take n iterations."
   ]
  },
  {
   "cell_type": "markdown",
   "id": "0732868a-108c-494c-b3b5-be1e2607ea6d",
   "metadata": {},
   "source": [
    "The number of iterations on line 8 depends on i."
   ]
  },
  {
   "cell_type": "markdown",
   "id": "d95ae931-e0de-49c6-a257-8dd872e931b1",
   "metadata": {},
   "source": [
    "$T(n) = a + ???$\n",
    "\n",
    "We don't it exactly (because it's not exact).\n",
    "\n",
    "But we can upper bound it."
   ]
  },
  {
   "cell_type": "markdown",
   "id": "8b98a6a7-e223-44b1-a320-c5769b9d76d5",
   "metadata": {},
   "source": [
    "n * (at most n) * b = at most b*n^2\n",
    "\n",
    "$T(n) \\le a + b*n^2$"
   ]
  },
  {
   "cell_type": "markdown",
   "id": "6e9a5c22-74f0-4b5c-a775-62a46e457e5f",
   "metadata": {},
   "source": [
    "$T(n) \\le an^2 + bn^2 = (a+b)n^2$  all $n>1$\n",
    "\n",
    "By definition, $T(n) \\in O(n^2)$"
   ]
  },
  {
   "cell_type": "markdown",
   "id": "91c8b8bc-c0e3-44c9-9322-7408a8921fb3",
   "metadata": {},
   "source": [
    "The upper-bound complexity of both prob2 and prob3 is $O(n^2)$, even though prob3 is a little faster (takes fewer steps) than prob2."
   ]
  },
  {
   "cell_type": "markdown",
   "id": "bee33f30-b83f-48e4-84a2-a913dc338fe0",
   "metadata": {},
   "source": [
    "Using upper bounds appropriately can be very effective in making design decisions."
   ]
  },
  {
   "cell_type": "markdown",
   "id": "205c0089-57f6-4961-8ce5-610f21b76fd8",
   "metadata": {},
   "source": [
    "### Summary:\n",
    "\n",
    "+ Understand what running time functions (T(n)) are.\n",
    "+ Understand what Big-O is\n",
    "+ Understand how to determine upper bound complexity for running time functions. To do this, you have to know how to do upper-bound estimates.\n",
    "+ Understand how to figure out T(n) for a simple iterative program."
   ]
  },
  {
   "cell_type": "code",
   "execution_count": null,
   "id": "725e9915-a7e3-443e-a12f-e71b4673f5a8",
   "metadata": {},
   "outputs": [],
   "source": []
  }
 ],
 "metadata": {
  "kernelspec": {
   "display_name": "Python 3 (ipykernel)",
   "language": "python",
   "name": "python3"
  },
  "language_info": {
   "codemirror_mode": {
    "name": "ipython",
    "version": 3
   },
   "file_extension": ".py",
   "mimetype": "text/x-python",
   "name": "python",
   "nbconvert_exporter": "python",
   "pygments_lexer": "ipython3",
   "version": "3.9.13"
  }
 },
 "nbformat": 4,
 "nbformat_minor": 5
}
