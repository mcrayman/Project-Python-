{
 "cells": [
  {
   "cell_type": "markdown",
   "id": "ba46f8ff-595a-418f-a929-f078ce16a1fb",
   "metadata": {},
   "source": [
    "# Running time analysis of non-linear recursion\n",
    "\n",
    "Skills:\n",
    "+ The ability to see that we can solve a problem with a large input, using the same strategy on smaller inputs.\n",
    "+ The ability to analyze running time of recursive programs.\n",
    "+ Compare running time complexity to choose more efficient implementations/approaches.\n",
    "\n",
    "Topics:\n",
    "+ Master's theorem"
   ]
  },
  {
   "cell_type": "markdown",
   "id": "fedb2f1e-8f2f-4dba-9224-80fc48918478",
   "metadata": {},
   "source": [
    "#### Compare the efficiency of iterative and recursive solutions\n",
    "\n",
    "**Problem: finding the majority vote.**\n",
    "\n",
    "votes = ['red', 'blue', 'red', 'blue', 'red']\n",
    "\n",
    "'red' is the majority vote in this list.\n",
    "\n",
    "the majority vote is a vote that occurs more than 50% of the votes.\n",
    "\n",
    "Given a list of votes, there are 2 possibilities: (1) there's a majority vote, (2) there's no majority."
   ]
  },
  {
   "cell_type": "code",
   "execution_count": 2,
   "id": "6e0ed55b-e0cd-4781-99d0-7a272e1b8aaa",
   "metadata": {},
   "outputs": [],
   "source": [
    "def find_majority(votes):\n",
    "    for vote in votes:\n",
    "        count = 0\n",
    "        for v in votes:\n",
    "            if v==vote:\n",
    "                count += 1\n",
    "        if count > 0.5 * len(votes):\n",
    "            return vote\n",
    "    return None"
   ]
  },
  {
   "cell_type": "markdown",
   "id": "439d57bf-1173-4cef-b137-e775bf5aba92",
   "metadata": {},
   "source": [
    "This iterative design is simple (faster to implement, fewer bugs, easy to read, etc.).  The running time is in $\\Theta(n^2)$."
   ]
  },
  {
   "cell_type": "code",
   "execution_count": 3,
   "id": "8d255d1d-c093-4954-b170-a6d0c3e0b5da",
   "metadata": {},
   "outputs": [
    {
     "data": {
      "text/plain": [
       "'red'"
      ]
     },
     "execution_count": 3,
     "metadata": {},
     "output_type": "execute_result"
    }
   ],
   "source": [
    "find_majority(['red', 'blue', 'red', 'blue', 'red', 'yellow','red'])"
   ]
  },
  {
   "cell_type": "markdown",
   "id": "98d036ed-a6ba-47cd-a7ef-071b0b0de152",
   "metadata": {},
   "source": [
    "#### Divide-and-Conquer strategy"
   ]
  },
  {
   "cell_type": "markdown",
   "id": "d87c7004-5184-4ebe-bcd1-665ed330bf51",
   "metadata": {},
   "source": [
    "Recursive (divide and conquer) strategy:\n",
    "+ If the input list has no vote, there's no majority (None).\n",
    "+ If the input list has one vote in it, that vote is the majority.\n",
    "+ Split the list into 2 halves: left and right.\n",
    "+ Find the majority vote of left.\n",
    "+ Find the majority vote of right.\n",
    "+ If they are the same, that's the majority vote.\n",
    "+ If not, ..."
   ]
  },
  {
   "cell_type": "code",
   "execution_count": 4,
   "id": "9d2102c1-b86d-4e61-81d3-ec23401334f1",
   "metadata": {},
   "outputs": [],
   "source": [
    "def find_majority(votes):\n",
    "    if votes==[]:\n",
    "        return None\n",
    "    if len(votes)==1:\n",
    "        return votes[0]\n",
    "    left = votes[0 : len(votes)//2]\n",
    "    right = votes[len(votes)//2 : len(votes)]\n",
    "    maj_left = find_majority(left)\n",
    "    maj_right = find_majority(right)\n",
    "    if maj_left == maj_right:\n",
    "        return maj_left\n",
    "    else:\n",
    "        # we check if either of them is the majority vote\n",
    "        # count occurrence of maj_left (c*n steps)\n",
    "        # if occurence > 50%, return maj_left\n",
    "\n",
    "        # count occurrence of maj_right (c*n steps)\n",
    "        # if occurence > 50%, return maj_right\n",
    "        return None\n",
    "    "
   ]
  },
  {
   "cell_type": "markdown",
   "id": "6c0ee1f4-6205-4431-a115-87aa86b0bf60",
   "metadata": {},
   "source": [
    "This should work correctly, but is more complicated (potentially more buggy)."
   ]
  },
  {
   "cell_type": "markdown",
   "id": "39ebd309-b882-4a1e-96a3-7d9bdd93f12e",
   "metadata": {},
   "source": [
    "T(n) = a*n + T(n/2) + T(n/2)\n",
    "\n",
    "Everything but lines 8-9: a*n\n",
    "\n",
    "Lines 8-9:\n",
    "```\n",
    "    maj_left = find_majority(left)\n",
    "    maj_right = find_majority(right)\n",
    "```"
   ]
  },
  {
   "cell_type": "markdown",
   "id": "837a6ad7-ccf5-4f1c-a9d8-14c9acd0ef41",
   "metadata": {},
   "source": [
    "How do you describe running time of recursive calls?\n",
    "\n",
    "Answer: using T, with parameter equal to the size of the input. \n",
    "\n",
    "$T(n) = cn + 2T(n/2)$\n"
   ]
  },
  {
   "cell_type": "markdown",
   "id": "9ded6633-0b8e-4504-bb72-aeeff593706d",
   "metadata": {},
   "source": [
    "Expectation 1: given a recursive program, you must be able to write down the running time function of the program.\n",
    "\n",
    "Expectation 2: find the tight-bound complexity ($\\Theta$) of the running time function."
   ]
  },
  {
   "cell_type": "markdown",
   "id": "35c7e059-06c7-47d9-a74d-3de9f26c6ff4",
   "metadata": {},
   "source": [
    "In this case, there are 2 ways to find the complexity.\n",
    "\n",
    "1. Using substitution.\n",
    "2. Using the Master's theorem."
   ]
  },
  {
   "cell_type": "markdown",
   "id": "9b469f20-cac9-43bf-af39-ebe72a701d09",
   "metadata": {},
   "source": [
    "### The Master's Theorem"
   ]
  },
  {
   "cell_type": "markdown",
   "id": "daa3e9b7-529e-46a8-be94-76cffd58e51b",
   "metadata": {},
   "source": [
    "Given a running time function:\n",
    "\n",
    "$$T(n) = cn^d + a\\cdot T({n \\over b})$$"
   ]
  },
  {
   "cell_type": "markdown",
   "id": "39fd54dd-0490-4c13-9804-70f672366b89",
   "metadata": {},
   "source": [
    "The first thing we do is simplifying it by dropping the constant $c$.   This constant does not impact the tight-bound complexity ($\\Theta$).\n",
    "\n",
    "$$T(n) = n^d + a\\cdot T({n \\over b})$$"
   ]
  },
  {
   "cell_type": "markdown",
   "id": "cc898afd-d32d-4b91-adba-d60bcdedc5cd",
   "metadata": {},
   "source": [
    "The tight-bound complexity of T is determined by the 3 constants: $a, b$, and $d$."
   ]
  },
  {
   "cell_type": "markdown",
   "id": "6c6ef18e-2e44-466b-8719-089a091cfb59",
   "metadata": {},
   "source": [
    "A few things about these constants:\n",
    "\n",
    "* The non-recursive calculation of the program is $\\Theta(n^d)$.\n",
    "* $a$ is the number of recursive calls.\n",
    "* ${n \\over b}$ is the input size of each recursive call.\n",
    "* The running time of each recursive call is $T({n \\over b})$."
   ]
  },
  {
   "cell_type": "markdown",
   "id": "765dea86-d516-45b3-b832-afee797132f3",
   "metadata": {},
   "source": [
    "To determine the tight-bound complexity of $T$, we compare $d$ and $\\log_b a$."
   ]
  },
  {
   "cell_type": "markdown",
   "id": "a37059e0-aa81-42d0-af2e-4ed974df8882",
   "metadata": {},
   "source": [
    "There are 3 cases:\n",
    "1. If $d > \\log_b a$, then $T(n) \\in \\Theta(n^d)$.  In this case, the non-recursive calculation dominates the running time of the program."
   ]
  },
  {
   "cell_type": "markdown",
   "id": "72aa8e8d-499d-4abc-91e3-4205d10f13fd",
   "metadata": {},
   "source": [
    "2. If $d < \\log_b a$, then $T(n) \\in \\Theta(n^{\\log_b a})$.  In this case, the recursive calculation dominates the running time of the program."
   ]
  },
  {
   "cell_type": "markdown",
   "id": "218becdf-5fcc-4115-8612-96a88160931e",
   "metadata": {},
   "source": [
    "3. If $d = \\log_b a$, then $T(n) \\in \\Theta(n^d \\log n)$. "
   ]
  },
  {
   "cell_type": "markdown",
   "id": "04c53a64-57a3-4e30-91d9-e7cfef5b57cf",
   "metadata": {},
   "source": [
    "$$T(n) = n^d + a\\cdot T({n \\over b})$$"
   ]
  },
  {
   "cell_type": "markdown",
   "id": "c5ba492c-0d82-4030-9281-ab8a89b2baff",
   "metadata": {},
   "source": [
    "#### Examples\n",
    "\n",
    "$T(n) = n^4 + 2 T({n \\over 2})$"
   ]
  },
  {
   "cell_type": "markdown",
   "id": "d256ce27-e87e-435f-af5c-34120f7bd755",
   "metadata": {},
   "source": [
    "Comparison: 4 > $\\log_2 2$. Therefore, $T(n) \\in \\Theta(n^4)$\n"
   ]
  },
  {
   "cell_type": "markdown",
   "id": "4f204aef-ff88-47f2-958c-f618cb6e9df5",
   "metadata": {},
   "source": [
    "---\n",
    "$T(n) = n^{3.5} + 2 T({n \\over 2})$"
   ]
  },
  {
   "cell_type": "markdown",
   "id": "f3de6991-b229-4000-b308-a0ada06996c4",
   "metadata": {},
   "source": [
    "Comparison: $3.5 > \\log_2 2 = 1$.  Therefore, $T(n) \\in \\Theta(n^{3.5})$"
   ]
  },
  {
   "cell_type": "markdown",
   "id": "39840657-981a-4d7d-82e9-a4bef4f2371c",
   "metadata": {},
   "source": [
    "---\n",
    "$T(n) = n^2 + 2 T({n \\over 2})$"
   ]
  },
  {
   "cell_type": "markdown",
   "id": "e500815f-9c5e-460a-b235-e91ac96312fe",
   "metadata": {},
   "source": [
    "Comparison: $2 > \\log_2 2 = 1$.\n",
    "$T(n) \\in \\Theta(n^2)$\n"
   ]
  },
  {
   "cell_type": "markdown",
   "id": "91e6564e-0159-412c-bb78-ea51d5b6cdf7",
   "metadata": {},
   "source": [
    "---\n",
    "$T(n) = n + 2 T({n \\over 2})$"
   ]
  },
  {
   "cell_type": "markdown",
   "id": "ac0f074f-a910-4b2d-9300-d94fab124808",
   "metadata": {},
   "source": [
    "Comparison: $1 = \\log_2 2$. Therefore, $T(n) \\in \\Theta(n \\log n)$"
   ]
  },
  {
   "cell_type": "markdown",
   "id": "06f9f296-1489-4ae2-a7dd-3e551b286431",
   "metadata": {},
   "source": [
    "---\n",
    "$T(n) = n^{0.5} + 2 T({n \\over 2})$.  In this case, $T(n) \\in \\Theta(n)$"
   ]
  },
  {
   "cell_type": "markdown",
   "id": "44a4597f-970a-4772-a9d4-67c47a706f56",
   "metadata": {},
   "source": [
    "---\n",
    "$T(n) = n^{0.5} + T({n \\over 2}) \\in \\Theta(n^{0.5})$."
   ]
  },
  {
   "cell_type": "markdown",
   "id": "dcde7894-13b7-45cb-8f5a-5764c7014147",
   "metadata": {},
   "source": [
    "Compare: 0.5 and $\\log_2 1 = 0$"
   ]
  },
  {
   "cell_type": "markdown",
   "id": "4f4075d8-d88f-4050-b1ea-81c3539294aa",
   "metadata": {},
   "source": [
    "For the majority finding problem:\n",
    "\n",
    "* Iterative design: $\\Theta(n^2)$\n",
    "* Recursive design: $T(n) = n + 2 T({n \\over 2}) \\in \\Theta(n \\log n)$"
   ]
  },
  {
   "cell_type": "code",
   "execution_count": 6,
   "id": "3c2053b7-0330-4cfb-99c1-a1f9d2880725",
   "metadata": {},
   "outputs": [
    {
     "name": "stdout",
     "output_type": "stream",
     "text": [
      "100000 6020.6\n",
      "200000 11357.4\n",
      "300000 16488.4\n",
      "400000 21494.2\n",
      "500000 26410.9\n",
      "600000 31258.8\n",
      "700000 36050.9\n",
      "800000 40796.3\n",
      "900000 45501.5\n"
     ]
    }
   ],
   "source": [
    "import math\n",
    "for n in range(100000, 1000000, 100000):\n",
    "    print(n, round(n**2 / (n*math.log2(n)), 1))"
   ]
  },
  {
   "cell_type": "code",
   "execution_count": null,
   "id": "12123aac-cca0-4526-850a-3cc42584b5b6",
   "metadata": {},
   "outputs": [],
   "source": []
  }
 ],
 "metadata": {
  "kernelspec": {
   "display_name": "Python 3 (ipykernel)",
   "language": "python",
   "name": "python3"
  },
  "language_info": {
   "codemirror_mode": {
    "name": "ipython",
    "version": 3
   },
   "file_extension": ".py",
   "mimetype": "text/x-python",
   "name": "python",
   "nbconvert_exporter": "python",
   "pygments_lexer": "ipython3",
   "version": "3.9.13"
  }
 },
 "nbformat": 4,
 "nbformat_minor": 5
}
