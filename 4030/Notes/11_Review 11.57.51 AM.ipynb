{
 "cells": [
  {
   "cell_type": "markdown",
   "id": "98d831ab-4bae-4883-b3d2-a24eb14207d9",
   "metadata": {},
   "source": [
    "# Review after Spring Break"
   ]
  },
  {
   "cell_type": "markdown",
   "id": "85cecd46-2478-43f0-9a19-1f85918f568e",
   "metadata": {},
   "source": [
    "#### Important skills for running time analysis:\n",
    "* Figure out the running time equation.\n",
    "* Figure out the running time complexity of the program.\n",
    "\n",
    "#### Important skills for designing (recursive) programs:\n",
    "* Use the same strategy to solve the same version with smaller inputs.\n",
    "* Often, using the same strategy can be done neatly with a recursive call.\n",
    "* Therefore, it's useful to \"decompose\" a problem into smaller instances of the same problem.\n",
    "    * Each \"smaller\" instance is the same problem but has a smaller input.\n",
    "    * Each smaller instance can be solved using the same strategy, i.e. making a recursive call.\n",
    "* After each smaller instance is solved, you'll need to figure out how to solve the original problem, based on the solutions of the smaller problems."
   ]
  },
  {
   "cell_type": "markdown",
   "id": "5e57b5d2-ee84-4578-8c4c-fd807193357f",
   "metadata": {},
   "source": [
    "### An example: finding the majority winner in a list of votes"
   ]
  },
  {
   "cell_type": "code",
   "execution_count": 1,
   "id": "4395b1a4-5de2-41ce-93eb-6fd8d43a9532",
   "metadata": {},
   "outputs": [],
   "source": [
    "def find_majority(votes):\n",
    "    if votes==[]:\n",
    "        return None\n",
    "    if len(votes)==1:\n",
    "        return votes[0]\n",
    "    left = votes[0 : len(votes)//2]\n",
    "    right = votes[len(votes)//2 : len(votes)]\n",
    "    maj_left = find_majority(left)\n",
    "    maj_right = find_majority(right)\n",
    "    if maj_left == maj_right:\n",
    "        return maj_left\n",
    "    else:\n",
    "        # we check if either of them is the majority vote\n",
    "        # count occurrence of maj_left (c*n steps)\n",
    "        # if occurence > 50%, return maj_left\n",
    "\n",
    "        # count occurrence of maj_right (c*n steps)\n",
    "        # if occurence > 50%, return maj_right\n",
    "        \n",
    "        return None"
   ]
  },
  {
   "cell_type": "markdown",
   "id": "aa75eb7d-879c-4f8b-8b26-a71a340621e8",
   "metadata": {},
   "source": [
    "### Design\n",
    "\n",
    "* Problem: finding the majority winner in a list of n votes.\n",
    "* Problem decomposition: \n",
    "    * Two smaller problems: finding the majority winner in a list of n/2 votes.\n",
    "* First smaller problem: finding the majority winner on the first half.\n",
    "* Second smaller problem: finding the majority winner on the second half.\n",
    "* Figuring out how to solve the original problem based on solutions of the two smaller problems:\n",
    "    * the two majority winners are the same.\n",
    "    * they are not the same."
   ]
  },
  {
   "cell_type": "markdown",
   "id": "9fbd3ba4-6e9e-4d00-9b91-b3b7da7d224f",
   "metadata": {},
   "source": [
    "---\n",
    "\n",
    "### Analysis of running time\n",
    "\n",
    "* Figure out the running time equation\n",
    "* Figure out the running time complexity\n"
   ]
  },
  {
   "cell_type": "markdown",
   "id": "cb2b7798-2f1f-4f85-9816-0eb1b8665354",
   "metadata": {},
   "source": [
    "\n",
    "\n",
    "T(n) = ???\n",
    "\n",
    "Steps 2-5, 10-11:  constant time, or $a$\n",
    "\n",
    "Step 6: is linear, or $b1 * n$.\n",
    "\n",
    "Step 7: is linear, or $b2 * n$.\n",
    "\n",
    "Step 8: T(n/2)\n",
    "\n",
    "Step 9: T(n/2)\n",
    "\n",
    "Steps 13-15: $b3*n$\n",
    "\n",
    "Steps 17-19: $b4*n$\n",
    "\n"
   ]
  },
  {
   "cell_type": "code",
   "execution_count": null,
   "id": "ad81cbf6-e19c-4040-82c0-41f75c0d468e",
   "metadata": {},
   "outputs": [],
   "source": [
    "def find_majority(votes):\n",
    "    if votes==[]:\n",
    "        return None\n",
    "    if len(votes)==1:\n",
    "        return votes[0]\n",
    "    left = votes[0 : len(votes)//2]\n",
    "    right = votes[len(votes)//2 : len(votes)]\n",
    "    maj_left = find_majority(left)\n",
    "    maj_right = find_majority(right)\n",
    "    if maj_left == maj_right:\n",
    "        return maj_left\n",
    "    else:\n",
    "        # we check if either of them is the majority vote\n",
    "        # count occurrence of maj_left (c*n steps)\n",
    "        # if occurence > 50%, return maj_left\n",
    "\n",
    "        # count occurrence of maj_right (c*n steps)\n",
    "        # if occurence > 50%, return maj_right\n",
    "        \n",
    "        return None"
   ]
  },
  {
   "cell_type": "markdown",
   "id": "cf40f431-39b1-43a8-a6d2-2d1f9484a856",
   "metadata": {},
   "source": [
    "After counting all steps: $T(n) = a + bn + 2T({n \\over 2})$"
   ]
  },
  {
   "cell_type": "markdown",
   "id": "39297e5b-1f54-4e20-8b7e-95400c4a6a69",
   "metadata": {},
   "source": [
    "The non-recursive calculation is $a + bn$\n",
    "\n",
    "$bn \\le a+bn \\le (a+b)n$ for all $n>1$."
   ]
  },
  {
   "cell_type": "markdown",
   "id": "48567d7d-31da-472a-8f98-8817dbae618e",
   "metadata": {},
   "source": [
    "In other words, $a+bn \\in \\Theta(n)$.\n",
    "\n",
    "We'll rewrite this as $T(n) = \\Theta(n) + 2 \\cdot T({n \\over 2})$."
   ]
  },
  {
   "cell_type": "markdown",
   "id": "c4b98905-4577-4871-a1ec-e36540c7176a",
   "metadata": {},
   "source": [
    "### The Master's Theorem\n",
    "\n",
    "$$T(n) = \\Theta(n^d) + a \\cdot T({n \\over b})$$\n"
   ]
  },
  {
   "cell_type": "markdown",
   "id": "f3c3fddf-8f4d-48ca-aefa-75e8dcc08471",
   "metadata": {},
   "source": [
    "$T(n)$ is the running time equation of some recursive program.\n",
    "\n",
    "$\\Theta(n^d)$ is the running time complexity of the non-recursive calculation.\n",
    "\n",
    "$a$ is the number of recursive calls.\n",
    "\n",
    "Each recursive call has input size ${n \\over b}$.  So, the running time of each recurisve call is $T({n \\over b})$."
   ]
  },
  {
   "cell_type": "markdown",
   "id": "7833c4e8-43dd-4c3b-81fb-ecd2ac327466",
   "metadata": {},
   "source": [
    "The complexity of $T(n)$ depends on the values of $d$, $a$, and $b$."
   ]
  },
  {
   "cell_type": "markdown",
   "id": "6e281f47-17d4-45ad-8f01-0dbf823cc09b",
   "metadata": {},
   "source": [
    "There are two cases:\n",
    "\n",
    "1. $d \\neq \\log_b a$\n",
    "\n",
    "2. $d = \\log_b a$."
   ]
  },
  {
   "cell_type": "markdown",
   "id": "0de0c176-18bd-4b0a-b970-c727b9223d51",
   "metadata": {},
   "source": [
    "1. If $d \\neq \\log_b a$, then $T(n) \\in \\Theta(n^{\\max{(d, \\log_b a)}})$\n",
    "2. If $d = \\log_b a$, then $T(n) \\in \\Theta(n^d \\log n)$"
   ]
  },
  {
   "cell_type": "markdown",
   "id": "c16ad0a8-80ce-4308-8d04-b7498a9cdb8b",
   "metadata": {},
   "source": [
    "Note: you can use the substitution method to derive the Master's theorem."
   ]
  },
  {
   "cell_type": "markdown",
   "id": "75a6f1c9-47a8-47ce-a0cc-6aa3c1e8dbaa",
   "metadata": {},
   "source": [
    "Goal: know how to apply the master's theorem for specific running time equations."
   ]
  },
  {
   "cell_type": "markdown",
   "id": "fda19f5b-8c31-4230-b420-497225a7ed20",
   "metadata": {},
   "source": [
    "#### Examples"
   ]
  },
  {
   "cell_type": "markdown",
   "id": "e3996e60-ec52-4d7b-b814-0724e7c9aadb",
   "metadata": {},
   "source": [
    "$T(n) = \\Theta(n) + 2T({n \\over 2}) \\in \\Theta(n \\log n)$\n"
   ]
  },
  {
   "cell_type": "markdown",
   "id": "071c05ae-21e9-4d30-8142-394eed813ffb",
   "metadata": {},
   "source": [
    "d=1, a=2, b=2\n",
    "\n",
    "$d=1=\\log_b a=\\log_2 2$"
   ]
  },
  {
   "cell_type": "markdown",
   "id": "204fcdc0-b04f-484f-8cf9-38c2fc92cfe1",
   "metadata": {},
   "source": [
    "---\n",
    "\n",
    "$T(n) = \\Theta(n^2) + 2T({n \\over 2})$"
   ]
  },
  {
   "cell_type": "markdown",
   "id": "5d084022-8fe2-47c7-b12d-03c9e0f809c6",
   "metadata": {},
   "source": [
    "d = 2, a = 2, b = 2\n",
    "\n",
    "$T(n) \\in \\Theta(n^2)$\n"
   ]
  },
  {
   "cell_type": "markdown",
   "id": "f7b1d16d-9b10-4f39-8f32-28577cb553f9",
   "metadata": {},
   "source": [
    "---\n",
    "\n",
    "$T(n) = n^2 + 8T({n \\over 2})$"
   ]
  },
  {
   "cell_type": "markdown",
   "id": "dd001140-a555-420b-bf25-fbe08274099e",
   "metadata": {},
   "source": [
    "d = 2, a = 8, b = 2\n",
    "\n",
    "$d=2$ vs $\\log_b a = \\log_8 2 = 3$\n",
    "\n",
    "$T(n) \\in \\Theta(n^3)$"
   ]
  },
  {
   "cell_type": "markdown",
   "id": "ae43dd7b-d481-4a49-bee3-7405d0e8e443",
   "metadata": {},
   "source": [
    "---\n",
    "\n",
    "$T(n) = n^3 + 9T({n \\over 2})$\n"
   ]
  },
  {
   "cell_type": "markdown",
   "id": "f1436154-6d58-4464-9dc1-9561295b0c5a",
   "metadata": {},
   "source": [
    "Compare d and $\\log_b a$"
   ]
  },
  {
   "cell_type": "markdown",
   "id": "9af4e7ab-35fc-4ab4-899c-a9bc6e10b977",
   "metadata": {},
   "source": [
    "d=3, a=9, b=2\n",
    "\n",
    "$\\log_2 8 = 3 < \\log_2 9$\n",
    "\n",
    "(log is an increasing function)"
   ]
  },
  {
   "cell_type": "markdown",
   "id": "1f031b2a-dd28-44d8-9449-c2081829cd63",
   "metadata": {},
   "source": [
    "$T(n) \\in \\Theta(n^{\\log_2 9})$"
   ]
  },
  {
   "cell_type": "markdown",
   "id": "ae9e2a97-c3d6-4357-b143-f9ec4c56350e",
   "metadata": {},
   "source": [
    "### Exercise: find the complexity of recursive integer multiplication"
   ]
  },
  {
   "cell_type": "markdown",
   "id": "a09bb360-cd4b-446b-833e-956006686f13",
   "metadata": {},
   "source": [
    "* Input: $X = x_1 x_2 \\cdots x_n$ and $Y = y_1 y_2 \\cdots y_n$\n",
    "* Output: $X * Y$\n",
    "\n",
    "Let $X_l = x_1 \\cdots x_{n \\over 2}$ and $X_r = x_{n \\over 2 + 1} \\cdots x_{n}$.\n",
    "\n",
    "Let $Y_l = y_1 \\cdots y_{n \\over 2}$ and $Y_r = y_{n \\over 2 + 1} \\cdots y_{n}$."
   ]
  },
  {
   "cell_type": "code",
   "execution_count": null,
   "id": "6fd76b71-5f8e-482f-aa25-3b371b1cfddc",
   "metadata": {},
   "outputs": [],
   "source": []
  }
 ],
 "metadata": {
  "kernelspec": {
   "display_name": "Python 3 (ipykernel)",
   "language": "python",
   "name": "python3"
  },
  "language_info": {
   "codemirror_mode": {
    "name": "ipython",
    "version": 3
   },
   "file_extension": ".py",
   "mimetype": "text/x-python",
   "name": "python",
   "nbconvert_exporter": "python",
   "pygments_lexer": "ipython3",
   "version": "3.9.13"
  }
 },
 "nbformat": 4,
 "nbformat_minor": 5
}
