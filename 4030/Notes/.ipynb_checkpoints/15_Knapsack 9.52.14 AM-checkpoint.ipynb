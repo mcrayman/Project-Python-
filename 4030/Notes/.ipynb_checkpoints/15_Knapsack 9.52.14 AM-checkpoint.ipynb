{
 "cells": [
  {
   "cell_type": "markdown",
   "id": "4b230a21-1ab0-40b9-a3d9-cee61cd14fa1",
   "metadata": {},
   "source": [
    "# Memorization & Dynamic Programming\n",
    "\n",
    "+ Memoization is a technique that stores expensive calculations that might be computed again in the future.  \n",
    "\n",
    "+ Dynamic programming is a technique that decomposes a problem into subproblems and solves the subproblems using the same strategy.  \n",
    "\n",
    "+ Dynamic programming uses memoization to solve problems efficiently.\n",
    "\n",
    "+ Dynamic programming is most efficient in its iterative form."
   ]
  },
  {
   "cell_type": "markdown",
   "id": "953066ce-fb95-4029-a94d-480f15c42818",
   "metadata": {},
   "source": [
    "### Review: Make Change\n",
    "\n",
    "Determine out if it's possible to make change for X dollars using certain coin values.\n",
    "\n",
    "Notes:\n",
    "+ Whenever you make a call, make sure the inputs match the API.\n",
    "+ Whenever you return from a program, make sure the outputs match the API."
   ]
  },
  {
   "cell_type": "code",
   "execution_count": 1,
   "id": "e2726d83-9ebe-4872-95b1-f42183d475b9",
   "metadata": {},
   "outputs": [],
   "source": [
    "#\n",
    "# Input: coin values, an amount X\n",
    "# Output: True if we can make change for $X using the coin values.  False if not\n",
    "#\n",
    "def make_change(values, X):              # problem size X\n",
    "    if X==0:\n",
    "        return True\n",
    "    if X<0:\n",
    "        return False\n",
    "    for v in values:\n",
    "        if make_change(values, X-v):    # problem size X-v (subproblem)\n",
    "            return True\n",
    "    \n",
    "    # we cannot make change for any amount X-v\n",
    "    return False"
   ]
  },
  {
   "cell_type": "markdown",
   "id": "9066ad7d-b02f-4ab7-a867-fbd74d132f99",
   "metadata": {},
   "source": [
    "**Exercise: count the number of ways to make change for $X using given coin values.**\n",
    "\n",
    "Output: a number.\n",
    "\n",
    "Examples:\n",
    "+ make_change([5,7], 12) returns 2\n",
    "    + 12 = 5+7 = 7+5\n",
    "+ make_change([5,7], 13) returns 0\n",
    "+ make_change([5,7], 14) returns 1\n",
    "    + 14 = 7+7\n",
    "+ make_change([5,7], 15) returns 1\n",
    "    + 15 = 5 + 5 + 5\n",
    "+ make_change([5,7], 16) returns 0\n",
    "+ make_change([5,7], 17) returns 3\n",
    "    + 17 = 5 + 5 + 7 = 5 + 7 + 5 = 7 + 5 + 5\n",
    "+ make_change([5,7], 18) returns 0\n",
    "+ make_change([5,7], 19) returns 3\n",
    "    + 19 = 5 + 7 + 7 = 7 + 5 + 7 = 7 + 7 + 5"
   ]
  },
  {
   "cell_type": "code",
   "execution_count": 2,
   "id": "7dac1ed7-f2fa-46c6-91d0-4a1700d25195",
   "metadata": {},
   "outputs": [],
   "source": [
    "#\n",
    "# Input: coin values, X\n",
    "# Output: Number of ways to make change for $X using the coin values.\n",
    "#\n",
    "def ways_of_change(values, X):\n",
    "    if X==0:\n",
    "        return 1\n",
    "    if X<=0:\n",
    "        return 0\n",
    "    total = 0\n",
    "    for v in values:\n",
    "        # the number of ways to make change for X-v\n",
    "        m = ways_of_change(values, X-v)\n",
    "        total += m\n",
    "    return total"
   ]
  },
  {
   "cell_type": "markdown",
   "id": "6d30432b-9331-4f3d-ac03-dfb4ea4ed09c",
   "metadata": {},
   "source": [
    "X=100\n",
    "\n",
    "values = [5, 7]\n",
    "\n",
    "+ first exchange is 5 --> make change for 95\n",
    "    * If I tell you that there are 20 ways to make change for 95.\n",
    "    \n",
    "+ first exchange is 7 --> make change for 93\n",
    "    * If I tell you that there are 10 ways to make change for 93.\n",
    "\n",
    "\n",
    "Then, how many ways are there to make change for 100?  Answer: 30? \n",
    "\n"
   ]
  },
  {
   "cell_type": "code",
   "execution_count": 3,
   "id": "e234d1eb-f052-45d4-b245-4958ead4dace",
   "metadata": {},
   "outputs": [
    {
     "name": "stdout",
     "output_type": "stream",
     "text": [
      "12 2\n",
      "13 0\n",
      "14 1\n",
      "15 1\n",
      "16 0\n",
      "17 3\n",
      "18 0\n",
      "19 3\n"
     ]
    }
   ],
   "source": [
    "for X in [12, 13, 14, 15, 16, 17, 18, 19]:\n",
    "    print(X, ways_of_change([5,7], X))"
   ]
  },
  {
   "cell_type": "markdown",
   "id": "d6177248-a091-4a2b-80be-2e58936a3eb6",
   "metadata": {},
   "source": [
    "---\n",
    "### Dynamic Programming\n",
    "\n",
    "Dynamic programming combines multiple ideas:\n",
    "+ Decompose a problem to subproblems. \n",
    "+ Aggregate solutions (i.e. return values) of subproblems to construct the solution of the original problem.\n",
    "+ Store calculations for future use. Specifically, store outputs based on inputs.\n",
    "\n",
    "How do we aggregate solutions (i.e. return values) of subproblems?\n",
    "+ Boolean aggregation: **or**, **and**\n",
    "+ Accumulation:  **sum**, **product**\n",
    "+ Optimization: **min**, **max**\n",
    "+ Filtering:  **select one of**.\n",
    "+ Collecting: **save everything**\n",
    "+ Others: merging, etc."
   ]
  },
  {
   "cell_type": "code",
   "execution_count": 7,
   "id": "ab1964f0-ed27-4faa-9ed6-39b27f6693f6",
   "metadata": {},
   "outputs": [
    {
     "name": "stdout",
     "output_type": "stream",
     "text": [
      "12 True\n",
      "13 False\n",
      "14 True\n",
      "15 True\n",
      "16 False\n",
      "17 True\n",
      "18 False\n",
      "19 True\n"
     ]
    }
   ],
   "source": [
    "def make_change(values, X):\n",
    "    if X==0:\n",
    "        return True\n",
    "    if X<0:\n",
    "        return False\n",
    "    return any([make_change(values, X-v) for v in values])\n",
    "\n",
    "for X in [12, 13, 14, 15, 16, 17, 18, 19]:\n",
    "    print(X, make_change([5,7], X))"
   ]
  },
  {
   "cell_type": "code",
   "execution_count": 8,
   "id": "25fb9c0b-c7cc-4543-bb6c-ee1b0e90e9a0",
   "metadata": {},
   "outputs": [
    {
     "name": "stdout",
     "output_type": "stream",
     "text": [
      "12 2\n",
      "13 0\n",
      "14 1\n",
      "15 1\n",
      "16 0\n",
      "17 3\n",
      "18 0\n",
      "19 3\n"
     ]
    }
   ],
   "source": [
    "def ways_of_change(values, X):\n",
    "    if X==0:\n",
    "        return 1\n",
    "    if X<=0:\n",
    "        return 0\n",
    "    return sum([ways_of_change(values, X-v) for v in values])\n",
    "\n",
    "for X in [12, 13, 14, 15, 16, 17, 18, 19]:\n",
    "    print(X, ways_of_change([5,7], X))"
   ]
  },
  {
   "cell_type": "markdown",
   "id": "922f4138-b853-486b-8ca3-5f86ae974a13",
   "metadata": {},
   "source": [
    "---\n",
    "### Knapsack\n",
    "\n",
    "Items: { Apple, Orange, Banana, Melon }\n",
    "\n",
    "Weights: { 2, 3, 1, 4 }\n",
    "\n",
    "Profits: { 4, 5, 3, 7 }\n",
    "\n",
    "Knapsack Capacity, C : 5\n",
    "\n",
    "Which items do we select to maximize the profit?\n",
    "\n",
    "We cannot take Apple and Melon. That exceeds the capacity.\n",
    "\n",
    "{Apple, Orange}\n",
    "+ weight = 2+3 = 5\n",
    "+ profit = 4+5 = 9\n",
    "\n",
    "{Banana, Melon}\n",
    "+ weight = 1+4 = 5\n",
    "+ profit = 3+7 = 10\n",
    "\n",
    "{Apple, Banana}\n",
    "+ weight = 2+1 = 3\n",
    "+ profit = 4+3 = 7\n",
    "\n",
    "-----\n",
    "\n",
    "**Observations:**\n",
    "* Each item can be taken at most once.\n",
    "* An optimization: we want the best solution.\n",
    "    + Output is a number.\n",
    "    + Let's suppose that we have 3 outputs (A, B, and C) from 3 subproblems.\n",
    "        + The answer to the original question is: the maximum of the 3 solutions of the 3 subproblems.\n",
    "\n",
    "\n",
    "\n",
    "\n",
    "#### An API:\n",
    "\n",
    "\n",
    "Knapsack(weights, profits, C, i) --- the max profit of packing the items 0, 1, ..., i into a knapsack with capacity C.\n",
    "+ We only consider items 0, 1, ..., i\n",
    "+ This is a subproblem.\n",
    "\n",
    "This parameter i allows us to guarantee that an item is selected at once."
   ]
  },
  {
   "cell_type": "markdown",
   "id": "861fc80f-3694-46bc-823e-86b1490bcdba",
   "metadata": {},
   "source": [
    "Example:\n",
    "+ Items: { Apple, Orange, Banana, Melon }\n",
    "+ Weights: { 2, 3, 1, 4 }\n",
    "+ Profits: { 4, 5, 3, 7 }\n",
    "+ Knapsack Capacity, C : 5"
   ]
  },
  {
   "cell_type": "markdown",
   "id": "4a2af166-5b01-4b08-a2aa-b40fa9e67210",
   "metadata": {},
   "source": [
    "When i=0, output is 4.\n",
    "\n",
    "Knapsack([2,3,1,4], [4,5,3,7], 5, 0) = 4 (we choose item 0/Apple)\n",
    "\n",
    "+ Weights: { 2 }\n",
    "+ Profits: { 4 }\n",
    "+ Knapsack Capacity, C : 5\n",
    "---\n",
    "\n",
    "When i=1, output is 9.\n",
    "\n",
    "Knapsack([2,3,1,4], [4,5,3,7], 5, 1) = 9\n",
    "\n",
    "+ Weights: { 2, 3 }\n",
    "+ Profits: { 4, 5 }\n",
    "+ Knapsack Capacity, C : 5\n",
    "\n",
    "---\n",
    "\n",
    "When i=2, output is 9\n",
    "\n",
    "Knapsack([2,3,1,4], [4,5,3,7], 5, 2) = 9 \n",
    "\n",
    "+ Weights: { 2, 3, 1 }\n",
    "+ Profits: { 4, 5, 3 }\n",
    "+ Knapsack Capacity, C : 5\n",
    "\n",
    "\n",
    "---\n",
    "\n",
    "When i=3, output is 10\n",
    "\n",
    "Knapsack([2,3,1,4], [4,5,3,7], 5, 3) = 10\n",
    "\n",
    "+ Weights: { 2, 3, 1, 4 }\n",
    "+ Profits: { 4, 5, 3, 7 }\n",
    "+ Knapsack Capacity, C : 5\n",
    "\n"
   ]
  },
  {
   "cell_type": "code",
   "execution_count": 9,
   "id": "fd718312-93a5-4d22-9fe1-2df1cd9ff85d",
   "metadata": {},
   "outputs": [],
   "source": [
    "#\n",
    "# Input: weights, profits, C, and i\n",
    "#     i specifies that we can only consider items 0, 1, ..., i\n",
    "# Output: max profit considering only items 0, 1, ..., i\n",
    "#\n",
    "def Knapsack(weights, profits, C, i):\n",
    "    if i==0:\n",
    "        if C >= weights[0]:      # we take item 0\n",
    "            return profits[0]\n",
    "        else:                    # we do not item 0\n",
    "            return 0\n",
    "    "
   ]
  },
  {
   "cell_type": "markdown",
   "id": "088ef255-4f98-4c3c-bbde-510fc231c7c6",
   "metadata": {},
   "source": [
    "\n",
    "Knapsack(weights, profits, C, i) = ????\n",
    "+ we need aggregate solutions of subproblems (i.e. aggregate recursive calls' outputs)\n",
    "+ which recursive calls?  To answer this: we need to analyze the possibilities. Each possibility gives raise to a subproblem.\n",
    "\n"
   ]
  },
  {
   "cell_type": "markdown",
   "id": "67a31a48-19b7-48c9-aae4-d4ed66b5da61",
   "metadata": {},
   "source": [
    "To solve Knapsack(weights, profits, C, i), we ask: \"how many possibilities can we consider for taking item i?\"\n",
    "+ There are exactly the same 2 possibilities: either we don't take it or we do.\n",
    "    + If we don't take it, Knapsack(weights, profits, C, i) is the same as the max profit when we consider 0, ..., i-1.  This profit is Knapsack(weights, profits, C, i-1).\n",
    "    + If we take item i, this is the max profit for considering 0, ..., i-1 but with capacity C-weights[i]."
   ]
  },
  {
   "cell_type": "code",
   "execution_count": 10,
   "id": "2a992e5b-d702-44e6-bc8c-76a709225e7c",
   "metadata": {},
   "outputs": [],
   "source": [
    "#\n",
    "# Input: weights, profits, C, and i\n",
    "#     i specifies that we can only consider items 0, 1, ..., i\n",
    "# Output: max profit considering only items 0, 1, ..., i\n",
    "#\n",
    "def Knapsack(weights, profits, C, i):\n",
    "    if i==0:\n",
    "        if C >= weights[0]:      # we take item 0\n",
    "            return profits[0]\n",
    "        else:                    # we do not item 0\n",
    "            return 0\n",
    "    else:\n",
    "        # profit if we don't take item i\n",
    "        case1 = Knapsack(weights, profits, C, i-1)\n",
    "        \n",
    "        # profit it we take item i\n",
    "        if C >= weights[i]:\n",
    "            case2 = Knapsack(weights, profits, C-weights[i], i-1) + profits[i]\n",
    "        else: \n",
    "            case2 = 0\n",
    "        return max(case1, case2)\n",
    "        "
   ]
  },
  {
   "cell_type": "code",
   "execution_count": 14,
   "id": "033dcb39-7242-459d-a500-afa7492343b6",
   "metadata": {},
   "outputs": [
    {
     "data": {
      "text/plain": [
       "10"
      ]
     },
     "execution_count": 14,
     "metadata": {},
     "output_type": "execute_result"
    }
   ],
   "source": [
    "Knapsack([2,3,1,4], [4,5,3,7], 5, 3)"
   ]
  },
  {
   "cell_type": "markdown",
   "id": "56503304-0140-40d0-8fcd-d2b6a776b51b",
   "metadata": {},
   "source": [
    "Here's the solution to the original problem."
   ]
  },
  {
   "cell_type": "code",
   "execution_count": 19,
   "id": "534052be-16ba-4459-b240-14d1514d3cf1",
   "metadata": {},
   "outputs": [],
   "source": [
    "def KNAPSACK(weights, profits, C):\n",
    "    def Knapsack(C, i):\n",
    "        if i==0:\n",
    "            if C >= weights[0]:      # we take item 0\n",
    "                return profits[0]\n",
    "            else:                    # we do not item 0\n",
    "                return 0\n",
    "        else:\n",
    "            # profit if we don't take item i\n",
    "            case1 = Knapsack(C, i-1)\n",
    "\n",
    "            # profit it we take item i\n",
    "            if C >= weights[i]:\n",
    "                case2 = Knapsack(C-weights[i], i-1) + profits[i]\n",
    "            else: \n",
    "                case2 = 0\n",
    "            return max(case1, case2)\n",
    "\n",
    "    return Knapsack(C, len(weights)-1)"
   ]
  },
  {
   "cell_type": "code",
   "execution_count": 20,
   "id": "b801bf60-ef22-4700-b3be-f88df6b1b454",
   "metadata": {},
   "outputs": [
    {
     "data": {
      "text/plain": [
       "10"
      ]
     },
     "execution_count": 20,
     "metadata": {},
     "output_type": "execute_result"
    }
   ],
   "source": [
    "KNAPSACK([2,3,1,4], [4,5,3,7], 5)"
   ]
  },
  {
   "cell_type": "markdown",
   "id": "4035f3c6-d20c-4020-ab5a-f8fddfb4d2ed",
   "metadata": {},
   "source": [
    "**Observation**\n",
    "+ In this problem, we need an extra parameter to guarantee that each item is taken at most once.\n",
    "+ The parameter $i$ was used to specify if an item is taken or not taken."
   ]
  },
  {
   "cell_type": "markdown",
   "id": "b641ab73-7e6f-4e4f-b71b-901d108d9bf4",
   "metadata": {},
   "source": [
    "**Next time**\n",
    "+ We'll store computations to speed things up.\n",
    "+ We'll turn this into an iterative program."
   ]
  },
  {
   "cell_type": "code",
   "execution_count": null,
   "id": "3e9ae04f-544f-47aa-b4a5-77b8c3140eea",
   "metadata": {},
   "outputs": [],
   "source": []
  }
 ],
 "metadata": {
  "kernelspec": {
   "display_name": "Python 3 (ipykernel)",
   "language": "python",
   "name": "python3"
  },
  "language_info": {
   "codemirror_mode": {
    "name": "ipython",
    "version": 3
   },
   "file_extension": ".py",
   "mimetype": "text/x-python",
   "name": "python",
   "nbconvert_exporter": "python",
   "pygments_lexer": "ipython3",
   "version": "3.9.12"
  }
 },
 "nbformat": 4,
 "nbformat_minor": 5
}
