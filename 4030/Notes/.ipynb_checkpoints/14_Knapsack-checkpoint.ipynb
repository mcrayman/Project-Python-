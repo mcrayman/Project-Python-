{
 "cells": [
  {
   "cell_type": "markdown",
   "id": "922f4138-b853-486b-8ca3-5f86ae974a13",
   "metadata": {},
   "source": [
    "# Knapsack\n",
    "\n",
    "### Knapsack\n",
    "\n",
    "Items: { Apple, Orange, Banana, Melon }\n",
    "\n",
    "Weights: { 2, 3, 1, 4 }\n",
    "\n",
    "Profits: { 4, 5, 3, 7 }\n",
    "\n",
    "Knapsack Capacity, C : 5\n",
    "\n",
    "Which items do we select to maximize the profit?\n",
    "\n",
    "We cannot take Apple and Melon. That exceeds the capacity.\n",
    "\n",
    "{Apple, Orange}\n",
    "+ weight = 2+3 = 5\n",
    "+ profit = 4+5 = 9\n",
    "\n",
    "{Banana, Melon}\n",
    "+ weight = 1+4 = 5\n",
    "+ profit = 3+7 = 10\n",
    "\n",
    "{Apple, Banana}\n",
    "+ weight = 2+1 = 3\n",
    "+ profit = 4+3 = 7\n",
    "\n",
    "-----\n",
    "\n",
    "C = 9\n"
   ]
  },
  {
   "cell_type": "code",
   "execution_count": 1,
   "id": "fd718312-93a5-4d22-9fe1-2df1cd9ff85d",
   "metadata": {},
   "outputs": [],
   "source": [
    "def Knapsack(weights, profits, C):\n",
    "    pass"
   ]
  },
  {
   "cell_type": "code",
   "execution_count": null,
   "id": "844e9da8-1a71-4ab8-88dd-f202de96aea3",
   "metadata": {},
   "outputs": [],
   "source": []
  }
 ],
 "metadata": {
  "kernelspec": {
   "display_name": "Python 3 (ipykernel)",
   "language": "python",
   "name": "python3"
  },
  "language_info": {
   "codemirror_mode": {
    "name": "ipython",
    "version": 3
   },
   "file_extension": ".py",
   "mimetype": "text/x-python",
   "name": "python",
   "nbconvert_exporter": "python",
   "pygments_lexer": "ipython3",
   "version": "3.9.12"
  }
 },
 "nbformat": 4,
 "nbformat_minor": 5
}
