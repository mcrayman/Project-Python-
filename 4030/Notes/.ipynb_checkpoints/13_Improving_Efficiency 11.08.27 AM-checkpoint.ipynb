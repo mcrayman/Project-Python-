{
 "cells": [
  {
   "cell_type": "markdown",
   "id": "bb8cd8ac-26d7-4432-9d7f-36e00ff1ec5d",
   "metadata": {},
   "source": [
    "# Improving Efficiency of Recursive Programs"
   ]
  },
  {
   "cell_type": "markdown",
   "id": "eab7ed90-aff9-4d99-9e13-5b0605a674fa",
   "metadata": {},
   "source": [
    "### The Master's Theorem\n",
    "\n",
    "$$T(n) = \\Theta(n^d) + a \\cdot T({n \\over b})$$\n",
    "\n",
    "1. If $d \\neq \\log_b a$, then $T(n) \\in \\Theta(n^{\\max{(d, \\log_b a)}})$\n",
    "2. If $d = \\log_b a$, then $T(n) \\in \\Theta(n^d \\log n)$"
   ]
  },
  {
   "cell_type": "markdown",
   "id": "1f8da759-dde7-4e4c-9fb9-46beae4493d2",
   "metadata": {},
   "source": [
    "#### Mutipliying n-digit integers"
   ]
  },
  {
   "cell_type": "markdown",
   "id": "5c1fb0a2-2df2-4a4b-b619-15b61424bc16",
   "metadata": {},
   "source": [
    "$X*Y = X_l*Y_l \\cdot 10^n + X_l*Y_r \\cdot 10^{n \\over 2} + X_r*Y_l \\cdot 10^{n \\over 2} + X_r*Y_r$"
   ]
  },
  {
   "cell_type": "code",
   "execution_count": null,
   "id": "cfa3860c-99fb-41b2-9567-de44a854448e",
   "metadata": {},
   "outputs": [],
   "source": [
    "def multiply(X, Y):                     # T(n): multiply 2 n-digit numbers\n",
    "    if len(X)==1:                       # c1\n",
    "        return X*Y\n",
    "    X_l, X_r = split_in_half(X)         # c2 * n\n",
    "    Y_l, Y_r = split_in_half(Y)         # c3 * n\n",
    "    A = multiply(X_l, Y_l)              # T(n/2)\n",
    "    B = multiply(X_l, Y_r)\n",
    "    C = multiply(X_r, Y_l)\n",
    "    D = multiply(X_r, Y_r)\n",
    "    return shift(A, n) + shift(B, n/2) + shift(C, n/2) + D    # c4 * n\n",
    "    "
   ]
  },
  {
   "cell_type": "markdown",
   "id": "8a776bca-a969-406b-b619-cb8a540b29ca",
   "metadata": {},
   "source": [
    "Running time equation: $T(n) = \\Theta(n) + 4 \\cdot T({n \\over 2}) \\in \\Theta(n^2)$\n",
    "\n",
    "$d=1 < \\log_2 4$"
   ]
  },
  {
   "cell_type": "markdown",
   "id": "c5eb4541-a902-4711-830e-63f162f4cfc1",
   "metadata": {},
   "source": [
    "We did some algebraic manipulations to express $X * Y$ using only 3 multiplications."
   ]
  },
  {
   "cell_type": "markdown",
   "id": "63b18ef8-0d1d-4dcd-8dfb-5593be2ab2e0",
   "metadata": {},
   "source": [
    "$T(n) = \\Theta(n) + 3 \\cdot T({n \\over 2}) \\in \\Theta(n^{\\log_2 3}) \\approx \\Theta(n^{1.58})$"
   ]
  },
  {
   "cell_type": "code",
   "execution_count": 4,
   "id": "458b3d79-da0c-4393-b4b5-54194aba345b",
   "metadata": {},
   "outputs": [
    {
     "data": {
      "text/plain": [
       "1.584962500721156"
      ]
     },
     "execution_count": 4,
     "metadata": {},
     "output_type": "execute_result"
    }
   ],
   "source": [
    "import math\n",
    "math.log2(3)"
   ]
  },
  {
   "cell_type": "markdown",
   "id": "584b6b68-dfdb-4185-ac8e-ad1c85da5ef5",
   "metadata": {},
   "source": [
    "When we analyzed the simple iterative algorithm of multiplying two n-digit integers, we made a hypothesis.\n",
    "+ Any algorithm that multiples two n-digit integers, must take at least $\\Omega(n^2)$ steps.\n",
    "\n",
    "+ The reason: we must multiply each digit of X to each digit of Y.  This already requires $n*n$ steps.  So to multiply X and Y, we must do at least $n^2$ operations."
   ]
  },
  {
   "cell_type": "markdown",
   "id": "350307f3-7b73-47a0-9d53-c99e8a857169",
   "metadata": {},
   "source": [
    "To reduce 4 recursive calls in multiplying $X$ and $Y$, we reused values from 2 recursive calls, and 1 new recursive call to replace 2 recursive calls."
   ]
  },
  {
   "cell_type": "markdown",
   "id": "c7c5c939-b1f8-4c1b-92b9-777c27b92f55",
   "metadata": {},
   "source": [
    "### Note on matrix multiplication"
   ]
  },
  {
   "cell_type": "markdown",
   "id": "adbdd257-0482-44b1-ba1d-7d62e6bb856b",
   "metadata": {},
   "source": [
    "Matrix multiplication is important in many areas, including graphics.\n",
    "\n",
    "Straight forward iterative matrix multiplication takes $\\Theta(n^3)$.\n",
    "\n",
    "A straight forward recursive algorithm has running time $T(n) = n^2 + 8 \\cdot T({n \\over 2}) \\in \\Theta(n^3)$"
   ]
  },
  {
   "cell_type": "markdown",
   "id": "33fd1449-1735-49c1-ac17-39426f05375f",
   "metadata": {},
   "source": [
    "Strassen was one of the first people who were to reduce 8 recursive calls to 7 recursive calls.\n",
    "\n",
    "This gives a better running time equation: $T(n) = n^2 + 7 \\cdot T({n \\over 2}) \\in \\Theta(n^{\\log_2 7}) \\approx \\Theta(n^{2.8})$"
   ]
  },
  {
   "cell_type": "code",
   "execution_count": 5,
   "id": "3361e17c-dae1-451d-b3f5-c612c5147d63",
   "metadata": {},
   "outputs": [
    {
     "data": {
      "text/plain": [
       "2.807354922057604"
      ]
     },
     "execution_count": 5,
     "metadata": {},
     "output_type": "execute_result"
    }
   ],
   "source": [
    "math.log2(7)"
   ]
  },
  {
   "cell_type": "markdown",
   "id": "41d09351-0c70-484f-9f2c-fe2d5b673ab9",
   "metadata": {},
   "source": [
    "Big idea: instead of using 8 recursive calls, manipulate the calculations to do fewer recursive calls by **reusing results** from recursive calls."
   ]
  },
  {
   "cell_type": "markdown",
   "id": "313a8ab1-5809-4d66-bd32-373aca270f17",
   "metadata": {},
   "source": [
    "Reusing results is sensible.  It's a widely-used idea.\n",
    "\n",
    "In many areas (OS, web dev, etc.), this idea is called \"caching\"."
   ]
  },
  {
   "cell_type": "markdown",
   "id": "fa39e363-5acf-47e7-9ad0-6a655098ed8c",
   "metadata": {},
   "source": [
    "In algorithms, we learn some of these \"caching\" techniques from a low-level design perspective."
   ]
  },
  {
   "cell_type": "markdown",
   "id": "dc47e46f-c3b3-4a9b-808b-74ff17e466bd",
   "metadata": {},
   "source": [
    "One of the advanced algorithmic technique to drastically improve running time using this idea of caching is **dynamic programming**.\n",
    "\n",
    "The idea in caching is to recognize and identify that the program can reuse stuffs.\n",
    "\n",
    "Once we know that the design can reuse stuffs. Then, we are in good business."
   ]
  },
  {
   "cell_type": "markdown",
   "id": "d0c120f5-885d-4703-bfb2-6a64ddd781e2",
   "metadata": {},
   "source": [
    "### Merge sort"
   ]
  },
  {
   "cell_type": "markdown",
   "id": "e791cff5-d6af-401f-8286-e6fd594034ba",
   "metadata": {},
   "source": [
    "Strategy *to sort a list of n numbers*\n",
    "+ Divide this list into two halves: left and right\n",
    "+ Sort left (using the same recursive design)\n",
    "+ Sort right (using the same recursive design)\n",
    "+ Merge two sorted lists (sorted left and sorted right). This is done in $\\Theta(n)$ steps.\n",
    "\n",
    "Running time is $T(n) = \\Theta(n) + 2 T({n \\over 2}) \\in \\Theta(n \\log n)$\n"
   ]
  },
  {
   "cell_type": "markdown",
   "id": "68f34fdf-08a9-472d-b429-4bac3a319f5d",
   "metadata": {},
   "source": [
    "Question: when we sort left and right, can we reuse some stuffs?\n",
    "\n",
    "Answer: NO."
   ]
  },
  {
   "cell_type": "markdown",
   "id": "53c1ff01-9efd-4325-bb86-208d3ba8319c",
   "metadata": {},
   "source": [
    "Some designs are wasteful when the subtasks overlap."
   ]
  },
  {
   "cell_type": "markdown",
   "id": "4bd46485-0975-4085-80cc-1a2b55a16d35",
   "metadata": {},
   "source": [
    "Merge sort is an example of an efficient design."
   ]
  },
  {
   "cell_type": "markdown",
   "id": "1fe890ed-6e13-48b4-a37d-293cba5b042c",
   "metadata": {},
   "source": [
    "### An example: Climbing Stairs"
   ]
  },
  {
   "cell_type": "markdown",
   "id": "73b53bba-c2e6-4f79-b7b3-19de3a14d9b0",
   "metadata": {},
   "source": [
    "In this problem, we walk up a stair with $n$ steps, and we want to count the number of ways to go up n steps.\n",
    "\n",
    "To walk up a stair, we need to make a sequence of moves. In each move, we can only go up 1 step or 2 steps.\n",
    "\n",
    "Question: how many ways can we go up a stair with $n$ steps?"
   ]
  },
  {
   "cell_type": "code",
   "execution_count": 6,
   "id": "ab7a7476-9d96-474e-9c5b-26ee140115a6",
   "metadata": {},
   "outputs": [],
   "source": [
    "#\n",
    "# Input: n steps of a stair\n",
    "# Output: the number of ways to climb up n steps.\n",
    "# Constraint: each move that goes up can take only 1 step or 2 steps.\n",
    "#\n",
    "# Semantic/API,  climb(n) = the number ways to walk up n steps\n",
    "# \n",
    "def climb(n):\n",
    "    if n==1:\n",
    "        return 1\n",
    "    if n==2:\n",
    "        return 2\n",
    "    "
   ]
  },
  {
   "cell_type": "markdown",
   "id": "33c7eafa-b8bf-469d-8eff-2663415e9ec6",
   "metadata": {},
   "source": [
    "Examples:\n",
    "+ n = 1, ansswer: 1\n",
    "+ n = 2, answer: 2\n",
    "    * 1+1,  2\n",
    "+ n = 3, answer: 3\n",
    "    * 1+1+1, 1+2, 2+1\n",
    "+ n = 100, answer: ???\n",
    "    \n",
    "We face a stair with 100 steps, how many possibilities for the first move? 2.\n",
    "+ climb(100) = the number of ways to walk up a stair with 100 steps.\n",
    "+ First possibility, making 1 step.\n",
    "    + We step up 1 step. There are n-1 steps remaining.  \n",
    "    + Realization: we need to walk up 99 steps.\n",
    "    + How do we walk up 99 steps?\n",
    "    + How many ways can we walk up a stair with 99 steps?\n",
    "        + climb(99)\n",
    "+ Second possibility, making 2 steps.\n",
    "    + We step up 2 steps. There're 98 steps remaining.\n",
    "    + The number of ways to walk up a stair with 98 steps is climb(98).\n",
    "    \n",
    "climb(100) = climb(99) + climb(98)\n",
    "\n",
    "Given n steps, n>2, climb(n) = climb(n-1) + climb(n-2)\n"
   ]
  },
  {
   "cell_type": "code",
   "execution_count": 7,
   "id": "f8326a32-94a8-4a8a-888a-f592aae78bd0",
   "metadata": {},
   "outputs": [],
   "source": [
    "#\n",
    "# Input: n steps of a stair\n",
    "# Output: the number of ways to climb up n steps.\n",
    "# Constraint: each move that goes up can take only 1 step or 2 steps.\n",
    "# \n",
    "def climb(n):\n",
    "    if n==1:\n",
    "        return 1\n",
    "    if n==2:\n",
    "        return 2\n",
    "    return climb(n-1) + climb(n-2)\n",
    " "
   ]
  },
  {
   "cell_type": "code",
   "execution_count": 15,
   "id": "79c8e28f-f4ac-46b2-a2be-f6f77319794b",
   "metadata": {},
   "outputs": [
    {
     "data": {
      "text/plain": [
       "165580141"
      ]
     },
     "execution_count": 15,
     "metadata": {},
     "output_type": "execute_result"
    }
   ],
   "source": [
    "climb(40)"
   ]
  },
  {
   "cell_type": "markdown",
   "id": "b791b306-808d-478e-b5c3-f93bda8e546d",
   "metadata": {},
   "source": [
    "To climb 40 steps, the first move can be either 1 step or 2 steps.\n",
    "+ If we make 1 step up, we need to climb 39 remaining steps.\n",
    "    + The number of ways to 39 steps up is climb(39).\n",
    "+ If we make 2 steps up, we need to climb 38 remaining steps.\n",
    "    + The number of ways to 38 steps up is climb(38).\n",
    "    + Can we reuse some calculations in climb(39) to compute climb(38)?\n"
   ]
  },
  {
   "cell_type": "markdown",
   "id": "78acaf32-8b7d-4f98-b112-68136a8b7027",
   "metadata": {},
   "source": [
    "#### Overlap analysis"
   ]
  },
  {
   "cell_type": "code",
   "execution_count": 1,
   "id": "a03c4097-6e52-431e-ad9e-44b0973d42ff",
   "metadata": {},
   "outputs": [],
   "source": [
    "def climb(n):\n",
    "    print('climb(', n, ') is called.')\n",
    "    if n==1:\n",
    "        return 1\n",
    "    if n==2:\n",
    "        return 2\n",
    "    return climb(n-1) + climb(n-2)\n",
    " "
   ]
  },
  {
   "cell_type": "code",
   "execution_count": 2,
   "id": "b2106c7f-4a2f-4d88-b859-54edcc6ae721",
   "metadata": {},
   "outputs": [
    {
     "name": "stdout",
     "output_type": "stream",
     "text": [
      "climb( 5 ) is called.\n",
      "climb( 4 ) is called.\n",
      "climb( 3 ) is called.\n",
      "climb( 2 ) is called.\n",
      "climb( 1 ) is called.\n",
      "climb( 2 ) is called.\n",
      "climb( 3 ) is called.\n",
      "climb( 2 ) is called.\n",
      "climb( 1 ) is called.\n"
     ]
    },
    {
     "data": {
      "text/plain": [
       "8"
      ]
     },
     "execution_count": 2,
     "metadata": {},
     "output_type": "execute_result"
    }
   ],
   "source": [
    "climb(5)"
   ]
  },
  {
   "cell_type": "markdown",
   "id": "3b54e9b3-cf5d-4b49-8981-c60479cb3312",
   "metadata": {},
   "source": [
    "### Overlapping analysis"
   ]
  },
  {
   "cell_type": "markdown",
   "id": "8faf1a41-5daa-49cd-b293-442c29931af7",
   "metadata": {},
   "source": [
    "+ climb(40) calls climb(39) and climb(38)\n",
    "+ climb(39) calls climb(38) and climb(37)\n",
    "+ climb(38) calls climb(37) and climb(36)\n",
    "+ etc.\n",
    "\n",
    "climb(38) is called twice.  If we store the result, we don't have to recompute it.\n",
    "\n",
    "Where do you want to store the result of climb(38) or climb(n)?\n",
    "+ in some global dictionary.\n",
    "\n",
    "How do we store the value of climb(38) (e.g. 63245986)?\n",
    "+ Dictionaries have keys and values.\n",
    "+ Table[38] = 63245986\n",
    "\n",
    "When do we store the value of climb(38)?\n",
    "+ After we compute it for the first time.\n",
    "\n",
    "How/where/when do you look it up to ensure that climb(38) is already computed so you don't have to recompute?\n",
    "+ Before we do any computation, make sure that the key 38 is not in Table."
   ]
  },
  {
   "cell_type": "code",
   "execution_count": 7,
   "id": "d4a65625-2ee7-4643-be96-a93576d3eb90",
   "metadata": {},
   "outputs": [],
   "source": [
    "Table = {}\n",
    "\n",
    "def climb(n):\n",
    "    if n in Table:\n",
    "        return Table[n]\n",
    "    \n",
    "    if n==1:\n",
    "        Table[n] = 1\n",
    "        return 1\n",
    "    if n==2:\n",
    "        Table[n] = 2\n",
    "        return 2\n",
    "    return_value = climb(n-1) + climb(n-2)\n",
    "    Table[n] = return_value\n",
    "    return return_value"
   ]
  },
  {
   "cell_type": "code",
   "execution_count": 12,
   "id": "10b4b6bf-da16-4a1a-ad70-e43181ae6d92",
   "metadata": {},
   "outputs": [
    {
     "name": "stdout",
     "output_type": "stream",
     "text": [
      "1 1\n",
      "2 2\n",
      "3 3\n",
      "4 5\n",
      "5 8\n",
      "6 13\n",
      "7 21\n",
      "8 34\n",
      "9 55\n",
      "10 89\n",
      "11 144\n",
      "12 233\n",
      "13 377\n",
      "14 610\n",
      "15 987\n",
      "16 1597\n",
      "17 2584\n",
      "18 4181\n",
      "19 6765\n",
      "20 10946\n",
      "21 17711\n",
      "22 28657\n",
      "23 46368\n",
      "24 75025\n",
      "25 121393\n",
      "26 196418\n",
      "27 317811\n",
      "28 514229\n",
      "29 832040\n",
      "30 1346269\n",
      "31 2178309\n",
      "32 3524578\n",
      "33 5702887\n",
      "34 9227465\n",
      "35 14930352\n",
      "36 24157817\n",
      "37 39088169\n",
      "38 63245986\n",
      "39 102334155\n",
      "40 165580141\n",
      "41 267914296\n",
      "42 433494437\n",
      "43 701408733\n",
      "44 1134903170\n",
      "45 1836311903\n",
      "46 2971215073\n",
      "47 4807526976\n",
      "48 7778742049\n",
      "49 12586269025\n",
      "50 20365011074\n",
      "51 32951280099\n",
      "52 53316291173\n",
      "53 86267571272\n",
      "54 139583862445\n",
      "55 225851433717\n",
      "56 365435296162\n",
      "57 591286729879\n",
      "58 956722026041\n",
      "59 1548008755920\n",
      "60 2504730781961\n",
      "61 4052739537881\n",
      "62 6557470319842\n",
      "63 10610209857723\n",
      "64 17167680177565\n",
      "65 27777890035288\n",
      "66 44945570212853\n",
      "67 72723460248141\n",
      "68 117669030460994\n",
      "69 190392490709135\n",
      "70 308061521170129\n",
      "71 498454011879264\n",
      "72 806515533049393\n",
      "73 1304969544928657\n",
      "74 2111485077978050\n",
      "75 3416454622906707\n",
      "76 5527939700884757\n",
      "77 8944394323791464\n",
      "78 14472334024676221\n",
      "79 23416728348467685\n",
      "80 37889062373143906\n",
      "81 61305790721611591\n",
      "82 99194853094755497\n",
      "83 160500643816367088\n",
      "84 259695496911122585\n",
      "85 420196140727489673\n",
      "86 679891637638612258\n",
      "87 1100087778366101931\n",
      "88 1779979416004714189\n",
      "89 2880067194370816120\n",
      "90 4660046610375530309\n",
      "91 7540113804746346429\n",
      "92 12200160415121876738\n",
      "93 19740274219868223167\n",
      "94 31940434634990099905\n",
      "95 51680708854858323072\n",
      "96 83621143489848422977\n",
      "97 135301852344706746049\n",
      "98 218922995834555169026\n",
      "99 354224848179261915075\n",
      "100 573147844013817084101\n",
      "101 927372692193078999176\n",
      "102 1500520536206896083277\n",
      "103 2427893228399975082453\n",
      "104 3928413764606871165730\n",
      "105 6356306993006846248183\n",
      "106 10284720757613717413913\n",
      "107 16641027750620563662096\n",
      "108 26925748508234281076009\n",
      "109 43566776258854844738105\n",
      "110 70492524767089125814114\n",
      "111 114059301025943970552219\n",
      "112 184551825793033096366333\n",
      "113 298611126818977066918552\n",
      "114 483162952612010163284885\n",
      "115 781774079430987230203437\n",
      "116 1264937032042997393488322\n",
      "117 2046711111473984623691759\n",
      "118 3311648143516982017180081\n",
      "119 5358359254990966640871840\n",
      "120 8670007398507948658051921\n",
      "121 14028366653498915298923761\n",
      "122 22698374052006863956975682\n",
      "123 36726740705505779255899443\n",
      "124 59425114757512643212875125\n",
      "125 96151855463018422468774568\n",
      "126 155576970220531065681649693\n",
      "127 251728825683549488150424261\n",
      "128 407305795904080553832073954\n",
      "129 659034621587630041982498215\n",
      "130 1066340417491710595814572169\n",
      "131 1725375039079340637797070384\n",
      "132 2791715456571051233611642553\n",
      "133 4517090495650391871408712937\n",
      "134 7308805952221443105020355490\n",
      "135 11825896447871834976429068427\n",
      "136 19134702400093278081449423917\n",
      "137 30960598847965113057878492344\n",
      "138 50095301248058391139327916261\n",
      "139 81055900096023504197206408605\n",
      "140 131151201344081895336534324866\n",
      "141 212207101440105399533740733471\n",
      "142 343358302784187294870275058337\n",
      "143 555565404224292694404015791808\n",
      "144 898923707008479989274290850145\n",
      "145 1454489111232772683678306641953\n",
      "146 2353412818241252672952597492098\n",
      "147 3807901929474025356630904134051\n",
      "148 6161314747715278029583501626149\n",
      "149 9969216677189303386214405760200\n",
      "150 16130531424904581415797907386349\n",
      "151 26099748102093884802012313146549\n",
      "152 42230279526998466217810220532898\n",
      "153 68330027629092351019822533679447\n",
      "154 110560307156090817237632754212345\n",
      "155 178890334785183168257455287891792\n",
      "156 289450641941273985495088042104137\n",
      "157 468340976726457153752543329995929\n",
      "158 757791618667731139247631372100066\n",
      "159 1226132595394188293000174702095995\n",
      "160 1983924214061919432247806074196061\n",
      "161 3210056809456107725247980776292056\n",
      "162 5193981023518027157495786850488117\n",
      "163 8404037832974134882743767626780173\n",
      "164 13598018856492162040239554477268290\n",
      "165 22002056689466296922983322104048463\n",
      "166 35600075545958458963222876581316753\n",
      "167 57602132235424755886206198685365216\n",
      "168 93202207781383214849429075266681969\n",
      "169 150804340016807970735635273952047185\n",
      "170 244006547798191185585064349218729154\n",
      "171 394810887814999156320699623170776339\n",
      "172 638817435613190341905763972389505493\n",
      "173 1033628323428189498226463595560281832\n",
      "174 1672445759041379840132227567949787325\n",
      "175 2706074082469569338358691163510069157\n",
      "176 4378519841510949178490918731459856482\n",
      "177 7084593923980518516849609894969925639\n",
      "178 11463113765491467695340528626429782121\n",
      "179 18547707689471986212190138521399707760\n",
      "180 30010821454963453907530667147829489881\n",
      "181 48558529144435440119720805669229197641\n",
      "182 78569350599398894027251472817058687522\n",
      "183 127127879743834334146972278486287885163\n",
      "184 205697230343233228174223751303346572685\n",
      "185 332825110087067562321196029789634457848\n",
      "186 538522340430300790495419781092981030533\n",
      "187 871347450517368352816615810882615488381\n",
      "188 1409869790947669143312035591975596518914\n",
      "189 2281217241465037496128651402858212007295\n",
      "190 3691087032412706639440686994833808526209\n",
      "191 5972304273877744135569338397692020533504\n",
      "192 9663391306290450775010025392525829059713\n",
      "193 15635695580168194910579363790217849593217\n",
      "194 25299086886458645685589389182743678652930\n",
      "195 40934782466626840596168752972961528246147\n",
      "196 66233869353085486281758142155705206899077\n",
      "197 107168651819712326877926895128666735145224\n",
      "198 173402521172797813159685037284371942044301\n",
      "199 280571172992510140037611932413038677189525\n"
     ]
    }
   ],
   "source": [
    "for n in range(1, 200):\n",
    "    print(n, climb(n))"
   ]
  },
  {
   "cell_type": "markdown",
   "id": "92aff68d-a3e2-4847-8123-edc51f9c598f",
   "metadata": {},
   "source": [
    "Why does climb take a lot of time when we do not store calculations?\n",
    "\n",
    "Short answer: many subproblems are recalculated."
   ]
  },
  {
   "cell_type": "markdown",
   "id": "1b223747-ca2f-45cb-be35-1e74d6c6d219",
   "metadata": {},
   "source": [
    "Long answer: we'll lower-bound the running time of climb (without storing calculations).\n",
    "\n",
    "climb(n) = climb(n-1) + climb(n-2)"
   ]
  },
  {
   "cell_type": "markdown",
   "id": "3d9047c9-ec75-4975-af96-4e0f4151d6bf",
   "metadata": {},
   "source": [
    "The running time equation is: $T(n) = T(n-1) + T(n-2)$"
   ]
  },
  {
   "cell_type": "markdown",
   "id": "b7472811-208c-41a8-b367-a62614d3a418",
   "metadata": {},
   "source": [
    "$T(n) \\ge T(n-1) \\ge T(n-2)$"
   ]
  },
  {
   "cell_type": "markdown",
   "id": "c9562c5c-8d32-4273-a9c6-4679fc51a4c0",
   "metadata": {},
   "source": [
    "$T(n) \\ge T(n-2) + T(n-2)$"
   ]
  },
  {
   "cell_type": "markdown",
   "id": "d647cb01-dc00-4155-9c5f-20c0f84cf3b4",
   "metadata": {},
   "source": [
    "$T(n) \\ge 2 * T(n-2)$"
   ]
  },
  {
   "cell_type": "markdown",
   "id": "88fb2e91-1a22-4c22-a959-bde05c6f7758",
   "metadata": {},
   "source": [
    "$T(n) \\ge 2 * 2 * T(n-4)$"
   ]
  },
  {
   "cell_type": "markdown",
   "id": "ef69eb75-1543-4cd6-9e29-839d3a996fe0",
   "metadata": {},
   "source": [
    "$T(n) \\ge 2^2 T(n-4) \\ge 2^3 T(n-6)$\n",
    "\n",
    "$T(n) \\ge 2^{n \\over 2} * T(n - n)$"
   ]
  },
  {
   "cell_type": "markdown",
   "id": "9f5f9cc0-4057-4d0c-b731-5e24e270c72e",
   "metadata": {},
   "source": [
    "The running time is at least $2^{n \\over 2}$ steps.  This is exponential.\n",
    "\n",
    "$T(n) \\in \\Omega(2^{n \\over 2})$"
   ]
  },
  {
   "cell_type": "code",
   "execution_count": 14,
   "id": "be7a7665-b59a-449d-8afb-9ba3d4529dd3",
   "metadata": {},
   "outputs": [
    {
     "data": {
      "text/plain": [
       "1125899906842624"
      ]
     },
     "execution_count": 14,
     "metadata": {},
     "output_type": "execute_result"
    }
   ],
   "source": [
    "2**50"
   ]
  },
  {
   "cell_type": "markdown",
   "id": "80f46865-261d-44ed-94c6-7df9be5f4104",
   "metadata": {},
   "source": [
    "### Example: Making Change\n",
    "\n",
    "Determine out if it's possible to make change for X dollars using certain coin values.\n",
    "\n",
    "Examples: \n",
    "\n",
    "* Can we make change for 19 dollars using coin values 5 and 7?\n",
    "* Can we make change for 99 dollars using coin values 5 and 7?\n"
   ]
  },
  {
   "cell_type": "code",
   "execution_count": null,
   "id": "8748a8ba-337b-4bbc-8269-dcb5cf0d25e7",
   "metadata": {},
   "outputs": [],
   "source": []
  }
 ],
 "metadata": {
  "kernelspec": {
   "display_name": "Python 3 (ipykernel)",
   "language": "python",
   "name": "python3"
  },
  "language_info": {
   "codemirror_mode": {
    "name": "ipython",
    "version": 3
   },
   "file_extension": ".py",
   "mimetype": "text/x-python",
   "name": "python",
   "nbconvert_exporter": "python",
   "pygments_lexer": "ipython3",
   "version": "3.9.12"
  }
 },
 "nbformat": 4,
 "nbformat_minor": 5
}
