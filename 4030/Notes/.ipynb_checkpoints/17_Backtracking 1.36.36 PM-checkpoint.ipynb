{
 "cells": [
  {
   "cell_type": "markdown",
   "id": "b637ca55-7754-4f5b-b7ef-002346bf812b",
   "metadata": {},
   "source": [
    "# Backtracking\n",
    "\n",
    "Backtracking is a systematic way of enumering all possible solutions."
   ]
  },
  {
   "cell_type": "markdown",
   "id": "2a242c9a-057e-4555-97e5-509679c85c0d",
   "metadata": {},
   "source": [
    "Generate all 4-digit binary numbers with leading digit of 0.\n",
    "\n",
    "<img src=\"https://i.imgur.com/618KZBe.png\" width=\"60%\">"
   ]
  },
  {
   "cell_type": "markdown",
   "id": "fbcae1da-df7a-43ba-ba79-cca77d047faa",
   "metadata": {},
   "source": [
    "Level 1: A few conceptual observations about backtracking (BT):\n",
    "+ It's an incremental design.  We start from an empty partial solution, and we end up with complete solutions.\n",
    "+ If we visualize this process as generating a tree, the initial solution is the root of the tree and each leaf is a complete solution.\n",
    "+ Each level of the tree indicates the level of partial solutions.\n",
    "+ In each step of BT, we ask \"how many possibilities are there to generate the level of partial solutions?\"\n",
    "    * If there are two possibilities in each step, we have a binary tree.\n",
    "+ After we adopt a possibility, visually, we move to a child of a node.  \n",
    "    * At this point, we face with another subproblem."
   ]
  },
  {
   "cell_type": "markdown",
   "id": "a43dfd87-c96e-42d8-9a80-1772774c91a2",
   "metadata": {},
   "source": [
    "---\n",
    "Level 2: conceptual, some procedural aspects of BT:\n",
    "+ Suppose we are at the root. The problem we need to solve is:\n",
    "    * Generate all 4-digit binary numbers, given the first digit is 0.\n",
    "+ Suppose we are at the right child of the root. The problem we need to solve is:\n",
    "    * Generate all 4-digit binary numbers, given the first 2 digits are 01.\n",
    "+ In general, if we are at an internal node, the problem we need to solve is:\n",
    "    * Generate all 4-digit binary numbers, given the first digits of that node.\n",
    "    * That internal node is an intermediate or \"partial\" solution.  We need to generate all complete solutions, starting with that partial solution."
   ]
  },
  {
   "cell_type": "markdown",
   "id": "ed64ea1c-3190-44a6-9f57-c6796394e76b",
   "metadata": {},
   "source": [
    "---\n",
    "Level 3: a little more procedure of how BT works.\n",
    "+ In a recursive design of BT, we actually do not generate partial solutions each level at a time.  Instead, we start from the root, and \"go deep\" to get the first complete solution (a leaf).  Then, we backtrack.\n",
    "+ In backtracking (especially, in many AI applications), often, we get to a partial solution that will lead to infeasible complete solutions.  At this point, we do not want to proceed expanding this partial solution.\n",
    "    * This is called \"tree pruning\".  This can make the process more efficient.\n",
    "+ We use only 1 list to keep track of all partial and complete solutions."
   ]
  },
  {
   "cell_type": "markdown",
   "id": "9a74fb0e-dd9e-4eb7-94bc-4d88b0c661a0",
   "metadata": {},
   "source": [
    "Generate all 4-digit binary numbers with leading digit of 0, but the second digit cannot be 1.\n",
    "\n",
    "<img src=\"https://i.imgur.com/fjfQ1FQ.png\" width=\"60%\">"
   ]
  },
  {
   "cell_type": "markdown",
   "id": "32599799-37b9-4145-aef7-43256833fe93",
   "metadata": {},
   "source": [
    "BT is a systematic approach to enumerate possibilities.\n",
    "\n",
    "+ All 4-digit binary numbers\n",
    "+ All sets with n items\n",
    "+ All permutations with n items\n",
    "+ All ways of coloring n items with k colors\n",
    "+ All non-attacking positions of n queens on an n-by-n chessboard"
   ]
  },
  {
   "cell_type": "markdown",
   "id": "dab806e1-aa83-4814-91c0-83e390b880c2",
   "metadata": {},
   "source": [
    "### Elements of backtracking\n",
    "\n",
    "```\n",
    "def backtrack(solution, i):\n",
    "    pass\n",
    "```\n",
    "\n",
    "solution is a partial/complete solution, and i is the current level.\n",
    "\n",
    "solution is a list.\n",
    "\n",
    "We use only 1 list to generate all solutions, one at a time."
   ]
  },
  {
   "cell_type": "markdown",
   "id": "aa2b74f0-aa17-4856-aab6-82f86b2321bb",
   "metadata": {},
   "source": [
    "### All sets\n",
    "\n",
    "Program interface\n",
    "+ all_4dbn(solution, i) -- print/generate all 4-digt binary numbers.\n",
    "+ At level i, the first i digits have been \"configured\".  \n",
    "    + solution[0], solution[1], ..., solution[i-1] have been \"configured\".\n",
    "    + We need to generate all 4-digit binary numbers, starting from this partial/incomplete solution.\n",
    "+ When we get to the leaf at the end, we simply print out the complete solution."
   ]
  },
  {
   "cell_type": "markdown",
   "id": "c7b9af1a-b7ca-4b9f-b7ee-a9bc5166faf3",
   "metadata": {},
   "source": [
    "<img src=\"https://i.imgur.com/618KZBe.png\" width=\"60%\">"
   ]
  },
  {
   "cell_type": "code",
   "execution_count": 3,
   "id": "38e01232-1351-48db-84cb-57174faff44a",
   "metadata": {},
   "outputs": [],
   "source": [
    "def all_4dbn(solution, i):\n",
    "    if i==len(solution):\n",
    "        print(solution)\n",
    "    else:\n",
    "        # 1. which node are we going to next? Answer: left and right.\n",
    "        # 'how many possibilities are there to configure solution[i]?'\n",
    "        # \"what do we set/configure solution[i]? Answer: 0 and 1\"\n",
    "        solution[i] = 0\n",
    "        all_4dbn(solution, i+1)\n",
    "        \n",
    "        # at this point right here: we backtrack to try the other possibility\n",
    "        solution[i] = 1\n",
    "        all_4dbn(solution, i+1)\n",
    "    "
   ]
  },
  {
   "cell_type": "code",
   "execution_count": 4,
   "id": "af10b294-4952-46d6-888b-5e6e09b588c2",
   "metadata": {},
   "outputs": [
    {
     "name": "stdout",
     "output_type": "stream",
     "text": [
      "[0, 0, 0, 0]\n",
      "[0, 0, 0, 1]\n",
      "[0, 0, 1, 0]\n",
      "[0, 0, 1, 1]\n",
      "[0, 1, 0, 0]\n",
      "[0, 1, 0, 1]\n",
      "[0, 1, 1, 0]\n",
      "[0, 1, 1, 1]\n",
      "[1, 0, 0, 0]\n",
      "[1, 0, 0, 1]\n",
      "[1, 0, 1, 0]\n",
      "[1, 0, 1, 1]\n",
      "[1, 1, 0, 0]\n",
      "[1, 1, 0, 1]\n",
      "[1, 1, 1, 0]\n",
      "[1, 1, 1, 1]\n"
     ]
    }
   ],
   "source": [
    "all_4dbn([None, None, None, None], 0)"
   ]
  },
  {
   "cell_type": "code",
   "execution_count": 5,
   "id": "37bd1178-d74f-424f-bf8d-ac65413057ca",
   "metadata": {},
   "outputs": [
    {
     "name": "stdout",
     "output_type": "stream",
     "text": [
      "[0, 0, 0, 0]\n",
      "[0, 0, 0, 1]\n",
      "[0, 0, 1, 0]\n",
      "[0, 0, 1, 1]\n",
      "[0, 1, 0, 0]\n",
      "[0, 1, 0, 1]\n",
      "[0, 1, 1, 0]\n",
      "[0, 1, 1, 1]\n"
     ]
    }
   ],
   "source": [
    "# all 4-digit binary numbers with first digit being 0\n",
    "all_4dbn([0, None, None, None], 1)"
   ]
  },
  {
   "cell_type": "code",
   "execution_count": 6,
   "id": "df5d0165-7a23-4eb2-b1db-c778c1aae3ab",
   "metadata": {},
   "outputs": [
    {
     "name": "stdout",
     "output_type": "stream",
     "text": [
      "[0, 0, 0, 0, 0, 0]\n",
      "[0, 0, 0, 0, 0, 1]\n",
      "[0, 0, 0, 0, 1, 0]\n",
      "[0, 0, 0, 0, 1, 1]\n",
      "[0, 0, 0, 1, 0, 0]\n",
      "[0, 0, 0, 1, 0, 1]\n",
      "[0, 0, 0, 1, 1, 0]\n",
      "[0, 0, 0, 1, 1, 1]\n",
      "[0, 0, 1, 0, 0, 0]\n",
      "[0, 0, 1, 0, 0, 1]\n",
      "[0, 0, 1, 0, 1, 0]\n",
      "[0, 0, 1, 0, 1, 1]\n",
      "[0, 0, 1, 1, 0, 0]\n",
      "[0, 0, 1, 1, 0, 1]\n",
      "[0, 0, 1, 1, 1, 0]\n",
      "[0, 0, 1, 1, 1, 1]\n",
      "[0, 1, 0, 0, 0, 0]\n",
      "[0, 1, 0, 0, 0, 1]\n",
      "[0, 1, 0, 0, 1, 0]\n",
      "[0, 1, 0, 0, 1, 1]\n",
      "[0, 1, 0, 1, 0, 0]\n",
      "[0, 1, 0, 1, 0, 1]\n",
      "[0, 1, 0, 1, 1, 0]\n",
      "[0, 1, 0, 1, 1, 1]\n",
      "[0, 1, 1, 0, 0, 0]\n",
      "[0, 1, 1, 0, 0, 1]\n",
      "[0, 1, 1, 0, 1, 0]\n",
      "[0, 1, 1, 0, 1, 1]\n",
      "[0, 1, 1, 1, 0, 0]\n",
      "[0, 1, 1, 1, 0, 1]\n",
      "[0, 1, 1, 1, 1, 0]\n",
      "[0, 1, 1, 1, 1, 1]\n",
      "[1, 0, 0, 0, 0, 0]\n",
      "[1, 0, 0, 0, 0, 1]\n",
      "[1, 0, 0, 0, 1, 0]\n",
      "[1, 0, 0, 0, 1, 1]\n",
      "[1, 0, 0, 1, 0, 0]\n",
      "[1, 0, 0, 1, 0, 1]\n",
      "[1, 0, 0, 1, 1, 0]\n",
      "[1, 0, 0, 1, 1, 1]\n",
      "[1, 0, 1, 0, 0, 0]\n",
      "[1, 0, 1, 0, 0, 1]\n",
      "[1, 0, 1, 0, 1, 0]\n",
      "[1, 0, 1, 0, 1, 1]\n",
      "[1, 0, 1, 1, 0, 0]\n",
      "[1, 0, 1, 1, 0, 1]\n",
      "[1, 0, 1, 1, 1, 0]\n",
      "[1, 0, 1, 1, 1, 1]\n",
      "[1, 1, 0, 0, 0, 0]\n",
      "[1, 1, 0, 0, 0, 1]\n",
      "[1, 1, 0, 0, 1, 0]\n",
      "[1, 1, 0, 0, 1, 1]\n",
      "[1, 1, 0, 1, 0, 0]\n",
      "[1, 1, 0, 1, 0, 1]\n",
      "[1, 1, 0, 1, 1, 0]\n",
      "[1, 1, 0, 1, 1, 1]\n",
      "[1, 1, 1, 0, 0, 0]\n",
      "[1, 1, 1, 0, 0, 1]\n",
      "[1, 1, 1, 0, 1, 0]\n",
      "[1, 1, 1, 0, 1, 1]\n",
      "[1, 1, 1, 1, 0, 0]\n",
      "[1, 1, 1, 1, 0, 1]\n",
      "[1, 1, 1, 1, 1, 0]\n",
      "[1, 1, 1, 1, 1, 1]\n"
     ]
    }
   ],
   "source": [
    "all_4dbn([None]*6, 0)"
   ]
  },
  {
   "cell_type": "code",
   "execution_count": 8,
   "id": "aa51f0c8-4b5c-4bc0-932b-c910d916802c",
   "metadata": {},
   "outputs": [],
   "source": [
    "def all_4dbn(solution, i):\n",
    "    if i==len(solution):\n",
    "        print(solution)\n",
    "    else:\n",
    "        for possibility in [0, 1]:\n",
    "            solution[i] = possibility\n",
    "            all_4dbn(solution, i+1)"
   ]
  },
  {
   "cell_type": "markdown",
   "id": "3423e761-ccec-4150-8d76-07c0e3760efc",
   "metadata": {},
   "source": [
    "#### Generate orderings/permutations\n",
    "\n",
    "An order/permutation with 3 numbers (0, 1, and 2) are:\n",
    "+ solution = [0, 1, 2]\n",
    "+ solution = [0, 2, 1]\n",
    "+ solution = [1, 0, 2]\n",
    "+ solution = [1, 2, 0]\n",
    "+ solution = [2, 0, 1]\n",
    "+ solution = [2, 1, 0]\n",
    "\n",
    "solution is a list of numbers.\n",
    "\n",
    "When we make this call **all_permutations(solution, i)**, solution has been configured at indices 0, 1, ..., i-1.\n",
    "\n",
    "We need to figure out what possibilities must be configured for solution[i].\n",
    "\n",
    "For each possibility, use the same technique to generate/expand the partial solution."
   ]
  },
  {
   "cell_type": "markdown",
   "id": "c4bf02f9-7bc7-4802-a201-855795620b27",
   "metadata": {},
   "source": [
    "\n"
   ]
  },
  {
   "cell_type": "code",
   "execution_count": 13,
   "id": "76f9350e-3564-4bc6-afaa-f6b66760a2d9",
   "metadata": {},
   "outputs": [],
   "source": [
    "def all_4dbn(solution, i):\n",
    "    if i==len(solution):\n",
    "        print(solution)\n",
    "    else:\n",
    "        for possibility in [0, 1]:\n",
    "            solution[i] = possibility\n",
    "            all_4dbn(solution, i+1)"
   ]
  },
  {
   "cell_type": "code",
   "execution_count": 12,
   "id": "49d989ba-d34e-4af9-baaa-e8b93e92cd98",
   "metadata": {},
   "outputs": [],
   "source": [
    "def all_permutations(solution, i):\n",
    "    if i==len(solution):\n",
    "        print(solution)\n",
    "    else:\n",
    "        pass"
   ]
  },
  {
   "cell_type": "markdown",
   "id": "00c35bc1-bc52-4c70-a014-0f9ab12688ff",
   "metadata": {},
   "source": [
    "suppose we need to generate all permutations for 0, 1, .., 9.\n",
    "\n",
    "Let's say at level i=5, with solution having been configured as follows:\n",
    "+ solution = [6, 2, 0, 1, 3, ???, None, None, None, None]\n",
    "+ How many possibilities we can set solution[5]?\n",
    "    + Answer: 4, 5, 7, 9, 8.\n",
    "\n",
    "\n"
   ]
  },
  {
   "cell_type": "code",
   "execution_count": 14,
   "id": "e901efb3-4483-400e-a5aa-aead44f3eae1",
   "metadata": {},
   "outputs": [],
   "source": [
    "def all_permutations(solution, i):\n",
    "    if i==len(solution):\n",
    "        print(solution)\n",
    "    else:\n",
    "        for possibility in range(len(solution)):\n",
    "            if possibility not in solution[0: i]:\n",
    "                solution[i] = possibility\n",
    "                all_permutations(solution, i+1)"
   ]
  },
  {
   "cell_type": "code",
   "execution_count": 20,
   "id": "d5b7bd4a-94e6-492f-9e9a-e67a0bc6487d",
   "metadata": {},
   "outputs": [
    {
     "name": "stdout",
     "output_type": "stream",
     "text": [
      "[0, 1, 2]\n",
      "[0, 2, 1]\n",
      "[1, 0, 2]\n",
      "[1, 2, 0]\n",
      "[2, 0, 1]\n",
      "[2, 1, 0]\n"
     ]
    }
   ],
   "source": [
    "all_permutations([None]*3, 0)"
   ]
  },
  {
   "cell_type": "markdown",
   "id": "7d75e822-7e05-4f63-a416-ef379131da1a",
   "metadata": {},
   "source": [
    "### The basic backtracking template"
   ]
  },
  {
   "cell_type": "code",
   "execution_count": 27,
   "id": "d4cdb9db-5af6-4ba3-ba76-b697931cb894",
   "metadata": {},
   "outputs": [],
   "source": [
    "def backtrack(solution, i, possibilities):\n",
    "    if i==len(solution):\n",
    "        print(solution)\n",
    "    else:\n",
    "        for possibility in possibilities:\n",
    "            solution[i] = possibility\n",
    "            backtrack(solution, i+1, possibilities)"
   ]
  },
  {
   "cell_type": "code",
   "execution_count": 32,
   "id": "2e82fdda-ece3-42e8-a1c5-724d5895684f",
   "metadata": {},
   "outputs": [
    {
     "name": "stdout",
     "output_type": "stream",
     "text": [
      "[0, 0, 0]\n",
      "[0, 0, 1]\n",
      "[0, 1, 0]\n",
      "[0, 1, 1]\n",
      "[1, 0, 0]\n",
      "[1, 0, 1]\n",
      "[1, 1, 0]\n",
      "[1, 1, 1]\n"
     ]
    }
   ],
   "source": [
    "backtrack([None]*3, 0, [0,1])"
   ]
  },
  {
   "cell_type": "code",
   "execution_count": 33,
   "id": "85cd0847-ba6f-4f4b-bd6e-5585f523b53b",
   "metadata": {},
   "outputs": [],
   "source": [
    "def backtrack(solution, i, possibilities):\n",
    "    if i==len(solution):\n",
    "        print(solution)\n",
    "    else:\n",
    "        for possibility in possibilities(solution, i):\n",
    "            solution[i] = possibility\n",
    "            backtrack(solution, i+1, possibilities)"
   ]
  },
  {
   "cell_type": "code",
   "execution_count": 35,
   "id": "0a1ca60f-a400-40a1-be9f-2360b2a22899",
   "metadata": {},
   "outputs": [],
   "source": [
    "def f(solution, i):\n",
    "    return [0,1]\n",
    "\n",
    "def g(solution, i):\n",
    "    return [j for j in range(len(solution)) if j not in solution[0:i]]\n"
   ]
  },
  {
   "cell_type": "code",
   "execution_count": 36,
   "id": "bb67aa86-4403-45e2-98bc-6b18046e5983",
   "metadata": {},
   "outputs": [
    {
     "name": "stdout",
     "output_type": "stream",
     "text": [
      "[0, 0, 0]\n",
      "[0, 0, 1]\n",
      "[0, 1, 0]\n",
      "[0, 1, 1]\n",
      "[1, 0, 0]\n",
      "[1, 0, 1]\n",
      "[1, 1, 0]\n",
      "[1, 1, 1]\n"
     ]
    }
   ],
   "source": [
    "backtrack([None]*3, 0, f)"
   ]
  },
  {
   "cell_type": "code",
   "execution_count": 37,
   "id": "7e57f37d-5867-4b5b-87dc-344e166b7e3b",
   "metadata": {},
   "outputs": [
    {
     "name": "stdout",
     "output_type": "stream",
     "text": [
      "[0, 1, 2]\n",
      "[0, 2, 1]\n",
      "[1, 0, 2]\n",
      "[1, 2, 0]\n",
      "[2, 0, 1]\n",
      "[2, 1, 0]\n"
     ]
    }
   ],
   "source": [
    "backtrack([None]*3, 0, g)"
   ]
  },
  {
   "cell_type": "code",
   "execution_count": 39,
   "id": "7a7cdab5-bdc6-4892-a1fe-2f7a3982b568",
   "metadata": {},
   "outputs": [
    {
     "data": {
      "text/plain": [
       "range(0, 100000000000)"
      ]
     },
     "execution_count": 39,
     "metadata": {},
     "output_type": "execute_result"
    }
   ],
   "source": [
    "range(100000000000)"
   ]
  },
  {
   "cell_type": "code",
   "execution_count": null,
   "id": "e7609ee9-496f-49a8-98ea-9b7135aa5de7",
   "metadata": {},
   "outputs": [],
   "source": []
  }
 ],
 "metadata": {
  "kernelspec": {
   "display_name": "Python 3 (ipykernel)",
   "language": "python",
   "name": "python3"
  },
  "language_info": {
   "codemirror_mode": {
    "name": "ipython",
    "version": 3
   },
   "file_extension": ".py",
   "mimetype": "text/x-python",
   "name": "python",
   "nbconvert_exporter": "python",
   "pygments_lexer": "ipython3",
   "version": "3.9.12"
  }
 },
 "nbformat": 4,
 "nbformat_minor": 5
}
