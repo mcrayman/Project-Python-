{
 "cells": [
  {
   "cell_type": "markdown",
   "id": "bb0996bc-9988-47cf-84f6-a6658364dcc7",
   "metadata": {},
   "source": [
    "# Profit Maximization"
   ]
  },
  {
   "cell_type": "markdown",
   "id": "418d29d4-2870-4a47-a548-f0891d97d460",
   "metadata": {},
   "source": [
    "#### Review of Knapsack\n",
    "\n",
    "Items: { Apple, Orange, Banana, Melon }\n",
    "\n",
    "Weights: { 2, 3, 1, 4 }\n",
    "\n",
    "Profits: { 4, 5, 3, 7 }\n",
    "\n",
    "Knapsack Capacity, C : 5\n",
    "\n",
    "Which items do we select to maximize the profit?\n",
    "\n",
    "A solution: {Banana, Melon}\n",
    "+ weight = 1+4 = 5\n",
    "+ profit = 3+7 = 10\n",
    "\n",
    "#### A formulation of the problem\n",
    "* Program's interface: Knapsack(weights, profits, C, i)\n",
    "    + Semantic: the max profit of packing the items 0, 1, ..., i into a knapsack with capacity C.\n",
    "    + We only consider items 0, 1, ..., i\n",
    "    + The extra parameter i allows us to guarantee that an item is selected at once.\n",
    "* Sequence of actions: taking an item at a time.\n",
    "* Choices of each action: we can either take item i, or we do not take item i.\n",
    "    "
   ]
  },
  {
   "cell_type": "code",
   "execution_count": 6,
   "id": "0c0e9a63-ce0d-4999-8132-c084b2b2940b",
   "metadata": {},
   "outputs": [],
   "source": [
    "def KNAPSACK(weights, profits, C):\n",
    "    def Knapsack(C, i):\n",
    "        if i==0:\n",
    "            if C >= weights[0]:      # we take item 0\n",
    "                return profits[0]\n",
    "            else:                    # we do not item 0\n",
    "                return 0\n",
    "        else:\n",
    "            # profit if we don't take item i\n",
    "            case1 = Knapsack(C, i-1)\n",
    "            if C < weights[i]:\n",
    "                return case1\n",
    "            \n",
    "            # profit it we take item i\n",
    "            case2 = Knapsack(C-weights[i], i-1) + profits[i]\n",
    "            return max(case1, case2)\n",
    "\n",
    "    return Knapsack(C, len(weights)-1)"
   ]
  },
  {
   "cell_type": "code",
   "execution_count": 7,
   "id": "5f36709a-c9ca-4264-8287-d6331908cca4",
   "metadata": {},
   "outputs": [
    {
     "data": {
      "text/plain": [
       "10"
      ]
     },
     "execution_count": 7,
     "metadata": {},
     "output_type": "execute_result"
    }
   ],
   "source": [
    "KNAPSACK([2,3,1,4], [4,5,3,7], 5)"
   ]
  },
  {
   "cell_type": "markdown",
   "id": "a09a8148-8c0c-42a4-86e5-762ab0e12bfe",
   "metadata": {},
   "source": [
    "**Exercise:** Use a table to store outputs so that we don't have to recompute them again."
   ]
  },
  {
   "cell_type": "markdown",
   "id": "cd77387b-4e13-43e5-9095-c2627bcf41cb",
   "metadata": {},
   "source": [
    "### Learning goals:\n",
    "+ Determine the possibilities for breaking down a problem into subproblems.\n",
    "+ Express the decomposition using the program's interface.\n",
    "+ Express the logic in code."
   ]
  },
  {
   "cell_type": "markdown",
   "id": "b8d3d5fc-c662-4db5-98bb-b4436c0747c2",
   "metadata": {},
   "source": [
    "### Profit Maximization\n",
    "\n",
    "* There are $n$ **types** of items.\n",
    "* Item of type $i$ has value $v_i$ and weight $w_i$.\n",
    "* Capacity: $C$\n",
    "\n",
    "Take as many items (of any time) as you want but the total weight cannot exceed the capacity."
   ]
  },
  {
   "cell_type": "markdown",
   "id": "f45423ca-4414-4ce4-8926-7838f91fd14f",
   "metadata": {},
   "source": [
    "**An example**: Five items; C = 8; \n",
    "+ weights = [1, 3, 4, 5, 9]\n",
    "+ values = [10, 40, 50, 70, 60]\n",
    "\n",
    "If we take items {0, 1, 2}, the value is 10+40+50."
   ]
  },
  {
   "cell_type": "markdown",
   "id": "08f8f2a5-82c1-48da-a5f9-28f55677fa73",
   "metadata": {},
   "source": [
    "---\n",
    "#### Problem decomposition\n",
    "+ **The program's interface**: max_profit(weights, values, W) \n",
    "+ **The sequence of actions**: taking an item at a time.\n",
    "+ **The possibilities that each action can take**.\n",
    "\n"
   ]
  },
  {
   "cell_type": "code",
   "execution_count": null,
   "id": "99ca57df-e211-4249-a8ac-5605a764aa65",
   "metadata": {},
   "outputs": [],
   "source": []
  },
  {
   "cell_type": "code",
   "execution_count": null,
   "id": "9ba79802-2e6d-457f-b8f8-69229e20c5d7",
   "metadata": {},
   "outputs": [],
   "source": [
    "def max_profit(weights, values, W):\n",
    "    pass\n"
   ]
  }
 ],
 "metadata": {
  "kernelspec": {
   "display_name": "Python 3 (ipykernel)",
   "language": "python",
   "name": "python3"
  },
  "language_info": {
   "codemirror_mode": {
    "name": "ipython",
    "version": 3
   },
   "file_extension": ".py",
   "mimetype": "text/x-python",
   "name": "python",
   "nbconvert_exporter": "python",
   "pygments_lexer": "ipython3",
   "version": "3.9.7"
  }
 },
 "nbformat": 4,
 "nbformat_minor": 5
}
