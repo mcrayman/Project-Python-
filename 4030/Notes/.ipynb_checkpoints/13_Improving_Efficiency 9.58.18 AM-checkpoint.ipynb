{
 "cells": [
  {
   "cell_type": "markdown",
   "id": "bb8cd8ac-26d7-4432-9d7f-36e00ff1ec5d",
   "metadata": {},
   "source": [
    "# Improving Efficiency of Recursive Programs"
   ]
  },
  {
   "cell_type": "markdown",
   "id": "53c1ff01-9efd-4325-bb86-208d3ba8319c",
   "metadata": {},
   "source": [
    "Some designs are wasteful when the subtasks overlap."
   ]
  },
  {
   "cell_type": "markdown",
   "id": "4bd46485-0975-4085-80cc-1a2b55a16d35",
   "metadata": {},
   "source": [
    "Merge sort is an example of an efficient design."
   ]
  },
  {
   "cell_type": "markdown",
   "id": "1fe890ed-6e13-48b4-a37d-293cba5b042c",
   "metadata": {},
   "source": [
    "### An example: Climbing Stairs"
   ]
  },
  {
   "cell_type": "markdown",
   "id": "73b53bba-c2e6-4f79-b7b3-19de3a14d9b0",
   "metadata": {},
   "source": [
    "In this problem, we walk up a stair with $n$ steps, and we want to count the number of ways to go up n steps.\n",
    "\n",
    "To walk up a stair, we need to make a sequence of moves. In each move, we can only go up 1 step or 2 steps.\n",
    "\n",
    "Question: how many ways can we go up a stair with $n$ steps?"
   ]
  },
  {
   "cell_type": "code",
   "execution_count": null,
   "id": "ab7a7476-9d96-474e-9c5b-26ee140115a6",
   "metadata": {},
   "outputs": [],
   "source": []
  },
  {
   "cell_type": "code",
   "execution_count": null,
   "id": "2525d4ca-5cc1-495b-8e97-b0c1f5903423",
   "metadata": {},
   "outputs": [],
   "source": []
  },
  {
   "cell_type": "code",
   "execution_count": null,
   "id": "f8326a32-94a8-4a8a-888a-f592aae78bd0",
   "metadata": {},
   "outputs": [],
   "source": []
  },
  {
   "cell_type": "code",
   "execution_count": null,
   "id": "79c8e28f-f4ac-46b2-a2be-f6f77319794b",
   "metadata": {},
   "outputs": [],
   "source": []
  },
  {
   "cell_type": "code",
   "execution_count": null,
   "id": "62dedba4-5236-41c2-8b96-39eb1b04e57b",
   "metadata": {},
   "outputs": [],
   "source": []
  },
  {
   "cell_type": "code",
   "execution_count": null,
   "id": "8b2694f1-a87b-41a0-be19-61e60f7b4260",
   "metadata": {},
   "outputs": [],
   "source": []
  },
  {
   "cell_type": "code",
   "execution_count": null,
   "id": "a03c4097-6e52-431e-ad9e-44b0973d42ff",
   "metadata": {},
   "outputs": [],
   "source": []
  },
  {
   "cell_type": "markdown",
   "id": "80f46865-261d-44ed-94c6-7df9be5f4104",
   "metadata": {},
   "source": [
    "### Example: Making Change\n",
    "\n",
    "Determine out if it's possible to make change for X dollars using certain coin values.\n",
    "\n",
    "Examples: \n",
    "\n",
    "* Can we make change for 19 dollars using coin values 5 and 7?\n",
    "* Can we make change for 99 dollars using coin values 5 and 7?\n"
   ]
  },
  {
   "cell_type": "code",
   "execution_count": null,
   "id": "8748a8ba-337b-4bbc-8269-dcb5cf0d25e7",
   "metadata": {},
   "outputs": [],
   "source": []
  }
 ],
 "metadata": {
  "kernelspec": {
   "display_name": "Python 3 (ipykernel)",
   "language": "python",
   "name": "python3"
  },
  "language_info": {
   "codemirror_mode": {
    "name": "ipython",
    "version": 3
   },
   "file_extension": ".py",
   "mimetype": "text/x-python",
   "name": "python",
   "nbconvert_exporter": "python",
   "pygments_lexer": "ipython3",
   "version": "3.9.12"
  }
 },
 "nbformat": 4,
 "nbformat_minor": 5
}
