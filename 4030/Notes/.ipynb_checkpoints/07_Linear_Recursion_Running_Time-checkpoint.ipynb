{
 "cells": [
  {
   "cell_type": "markdown",
   "id": "dd9b6731-b47f-422a-9e07-fd884e78a443",
   "metadata": {},
   "source": [
    "# Running Time of Linearly Recursive Strategies\n",
    "\n",
    "Goals:\n",
    "+ Know how to specify running time equations\n",
    "    + Using specific numbers: e.g. T(n) = 5n + 2.   Not the best way.\n",
    "    + Using constants: e.g. T(n) = an + b.  Better.\n",
    "+ Use repeated substitutions"
   ]
  },
  {
   "cell_type": "code",
   "execution_count": 1,
   "id": "c18d4bd0-695f-4fe8-bfec-9b250195553d",
   "metadata": {},
   "outputs": [],
   "source": [
    "def string_reverse(s):\n",
    "    if len(s) <= 1:\n",
    "        return s\n",
    "    else:\n",
    "        first = s[0]\n",
    "        remaining_of_s = s[1:]\n",
    "        reverse_of_remaining_of_s = string_reverse( remaining_of_s )\n",
    "        return reverse_of_remaining_of_s + first\n"
   ]
  },
  {
   "cell_type": "markdown",
   "id": "a7d1806a-950e-4c87-8d1c-fe59d18e34dc",
   "metadata": {},
   "source": [
    "#### Case 1: step 6 takes $\\Theta(n)$ time"
   ]
  },
  {
   "cell_type": "code",
   "execution_count": null,
   "id": "a75fab92-5756-4272-87ac-4101a6028b50",
   "metadata": {},
   "outputs": [],
   "source": []
  },
  {
   "cell_type": "markdown",
   "id": "085c5082-218b-496e-8ceb-7160c954f6e3",
   "metadata": {},
   "source": [
    "#### Case 2: step 6 takes $\\Theta(1)$ time"
   ]
  },
  {
   "cell_type": "code",
   "execution_count": null,
   "id": "1ceb5035-cc4b-40a7-aae0-6336d3c2b654",
   "metadata": {},
   "outputs": [],
   "source": []
  }
 ],
 "metadata": {
  "kernelspec": {
   "display_name": "Python 3 (ipykernel)",
   "language": "python",
   "name": "python3"
  },
  "language_info": {
   "codemirror_mode": {
    "name": "ipython",
    "version": 3
   },
   "file_extension": ".py",
   "mimetype": "text/x-python",
   "name": "python",
   "nbconvert_exporter": "python",
   "pygments_lexer": "ipython3",
   "version": "3.9.7"
  }
 },
 "nbformat": 4,
 "nbformat_minor": 5
}
