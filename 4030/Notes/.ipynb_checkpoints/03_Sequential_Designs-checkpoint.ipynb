{
 "cells": [
  {
   "cell_type": "markdown",
   "id": "7a2e0497-baa7-409c-a517-424584293908",
   "metadata": {},
   "source": [
    "# Sequential Designs\n",
    "\n",
    "Learning goals:\n",
    "+ Master how to iterate data using loops.\n",
    "+ Know how to go through a collection to filter and accumulate.\n",
    "+ Know how to estimate the number of steps in loops.\n",
    "+ Understand nested loops.\n",
    "\n",
    "Exercises:\n",
    "+ Select even numbers from a list\n",
    "+ Generate random numbers\n",
    "+ List comprehension: procedural versus declarative programming\n",
    "+ Squares of odd numbers\n",
    "+ Cubes of odd numbers\n",
    "+ Functions as arguments\n",
    "+ Selecting sentences that satisfy a pattern."
   ]
  },
  {
   "cell_type": "markdown",
   "id": "e3e191e3-f8af-4153-b64f-fe25f55b5de5",
   "metadata": {
    "tags": []
   },
   "source": [
    "### Ex1\n",
    "\n",
    "Define a python funciton that takes input a list and returns another list containing all even numbers from the input list."
   ]
  },
  {
   "cell_type": "code",
   "execution_count": 5,
   "id": "d76b1a78-7c39-4297-8a09-810d3d668034",
   "metadata": {},
   "outputs": [],
   "source": [
    "def select_even_numbers(L):\n",
    "    evens = []\n",
    "    for num in L:\n",
    "        if num % 2 == 0:\n",
    "            evens.append(num)\n",
    "    return evens"
   ]
  },
  {
   "cell_type": "code",
   "execution_count": 6,
   "id": "f689565d-9e71-4e1a-a146-2a6c1f74b731",
   "metadata": {},
   "outputs": [
    {
     "data": {
      "text/plain": [
       "[2, 4, 6, 8, 4]"
      ]
     },
     "execution_count": 6,
     "metadata": {},
     "output_type": "execute_result"
    }
   ],
   "source": [
    "select_even_numbers([1,2,3,4,5,6,7,8,1,4])"
   ]
  },
  {
   "cell_type": "markdown",
   "id": "0307c4ac-0e2d-42da-848c-fd602d02b91a",
   "metadata": {},
   "source": [
    "Translating python into english:\n",
    "    \n",
    "+ We define a Python function calles select_even_numbers, which has a list of numbers as input>\n",
    "\n",
    "+ We start with an empyt list, evens.\n",
    "\n",
    "+ Its looking through each number in the list for all numbers divisible by 2 and it is added to the even list.\n",
    "\n",
    "+ We **go through each item of the list**. And if the number si divisible by 2 it is even.\n",
    "\n",
    "+ Finally we return the list."
   ]
  },
  {
   "cell_type": "markdown",
   "id": "80edc18f-4346-4f42-9aaa-e9ddd4676481",
   "metadata": {},
   "source": [
    "## Ex2\n",
    "\n",
    "Define a python function that takes as input alist and returns another list containing items (in the input list), which satisfy a certian property.\n",
    "\n",
    "This property can be any condition that can be anything.\n",
    "\n",
    "Examples \n",
    "+ The condition can check if a number is even.\n",
    "+ The condition can check if a string has the word.\"Microsoft\"\n"
   ]
  },
  {
   "cell_type": "code",
   "execution_count": 12,
   "id": "4bc4e6a0-72cc-4d09-b176-36c0a2cfce4d",
   "metadata": {},
   "outputs": [],
   "source": [
    "#\n",
    "# L: a list of strings\n",
    "# condition: a function that\n",
    "# inpuut of \"condition\": a thing\n",
    "# output of \"condition\": True or False\n",
    "#\n",
    "def select_items(L, condition):\n",
    "    collector = []\n",
    "    for thing in L:\n",
    "        if condition(thing) == True\n",
    "            collector.append(thing)\n",
    "    return collector\n",
    "        \n",
    "    \n",
    "        \n",
    "    "
   ]
  },
  {
   "cell_type": "markdown",
   "id": "fa6d101c-5b23-45c4-9288-121e6b577452",
   "metadata": {
    "tags": []
   },
   "source": [
    "Strategy\n",
    "+ Start with an empty collector (a list).\n",
    "+ Go through the list L one by one, and check if the current item satisfies the conditions. If so, append it to the collector.\n",
    "+ Return the collector."
   ]
  },
  {
   "cell_type": "code",
   "execution_count": 16,
   "id": "5d90a56e-c329-44a9-b74d-f97097088b98",
   "metadata": {},
   "outputs": [],
   "source": [
    "def is_even(number):\n",
    "    if number % 2 == 0:\n",
    "        return True\n",
    "    else:\n",
    "        return False\n",
    "    \n",
    "def is_even(number):\n",
    "    return number % 2 == 0"
   ]
  },
  {
   "cell_type": "code",
   "execution_count": null,
   "id": "a91e2841-f954-4ed6-a33b-4e940968d000",
   "metadata": {},
   "outputs": [],
   "source": [
    "def is_odd(number):\n",
    "    if number % 2 == 1:\n",
    "        return True\n",
    "    else:\n",
    "        return False\n",
    "    \n",
    "is_odd = lambda n: n % 2 = 1"
   ]
  },
  {
   "cell_type": "code",
   "execution_count": 18,
   "id": "523b2d0c-ac47-4019-bc13-9cc7f53f9ca6",
   "metadata": {},
   "outputs": [
    {
     "ename": "TypeError",
     "evalue": "select_items() takes 1 positional argument but 2 were given",
     "output_type": "error",
     "traceback": [
      "\u001b[0;31m---------------------------------------------------------------------------\u001b[0m",
      "\u001b[0;31mTypeError\u001b[0m                                 Traceback (most recent call last)",
      "Cell \u001b[0;32mIn[18], line 1\u001b[0m\n\u001b[0;32m----> 1\u001b[0m \u001b[43mselect_items\u001b[49m\u001b[43m(\u001b[49m\u001b[43m[\u001b[49m\u001b[38;5;241;43m1\u001b[39;49m\u001b[43m,\u001b[49m\u001b[38;5;241;43m2\u001b[39;49m\u001b[43m,\u001b[49m\u001b[38;5;241;43m3\u001b[39;49m\u001b[43m,\u001b[49m\u001b[38;5;241;43m4\u001b[39;49m\u001b[43m,\u001b[49m\u001b[38;5;241;43m5\u001b[39;49m\u001b[43m,\u001b[49m\u001b[38;5;241;43m5\u001b[39;49m\u001b[43m,\u001b[49m\u001b[38;5;241;43m10\u001b[39;49m\u001b[43m,\u001b[49m\u001b[38;5;241;43m2\u001b[39;49m\u001b[43m,\u001b[49m\u001b[38;5;241;43m21\u001b[39;49m\u001b[43m]\u001b[49m\u001b[43m,\u001b[49m\u001b[43m \u001b[49m\u001b[43mis_even\u001b[49m\u001b[43m)\u001b[49m\n\u001b[1;32m      2\u001b[0m select_items([\u001b[38;5;241m1\u001b[39m,\u001b[38;5;241m2\u001b[39m,\u001b[38;5;241m3\u001b[39m,\u001b[38;5;241m4\u001b[39m,\u001b[38;5;241m5\u001b[39m,\u001b[38;5;241m5\u001b[39m,\u001b[38;5;241m10\u001b[39m,\u001b[38;5;241m2\u001b[39m,\u001b[38;5;241m21\u001b[39m], is_odd)\n",
      "\u001b[0;31mTypeError\u001b[0m: select_items() takes 1 positional argument but 2 were given"
     ]
    }
   ],
   "source": [
    "select_items([1,2,3,4,5,5,10,2,21], is_even)\n",
    "select_items([1,2,3,4,5,5,10,2,21], is_odd)"
   ]
  },
  {
   "cell_type": "markdown",
   "id": "2f50f9ef-5dc3-4eea-a071-571198fabb32",
   "metadata": {
    "tags": []
   },
   "source": [
    "### Parsing through texts"
   ]
  },
  {
   "cell_type": "code",
   "execution_count": 22,
   "id": "d3d989d4-4e99-45c7-ac88-a2e102a339d4",
   "metadata": {},
   "outputs": [],
   "source": [
    "import requests\n",
    "from bs4 import BeautifulSoup"
   ]
  },
  {
   "cell_type": "code",
   "execution_count": 9,
   "id": "86ebedd1-30f6-43dd-9e56-0d311e4d60ad",
   "metadata": {},
   "outputs": [],
   "source": [
    "url = 'https://composingprograms.com/pages/43-declarative-programming.html'\n",
    "result = requests.get(url)"
   ]
  },
  {
   "cell_type": "markdown",
   "id": "852bbc07-6d3a-4470-b85e-b99635d5bd95",
   "metadata": {},
   "source": [
    "Grab the paragraphs from this page."
   ]
  },
  {
   "cell_type": "code",
   "execution_count": null,
   "id": "7cc7d664-6e98-437a-a571-29104891eda1",
   "metadata": {},
   "outputs": [],
   "source": [
    "soup = BeautifulSoup(result.text, 'html.parser')"
   ]
  },
  {
   "cell_type": "code",
   "execution_count": null,
   "id": "ba606254-67b3-4b9c-b3df-cf87ebe089c1",
   "metadata": {},
   "outputs": [],
   "source": [
    "paragraphs = soup.find_all('p')"
   ]
  },
  {
   "cell_type": "code",
   "execution_count": 23,
   "id": "6e7e9124-c8e8-4ba8-9233-d1dbfbc95d2f",
   "metadata": {},
   "outputs": [
    {
     "ename": "NameError",
     "evalue": "name 'paragraphs' is not defined",
     "output_type": "error",
     "traceback": [
      "\u001b[0;31m---------------------------------------------------------------------------\u001b[0m",
      "\u001b[0;31mNameError\u001b[0m                                 Traceback (most recent call last)",
      "Cell \u001b[0;32mIn[23], line 1\u001b[0m\n\u001b[0;32m----> 1\u001b[0m \u001b[43mparagraphs\u001b[49m[\u001b[38;5;241m0\u001b[39m]\u001b[38;5;241m.\u001b[39mtext\n",
      "\u001b[0;31mNameError\u001b[0m: name 'paragraphs' is not defined"
     ]
    }
   ],
   "source": [
    "paragraphs[0].text"
   ]
  },
  {
   "cell_type": "code",
   "execution_count": null,
   "id": "ab3ee077-8a9c-4b20-9d4a-20eb31a3c232",
   "metadata": {},
   "outputs": [],
   "source": [
    "selected_paragraphs = select_items(paragraphs, lambda p: 'database'"
   ]
  },
  {
   "cell_type": "markdown",
   "id": "87ba3244-9eb0-4600-98ee-252b46d2a209",
   "metadata": {},
   "source": [
    "### Procedural vs declaritive programming\n",
    "A procedural programming style specifies the steps that that program goes through to ger the result. \n",
    "\n",
    "A procedural programmind styel specifies \"how\" something works.\n",
    "\n",
    "A procedural programming style specifies \"what\" something is."
   ]
  },
  {
   "cell_type": "code",
   "execution_count": null,
   "id": "1e9321fb-a9f0-4500-9966-97916f28ff39",
   "metadata": {},
   "outputs": [],
   "source": [
    "def select_even_numbers(L):\n",
    "    evens = []\n",
    "    for num in L:\n",
    "        if num % 2 == 0:\n",
    "            evens.append(num)\n",
    "    return evens\n"
   ]
  },
  {
   "cell_type": "markdown",
   "id": "0bee8905-b472-4c2b-8d19-bc1e93319dc0",
   "metadata": {},
   "source": [
    "Heres a declarative solution that accoplishes the same thing.      "
   ]
  },
  {
   "cell_type": "code",
   "execution_count": null,
   "id": "d0f88924-ce09-45da-aa51-d95703016bb6",
   "metadata": {},
   "outputs": [],
   "source": [
    "def select_even_numbers(L):\n",
    "    output = [number for number in L if number % 2 == 0]\n",
    "    return output"
   ]
  },
  {
   "cell_type": "markdown",
   "id": "4132059d-14a5-4c7e-9b9d-b7f7b6cc0e90",
   "metadata": {},
   "source": [
    "In English this reads: \"output is a list of numbers L that is even\""
   ]
  },
  {
   "cell_type": "code",
   "execution_count": 24,
   "id": "028cb9ff-f774-4398-9bf9-4b5f64adcb3f",
   "metadata": {},
   "outputs": [
    {
     "data": {
      "text/plain": [
       "[2, 4]"
      ]
     },
     "execution_count": 24,
     "metadata": {},
     "output_type": "execute_result"
    }
   ],
   "source": [
    "select_even_numbers([1,2,3,4,5,3,3])"
   ]
  },
  {
   "cell_type": "markdown",
   "id": "732e9f39-33dc-44d8-8167-b2c56aafc8fe",
   "metadata": {},
   "source": [
    "This is list comprehention."
   ]
  },
  {
   "cell_type": "markdown",
   "id": "de279436-2f8f-40b4-a705-d3c0b2c316a0",
   "metadata": {},
   "source": [
    "esc b for new cell below esc b for new cell above "
   ]
  },
  {
   "cell_type": "markdown",
   "id": "9edf2207-5516-4dba-8898-f57745c0bd55",
   "metadata": {},
   "source": [
    "### Summary\n",
    "\n",
    "We've learned/reviewed the sequential algorithmic pattern: going through a list of things to do what we want.\n",
    "\n",
    "There are some key ideas we picked up along the way.\n",
    "\n",
    "+ It's important to think and articulate your thinking in English and Python.\n",
    "\n",
    "+ Declarative programming can be useful. But we must know what it is."
   ]
  },
  {
   "cell_type": "code",
   "execution_count": null,
   "id": "58a14e7d-bf33-4c83-9c54-f2ac1b6a0518",
   "metadata": {},
   "outputs": [],
   "source": []
  }
 ],
 "metadata": {
  "kernelspec": {
   "display_name": "Python 3 (ipykernel)",
   "language": "python",
   "name": "python3"
  },
  "language_info": {
   "codemirror_mode": {
    "name": "ipython",
    "version": 3
   },
   "file_extension": ".py",
   "mimetype": "text/x-python",
   "name": "python",
   "nbconvert_exporter": "python",
   "pygments_lexer": "ipython3",
   "version": "3.9.12"
  }
 },
 "nbformat": 4,
 "nbformat_minor": 5
}
