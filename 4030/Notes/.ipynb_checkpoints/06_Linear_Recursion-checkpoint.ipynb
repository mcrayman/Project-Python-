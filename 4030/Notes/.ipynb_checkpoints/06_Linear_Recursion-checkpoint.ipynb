{
 "cells": [
  {
   "cell_type": "markdown",
   "id": "89fe33f4-4f5d-487f-91bb-3c9171e8e10a",
   "metadata": {},
   "source": [
    "# Linear Recursion\n",
    "\n",
    "Recursion is an effective way to solve problems."
   ]
  },
  {
   "cell_type": "markdown",
   "id": "17cb22a8-7031-407c-a670-4d97b22089c1",
   "metadata": {},
   "source": [
    "Skills and concepts to master\n",
    "+ Understand input size\n",
    "+ Explain recursive strategies in English.\n",
    "+ Design recursive programs, given a strategy (described in English)\n",
    "    * What a function does versus how a function does its job.\n",
    "+ Handle the case when input is not decreased and must be solved directly.\n",
    "\n",
    "\n",
    "Problems\n",
    "+ Counting from a list\n",
    "+ Checking if a string is a palindrome\n",
    "+ Reversing a list\n",
    "+ Finding a minimum number in a list\n",
    "+ Bubble sort"
   ]
  },
  {
   "cell_type": "markdown",
   "id": "85d8b7ce-86ba-4588-85cb-fead26935147",
   "metadata": {},
   "source": [
    "### Task: count the number of times x occurs in a list.\n",
    "\n",
    "Goal: \n",
    "+ think about how to solve this in English, recursively.\n",
    "+ implement that idea in Python.\n",
    "\n",
    "Strategy in English:\n",
    "+ Compare x to first item L[0].\n",
    "    + If x==L[0], then the frequency of x is 1 + its frequency in the remaining list.\n",
    "        + we'll calculate x's frequency in the remaining list, using the same strategy.\n",
    "    + If x!=L[0], then the frequency of x is the same as its frequency in the remaining list.\n",
    "    \n",
    "+ Using this strategy, eventually, we'll have to deal with an empty list.\n",
    "    \n",
    "    "
   ]
  },
  {
   "cell_type": "code",
   "execution_count": 7,
   "id": "008ba883-884b-4fcd-ba87-beb2ce6b2d76",
   "metadata": {},
   "outputs": [],
   "source": [
    "# \n",
    "# Input: L a list, x a number\n",
    "# Output: the number of times x occurs in a list.\n",
    "#\n",
    "def count(L, x):\n",
    "    if L==[]:\n",
    "        return 0\n",
    "    if x == L[0]:\n",
    "        freq_x_in_remaining_list = count(L[1:], x)\n",
    "        return 1 + freq_x_in_remaining_list\n",
    "    else:\n",
    "        freq_x_in_remaining_list = count(L[1:], x)\n",
    "        return freq_x_in_remaining_list\n"
   ]
  },
  {
   "cell_type": "markdown",
   "id": "6f969050-bf84-4c78-aa3f-03c6fa073401",
   "metadata": {},
   "source": [
    "Note: it can be difficult to conceptualize that \"computing the frequency of x in the remaining list\" can be done using a recursive call."
   ]
  },
  {
   "cell_type": "code",
   "execution_count": 8,
   "id": "ab901d56-3510-4131-86ff-4453e46e92f8",
   "metadata": {},
   "outputs": [
    {
     "data": {
      "text/plain": [
       "2"
      ]
     },
     "execution_count": 8,
     "metadata": {},
     "output_type": "execute_result"
    }
   ],
   "source": [
    "count([2,3,5,1,3], 3)  # answer: 2"
   ]
  },
  {
   "cell_type": "markdown",
   "id": "6fdba5a8-87c6-464e-8256-bbe74714364c",
   "metadata": {},
   "source": [
    "The number of times x occurs in L =\n",
    "\n",
    "* 0 + the of times x occurs in the rest of L (w.o. the first item != x)\n",
    "* 1 + the of times x occurs in the rest of L (w.o. the first item == x)\n",
    "\n"
   ]
  },
  {
   "cell_type": "markdown",
   "id": "3f365575-7f1d-4ef6-bd96-e6086ed1d395",
   "metadata": {},
   "source": [
    "L = [1,2,3,4,1,5,32,230,32]\n",
    "\n",
    "x = 1\n",
    "\n"
   ]
  },
  {
   "cell_type": "markdown",
   "id": "c7cb9a31-54ec-4e18-81c2-d005285963c2",
   "metadata": {},
   "source": [
    "### Task: Check if a list is a palindrome.\n",
    "\n",
    "A palindrome is a list that is the same if you read it in reverse.\n",
    "\n",
    "Examples:\n",
    "* [1, 3, 1]\n",
    "* [2, 5, 5, 2]\n",
    "* [10]\n",
    "* []\n"
   ]
  },
  {
   "cell_type": "code",
   "execution_count": 10,
   "id": "38345c38-ef3a-424c-8b4b-a09a05c00244",
   "metadata": {},
   "outputs": [],
   "source": [
    "#\n",
    "# Input: L\n",
    "# Output: True or False\n",
    "#\n",
    "def is_palindrome(L):\n",
    "    pass\n",
    "\n"
   ]
  },
  {
   "cell_type": "markdown",
   "id": "1542bfd7-f6aa-429a-8c2e-a406708f1cf3",
   "metadata": {},
   "source": [
    "Note: Python slicing"
   ]
  },
  {
   "cell_type": "code",
   "execution_count": null,
   "id": "74fb1785-b826-4756-bb00-676277c3d6b5",
   "metadata": {},
   "outputs": [],
   "source": []
  }
 ],
 "metadata": {
  "kernelspec": {
   "display_name": "Python 3 (ipykernel)",
   "language": "python",
   "name": "python3"
  },
  "language_info": {
   "codemirror_mode": {
    "name": "ipython",
    "version": 3
   },
   "file_extension": ".py",
   "mimetype": "text/x-python",
   "name": "python",
   "nbconvert_exporter": "python",
   "pygments_lexer": "ipython3",
   "version": "3.9.12"
  }
 },
 "nbformat": 4,
 "nbformat_minor": 5
}
