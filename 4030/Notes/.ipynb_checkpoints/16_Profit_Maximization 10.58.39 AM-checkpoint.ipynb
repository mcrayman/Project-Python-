{
 "cells": [
  {
   "cell_type": "markdown",
   "id": "bb0996bc-9988-47cf-84f6-a6658364dcc7",
   "metadata": {},
   "source": [
    "# Profit Maximization"
   ]
  },
  {
   "cell_type": "markdown",
   "id": "418d29d4-2870-4a47-a548-f0891d97d460",
   "metadata": {},
   "source": [
    "#### Review of Knapsack\n",
    "\n",
    "Items: { Apple, Orange, Banana, Melon }\n",
    "\n",
    "Weights: { 2, 3, 1, 4 }\n",
    "\n",
    "Profits: { 4, 5, 3, 7 }\n",
    "\n",
    "Knapsack Capacity, C : 5\n",
    "\n",
    "Which items do we select to maximize the profit?\n",
    "\n",
    "A solution: {Banana, Melon}\n",
    "+ weight = 1+4 = 5\n",
    "+ profit = 3+7 = 10\n",
    "\n",
    "#### A formulation of the problem\n",
    "\n",
    "**The basics**:\n",
    "* Program's interface: Knapsack(weights, profits, C, i)\n",
    "    + Semantic: the max profit of packing the items 0, 1, ..., i into a knapsack with capacity C.\n",
    "    + We only consider items 0, 1, ..., i\n",
    "    + The extra parameter i allows us to guarantee that an item is selected at once.\n",
    "* Sequence of actions: taking an item at a time.\n",
    "* Choices of each action: we either take item i, or we do not take item i.\n",
    "    "
   ]
  },
  {
   "cell_type": "markdown",
   "id": "bf90056d-4063-4b8e-925e-840b7f8ba3ff",
   "metadata": {},
   "source": [
    "**Other elements of this process**:\n",
    "+ Describing the outcome of each action using the program's interface.\n",
    "+ Combine the outcomes of all possition actions to solve the problem.\n",
    "\n",
    "To compute the outcome of Knapsack(weights, profits, C, i):\n",
    "+ We need to consider the outcomes resulting from each action.\n",
    "+ Each action has two choices:\n",
    "    * Taking item i.  The result is this:\n",
    "        + Knapsack(weights, profits, C, i) = the profit of item i, plus the max profit with remaining capacity and remaining items.\n",
    "        + **case2** = Knapsack(weights, profits, C, i) = profit[i] + Knapsack(weights, profits, C-weights[i], i-1)\n",
    "        + We express the logic using the program's interface.\n",
    "    * Not taking item i.\n",
    "        + Knapsack(weights, profits, C, i) = the max profit with same capacity and remaining items.\n",
    "        + **case1** = Knapsack(weights, profits, C, i) = Knapsack(weights, profits, C, i-1)   \n",
    "+ We do not know which possibilities give the maximal profit. But we know they are the oly possibilities.  We'll take whichever is larger. This is the max profit.\n",
    "    + Knapsack(weights, profits, C, i) = max( case1, case 2)"
   ]
  },
  {
   "cell_type": "code",
   "execution_count": 7,
   "id": "0c0e9a63-ce0d-4999-8132-c084b2b2940b",
   "metadata": {},
   "outputs": [],
   "source": [
    "def KNAPSACK(weights, profits, C):\n",
    "    def Knapsack(weights, profits, C, i):\n",
    "        if i==0:\n",
    "            if C >= weights[0]:      # we take item 0\n",
    "                return profits[0]\n",
    "            else:                    # we do not item 0\n",
    "                return 0\n",
    "        else:\n",
    "            # max profit if we don't take item i\n",
    "            case1 = Knapsack(weights, profits, C, i-1)\n",
    "            if C < weights[i]:\n",
    "                return case1\n",
    "            \n",
    "            # max profit if we take item i\n",
    "            case2 = Knapsack(weights, profits, C-weights[i], i-1) + profits[i]\n",
    "            \n",
    "            # the max profit must come from either cases.\n",
    "            return max(case1, case2)\n",
    "\n",
    "    # this allows Knapsack to consider all items (0, 1, ..., n-1)\n",
    "    return Knapsack(weights, profits, C, len(weights)-1)"
   ]
  },
  {
   "cell_type": "code",
   "execution_count": 8,
   "id": "5f36709a-c9ca-4264-8287-d6331908cca4",
   "metadata": {},
   "outputs": [
    {
     "data": {
      "text/plain": [
       "10"
      ]
     },
     "execution_count": 8,
     "metadata": {},
     "output_type": "execute_result"
    }
   ],
   "source": [
    "KNAPSACK([2,3,1,4], [4,5,3,7], 5)"
   ]
  },
  {
   "cell_type": "markdown",
   "id": "a09a8148-8c0c-42a4-86e5-762ab0e12bfe",
   "metadata": {},
   "source": [
    "**Exercise:** Use a table to store outputs so that we don't have to recompute them again."
   ]
  },
  {
   "cell_type": "markdown",
   "id": "cd77387b-4e13-43e5-9095-c2627bcf41cb",
   "metadata": {},
   "source": [
    "### Learning goals:\n",
    "+ Determine the possibilities for breaking down a problem into subproblems.\n",
    "+ Express the decomposition using the program's interface.\n",
    "+ Express the logic in code."
   ]
  },
  {
   "cell_type": "markdown",
   "id": "b8d3d5fc-c662-4db5-98bb-b4436c0747c2",
   "metadata": {},
   "source": [
    "### Profit Maximization\n",
    "\n",
    "* There are $n$ **types** of items.\n",
    "* Item of type $i$ has value and weight.\n",
    "* Capacity: $C$\n",
    "\n",
    "Take as many items (of any time) as you want but the total weight cannot exceed the capacity.  Goal: max the profit."
   ]
  },
  {
   "cell_type": "markdown",
   "id": "f45423ca-4414-4ce4-8926-7838f91fd14f",
   "metadata": {},
   "source": [
    "**An example**: Five items; C = 8; \n",
    "+ weights = [1, 3, 4, 5, 9]\n",
    "+ values = [10, 40, 50, 70, 60]\n",
    "\n",
    "If we take items {0, 1, 2}, the value is 10+40+50.\n",
    "\n",
    "If we take items {2, 2}, the value is 50+50.\n",
    "\n",
    "If we take items {0, 0, 0}, the value is 10+10+10.\n",
    "\n",
    "If we take items {1, 3}, the value is 40+70."
   ]
  },
  {
   "cell_type": "markdown",
   "id": "08f8f2a5-82c1-48da-a5f9-28f55677fa73",
   "metadata": {},
   "source": [
    "---\n",
    "#### Problem decomposition\n",
    "+ **The program's interface**: \n",
    "    * max_profit(weights, values, W) \n",
    "+ **The sequence of actions**: taking an item at a time.\n",
    "+ **The possibilities that each action can take**.\n",
    "    * We have a capacity of W.\n",
    "    * At a given time in the sequence, the action is: taking an item.\n",
    "    * What are the possibilities for taking an item?\n",
    "\n"
   ]
  },
  {
   "cell_type": "markdown",
   "id": "ed9b371f-57be-44ba-96ab-66abcf1a825a",
   "metadata": {},
   "source": [
    "+ C=8\n",
    "+ weights = [1, 3, 4, 5, 9]\n",
    "+ values = [10, 40, 50, 70, 60]\n",
    "+ program's interface:  max_profit(weights, values, W)\n",
    "    * Semantic: max profit given capacity W\n",
    "+ Possibilities for each action\n",
    "    * Any item with weight less than W.\n",
    "+ Resulting of taking item 0.\n",
    "    * Taking item 0 results in a profit of values[0].\n",
    "    * Taking item 0 results in a reduced capacity of W-weights[0].\n",
    "    * Now we have a new capacity.  How do we maximize the profit given this new capacity?  We use the same strategy.\n",
    "    * How do we express this using the program's interface.\n",
    "        * Answer: max_profit(weights, values, W-weights[0]).\n",
    "+ Describe the result of taking item 0 using the program's interface.\n",
    "    * max_profit(weights, values, W) is equal to values[0] + max_profit(weights, values, W-weights[0])\n",
    "* Describe the result of taking item 1 using the program's interface.\n",
    "    * max_profit(weights, values, W) is equal to values[1] + max_profit(weights, values, W-weights[1])"
   ]
  },
  {
   "cell_type": "markdown",
   "id": "259d55f4-c750-4a99-8a8e-c55fddcb8dac",
   "metadata": {},
   "source": [
    "Potentially, we have n possibilities, each one giving a different profit.\n",
    "\n",
    "We don't which one, but the correct choice must be one of these possibilities.\n",
    "\n",
    "Therefore, the correct answer to solve **max_profit(weights, values, W)** must be one of these choices.  In fact, it should be the largest one."
   ]
  },
  {
   "cell_type": "markdown",
   "id": "b0b194fb-3517-49aa-a879-28bed59f7a7f",
   "metadata": {},
   "source": [
    "**Translating this to Python**:\n",
    "+ Look at all possibilities (hint: a for loop)\n",
    "+ For each possibility, make sure that the weight does not exceed the capacity.\n",
    "+ Save the resulting answer for each possibility.\n",
    "+ Return the largest one as the answer of the problem."
   ]
  },
  {
   "cell_type": "code",
   "execution_count": 13,
   "id": "9ba79802-2e6d-457f-b8f8-69229e20c5d7",
   "metadata": {},
   "outputs": [],
   "source": [
    "def max_profit(weights, values, W):\n",
    "    best = 0\n",
    "    for i in range(len(weights)):\n",
    "        if weights[i] <= W:\n",
    "            tmp = values[i] + max_profit(weights, values, W-weights[i])\n",
    "            if tmp > best:\n",
    "                best = tmp\n",
    "    return best\n"
   ]
  },
  {
   "cell_type": "code",
   "execution_count": 14,
   "id": "35d59d07-c910-49c2-b107-79bfc41d9d69",
   "metadata": {},
   "outputs": [
    {
     "data": {
      "text/plain": [
       "110"
      ]
     },
     "execution_count": 14,
     "metadata": {},
     "output_type": "execute_result"
    }
   ],
   "source": [
    "max_profit([1, 3, 4, 5, 9], [10, 40, 50, 70, 60], 8)"
   ]
  },
  {
   "cell_type": "markdown",
   "id": "1b37a949-b0c5-46f9-aec9-e5aae93ec683",
   "metadata": {},
   "source": [
    "**Find an actual solution that gives the max profit**"
   ]
  },
  {
   "cell_type": "code",
   "execution_count": 15,
   "id": "ca315204-3b5e-47ca-88d3-e9d88ee42279",
   "metadata": {},
   "outputs": [],
   "source": [
    "def max_profit(weights, values, W):\n",
    "    best = 0\n",
    "    for i in range(len(weights)):\n",
    "        if weights[i] <= W:\n",
    "            tmp = values[i] + max_profit(weights, values, W-weights[i])\n",
    "            if tmp > best:\n",
    "                best = tmp\n",
    "    return best\n"
   ]
  },
  {
   "cell_type": "markdown",
   "id": "c0379907-4066-4cb5-ac1d-734546784642",
   "metadata": {},
   "source": [
    "One way is to revise the program's interface to include a variable that keeps track of the best choices each time an action is made.\n",
    "\n",
    "```\n",
    "    max_profit(weights, values, W, solution)\n",
    "```"
   ]
  },
  {
   "cell_type": "code",
   "execution_count": 22,
   "id": "80fc32f8-53c0-491d-a3b2-9b80295e135a",
   "metadata": {},
   "outputs": [
    {
     "ename": "NameError",
     "evalue": "name 'tmpa' is not defined",
     "output_type": "error",
     "traceback": [
      "\u001b[0;31m---------------------------------------------------------------------------\u001b[0m",
      "\u001b[0;31mNameError\u001b[0m                                 Traceback (most recent call last)",
      "Input \u001b[0;32mIn [22]\u001b[0m, in \u001b[0;36m<cell line: 16>\u001b[0;34m()\u001b[0m\n\u001b[1;32m     13\u001b[0m     \u001b[38;5;28;01mreturn\u001b[39;00m best, best_sol\n\u001b[1;32m     15\u001b[0m best_solution \u001b[38;5;241m=\u001b[39m []\n\u001b[0;32m---> 16\u001b[0m m \u001b[38;5;241m=\u001b[39m \u001b[43mmax_profit\u001b[49m\u001b[43m(\u001b[49m\u001b[43m[\u001b[49m\u001b[38;5;241;43m1\u001b[39;49m\u001b[43m,\u001b[49m\u001b[43m \u001b[49m\u001b[38;5;241;43m3\u001b[39;49m\u001b[43m,\u001b[49m\u001b[43m \u001b[49m\u001b[38;5;241;43m4\u001b[39;49m\u001b[43m,\u001b[49m\u001b[43m \u001b[49m\u001b[38;5;241;43m5\u001b[39;49m\u001b[43m,\u001b[49m\u001b[43m \u001b[49m\u001b[38;5;241;43m9\u001b[39;49m\u001b[43m]\u001b[49m\u001b[43m,\u001b[49m\u001b[43m \u001b[49m\u001b[43m[\u001b[49m\u001b[38;5;241;43m10\u001b[39;49m\u001b[43m,\u001b[49m\u001b[43m \u001b[49m\u001b[38;5;241;43m40\u001b[39;49m\u001b[43m,\u001b[49m\u001b[43m \u001b[49m\u001b[38;5;241;43m50\u001b[39;49m\u001b[43m,\u001b[49m\u001b[43m \u001b[49m\u001b[38;5;241;43m70\u001b[39;49m\u001b[43m,\u001b[49m\u001b[43m \u001b[49m\u001b[38;5;241;43m60\u001b[39;49m\u001b[43m]\u001b[49m\u001b[43m,\u001b[49m\u001b[43m \u001b[49m\u001b[38;5;241;43m8\u001b[39;49m\u001b[43m,\u001b[49m\u001b[43m \u001b[49m\u001b[43mbest_solution\u001b[49m\u001b[43m)\u001b[49m\n\u001b[1;32m     17\u001b[0m \u001b[38;5;28mprint\u001b[39m(m)\n\u001b[1;32m     18\u001b[0m \u001b[38;5;28mprint\u001b[39m(best_solution)\n",
      "Input \u001b[0;32mIn [22]\u001b[0m, in \u001b[0;36mmax_profit\u001b[0;34m(weights, values, W, solution)\u001b[0m\n\u001b[1;32m      5\u001b[0m \u001b[38;5;28;01mif\u001b[39;00m weights[i] \u001b[38;5;241m<\u001b[39m\u001b[38;5;241m=\u001b[39m W:\n\u001b[1;32m      6\u001b[0m     sol \u001b[38;5;241m=\u001b[39m solution\u001b[38;5;241m.\u001b[39mcopy()\n\u001b[0;32m----> 7\u001b[0m     tmp, s \u001b[38;5;241m=\u001b[39m \u001b[43mmax_profit\u001b[49m\u001b[43m(\u001b[49m\u001b[43mweights\u001b[49m\u001b[43m,\u001b[49m\u001b[43m \u001b[49m\u001b[43mvalues\u001b[49m\u001b[43m,\u001b[49m\u001b[43m \u001b[49m\u001b[43mW\u001b[49m\u001b[38;5;241;43m-\u001b[39;49m\u001b[43mweights\u001b[49m\u001b[43m[\u001b[49m\u001b[43mi\u001b[49m\u001b[43m]\u001b[49m\u001b[43m,\u001b[49m\u001b[43m \u001b[49m\u001b[43msol\u001b[49m\u001b[43m)\u001b[49m\n\u001b[1;32m      8\u001b[0m     tmp \u001b[38;5;241m+\u001b[39m\u001b[38;5;241m=\u001b[39m values[i]\n\u001b[1;32m      9\u001b[0m     \u001b[38;5;28;01mif\u001b[39;00m tmp \u001b[38;5;241m>\u001b[39m best:\n",
      "Input \u001b[0;32mIn [22]\u001b[0m, in \u001b[0;36mmax_profit\u001b[0;34m(weights, values, W, solution)\u001b[0m\n\u001b[1;32m      5\u001b[0m \u001b[38;5;28;01mif\u001b[39;00m weights[i] \u001b[38;5;241m<\u001b[39m\u001b[38;5;241m=\u001b[39m W:\n\u001b[1;32m      6\u001b[0m     sol \u001b[38;5;241m=\u001b[39m solution\u001b[38;5;241m.\u001b[39mcopy()\n\u001b[0;32m----> 7\u001b[0m     tmp, s \u001b[38;5;241m=\u001b[39m \u001b[43mmax_profit\u001b[49m\u001b[43m(\u001b[49m\u001b[43mweights\u001b[49m\u001b[43m,\u001b[49m\u001b[43m \u001b[49m\u001b[43mvalues\u001b[49m\u001b[43m,\u001b[49m\u001b[43m \u001b[49m\u001b[43mW\u001b[49m\u001b[38;5;241;43m-\u001b[39;49m\u001b[43mweights\u001b[49m\u001b[43m[\u001b[49m\u001b[43mi\u001b[49m\u001b[43m]\u001b[49m\u001b[43m,\u001b[49m\u001b[43m \u001b[49m\u001b[43msol\u001b[49m\u001b[43m)\u001b[49m\n\u001b[1;32m      8\u001b[0m     tmp \u001b[38;5;241m+\u001b[39m\u001b[38;5;241m=\u001b[39m values[i]\n\u001b[1;32m      9\u001b[0m     \u001b[38;5;28;01mif\u001b[39;00m tmp \u001b[38;5;241m>\u001b[39m best:\n",
      "    \u001b[0;31m[... skipping similar frames: max_profit at line 7 (4 times)]\u001b[0m\n",
      "Input \u001b[0;32mIn [22]\u001b[0m, in \u001b[0;36mmax_profit\u001b[0;34m(weights, values, W, solution)\u001b[0m\n\u001b[1;32m      5\u001b[0m \u001b[38;5;28;01mif\u001b[39;00m weights[i] \u001b[38;5;241m<\u001b[39m\u001b[38;5;241m=\u001b[39m W:\n\u001b[1;32m      6\u001b[0m     sol \u001b[38;5;241m=\u001b[39m solution\u001b[38;5;241m.\u001b[39mcopy()\n\u001b[0;32m----> 7\u001b[0m     tmp, s \u001b[38;5;241m=\u001b[39m \u001b[43mmax_profit\u001b[49m\u001b[43m(\u001b[49m\u001b[43mweights\u001b[49m\u001b[43m,\u001b[49m\u001b[43m \u001b[49m\u001b[43mvalues\u001b[49m\u001b[43m,\u001b[49m\u001b[43m \u001b[49m\u001b[43mW\u001b[49m\u001b[38;5;241;43m-\u001b[39;49m\u001b[43mweights\u001b[49m\u001b[43m[\u001b[49m\u001b[43mi\u001b[49m\u001b[43m]\u001b[49m\u001b[43m,\u001b[49m\u001b[43m \u001b[49m\u001b[43msol\u001b[49m\u001b[43m)\u001b[49m\n\u001b[1;32m      8\u001b[0m     tmp \u001b[38;5;241m+\u001b[39m\u001b[38;5;241m=\u001b[39m values[i]\n\u001b[1;32m      9\u001b[0m     \u001b[38;5;28;01mif\u001b[39;00m tmp \u001b[38;5;241m>\u001b[39m best:\n",
      "Input \u001b[0;32mIn [22]\u001b[0m, in \u001b[0;36mmax_profit\u001b[0;34m(weights, values, W, solution)\u001b[0m\n\u001b[1;32m      8\u001b[0m tmp \u001b[38;5;241m+\u001b[39m\u001b[38;5;241m=\u001b[39m values[i]\n\u001b[1;32m      9\u001b[0m \u001b[38;5;28;01mif\u001b[39;00m tmp \u001b[38;5;241m>\u001b[39m best:\n\u001b[0;32m---> 10\u001b[0m     best \u001b[38;5;241m=\u001b[39m \u001b[43mtmpa\u001b[49m\n\u001b[1;32m     11\u001b[0m     best_sol \u001b[38;5;241m=\u001b[39m s\n\u001b[1;32m     12\u001b[0m     best_sol\u001b[38;5;241m.\u001b[39mappend(i)\n",
      "\u001b[0;31mNameError\u001b[0m: name 'tmpa' is not defined"
     ]
    }
   ],
   "source": [
    "def max_profit(weights, values, W, solution):\n",
    "    best = 0\n",
    "    best_sol = None\n",
    "    for i in range(len(weights)):\n",
    "        if weights[i] <= W:\n",
    "            sol = solution.copy()\n",
    "            tmp, s = max_profit(weights, values, W-weights[i], sol)\n",
    "            tmp += values[i]\n",
    "            if tmp > best:\n",
    "                best = tmp\n",
    "                best_sol = s\n",
    "                best_sol.append(i)\n",
    "    return best, best_sol\n",
    "\n",
    "best_solution = []\n",
    "m = max_profit([1, 3, 4, 5, 9], [10, 40, 50, 70, 60], 8, best_solution)\n",
    "print(m)\n",
    "print(best_solution)"
   ]
  },
  {
   "cell_type": "markdown",
   "id": "37901b47-bc91-4ea5-a8a5-d76ffcd63666",
   "metadata": {},
   "source": [
    "for 110, the best_sollution is {1, 3}.\n",
    "\n",
    "These are the indices of weights/values."
   ]
  },
  {
   "cell_type": "markdown",
   "id": "003ab756-15dc-4704-aed6-b7c8d249069a",
   "metadata": {},
   "source": [
    "All we need to do is save the item (index) that gives us the best profit, in each step."
   ]
  },
  {
   "cell_type": "code",
   "execution_count": null,
   "id": "3af4b330-3605-45c6-afc4-877769ec65ca",
   "metadata": {},
   "outputs": [],
   "source": []
  }
 ],
 "metadata": {
  "kernelspec": {
   "display_name": "Python 3 (ipykernel)",
   "language": "python",
   "name": "python3"
  },
  "language_info": {
   "codemirror_mode": {
    "name": "ipython",
    "version": 3
   },
   "file_extension": ".py",
   "mimetype": "text/x-python",
   "name": "python",
   "nbconvert_exporter": "python",
   "pygments_lexer": "ipython3",
   "version": "3.9.12"
  }
 },
 "nbformat": 4,
 "nbformat_minor": 5
}
