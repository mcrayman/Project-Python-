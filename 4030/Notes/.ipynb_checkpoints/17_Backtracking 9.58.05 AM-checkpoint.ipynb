{
 "cells": [
  {
   "cell_type": "markdown",
   "id": "b637ca55-7754-4f5b-b7ef-002346bf812b",
   "metadata": {},
   "source": [
    "# Backtracking\n",
    "\n",
    "Backtracking is a systematic way of enumering all possible solutions."
   ]
  },
  {
   "cell_type": "markdown",
   "id": "2a242c9a-057e-4555-97e5-509679c85c0d",
   "metadata": {},
   "source": [
    "Generate all 4-digit binary numbers with leading digit of 0.\n",
    "\n",
    "<img src=\"https://i.imgur.com/618KZBe.png\" width=\"60%\">"
   ]
  },
  {
   "cell_type": "markdown",
   "id": "fbcae1da-df7a-43ba-ba79-cca77d047faa",
   "metadata": {},
   "source": [
    "A few conceptual observations about backtracking (BT):\n",
    "+ It's an incremental design.  We start from an empty partial solution, and we end up with complete solutions.\n",
    "+ If we visualize this process as generating a tree, the initial"
   ]
  },
  {
   "cell_type": "markdown",
   "id": "9a74fb0e-dd9e-4eb7-94bc-4d88b0c661a0",
   "metadata": {},
   "source": [
    "Generate all binary numbers with leading digit of 0, but the second digit cannot be 1.\n",
    "\n",
    "<img src=\"https://i.imgur.com/fjfQ1FQ.png\" width=\"60%\">"
   ]
  },
  {
   "cell_type": "markdown",
   "id": "32599799-37b9-4145-aef7-43256833fe93",
   "metadata": {},
   "source": [
    "BT is a systematic approach to enumerate possibilities.\n",
    "\n",
    "+ All sets with n items\n",
    "+ All permutations with n items\n",
    "+ All ways of coloring n items with k colors\n",
    "+ All non-attacking positions of n queens on an n-by-n chessboard"
   ]
  },
  {
   "cell_type": "markdown",
   "id": "dab806e1-aa83-4814-91c0-83e390b880c2",
   "metadata": {},
   "source": [
    "### Elements of backtracking\n",
    "\n",
    "```\n",
    "def backtrack(solution, i):\n",
    "    pass\n",
    "```"
   ]
  },
  {
   "cell_type": "markdown",
   "id": "aa2b74f0-aa17-4856-aab6-82f86b2321bb",
   "metadata": {},
   "source": [
    "### All sets\n",
    "\n",
    "Program interface\n",
    "+ all_sets(solution, n, i) -- print/generate all sets, assuming that the first i entries in the set \"solution\" have been \"used\".\n",
    "\n"
   ]
  },
  {
   "cell_type": "code",
   "execution_count": 1,
   "id": "38e01232-1351-48db-84cb-57174faff44a",
   "metadata": {},
   "outputs": [],
   "source": [
    "def all_sets(solution, n, i):\n",
    "    pass"
   ]
  },
  {
   "cell_type": "code",
   "execution_count": null,
   "id": "588dc0ad-7a9c-48d8-9a39-13be9d211ca5",
   "metadata": {},
   "outputs": [],
   "source": []
  }
 ],
 "metadata": {
  "kernelspec": {
   "display_name": "Python 3 (ipykernel)",
   "language": "python",
   "name": "python3"
  },
  "language_info": {
   "codemirror_mode": {
    "name": "ipython",
    "version": 3
   },
   "file_extension": ".py",
   "mimetype": "text/x-python",
   "name": "python",
   "nbconvert_exporter": "python",
   "pygments_lexer": "ipython3",
   "version": "3.9.12"
  }
 },
 "nbformat": 4,
 "nbformat_minor": 5
}
