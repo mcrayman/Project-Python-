{
 "cells": [
  {
   "cell_type": "markdown",
   "id": "dd2aab91-9d59-4fae-9150-02bbecdaa618",
   "metadata": {},
   "source": [
    "# Making Change\n",
    "\n",
    "Goal:\n",
    "+ Practice designing recursive strategies.\n",
    "+ Improve running time by saving outputs of repeated computations."
   ]
  },
  {
   "cell_type": "markdown",
   "id": "7604c0f7-edfa-431c-8ddf-13058075add8",
   "metadata": {},
   "source": [
    "### Example: Making Change\n",
    "\n",
    "Determine out if it's possible to make change for X dollars using certain coin values.\n",
    "\n",
    "Process:\n",
    "* Analyze some examples.\n",
    "* Strategize\n",
    "    * Try to reduce a problem with input X to subproblems with inputs less than X\n",
    "        * Consider all possibilities to make change for X using the coins.\n",
    "    * Use the same strategy to solve subproblems recursively.\n",
    "* Save and reuse outputs of repeated computations.\n",
    "\n",
    "Examples: \n",
    "+ Input: values = [5, 7], X=19.  Output: True.  19 = 5 + 7 + 7\n",
    "+ Input: values = [5, 7], X=13.  Output: False.\n",
    "+ Input: values = [5, 7], X=29.  Output: True.  29 = 7 + 7 + 5 + 5 + 5\n",
    "\n",
    "\n",
    "**Can we make change for 32099 dollars using coin values 5 and 7?**\n",
    "\n",
    "Can we say anything about the first coin that we choose?\n",
    "\n",
    "To make change for X=32099, this first coin must be either 5 or 7?\n",
    "\n",
    "If the first coin is 5, we reduce this problem of making change for 32099 to a subproblem.\n",
    "+ What is the subproblem? Answer: making change for the amount of X=32099-5.\n",
    "\n",
    "If the first coin is 7, we reduce this problem of making change for 32099 to another subproblem.\n",
    "+ What is the subproblem? Answer: making change for the amount of X=32099-7.\n",
    "\n",
    "\n",
    "The key to solving this problem is to recognize that there are no other possibilities.\n",
    "\n",
    "The solution should take care of the smallest cases where we cannot make any change.  I'll help you with this scenario.\n",
    "\n",
    "```\n",
    "make_change([5,7], 32099) = make_change([5,7], 32099-5) or make_change([5,7], 32099-9)\n",
    "```"
   ]
  },
  {
   "cell_type": "markdown",
   "id": "0aadae5d-7c68-4d94-94b0-8510f4a72028",
   "metadata": {},
   "source": [
    "make_change([5, 7], 19) = make_change([5, 7], 14) or make_change([5, 7], 12)\n",
    "\n",
    "make_change([5, 7], 14) should return the correct answer.\n",
    "\n",
    "You don't want to trace this recursive call.\n",
    "\n",
    "make_change([5, 7], 14) = make_change([5, 7], 9) or make_change([5, 7], 7)\n"
   ]
  },
  {
   "cell_type": "code",
   "execution_count": 3,
   "id": "4e710dbe-0223-49fb-8b70-02fb31dc5038",
   "metadata": {},
   "outputs": [],
   "source": [
    "#\n",
    "# Input: coin values, X\n",
    "# Output: True if we can make change for $X using the coin values.  False if not\n",
    "#\n",
    "def make_change(values, X):\n",
    "    if X==0:\n",
    "        return True\n",
    "    if X<0:\n",
    "        return False\n",
    "    for v in values:\n",
    "        # try to make change for a new amount. \n",
    "        # 1. What's the new amount?\n",
    "        new_amount = X-v\n",
    "        \n",
    "        # 2. How do we know if we can make change for the amount of X-v?\n",
    "        a = make_change(values, X-v)\n",
    "        \n",
    "        # 3. What should be done if we can make change for X-v?\n",
    "        if a==True:\n",
    "            return True\n",
    "        \n",
    "    # at this point, we can't make change using any of those coin values\n",
    "    return False"
   ]
  },
  {
   "cell_type": "code",
   "execution_count": 9,
   "id": "c1841b35-8612-43a1-8508-84fd5873c97e",
   "metadata": {},
   "outputs": [
    {
     "name": "stdout",
     "output_type": "stream",
     "text": [
      "13 False\n",
      "17 True\n",
      "21 True\n",
      "12 True\n",
      "11 False\n"
     ]
    }
   ],
   "source": [
    "for X in [13, 17, 21, 12, 11]:\n",
    "    print(X, make_change([5,7], X))"
   ]
  },
  {
   "cell_type": "code",
   "execution_count": 10,
   "id": "d9dece82-5192-4378-bc7e-7ca96e020986",
   "metadata": {},
   "outputs": [
    {
     "data": {
      "text/plain": [
       "True"
      ]
     },
     "execution_count": 10,
     "metadata": {},
     "output_type": "execute_result"
    }
   ],
   "source": [
    "make_change([5,7], 93)"
   ]
  },
  {
   "cell_type": "code",
   "execution_count": 14,
   "id": "8ff49d9a-2c80-4dc0-a40b-c259ddf936d6",
   "metadata": {},
   "outputs": [],
   "source": [
    "#\n",
    "# Input: coin values, X\n",
    "# Output: True if we can make change for $X using the coin values.  False if not\n",
    "#\n",
    "def make_change(values, X, k=0):\n",
    "    print('  '*k, 'Make change for', X)\n",
    "    if X==0:\n",
    "        return True\n",
    "    if X<0:\n",
    "        return False\n",
    "    for v in values:\n",
    "        new_amount = X-v\n",
    "        print('  '*k, 'using coin',v,'to make change for',X-v)\n",
    "        a = make_change(values, X-v, k+1)\n",
    "        if a==True:\n",
    "            return True\n",
    "    return False"
   ]
  },
  {
   "cell_type": "code",
   "execution_count": 15,
   "id": "c5de2cca-5dd9-4c88-b7d4-9c60086ab14f",
   "metadata": {},
   "outputs": [
    {
     "name": "stdout",
     "output_type": "stream",
     "text": [
      " Make change for 17\n",
      " using coin 5 to make change for 12\n",
      "   Make change for 12\n",
      "   using coin 5 to make change for 7\n",
      "     Make change for 7\n",
      "     using coin 5 to make change for 2\n",
      "       Make change for 2\n",
      "       using coin 5 to make change for -3\n",
      "         Make change for -3\n",
      "       using coin 7 to make change for -5\n",
      "         Make change for -5\n",
      "     using coin 7 to make change for 0\n",
      "       Make change for 0\n"
     ]
    },
    {
     "data": {
      "text/plain": [
       "True"
      ]
     },
     "execution_count": 15,
     "metadata": {},
     "output_type": "execute_result"
    }
   ],
   "source": [
    "make_change([5,7], 17)"
   ]
  },
  {
   "cell_type": "markdown",
   "id": "4bfc1d97-c769-4226-a22a-5db950e31eb6",
   "metadata": {},
   "source": [
    "### Make this program faster\n",
    "\n",
    "* Store outputs in a table.\n",
    "* What do you want to use as keys of the table? \n",
    "    + X\n",
    "* What do you store in the table?\n",
    "    + Output: True or False\n"
   ]
  },
  {
   "cell_type": "code",
   "execution_count": 20,
   "id": "9665cdf6-40c2-444a-8f06-b07812cb6984",
   "metadata": {},
   "outputs": [],
   "source": [
    "Table = {}\n",
    "def make_change(values, X):\n",
    "    if X in Table:\n",
    "        return Table[X]\n",
    "    if X==0:\n",
    "        Table[X] = True\n",
    "        return True\n",
    "    if X<0:\n",
    "        Table[X] = False\n",
    "        return False\n",
    "    for v in values:\n",
    "        new_amount = X-v\n",
    "        a = make_change(values, X-v)\n",
    "        if a==True:\n",
    "            Table[X] = True\n",
    "            return True\n",
    "    Table[X] = False\n",
    "    return False"
   ]
  },
  {
   "cell_type": "code",
   "execution_count": 31,
   "id": "a6511903-7cf0-4e98-87cc-c5f84e1d8485",
   "metadata": {},
   "outputs": [
    {
     "data": {
      "text/plain": [
       "True"
      ]
     },
     "execution_count": 31,
     "metadata": {},
     "output_type": "execute_result"
    }
   ],
   "source": [
    "make_change([5,7], 12)"
   ]
  },
  {
   "cell_type": "code",
   "execution_count": 30,
   "id": "d3b4af4e-c7e1-4f71-8086-0d95f4f16c14",
   "metadata": {},
   "outputs": [
    {
     "data": {
      "text/plain": [
       "True"
      ]
     },
     "execution_count": 30,
     "metadata": {},
     "output_type": "execute_result"
    }
   ],
   "source": [
    "make_change([5,9], 12)"
   ]
  },
  {
   "cell_type": "code",
   "execution_count": 32,
   "id": "39de44ba-e8c0-4986-b132-ac7adbfd3807",
   "metadata": {},
   "outputs": [
    {
     "data": {
      "text/plain": [
       "{-1: False,\n",
       " -3: False,\n",
       " 4: False,\n",
       " -5: False,\n",
       " 2: False,\n",
       " 9: False,\n",
       " 0: True,\n",
       " 7: True,\n",
       " 14: True,\n",
       " 19: True,\n",
       " 24: True,\n",
       " 29: True,\n",
       " -4: False,\n",
       " -6: False,\n",
       " 1: False,\n",
       " 6: False,\n",
       " 11: False,\n",
       " 16: False,\n",
       " 21: True,\n",
       " -2: False,\n",
       " 3: False,\n",
       " 8: False,\n",
       " 13: False,\n",
       " 5: True,\n",
       " 10: True,\n",
       " 12: True,\n",
       " 17: True}"
      ]
     },
     "execution_count": 32,
     "metadata": {},
     "output_type": "execute_result"
    }
   ],
   "source": [
    "Table"
   ]
  },
  {
   "cell_type": "markdown",
   "id": "05c34a38-fcb0-4552-b4f9-8ea0ceee1500",
   "metadata": {},
   "source": [
    "### Two ways to solve this.\n",
    "\n",
    "1. Make \"values\" part of the key.  Key = (values, X)"
   ]
  },
  {
   "cell_type": "code",
   "execution_count": 46,
   "id": "7710c3ba-a409-4961-b419-fd1ec1f61e27",
   "metadata": {},
   "outputs": [],
   "source": [
    "Table = {}\n",
    "def make_change(values, X):\n",
    "    values = tuple(values)\n",
    "    if (values, X) in Table:\n",
    "        return Table[(values, X)]\n",
    "    if X==0:\n",
    "        Table[(values, X)] = True\n",
    "        return True\n",
    "    if X<0:\n",
    "        Table[(values, X)] = False\n",
    "        return False\n",
    "    for v in values:\n",
    "        new_amount = X-v\n",
    "        a = make_change(values, X-v)\n",
    "        if a==True:\n",
    "            Table[(values, X)] = True\n",
    "            return True\n",
    "    Table[(values, X)] = False\n",
    "    return False"
   ]
  },
  {
   "cell_type": "code",
   "execution_count": 49,
   "id": "921129d1-376b-463d-9449-14b3f9a4de62",
   "metadata": {},
   "outputs": [
    {
     "data": {
      "text/plain": [
       "True"
      ]
     },
     "execution_count": 49,
     "metadata": {},
     "output_type": "execute_result"
    }
   ],
   "source": [
    "make_change([5,7], 12)"
   ]
  },
  {
   "cell_type": "code",
   "execution_count": 50,
   "id": "b8c4b500-e785-4597-b27b-20a705304635",
   "metadata": {},
   "outputs": [
    {
     "data": {
      "text/plain": [
       "{((5, 7), -3): False,\n",
       " ((5, 7), -5): False,\n",
       " ((5, 7), 2): False,\n",
       " ((5, 7), 0): True,\n",
       " ((5, 7), 7): True,\n",
       " ((5, 7), 12): True}"
      ]
     },
     "execution_count": 50,
     "metadata": {},
     "output_type": "execute_result"
    }
   ],
   "source": [
    "Table"
   ]
  },
  {
   "cell_type": "code",
   "execution_count": 51,
   "id": "0f76704c-a68c-4e4e-8c55-4afa679e78ce",
   "metadata": {},
   "outputs": [
    {
     "data": {
      "text/plain": [
       "False"
      ]
     },
     "execution_count": 51,
     "metadata": {},
     "output_type": "execute_result"
    }
   ],
   "source": [
    "make_change([5,9], 12)"
   ]
  },
  {
   "cell_type": "code",
   "execution_count": 52,
   "id": "f6d67e1c-d724-48bf-abdd-8421b3b96e0a",
   "metadata": {},
   "outputs": [
    {
     "data": {
      "text/plain": [
       "{((5, 7), -3): False,\n",
       " ((5, 7), -5): False,\n",
       " ((5, 7), 2): False,\n",
       " ((5, 7), 0): True,\n",
       " ((5, 7), 7): True,\n",
       " ((5, 7), 12): True,\n",
       " ((5, 9), -3): False,\n",
       " ((5, 9), -7): False,\n",
       " ((5, 9), 2): False,\n",
       " ((5, 9), -2): False,\n",
       " ((5, 9), 7): False,\n",
       " ((5, 9), -6): False,\n",
       " ((5, 9), 3): False,\n",
       " ((5, 9), 12): False}"
      ]
     },
     "execution_count": 52,
     "metadata": {},
     "output_type": "execute_result"
    }
   ],
   "source": [
    "Table"
   ]
  },
  {
   "cell_type": "markdown",
   "id": "cc864dad-aed9-492a-9b69-6bbfe435dc5a",
   "metadata": {},
   "source": [
    "Table keys need to be immutable, e.g. numbers, strings, and tuples."
   ]
  },
  {
   "cell_type": "markdown",
   "id": "189de31d-4179-4fe3-942b-edcea2c9c5bd",
   "metadata": {},
   "source": [
    "There's a better solution this problem."
   ]
  },
  {
   "cell_type": "code",
   "execution_count": 53,
   "id": "278e4c03-25a9-4664-9e4e-f98ac4214d13",
   "metadata": {},
   "outputs": [],
   "source": [
    "Table = {}\n",
    "def make_change(values, X):\n",
    "    if X in Table:\n",
    "        return Table[X]\n",
    "    if X==0:\n",
    "        Table[X] = True\n",
    "        return True\n",
    "    if X<0:\n",
    "        Table[X] = False\n",
    "        return False\n",
    "    for v in values:\n",
    "        new_amount = X-v\n",
    "        a = make_change(values, X-v)\n",
    "        if a==True:\n",
    "            Table[X] = True\n",
    "            return True\n",
    "    Table[X] = False\n",
    "    return False"
   ]
  },
  {
   "cell_type": "code",
   "execution_count": 54,
   "id": "6d54479b-07c4-4a50-8dc7-4af43721e3e6",
   "metadata": {},
   "outputs": [
    {
     "data": {
      "text/plain": [
       "True"
      ]
     },
     "execution_count": 54,
     "metadata": {},
     "output_type": "execute_result"
    }
   ],
   "source": [
    "make_change([5,7], 17)"
   ]
  },
  {
   "cell_type": "code",
   "execution_count": 55,
   "id": "52f34416-b749-4796-aee9-3d78aaba942a",
   "metadata": {},
   "outputs": [
    {
     "data": {
      "text/plain": [
       "{-3: False, -5: False, 2: False, 0: True, 7: True, 12: True, 17: True}"
      ]
     },
     "execution_count": 55,
     "metadata": {},
     "output_type": "execute_result"
    }
   ],
   "source": [
    "Table"
   ]
  },
  {
   "cell_type": "markdown",
   "id": "72b31f33-7c49-48b0-bc19-0a9575f6ba36",
   "metadata": {},
   "source": [
    "\"values\" does not change within this function call.\n",
    "\n",
    "Solution: make Table \"local\" to this function call."
   ]
  },
  {
   "cell_type": "code",
   "execution_count": 59,
   "id": "db33b15b-d557-40ba-b13f-a4f945bc5596",
   "metadata": {},
   "outputs": [],
   "source": [
    "def MAKE_CHANGE(values, X):\n",
    "    def make_change(values, X):\n",
    "        if X in Table:\n",
    "            return Table[X]\n",
    "        if X==0:\n",
    "            Table[X] = True\n",
    "            return True\n",
    "        if X<0:\n",
    "            Table[X] = False\n",
    "            return False\n",
    "        for v in values:\n",
    "            new_amount = X-v\n",
    "            a = make_change(values, X-v)\n",
    "            if a==True:\n",
    "                Table[X] = True\n",
    "                return True\n",
    "        Table[X] = False\n",
    "        return False\n",
    "    \n",
    "    Table = {}\n",
    "    return make_change(values, X)\n"
   ]
  },
  {
   "cell_type": "code",
   "execution_count": 57,
   "id": "f6641d88-1d04-48f8-9493-67547dfbcaff",
   "metadata": {},
   "outputs": [
    {
     "data": {
      "text/plain": [
       "True"
      ]
     },
     "execution_count": 57,
     "metadata": {},
     "output_type": "execute_result"
    }
   ],
   "source": [
    "MAKE_CHANGE([5,7], 12)"
   ]
  },
  {
   "cell_type": "code",
   "execution_count": 58,
   "id": "e93576ca-e525-412e-be8f-a043772dd5e7",
   "metadata": {},
   "outputs": [
    {
     "data": {
      "text/plain": [
       "False"
      ]
     },
     "execution_count": 58,
     "metadata": {},
     "output_type": "execute_result"
    }
   ],
   "source": [
    "MAKE_CHANGE([5,9], 12)"
   ]
  },
  {
   "cell_type": "code",
   "execution_count": null,
   "id": "fd0e4860-8aff-4309-85c3-28e349c69a2b",
   "metadata": {},
   "outputs": [],
   "source": []
  }
 ],
 "metadata": {
  "kernelspec": {
   "display_name": "Python 3 (ipykernel)",
   "language": "python",
   "name": "python3"
  },
  "language_info": {
   "codemirror_mode": {
    "name": "ipython",
    "version": 3
   },
   "file_extension": ".py",
   "mimetype": "text/x-python",
   "name": "python",
   "nbconvert_exporter": "python",
   "pygments_lexer": "ipython3",
   "version": "3.9.12"
  }
 },
 "nbformat": 4,
 "nbformat_minor": 5
}
