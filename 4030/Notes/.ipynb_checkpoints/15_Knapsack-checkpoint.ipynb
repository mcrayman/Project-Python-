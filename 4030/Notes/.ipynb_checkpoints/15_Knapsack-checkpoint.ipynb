{
 "cells": [
  {
   "cell_type": "markdown",
   "id": "4b230a21-1ab0-40b9-a3d9-cee61cd14fa1",
   "metadata": {},
   "source": [
    "# Memorization & Dynamic Programming\n",
    "\n",
    "+ Memoization is a technique that stores expensive calculations that might be computed in the future.  \n",
    "\n",
    "+ Dynamic programming is a technique that decompose a problem into subproblems and solves the subproblems using the same strategy.  Dynamic programming uses memoization to solve problems efficiently."
   ]
  },
  {
   "cell_type": "markdown",
   "id": "953066ce-fb95-4029-a94d-480f15c42818",
   "metadata": {},
   "source": [
    "### Review: Make Change\n",
    "\n",
    "Determine out if it's possible to make change for X dollars using certain coin values.\n",
    "\n",
    "Notes:\n",
    "+ Whenever you make a call, make sure the inputs match the API.\n",
    "+ Whenever you return from a program, make sure the outputs match the API."
   ]
  },
  {
   "cell_type": "code",
   "execution_count": null,
   "id": "e2726d83-9ebe-4872-95b1-f42183d475b9",
   "metadata": {},
   "outputs": [],
   "source": [
    "#\n",
    "# Input: coin values, X\n",
    "# Output: True if we can make change for $X using the coin values.  False if not\n",
    "#\n",
    "def make_change(values, X):\n",
    "    if X==0:\n",
    "        return True\n",
    "    if X<0:\n",
    "        return False\n",
    "    for v in values:\n",
    "        if make_change(values, X-v):\n",
    "            return True\n",
    "    return False"
   ]
  },
  {
   "cell_type": "markdown",
   "id": "9066ad7d-b02f-4ab7-a867-fbd74d132f99",
   "metadata": {},
   "source": [
    "**Exercise: count the number of ways to make change of $X using given coin values.**\n",
    "\n",
    "Examples:\n",
    "+ make_change([5,7], 12) returns 2\n",
    "+ make_change([5,7], 13) returns 0\n",
    "+ make_change([5,7], 14) returns 1\n",
    "+ make_change([5,7], 15) returns 1\n",
    "+ make_change([5,7], 16) returns 0\n",
    "+ make_change([5,7], 17) returns 3\n",
    "+ make_change([5,7], 18) returns 0\n",
    "+ make_change([5,7], 19) returns 3"
   ]
  },
  {
   "cell_type": "code",
   "execution_count": null,
   "id": "9b7c282f-6d91-4447-a3c1-2865fcc7d86d",
   "metadata": {},
   "outputs": [],
   "source": []
  },
  {
   "cell_type": "markdown",
   "id": "d6177248-a091-4a2b-80be-2e58936a3eb6",
   "metadata": {},
   "source": [
    "---\n",
    "### Dynamic Programming\n",
    "\n",
    "Dynamic programming combines multiple ideas.  Two of them are:\n",
    "+ Decompose a problem to subproblems. \n",
    "+ Aggregate solutions (i.e. return values) of subproblems to construct the solution of the original problem.\n",
    "+ Store calculations for future use. Specifically, store outputs based on inputs.\n",
    "\n",
    "How do we aggregate solutions (i.e. return values) of subproblems?\n",
    "+ Boolean aggregation: **or**, **and**\n",
    "+ Accumulation:  **sum**, **product**\n",
    "+ Optimization: **min**, **max**\n",
    "+ Filtering:  **select one of**.\n",
    "+ Collecting: **save everything**\n",
    "+ Others"
   ]
  },
  {
   "cell_type": "code",
   "execution_count": 9,
   "id": "7dac1ed7-f2fa-46c6-91d0-4a1700d25195",
   "metadata": {},
   "outputs": [],
   "source": [
    "#\n",
    "# Input: coin values, X\n",
    "# Output: Number of ways to make change for $X using the coin values.\n",
    "#\n",
    "def ways_of_change(values, X):\n",
    "    pass"
   ]
  },
  {
   "cell_type": "code",
   "execution_count": 10,
   "id": "e234d1eb-f052-45d4-b245-4958ead4dace",
   "metadata": {},
   "outputs": [
    {
     "name": "stdout",
     "output_type": "stream",
     "text": [
      "12 None\n",
      "13 None\n",
      "14 None\n",
      "15 None\n",
      "16 None\n",
      "17 None\n",
      "18 None\n",
      "19 None\n"
     ]
    }
   ],
   "source": [
    "for X in [12, 13, 14, 15, 16, 17, 18, 19]:\n",
    "    print(X, ways_of_change([5,7], X))"
   ]
  },
  {
   "cell_type": "markdown",
   "id": "922f4138-b853-486b-8ca3-5f86ae974a13",
   "metadata": {},
   "source": [
    "---\n",
    "### Knapsack\n",
    "\n",
    "Items: { Apple, Orange, Banana, Melon }\n",
    "\n",
    "Weights: { 2, 3, 1, 4 }\n",
    "\n",
    "Profits: { 4, 5, 3, 7 }\n",
    "\n",
    "Knapsack Capacity, C : 5\n",
    "\n",
    "Which items do we select to maximize the profit?\n",
    "\n",
    "We cannot take Apple and Melon. That exceeds the capacity.\n",
    "\n",
    "---\n",
    "\n",
    "**Observations:**\n",
    "* Each item can be taken at most once.\n",
    "* An API:\n",
    "    + Knapsack(weights, profits, C, i) --- the max profit of packing the items 0, 1, ..., i into a knapsack with capacity C.\n"
   ]
  },
  {
   "cell_type": "code",
   "execution_count": 11,
   "id": "fd718312-93a5-4d22-9fe1-2df1cd9ff85d",
   "metadata": {},
   "outputs": [],
   "source": [
    "def Knapsack(weights, profits, C, i):\n",
    "    pass"
   ]
  },
  {
   "cell_type": "code",
   "execution_count": null,
   "id": "844e9da8-1a71-4ab8-88dd-f202de96aea3",
   "metadata": {},
   "outputs": [],
   "source": []
  }
 ],
 "metadata": {
  "kernelspec": {
   "display_name": "Python 3 (ipykernel)",
   "language": "python",
   "name": "python3"
  },
  "language_info": {
   "codemirror_mode": {
    "name": "ipython",
    "version": 3
   },
   "file_extension": ".py",
   "mimetype": "text/x-python",
   "name": "python",
   "nbconvert_exporter": "python",
   "pygments_lexer": "ipython3",
   "version": "3.9.7"
  }
 },
 "nbformat": 4,
 "nbformat_minor": 5
}
