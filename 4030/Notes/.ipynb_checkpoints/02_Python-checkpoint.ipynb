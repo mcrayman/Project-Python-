{
 "cells": [
  {
   "cell_type": "markdown",
   "id": "2be1bf28-b638-46a2-9dcd-cbf3505f5401",
   "metadata": {},
   "source": [
    "# Python"
   ]
  },
  {
   "cell_type": "markdown",
   "id": "d8b02bec-ec22-4b42-a118-4c4200863f08",
   "metadata": {},
   "source": [
    "Learning goals:\n",
    "+ Understand basic Python concepts: Blocks, lack of semicolons and curly brackets, etc.\n",
    "+ How to use basic data structures: list, tuple, dictionary.\n",
    "+ How to use control structures: iterative and conditional.\n",
    "+ How to define and invoke functions.\n",
    "---"
   ]
  },
  {
   "cell_type": "markdown",
   "id": "ae2b66a1-bf5b-4299-8990-837736db0ccb",
   "metadata": {},
   "source": [
    "Python is supposed be concise, simple and readable."
   ]
  },
  {
   "cell_type": "markdown",
   "id": "d10bbbef-96ae-46e9-a916-cf839f945e2f",
   "metadata": {},
   "source": [
    "Blocks -- in other languages a \"block\" is enclosed between { and }.\n",
    "\n",
    "In Python, we use indentations (tabs) to create a block.\n",
    "\n",
    "Code within a block is executed together."
   ]
  },
  {
   "cell_type": "code",
   "execution_count": 6,
   "id": "b10f70e1-af40-4255-8880-d6197fa283a1",
   "metadata": {},
   "outputs": [
    {
     "name": "stdout",
     "output_type": "stream",
     "text": [
      "thank you. (this is always executed)\n"
     ]
    }
   ],
   "source": [
    "age = 23\n",
    "threshold = 21\n",
    "if age < threshold:\n",
    "    print('Not old enough.')\n",
    "    print('Threshold is', threshold)\n",
    "\n",
    "print('thank you. (this is always executed)')"
   ]
  },
  {
   "cell_type": "code",
   "execution_count": 2,
   "id": "77d48e34-7315-4a20-8917-af21f05dbd36",
   "metadata": {},
   "outputs": [
    {
     "name": "stdout",
     "output_type": "stream",
     "text": [
      "15\n"
     ]
    }
   ],
   "source": [
    "print(age)"
   ]
  },
  {
   "cell_type": "markdown",
   "id": "a940f4cd-89fe-4760-9594-d26dc879edd6",
   "metadata": {},
   "source": [
    "The code from lines 4 to 5 is in a block.  It's executed only when the condition holds.\n",
    "\n",
    "The code on line 7 is not in the block. It's always executed."
   ]
  },
  {
   "cell_type": "markdown",
   "id": "ee2531d3-c58a-4e49-b565-1712f7ad6ff7",
   "metadata": {
    "tags": []
   },
   "source": [
    "### Python things\n",
    "\n",
    "Important data structures:\n",
    "+ String\n",
    "+ List\n",
    "+ Dictionary (aka hash map, hash, vector, etc.)\n",
    "+ File\n",
    "\n",
    "Control structures:\n",
    "+ If-then\n",
    "+ If-then-else\n",
    "+ For loop\n",
    "+ While loop\n"
   ]
  },
  {
   "cell_type": "code",
   "execution_count": 7,
   "id": "d1ae8f64-06aa-4ec8-a84d-e809549e6dce",
   "metadata": {},
   "outputs": [
    {
     "name": "stdout",
     "output_type": "stream",
     "text": [
      "15\n"
     ]
    }
   ],
   "source": [
    "print(age)"
   ]
  },
  {
   "cell_type": "code",
   "execution_count": 12,
   "id": "59ec411f-d9f5-4944-a703-389193ab7f6c",
   "metadata": {},
   "outputs": [
    {
     "name": "stdout",
     "output_type": "stream",
     "text": [
      "Use a different name.\n"
     ]
    }
   ],
   "source": [
    "name = 'John'\n",
    "if name == 'John':\n",
    "    print('Use a different name.')\n",
    "else:\n",
    "    print('OK.')"
   ]
  },
  {
   "cell_type": "code",
   "execution_count": 14,
   "id": "0b77553f-77ef-44af-89e5-c8343993ad09",
   "metadata": {},
   "outputs": [],
   "source": [
    "fruits = ['apple','orange','banana']"
   ]
  },
  {
   "cell_type": "code",
   "execution_count": 16,
   "id": "a62dd303-11b8-416c-aa5a-d894aa8ff63e",
   "metadata": {},
   "outputs": [
    {
     "data": {
      "text/plain": [
       "(str, list)"
      ]
     },
     "execution_count": 16,
     "metadata": {},
     "output_type": "execute_result"
    }
   ],
   "source": [
    "type(name), type(fruits)"
   ]
  },
  {
   "cell_type": "markdown",
   "id": "6e03dacb-d837-4ced-84df-c631c9175b0e",
   "metadata": {},
   "source": [
    "A unique aspect of Python is \"introspection\".\n",
    "\n",
    "Sometimes, we want to know the \"type\" of an object/variable and \"methods\" that we use on that object/variable.\n",
    "\n",
    "Two useful Python functions are: **type** and **dir**"
   ]
  },
  {
   "cell_type": "code",
   "execution_count": 7,
   "id": "579a8f3e-1de3-4c38-8479-9cf3886dcfd3",
   "metadata": {},
   "outputs": [
    {
     "data": {
      "text/plain": [
       "str"
      ]
     },
     "execution_count": 7,
     "metadata": {},
     "output_type": "execute_result"
    }
   ],
   "source": [
    "name = 'John M. Smith'\n",
    "type(name)"
   ]
  },
  {
   "cell_type": "code",
   "execution_count": 8,
   "id": "2f28ffc8-7257-4265-b9d4-742e6159035b",
   "metadata": {},
   "outputs": [
    {
     "data": {
      "text/plain": [
       "['__add__',\n",
       " '__class__',\n",
       " '__contains__',\n",
       " '__delattr__',\n",
       " '__dir__',\n",
       " '__doc__',\n",
       " '__eq__',\n",
       " '__format__',\n",
       " '__ge__',\n",
       " '__getattribute__',\n",
       " '__getitem__',\n",
       " '__getnewargs__',\n",
       " '__gt__',\n",
       " '__hash__',\n",
       " '__init__',\n",
       " '__init_subclass__',\n",
       " '__iter__',\n",
       " '__le__',\n",
       " '__len__',\n",
       " '__lt__',\n",
       " '__mod__',\n",
       " '__mul__',\n",
       " '__ne__',\n",
       " '__new__',\n",
       " '__reduce__',\n",
       " '__reduce_ex__',\n",
       " '__repr__',\n",
       " '__rmod__',\n",
       " '__rmul__',\n",
       " '__setattr__',\n",
       " '__sizeof__',\n",
       " '__str__',\n",
       " '__subclasshook__',\n",
       " 'capitalize',\n",
       " 'casefold',\n",
       " 'center',\n",
       " 'count',\n",
       " 'encode',\n",
       " 'endswith',\n",
       " 'expandtabs',\n",
       " 'find',\n",
       " 'format',\n",
       " 'format_map',\n",
       " 'index',\n",
       " 'isalnum',\n",
       " 'isalpha',\n",
       " 'isascii',\n",
       " 'isdecimal',\n",
       " 'isdigit',\n",
       " 'isidentifier',\n",
       " 'islower',\n",
       " 'isnumeric',\n",
       " 'isprintable',\n",
       " 'isspace',\n",
       " 'istitle',\n",
       " 'isupper',\n",
       " 'join',\n",
       " 'ljust',\n",
       " 'lower',\n",
       " 'lstrip',\n",
       " 'maketrans',\n",
       " 'partition',\n",
       " 'removeprefix',\n",
       " 'removesuffix',\n",
       " 'replace',\n",
       " 'rfind',\n",
       " 'rindex',\n",
       " 'rjust',\n",
       " 'rpartition',\n",
       " 'rsplit',\n",
       " 'rstrip',\n",
       " 'split',\n",
       " 'splitlines',\n",
       " 'startswith',\n",
       " 'strip',\n",
       " 'swapcase',\n",
       " 'title',\n",
       " 'translate',\n",
       " 'upper',\n",
       " 'zfill']"
      ]
     },
     "execution_count": 8,
     "metadata": {},
     "output_type": "execute_result"
    }
   ],
   "source": [
    "dir(name)"
   ]
  },
  {
   "cell_type": "markdown",
   "id": "91c30d66-7640-4c14-adca-69a59e63f841",
   "metadata": {},
   "source": [
    "Some interesting string methods\n",
    "\n",
    "```\n",
    "__add__\n",
    "\n",
    "__contains__   \n",
    "\n",
    "capitalize\n",
    "\n",
    "split\n",
    "\n",
    "strip\n",
    "\n",
    "startswith\n",
    "```\n"
   ]
  },
  {
   "cell_type": "code",
   "execution_count": 11,
   "id": "6279e099-f553-4334-8a67-0bcbe6a83b53",
   "metadata": {},
   "outputs": [
    {
     "data": {
      "text/plain": [
       "'hello world'"
      ]
     },
     "execution_count": 11,
     "metadata": {},
     "output_type": "execute_result"
    }
   ],
   "source": [
    "a = 'hello'\n",
    "b = \"world\"\n",
    "a + ' ' + b"
   ]
  },
  {
   "cell_type": "markdown",
   "id": "966e98cf-f825-4c22-854b-8179ca5e58ab",
   "metadata": {},
   "source": [
    "You can use double quotes (\"), single quotes (') to define strings."
   ]
  },
  {
   "cell_type": "code",
   "execution_count": 13,
   "id": "66cd3f44-5e96-4aec-a4d9-0103ad9fef26",
   "metadata": {},
   "outputs": [
    {
     "data": {
      "text/plain": [
       "True"
      ]
     },
     "execution_count": 13,
     "metadata": {},
     "output_type": "execute_result"
    }
   ],
   "source": [
    "'el' in a"
   ]
  },
  {
   "cell_type": "code",
   "execution_count": 15,
   "id": "4fba14c2-1b49-4672-a645-e1378cce3ece",
   "metadata": {},
   "outputs": [
    {
     "name": "stdout",
     "output_type": "stream",
     "text": [
      "\tthis is a line.\n",
      "\n"
     ]
    }
   ],
   "source": [
    "print('\\tthis is a line.\\n')"
   ]
  },
  {
   "cell_type": "code",
   "execution_count": 16,
   "id": "ae2a86d3-14aa-4527-8159-7273da59c237",
   "metadata": {},
   "outputs": [
    {
     "data": {
      "text/plain": [
       "'this is a line.'"
      ]
     },
     "execution_count": 16,
     "metadata": {},
     "output_type": "execute_result"
    }
   ],
   "source": [
    "'\\tthis is a line.\\n'.strip()"
   ]
  },
  {
   "cell_type": "code",
   "execution_count": 17,
   "id": "02a5f66b-2cfe-4e22-baf7-f0a423094367",
   "metadata": {},
   "outputs": [
    {
     "data": {
      "text/plain": [
       "'3.5,1.2,4.7,john'"
      ]
     },
     "execution_count": 17,
     "metadata": {},
     "output_type": "execute_result"
    }
   ],
   "source": [
    "'3.5,1.2,4.7,john\\n'.strip()"
   ]
  },
  {
   "cell_type": "code",
   "execution_count": 18,
   "id": "cde9f8e9-82dd-4c70-8526-6bd30c66e7a0",
   "metadata": {},
   "outputs": [
    {
     "data": {
      "text/plain": [
       "['3.5', '1.2', '4.7', 'john']"
      ]
     },
     "execution_count": 18,
     "metadata": {},
     "output_type": "execute_result"
    }
   ],
   "source": [
    "'3.5,1.2,4.7,john'.split(',')"
   ]
  },
  {
   "cell_type": "code",
   "execution_count": 19,
   "id": "5d416929-8330-439e-9370-58fa934dbe7d",
   "metadata": {},
   "outputs": [
    {
     "data": {
      "text/plain": [
       "['3.5', '1.2', '4.7', 'john']"
      ]
     },
     "execution_count": 19,
     "metadata": {},
     "output_type": "execute_result"
    }
   ],
   "source": [
    "'3.5,1.2,4.7,john\\n'.strip().split(',')"
   ]
  },
  {
   "cell_type": "code",
   "execution_count": null,
   "id": "d539eb7a-1f35-44ed-8db0-03bf46541983",
   "metadata": {},
   "outputs": [],
   "source": []
  },
  {
   "cell_type": "markdown",
   "id": "e5e49e83-6146-430d-90f1-9bab81036c5b",
   "metadata": {},
   "source": [
    "This special method (which we often cannot invoke directly) allows us to add two strings together.\n"
   ]
  },
  {
   "cell_type": "markdown",
   "id": "89fc9622-4ebf-450e-94d0-218d11548bcc",
   "metadata": {},
   "source": [
    "### Popular data structures in Python\n",
    "\n",
    "Data structures:\n",
    "+ Strings\n",
    "+ Lists, tuples\n",
    "+ Sets, dictionaries\n",
    "+ Files\n",
    "\n",
    "Operations:\n",
    "+ Creation, access, insertion, deletion\n",
    "+ Iteration\n",
    "\n",
    "Concepts:\n",
    "+ Introspection\n",
    "+ Objects and types\n",
    "+ \"Special\" methods\n",
    "+ Mutable vs immutable\n",
    "+ Copy by value versus copy by reference."
   ]
  },
  {
   "cell_type": "markdown",
   "id": "ed1380a0-0fe3-4c0e-830a-ea2531ae2014",
   "metadata": {},
   "source": [
    "The \"dir\" function returns a list of attributes of an object."
   ]
  },
  {
   "cell_type": "markdown",
   "id": "84c7797e-9153-4c72-91d6-e70ce3482dbc",
   "metadata": {},
   "source": [
    "#### Strings"
   ]
  },
  {
   "cell_type": "code",
   "execution_count": 2,
   "id": "5396a48b-0df2-475d-97cd-c6378f705f2b",
   "metadata": {},
   "outputs": [],
   "source": [
    "name = 'Jonh Smith'\n",
    "a_line = '\\t3.6,5,1.4\\n'"
   ]
  },
  {
   "cell_type": "code",
   "execution_count": 3,
   "id": "780bd6d4-25c9-43e5-afdf-0cd58b8056a3",
   "metadata": {},
   "outputs": [
    {
     "name": "stdout",
     "output_type": "stream",
     "text": [
      "\t3.6,5,1.4\n",
      "\n"
     ]
    }
   ],
   "source": [
    "print(a_line)"
   ]
  },
  {
   "cell_type": "code",
   "execution_count": 4,
   "id": "c4af7a9c-858c-4828-874f-d6f38fd43977",
   "metadata": {},
   "outputs": [
    {
     "data": {
      "text/plain": [
       "['__add__',\n",
       " '__class__',\n",
       " '__contains__',\n",
       " '__delattr__',\n",
       " '__dir__',\n",
       " '__doc__',\n",
       " '__eq__',\n",
       " '__format__',\n",
       " '__ge__',\n",
       " '__getattribute__',\n",
       " '__getitem__',\n",
       " '__getnewargs__',\n",
       " '__gt__',\n",
       " '__hash__',\n",
       " '__init__',\n",
       " '__init_subclass__',\n",
       " '__iter__',\n",
       " '__le__',\n",
       " '__len__',\n",
       " '__lt__',\n",
       " '__mod__',\n",
       " '__mul__',\n",
       " '__ne__',\n",
       " '__new__',\n",
       " '__reduce__',\n",
       " '__reduce_ex__',\n",
       " '__repr__',\n",
       " '__rmod__',\n",
       " '__rmul__',\n",
       " '__setattr__',\n",
       " '__sizeof__',\n",
       " '__str__',\n",
       " '__subclasshook__',\n",
       " 'capitalize',\n",
       " 'casefold',\n",
       " 'center',\n",
       " 'count',\n",
       " 'encode',\n",
       " 'endswith',\n",
       " 'expandtabs',\n",
       " 'find',\n",
       " 'format',\n",
       " 'format_map',\n",
       " 'index',\n",
       " 'isalnum',\n",
       " 'isalpha',\n",
       " 'isascii',\n",
       " 'isdecimal',\n",
       " 'isdigit',\n",
       " 'isidentifier',\n",
       " 'islower',\n",
       " 'isnumeric',\n",
       " 'isprintable',\n",
       " 'isspace',\n",
       " 'istitle',\n",
       " 'isupper',\n",
       " 'join',\n",
       " 'ljust',\n",
       " 'lower',\n",
       " 'lstrip',\n",
       " 'maketrans',\n",
       " 'partition',\n",
       " 'replace',\n",
       " 'rfind',\n",
       " 'rindex',\n",
       " 'rjust',\n",
       " 'rpartition',\n",
       " 'rsplit',\n",
       " 'rstrip',\n",
       " 'split',\n",
       " 'splitlines',\n",
       " 'startswith',\n",
       " 'strip',\n",
       " 'swapcase',\n",
       " 'title',\n",
       " 'translate',\n",
       " 'upper',\n",
       " 'zfill']"
      ]
     },
     "execution_count": 4,
     "metadata": {},
     "output_type": "execute_result"
    }
   ],
   "source": [
    "dir(a_line)"
   ]
  },
  {
   "cell_type": "code",
   "execution_count": 5,
   "id": "c846b857-2b26-431e-a758-fb88b7618d3e",
   "metadata": {},
   "outputs": [
    {
     "data": {
      "text/plain": [
       "True"
      ]
     },
     "execution_count": 5,
     "metadata": {},
     "output_type": "execute_result"
    }
   ],
   "source": [
    "name.startswith('Jo')"
   ]
  },
  {
   "cell_type": "code",
   "execution_count": 8,
   "id": "7c72a628-a527-4fec-ac38-9b99c6ba533b",
   "metadata": {},
   "outputs": [
    {
     "data": {
      "text/plain": [
       "True"
      ]
     },
     "execution_count": 8,
     "metadata": {},
     "output_type": "execute_result"
    }
   ],
   "source": [
    "a_line.endswith('\\n')"
   ]
  },
  {
   "cell_type": "code",
   "execution_count": 9,
   "id": "c4298bf3-5115-459a-ab20-3cd2aff5afc2",
   "metadata": {},
   "outputs": [
    {
     "data": {
      "text/plain": [
       "'\\t3.6,5,1.4\\n'"
      ]
     },
     "execution_count": 9,
     "metadata": {},
     "output_type": "execute_result"
    }
   ],
   "source": [
    "a_line"
   ]
  },
  {
   "cell_type": "code",
   "execution_count": 10,
   "id": "2a2b63b3-df4e-4038-bd6f-570e0f58d963",
   "metadata": {},
   "outputs": [
    {
     "data": {
      "text/plain": [
       "'3.6,5,1.4'"
      ]
     },
     "execution_count": 10,
     "metadata": {},
     "output_type": "execute_result"
    }
   ],
   "source": [
    "a_line.strip()"
   ]
  },
  {
   "cell_type": "markdown",
   "id": "0c2a4ce9-b121-4a58-b653-b2c1aba67171",
   "metadata": {},
   "source": [
    "\"strip\" removes leading and trailing white spaces.\n",
    "\n",
    "\"strip\" returns a (new) string.\n",
    "\n",
    "\"Piggybacking\" -- you can invoke a method on a return object.  \"read from left to right\".\n",
    "\n"
   ]
  },
  {
   "cell_type": "code",
   "execution_count": 11,
   "id": "6b96ae34-a0a8-4bba-9a48-547d7bbe7925",
   "metadata": {},
   "outputs": [
    {
     "data": {
      "text/plain": [
       "['3.6', '5', '1.4']"
      ]
     },
     "execution_count": 11,
     "metadata": {},
     "output_type": "execute_result"
    }
   ],
   "source": [
    "'3.6,5,1.4'.split(',')"
   ]
  },
  {
   "cell_type": "code",
   "execution_count": 14,
   "id": "0d48ef6e-c7f6-405a-95c2-713ce83b1513",
   "metadata": {},
   "outputs": [
    {
     "data": {
      "text/plain": [
       "['3.6', '5', '1.4']"
      ]
     },
     "execution_count": 14,
     "metadata": {},
     "output_type": "execute_result"
    }
   ],
   "source": [
    "a_line.strip().split(',')"
   ]
  },
  {
   "cell_type": "code",
   "execution_count": 19,
   "id": "ab8d350e-02e7-4961-8724-327d8c8097bf",
   "metadata": {},
   "outputs": [
    {
     "data": {
      "text/plain": [
       "1"
      ]
     },
     "execution_count": 19,
     "metadata": {},
     "output_type": "execute_result"
    }
   ],
   "source": [
    "a_line.strip().split(',').count('5')"
   ]
  },
  {
   "cell_type": "markdown",
   "id": "38a46e56-b531-49da-9738-0d49ec54b61c",
   "metadata": {},
   "source": [
    "### Lists"
   ]
  },
  {
   "cell_type": "code",
   "execution_count": 22,
   "id": "3f7f413b-45fa-46c2-af48-904f7d72bb0f",
   "metadata": {},
   "outputs": [
    {
     "data": {
      "text/plain": [
       "['3.6', '5', '1.4']"
      ]
     },
     "execution_count": 22,
     "metadata": {},
     "output_type": "execute_result"
    }
   ],
   "source": [
    "a = a_line.strip().split(',')\n",
    "a"
   ]
  },
  {
   "cell_type": "code",
   "execution_count": 30,
   "id": "5bc943a8-9818-4304-927a-bf786fc9c941",
   "metadata": {},
   "outputs": [
    {
     "data": {
      "text/plain": [
       "'\\t3.6,5,1.4\\n'"
      ]
     },
     "execution_count": 30,
     "metadata": {},
     "output_type": "execute_result"
    }
   ],
   "source": [
    "a_line"
   ]
  },
  {
   "cell_type": "code",
   "execution_count": 29,
   "id": "1e5512f8-bf2a-4add-aac2-e2725956b135",
   "metadata": {},
   "outputs": [
    {
     "name": "stdout",
     "output_type": "stream",
     "text": [
      "\t3.6,5,1.4\n",
      "\n"
     ]
    }
   ],
   "source": [
    "print(a_line)"
   ]
  },
  {
   "cell_type": "code",
   "execution_count": 31,
   "id": "63e7563a-da22-4137-93b8-98121d27b0a1",
   "metadata": {},
   "outputs": [
    {
     "data": {
      "text/plain": [
       "['3.6', '5', '1.4']"
      ]
     },
     "execution_count": 31,
     "metadata": {},
     "output_type": "execute_result"
    }
   ],
   "source": [
    "a"
   ]
  },
  {
   "cell_type": "code",
   "execution_count": 32,
   "id": "51b8448b-f745-43ee-8a23-8b9b86758891",
   "metadata": {},
   "outputs": [
    {
     "data": {
      "text/plain": [
       "['3.6', '5', '1.4', '7.9']"
      ]
     },
     "execution_count": 32,
     "metadata": {},
     "output_type": "execute_result"
    }
   ],
   "source": [
    "a.append('7.9')\n",
    "a"
   ]
  },
  {
   "cell_type": "code",
   "execution_count": 33,
   "id": "c60bab1a-dc09-426b-96e7-d0933eabf2fc",
   "metadata": {},
   "outputs": [
    {
     "data": {
      "text/plain": [
       "'3.6'"
      ]
     },
     "execution_count": 33,
     "metadata": {},
     "output_type": "execute_result"
    }
   ],
   "source": [
    "a.pop(0)"
   ]
  },
  {
   "cell_type": "code",
   "execution_count": 34,
   "id": "632a5d0b-ebc5-47bf-9c2e-5d561f7ba43e",
   "metadata": {},
   "outputs": [
    {
     "data": {
      "text/plain": [
       "['5', '1.4', '7.9']"
      ]
     },
     "execution_count": 34,
     "metadata": {},
     "output_type": "execute_result"
    }
   ],
   "source": [
    "a"
   ]
  },
  {
   "cell_type": "code",
   "execution_count": 35,
   "id": "1df26b64-5e71-4b77-ad0a-fd1bb22f4b4a",
   "metadata": {},
   "outputs": [
    {
     "data": {
      "text/plain": [
       "'5'"
      ]
     },
     "execution_count": 35,
     "metadata": {},
     "output_type": "execute_result"
    }
   ],
   "source": [
    "a[0]"
   ]
  },
  {
   "cell_type": "code",
   "execution_count": 36,
   "id": "b10e23d6-9b41-4795-aa4f-8b550933d4bf",
   "metadata": {},
   "outputs": [
    {
     "data": {
      "text/plain": [
       "'1.4'"
      ]
     },
     "execution_count": 36,
     "metadata": {},
     "output_type": "execute_result"
    }
   ],
   "source": [
    "a[1]"
   ]
  },
  {
   "cell_type": "code",
   "execution_count": 37,
   "id": "440aaf8e-30a8-4367-8d46-ec25f429f06e",
   "metadata": {},
   "outputs": [
    {
     "data": {
      "text/plain": [
       "['5', '1.44', '7.9']"
      ]
     },
     "execution_count": 37,
     "metadata": {},
     "output_type": "execute_result"
    }
   ],
   "source": [
    "a[1] = '1.44'\n",
    "a"
   ]
  },
  {
   "cell_type": "code",
   "execution_count": 39,
   "id": "71cefe64-e998-4329-969b-091d17a36623",
   "metadata": {},
   "outputs": [
    {
     "data": {
      "text/plain": [
       "'7.9'"
      ]
     },
     "execution_count": 39,
     "metadata": {},
     "output_type": "execute_result"
    }
   ],
   "source": [
    "a[-1]"
   ]
  },
  {
   "cell_type": "code",
   "execution_count": 40,
   "id": "11c5ad3b-66ab-4b1e-976b-d6de14ad26d9",
   "metadata": {},
   "outputs": [
    {
     "data": {
      "text/plain": [
       "3"
      ]
     },
     "execution_count": 40,
     "metadata": {},
     "output_type": "execute_result"
    }
   ],
   "source": [
    "len(a)"
   ]
  },
  {
   "cell_type": "code",
   "execution_count": 41,
   "id": "973368e9-9d27-45ef-81eb-f9fd594a4636",
   "metadata": {},
   "outputs": [
    {
     "data": {
      "text/plain": [
       "['1.44', '7.9']"
      ]
     },
     "execution_count": 41,
     "metadata": {},
     "output_type": "execute_result"
    }
   ],
   "source": [
    "a[1:len(a)]"
   ]
  },
  {
   "cell_type": "markdown",
   "id": "c020a1e6-28c3-4dc5-a7d8-239e45e26ea7",
   "metadata": {},
   "source": [
    "Useful list operations:\n",
    "+ indexing\n",
    "+ appending\n",
    "+ popping\n",
    "+ slicing"
   ]
  },
  {
   "cell_type": "markdown",
   "id": "cc46c88e-323e-4926-ba50-8356b7e3b50e",
   "metadata": {},
   "source": [
    "#### Tuples"
   ]
  },
  {
   "cell_type": "markdown",
   "id": "dd4194d0-4eee-45ed-a48d-62aef778be7e",
   "metadata": {},
   "source": [
    "A tuple is like a list.  But it is immutable.  You can't change/modify a tuple."
   ]
  },
  {
   "cell_type": "code",
   "execution_count": 43,
   "id": "fc5c0e34-8daa-4a7d-afcb-d85a33a2b8b8",
   "metadata": {},
   "outputs": [],
   "source": [
    "a = (1, 3, 4)"
   ]
  },
  {
   "cell_type": "code",
   "execution_count": 44,
   "id": "b173101f-6815-4c74-aec5-fd42d14ef2f6",
   "metadata": {},
   "outputs": [
    {
     "data": {
      "text/plain": [
       "3"
      ]
     },
     "execution_count": 44,
     "metadata": {},
     "output_type": "execute_result"
    }
   ],
   "source": [
    "len(a)"
   ]
  },
  {
   "cell_type": "code",
   "execution_count": 47,
   "id": "901cc332-ccbd-40d1-aadf-725b1c030b55",
   "metadata": {},
   "outputs": [
    {
     "data": {
      "text/plain": [
       "(1, 3, 4)"
      ]
     },
     "execution_count": 47,
     "metadata": {},
     "output_type": "execute_result"
    }
   ],
   "source": [
    "a[0], a[1], a[2]"
   ]
  },
  {
   "cell_type": "code",
   "execution_count": 48,
   "id": "4a0e9acb-7bf4-49c9-bd16-4475096d6b05",
   "metadata": {},
   "outputs": [
    {
     "ename": "TypeError",
     "evalue": "'tuple' object does not support item assignment",
     "output_type": "error",
     "traceback": [
      "\u001b[0;31m---------------------------------------------------------------------------\u001b[0m",
      "\u001b[0;31mTypeError\u001b[0m                                 Traceback (most recent call last)",
      "\u001b[0;32m/var/folders/b5/d9dklfjj6jsdgbt3rxf0_lyh0000gn/T/ipykernel_88301/3349763803.py\u001b[0m in \u001b[0;36m<module>\u001b[0;34m\u001b[0m\n\u001b[0;32m----> 1\u001b[0;31m \u001b[0ma\u001b[0m\u001b[0;34m[\u001b[0m\u001b[0;36m0\u001b[0m\u001b[0;34m]\u001b[0m \u001b[0;34m=\u001b[0m \u001b[0;36m1.1\u001b[0m\u001b[0;34m\u001b[0m\u001b[0;34m\u001b[0m\u001b[0m\n\u001b[0m",
      "\u001b[0;31mTypeError\u001b[0m: 'tuple' object does not support item assignment"
     ]
    }
   ],
   "source": [
    "a[0] = 1.1"
   ]
  },
  {
   "cell_type": "code",
   "execution_count": 50,
   "id": "673b349a-0066-4116-b011-799ecbc523f9",
   "metadata": {},
   "outputs": [
    {
     "data": {
      "text/plain": [
       "(1, 3)"
      ]
     },
     "execution_count": 50,
     "metadata": {},
     "output_type": "execute_result"
    }
   ],
   "source": [
    "a[0:2]"
   ]
  },
  {
   "cell_type": "markdown",
   "id": "16277c02-e4b8-442d-9070-0bb46df7d18b",
   "metadata": {},
   "source": [
    "We can't modify immutable objects.\n",
    "\n",
    "You use immutable objects as keys of dictionaries.\n",
    "\n",
    "Immutable objects can be used as \"identities\" i.e, to identify things."
   ]
  },
  {
   "cell_type": "markdown",
   "id": "a503b3fd-7fd1-474e-b9a0-47446571427f",
   "metadata": {},
   "source": [
    "#### Sets"
   ]
  },
  {
   "cell_type": "markdown",
   "id": "615d8f90-6b10-446d-860e-bb184678a957",
   "metadata": {},
   "source": [
    "A list is a linearly ordered data structure.\n",
    "\n",
    "A set is not linearly ordered.  It is not ordered at all.  Sets do not have multiplicities.\n",
    "\n",
    "Sets support efficient (fast) membership checks."
   ]
  },
  {
   "cell_type": "code",
   "execution_count": 53,
   "id": "d59a9146-5c14-4929-ace7-39bba627fd00",
   "metadata": {},
   "outputs": [
    {
     "name": "stdout",
     "output_type": "stream",
     "text": [
      "(1, 3, 4)\n"
     ]
    },
    {
     "data": {
      "text/plain": [
       "True"
      ]
     },
     "execution_count": 53,
     "metadata": {},
     "output_type": "execute_result"
    }
   ],
   "source": [
    "print(a)\n",
    "3 in a"
   ]
  },
  {
   "cell_type": "code",
   "execution_count": 54,
   "id": "b487eaea-7f6b-4df6-93bd-4b9692621964",
   "metadata": {},
   "outputs": [],
   "source": [
    "fruits = {'banana','orange','apple'}"
   ]
  },
  {
   "cell_type": "code",
   "execution_count": 56,
   "id": "1b93556a-c079-481d-a193-fbbf79d6ec12",
   "metadata": {},
   "outputs": [
    {
     "name": "stdout",
     "output_type": "stream",
     "text": [
      "<class 'set'>\n",
      "['__and__', '__class__', '__contains__', '__delattr__', '__dir__', '__doc__', '__eq__', '__format__', '__ge__', '__getattribute__', '__gt__', '__hash__', '__iand__', '__init__', '__init_subclass__', '__ior__', '__isub__', '__iter__', '__ixor__', '__le__', '__len__', '__lt__', '__ne__', '__new__', '__or__', '__rand__', '__reduce__', '__reduce_ex__', '__repr__', '__ror__', '__rsub__', '__rxor__', '__setattr__', '__sizeof__', '__str__', '__sub__', '__subclasshook__', '__xor__', 'add', 'clear', 'copy', 'difference', 'difference_update', 'discard', 'intersection', 'intersection_update', 'isdisjoint', 'issubset', 'issuperset', 'pop', 'remove', 'symmetric_difference', 'symmetric_difference_update', 'union', 'update']\n"
     ]
    }
   ],
   "source": [
    "print(type(fruits))\n",
    "print(dir(fruits))"
   ]
  },
  {
   "cell_type": "code",
   "execution_count": 58,
   "id": "e16ac1c8-5cd6-408a-941d-04baade3faf6",
   "metadata": {},
   "outputs": [
    {
     "data": {
      "text/plain": [
       "(True, False)"
      ]
     },
     "execution_count": 58,
     "metadata": {},
     "output_type": "execute_result"
    }
   ],
   "source": [
    "'orange' in fruits, 'strawberry' in fruits"
   ]
  },
  {
   "cell_type": "code",
   "execution_count": 59,
   "id": "7b4bad80-2809-4890-b82b-cf820566957c",
   "metadata": {},
   "outputs": [
    {
     "data": {
      "text/plain": [
       "{'apple', 'banana', 'orange', 'strawberry'}"
      ]
     },
     "execution_count": 59,
     "metadata": {},
     "output_type": "execute_result"
    }
   ],
   "source": [
    "fruits.add('strawberry')\n",
    "fruits"
   ]
  },
  {
   "cell_type": "markdown",
   "id": "ef04d6b9-842a-4e15-8012-5b45f4e5012d",
   "metadata": {},
   "source": [
    "#### Dictionaries\n",
    "\n",
    "A dictionary is a set of key-value pairs.\n",
    "\n",
    "Keys are unique. Values can have multiplicities.\n",
    "\n",
    "We look up values using keys."
   ]
  },
  {
   "cell_type": "code",
   "execution_count": 61,
   "id": "b8034de1-af24-41d6-8333-87f9bfd64603",
   "metadata": {},
   "outputs": [
    {
     "data": {
      "text/plain": [
       "{'john': 20, 'mary': 21, 'steve': 20, 'amy': 19}"
      ]
     },
     "execution_count": 61,
     "metadata": {},
     "output_type": "execute_result"
    }
   ],
   "source": [
    "age = { 'john':20, 'mary':21, 'steve':20, 'amy':19 }\n",
    "age"
   ]
  },
  {
   "cell_type": "code",
   "execution_count": 64,
   "id": "2ab2da85-0a90-4aef-bfa7-7ee29777987b",
   "metadata": {},
   "outputs": [
    {
     "data": {
      "text/plain": [
       "19"
      ]
     },
     "execution_count": 64,
     "metadata": {},
     "output_type": "execute_result"
    }
   ],
   "source": [
    "age['amy']"
   ]
  },
  {
   "cell_type": "code",
   "execution_count": 65,
   "id": "09ba24f8-56c2-472e-90b2-52cbbc217948",
   "metadata": {},
   "outputs": [],
   "source": [
    "age['amy'] = 18"
   ]
  },
  {
   "cell_type": "code",
   "execution_count": 66,
   "id": "23e8cb73-e0d6-4642-9f94-18d7afb182fd",
   "metadata": {},
   "outputs": [
    {
     "data": {
      "text/plain": [
       "{'john': 20, 'mary': 21, 'steve': 20, 'amy': 18}"
      ]
     },
     "execution_count": 66,
     "metadata": {},
     "output_type": "execute_result"
    }
   ],
   "source": [
    "age"
   ]
  },
  {
   "cell_type": "code",
   "execution_count": 67,
   "id": "3d6b5911-87bd-414b-868b-d83bb5ce0eb5",
   "metadata": {},
   "outputs": [
    {
     "data": {
      "text/plain": [
       "{'john': 20, 'mary': 21, 'steve': 20, 'amy': 18, 'jason': 25}"
      ]
     },
     "execution_count": 67,
     "metadata": {},
     "output_type": "execute_result"
    }
   ],
   "source": [
    "age['jason'] = 25\n",
    "age"
   ]
  },
  {
   "cell_type": "code",
   "execution_count": 68,
   "id": "9961f830-1ec5-436c-86ff-0cbfb44aa98b",
   "metadata": {},
   "outputs": [
    {
     "data": {
      "text/plain": [
       "{'john': 20, 'mary': 21, 'steve': 20, 'amy': 18, 'jason': 25, 302: 'hello'}"
      ]
     },
     "execution_count": 68,
     "metadata": {},
     "output_type": "execute_result"
    }
   ],
   "source": [
    "age[302] = 'hello'\n",
    "age"
   ]
  },
  {
   "cell_type": "code",
   "execution_count": 71,
   "id": "681d8424-095d-43c7-adf2-a26e2ca92af4",
   "metadata": {},
   "outputs": [
    {
     "data": {
      "text/plain": [
       "[1, 2, 3, 'hello']"
      ]
     },
     "execution_count": 71,
     "metadata": {},
     "output_type": "execute_result"
    }
   ],
   "source": [
    "a = [1,2,3,'hello']\n",
    "a"
   ]
  },
  {
   "cell_type": "markdown",
   "id": "1855a32a-302c-4ce6-8c35-02b433be2968",
   "metadata": {},
   "source": [
    "#### Dynamic typing"
   ]
  },
  {
   "cell_type": "markdown",
   "id": "4ad53aca-1a87-44d4-9d07-cefa38e6cad3",
   "metadata": {},
   "source": [
    "The type of a Python object can change during the course of the execution."
   ]
  },
  {
   "cell_type": "code",
   "execution_count": 24,
   "id": "f3a48df4-fe9b-4341-a7fd-e84498707d7c",
   "metadata": {},
   "outputs": [
    {
     "name": "stdout",
     "output_type": "stream",
     "text": [
      "<class 'int'>\n",
      "<class 'float'>\n",
      "<class 'str'>\n",
      "<class 'list'>\n"
     ]
    }
   ],
   "source": [
    "a = 5\n",
    "print(type(a))\n",
    "a = 10.2\n",
    "print(type(a))\n",
    "a = 'hello'\n",
    "print(type(a))\n",
    "a = [1,2,'bye bye']\n",
    "print(type(a))\n",
    "\n"
   ]
  },
  {
   "cell_type": "markdown",
   "id": "62ce0989-b304-4cc7-b172-286e79a1c3db",
   "metadata": {},
   "source": [
    "There's no need for declaring types for variables.\n"
   ]
  },
  {
   "cell_type": "markdown",
   "id": "7b7cc014-e5bc-4110-98c1-b6c34a7a951a",
   "metadata": {},
   "source": [
    "Immutable objects can be used as keys of dictionaries."
   ]
  },
  {
   "cell_type": "code",
   "execution_count": 20,
   "id": "765b7b50-de8b-4936-bc59-1d052d0e2c5e",
   "metadata": {},
   "outputs": [],
   "source": [
    "records = dict()\n",
    "records[('john',21)] = 3842\n",
    "records[('mary',19)] = 3022"
   ]
  },
  {
   "cell_type": "code",
   "execution_count": 21,
   "id": "9ade97fc-d97d-40a3-ae36-988b79a0af55",
   "metadata": {},
   "outputs": [
    {
     "data": {
      "text/plain": [
       "dict"
      ]
     },
     "execution_count": 21,
     "metadata": {},
     "output_type": "execute_result"
    }
   ],
   "source": [
    "type(records)"
   ]
  },
  {
   "cell_type": "code",
   "execution_count": 22,
   "id": "f0712501-bed8-476c-b992-d9ef7265bfa3",
   "metadata": {},
   "outputs": [
    {
     "data": {
      "text/plain": [
       "{('john', 21): 3842, ('mary', 19): 3022}"
      ]
     },
     "execution_count": 22,
     "metadata": {},
     "output_type": "execute_result"
    }
   ],
   "source": [
    "records"
   ]
  },
  {
   "cell_type": "code",
   "execution_count": 23,
   "id": "3ce051ae-a752-4ce3-b109-3b567c4300f1",
   "metadata": {},
   "outputs": [],
   "source": [
    "# print(dir(tuple()))"
   ]
  },
  {
   "cell_type": "markdown",
   "id": "15d02a75-3164-43ca-972f-0a53a3f6ea66",
   "metadata": {},
   "source": [
    "### Exercise\n",
    "\n",
    "+ Create a list, A, consisting of numbers from 0 to 10.\n",
    "+ Create a new list, B, consisting of the first 5 numbers of A.\n",
    "+ Remove first item of B.\n",
    "+ Remove last item of B."
   ]
  },
  {
   "cell_type": "code",
   "execution_count": 87,
   "id": "97a51efa-8ad7-4107-af48-c3c951230c34",
   "metadata": {},
   "outputs": [
    {
     "name": "stdout",
     "output_type": "stream",
     "text": [
      "[0, 1, 2, 3, 4]\n"
     ]
    }
   ],
   "source": [
    "A = [0,1,2,3,4,5,6,7,8,9,10]\n",
    "B = A[0 : 5]\n",
    "print(B)"
   ]
  },
  {
   "cell_type": "markdown",
   "id": "02fdc0d1-53bc-480d-ad6e-ada27089c7d2",
   "metadata": {},
   "source": [
    "To slice, we specify 2 indices: start and end.   The item at \"end\" is not included in the slice."
   ]
  },
  {
   "cell_type": "code",
   "execution_count": 89,
   "id": "5955dc49-a5ea-46e6-874d-74a02f5e09e3",
   "metadata": {},
   "outputs": [
    {
     "data": {
      "text/plain": [
       "([0, 1, 2, 3, 4], [5, 6, 7, 8, 9, 10])"
      ]
     },
     "execution_count": 89,
     "metadata": {},
     "output_type": "execute_result"
    }
   ],
   "source": [
    "A[0: 5], A[5 : len(A)]"
   ]
  },
  {
   "cell_type": "code",
   "execution_count": 91,
   "id": "a9227c11-6079-4896-97b8-1ed73d3129ab",
   "metadata": {},
   "outputs": [
    {
     "name": "stdout",
     "output_type": "stream",
     "text": [
      "1\n",
      "[2, 3, 4]\n"
     ]
    }
   ],
   "source": [
    "first_of_B = B.pop(0)\n",
    "print(first_of_B)\n",
    "print(B)"
   ]
  },
  {
   "cell_type": "code",
   "execution_count": 92,
   "id": "9565b1d3-b9d8-4fd6-80dd-a37ade474e03",
   "metadata": {},
   "outputs": [
    {
     "name": "stdout",
     "output_type": "stream",
     "text": [
      "4\n",
      "[2, 3]\n"
     ]
    }
   ],
   "source": [
    "last_of_B = B.pop(-1)\n",
    "print(last_of_B)\n",
    "print(B)"
   ]
  },
  {
   "cell_type": "code",
   "execution_count": 93,
   "id": "ce1e9fdc-6f99-49a7-ad70-1df99dc0a5b5",
   "metadata": {},
   "outputs": [
    {
     "name": "stdout",
     "output_type": "stream",
     "text": [
      "3\n"
     ]
    },
    {
     "data": {
      "text/plain": [
       "[2]"
      ]
     },
     "execution_count": 93,
     "metadata": {},
     "output_type": "execute_result"
    }
   ],
   "source": [
    "last_of_B = B.pop(-1)\n",
    "print(last_of_B)\n",
    "B"
   ]
  },
  {
   "cell_type": "markdown",
   "id": "66c2d7e9-43fa-4e76-8eea-2444d00b8f9a",
   "metadata": {},
   "source": [
    "Each cell in a notebook shows the output of the last statement."
   ]
  },
  {
   "cell_type": "code",
   "execution_count": 94,
   "id": "874c5450-5234-429f-be7a-2f8ff20d900b",
   "metadata": {},
   "outputs": [
    {
     "data": {
      "text/plain": [
       "[]"
      ]
     },
     "execution_count": 94,
     "metadata": {},
     "output_type": "execute_result"
    }
   ],
   "source": [
    "last_of_B = B.pop(-1)\n",
    "last_of_B\n",
    "B"
   ]
  },
  {
   "cell_type": "code",
   "execution_count": 25,
   "id": "be0835fd-5362-4233-874a-5cba7dac9a2f",
   "metadata": {},
   "outputs": [
    {
     "data": {
      "text/plain": [
       "2.0"
      ]
     },
     "execution_count": 25,
     "metadata": {},
     "output_type": "execute_result"
    }
   ],
   "source": [
    "import math\n",
    "math.sqrt(4)"
   ]
  },
  {
   "cell_type": "code",
   "execution_count": 26,
   "id": "26a7f78e-30b6-4658-ae62-74ce1ea32f68",
   "metadata": {},
   "outputs": [],
   "source": [
    "import antigravity"
   ]
  },
  {
   "cell_type": "code",
   "execution_count": null,
   "id": "1e87cc39-1b3a-441b-8514-881026f6e7da",
   "metadata": {},
   "outputs": [],
   "source": []
  }
 ],
 "metadata": {
  "kernelspec": {
   "display_name": "Python 3 (ipykernel)",
   "language": "python",
   "name": "python3"
  },
  "language_info": {
   "codemirror_mode": {
    "name": "ipython",
    "version": 3
   },
   "file_extension": ".py",
   "mimetype": "text/x-python",
   "name": "python",
   "nbconvert_exporter": "python",
   "pygments_lexer": "ipython3",
   "version": "3.9.12"
  }
 },
 "nbformat": 4,
 "nbformat_minor": 5
}
