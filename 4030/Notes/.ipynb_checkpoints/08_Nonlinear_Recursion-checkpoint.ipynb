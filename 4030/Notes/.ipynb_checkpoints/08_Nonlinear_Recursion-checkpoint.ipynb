{
 "cells": [
  {
   "cell_type": "markdown",
   "id": "63a5ed46-67a5-47d6-8f8c-02d3b661f675",
   "metadata": {},
   "source": [
    "# Nonlinear Recursion"
   ]
  },
  {
   "cell_type": "markdown",
   "id": "0728b100-7d7e-468c-88a9-b0fd37a5d5fd",
   "metadata": {},
   "source": [
    "Problems:\n",
    "+ Merging two sorted lists\n",
    "+ Merge sort\n",
    "+ Binary search\n"
   ]
  },
  {
   "cell_type": "markdown",
   "id": "a73f7759-a44d-448a-b5d2-f964dba5574d",
   "metadata": {},
   "source": [
    "### Quick substitution review\n",
    "\n",
    "+ T(n) = 3 + T(n-1)\n",
    "\n"
   ]
  },
  {
   "cell_type": "markdown",
   "id": "4252ad34-b6d7-4ae4-aca4-9902567e99de",
   "metadata": {},
   "source": [
    "How about this?\n",
    "\n",
    "+ S(n) = 3 + S(n-2)\n"
   ]
  },
  {
   "cell_type": "code",
   "execution_count": null,
   "id": "792e8a15-2e4c-4928-9187-da5748bfd749",
   "metadata": {},
   "outputs": [],
   "source": []
  },
  {
   "cell_type": "markdown",
   "id": "b47326fe-ce23-4321-a340-f7b21d2ae44a",
   "metadata": {},
   "source": [
    "### Merging two sorted lists\n",
    "\n",
    "Merge([1, 10, 15, 20, 21], [2, 4, 12]) returns [1,2,4,10,12,15,20,21]"
   ]
  },
  {
   "cell_type": "code",
   "execution_count": null,
   "id": "f451e513-3d79-4f45-80fc-880d19572daf",
   "metadata": {},
   "outputs": [],
   "source": []
  }
 ],
 "metadata": {
  "kernelspec": {
   "display_name": "Python 3 (ipykernel)",
   "language": "python",
   "name": "python3"
  },
  "language_info": {
   "codemirror_mode": {
    "name": "ipython",
    "version": 3
   },
   "file_extension": ".py",
   "mimetype": "text/x-python",
   "name": "python",
   "nbconvert_exporter": "python",
   "pygments_lexer": "ipython3",
   "version": "3.9.7"
  }
 },
 "nbformat": 4,
 "nbformat_minor": 5
}
