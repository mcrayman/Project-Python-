{
 "cells": [
  {
   "cell_type": "markdown",
   "id": "167aa8e5-896f-4a64-996e-ff81af120bdf",
   "metadata": {},
   "source": [
    "# Upper and Lower Bounds of Running Time"
   ]
  },
  {
   "cell_type": "markdown",
   "id": "c7891e06-35db-4683-b21c-1cf3ee874574",
   "metadata": {},
   "source": [
    "There are three main measures of complexity:\n",
    "\n",
    "+ O -- upper bounds\n",
    "\n",
    "+ Omega ($\\Omega$) -- lower bounds\n",
    "\n",
    "+ Theta ($\\Theta$)  -- tight bounds"
   ]
  },
  {
   "cell_type": "markdown",
   "id": "4c4966c4-a681-4a7b-a1a6-887cfc672c32",
   "metadata": {},
   "source": [
    "Key ideas:\n",
    "\n",
    "+ Complexity describes a set of running time functions.\n",
    "\n",
    "+ Additive and multiplicative differences make no difference in complexity.\n",
    "\n",
    "+ Upper bounds and lower bounds can be very useful when tight bounds are hard to determine."
   ]
  },
  {
   "cell_type": "markdown",
   "id": "33afe817-e9fe-4932-befb-21a71b299420",
   "metadata": {},
   "source": [
    "### Understanding Upper Bounds and O"
   ]
  },
  {
   "cell_type": "code",
   "execution_count": 1,
   "id": "e2e7b00b-d813-46f8-b89a-71de55584230",
   "metadata": {},
   "outputs": [],
   "source": [
    "# input: a list of number\n",
    "def prog1(L):\n",
    "    s = 0\n",
    "    for i in range(len(L)):\n",
    "        s = L[i]*L[i] + 1\n",
    "        print(i, y)\n",
    "        s = L[i]**2 - 10*len(L)\n",
    "    s = s*5 + 10\n",
    "    s = s*s / 7\n",
    "    return s"
   ]
  },
  {
   "cell_type": "markdown",
   "id": "44092b8d-5b84-4567-815c-19698fe57f0a",
   "metadata": {},
   "source": [
    "When we say that $T(n) \\in O(n^2)$, it means that $T(n)$ takes at most order of $n^2$ steps.\n",
    "\n",
    "This means $O$ is a measure of upper bounds.  And that can be very useful.\n"
   ]
  },
  {
   "cell_type": "code",
   "execution_count": null,
   "id": "4559e63a-9f58-4cc4-a7b1-5d0e72da5548",
   "metadata": {},
   "outputs": [],
   "source": []
  }
 ],
 "metadata": {
  "kernelspec": {
   "display_name": "Python 3 (ipykernel)",
   "language": "python",
   "name": "python3"
  },
  "language_info": {
   "codemirror_mode": {
    "name": "ipython",
    "version": 3
   },
   "file_extension": ".py",
   "mimetype": "text/x-python",
   "name": "python",
   "nbconvert_exporter": "python",
   "pygments_lexer": "ipython3",
   "version": "3.9.12"
  }
 },
 "nbformat": 4,
 "nbformat_minor": 5
}
