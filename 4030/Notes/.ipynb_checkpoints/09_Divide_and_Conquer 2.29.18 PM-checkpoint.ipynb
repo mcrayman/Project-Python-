{
 "cells": [
  {
   "cell_type": "markdown",
   "id": "fa61a45f-8ae1-49fc-9cdc-474804c9683a",
   "metadata": {},
   "source": [
    "# Divide and Conquer\n",
    "\n",
    "Divide and conquer is a non-linear recursive strategy.\n",
    "\n",
    "Problems:\n",
    "+ Finding the majority vote in a list of votes of unhashable items.\n",
    "+ Finding an interval in a list of numbers with maximum sum.\n"
   ]
  },
  {
   "cell_type": "markdown",
   "id": "7b26187d-2015-4650-a940-e4e12b56cce7",
   "metadata": {},
   "source": [
    "### A Review: Designing Programs in English and in Code\n",
    "\n",
    "Coding or algorithms design often requires you to strategize in both English and code.\n",
    "\n",
    "It's important to be comfortable to describe your strategies in English and in code simultaneously.\n",
    "\n",
    "We've discussed how to describe a strategy in code based on English descriptions.\n",
    "\n",
    "The other direction is to learn how to describe code in English.\n"
   ]
  },
  {
   "cell_type": "markdown",
   "id": "a8179f43-6fff-4a41-a6b4-6487fe5685e3",
   "metadata": {},
   "source": [
    "### Iterative Examples"
   ]
  },
  {
   "cell_type": "code",
   "execution_count": null,
   "id": "12a41cc7-e1e0-4a4e-adda-fe82125ac5d2",
   "metadata": {},
   "outputs": [],
   "source": [
    "def f(L):\n",
    "    s = 0\n",
    "    for x in L:\n",
    "        s += x\n",
    "    return s\n"
   ]
  },
  {
   "cell_type": "markdown",
   "id": "eaba2bb8-1a86-413b-9c05-9b20780e2b41",
   "metadata": {},
   "source": [
    "What does this program do? Can you describe this concisely in English?\n",
    "\n",
    "+ Sum up the numbers in the list.\n",
    "+ Initialize s. Visit every item in the list L and add that to the running sum, s. Finally, return s.\n",
    "+ Go through each item of L and add it to a running sum.\n"
   ]
  },
  {
   "cell_type": "code",
   "execution_count": 3,
   "id": "7bed22c1-b8d3-4b4c-a4f1-386fce1f1194",
   "metadata": {},
   "outputs": [],
   "source": [
    "def g(L):\n",
    "    s = 0\n",
    "    for x in L:\n",
    "        for y in L:\n",
    "            s += x*y\n",
    "    return s\n"
   ]
  },
  {
   "cell_type": "markdown",
   "id": "1379e6d5-60ee-4d1f-af55-992acb465a9e",
   "metadata": {},
   "source": [
    "Describe lines 3-5 in English.\n",
    "\n",
    "+ It sums up the Cartesean product.\n",
    "+ The nested for loop is iterating through everything...\n",
    "+ For each element in L, multiply each element in L, and add the product of the two elements to the total.\n",
    "+ For each pair (x,y) of elements in L, sum up their product.\n",
    "+ Go through each pair x, y of elements in L, and add their product to a running sum."
   ]
  },
  {
   "cell_type": "markdown",
   "id": "88265053-d2fd-4249-b01d-b79b41f1120c",
   "metadata": {},
   "source": [
    "### Recursive examples"
   ]
  },
  {
   "cell_type": "code",
   "execution_count": 3,
   "id": "41c2e02f-e306-44e4-aa72-62c5ec1e163e",
   "metadata": {},
   "outputs": [],
   "source": [
    "#\n",
    "# Search for x in a list.\n",
    "# Input: x is a number; L is a list in increasing order.\n",
    "# Output: True (x in L) or False (x not in L)\n",
    "#\n",
    "def search(L, x):\n",
    "    if len(L)==0:\n",
    "        return False\n",
    "    mid_index = len(L)//2\n",
    "    if x == L[mid_index]:\n",
    "        return True\n",
    "    if x < L[mid_index]:\n",
    "        return search(L[0: mid_index], x)\n",
    "    else:\n",
    "        return search(L[mid_index+1 : len(L)], x)\n"
   ]
  },
  {
   "cell_type": "markdown",
   "id": "598f2d8c-61a1-4f17-bae8-1c72ec54c50d",
   "metadata": {},
   "source": [
    "Describe the strategy used in this program in English:\n",
    "\n",
    "* Create a mid_index (index of the middle element of L).\n",
    "* Check if x is equal to mid item, if so return True.\n",
    "* If x < the middle item, use the function again with the lower half.\n",
    "    * Another way: If x < the middle item, we search for x in the lower half, using the same strategy recursively.\n",
    "* Else, we search for x in the upper half, using the same strategy recursively."
   ]
  },
  {
   "cell_type": "markdown",
   "id": "e5d04374-17d2-4800-9a6d-a030be8e8f20",
   "metadata": {},
   "source": [
    "#### Another example\n",
    "\n",
    "Explain what this program does in English:\n",
    "\n",
    "* If L is empty, return an empty list.\n",
    "* If x is equal to the first item of L, return the first item plus whatever this function does to the remaining list.\n",
    "* Else, return whatever this function does to the remaining list.\n",
    "\n",
    "\n",
    "Here's a realistic scenario:\n",
    "+ The author of the program tells you the API (i.e. what the program does.)\n",
    "+ What you do is trying to make sure the code does what it is supposed do.\n",
    "    + Aligning what the function is supposed to do and what it actually does.\n",
    "\n",
    "If I tell you that, this do_something function just collects all occurrences of x. Then, you will have to verify it actually does what it is supposed to do."
   ]
  },
  {
   "cell_type": "code",
   "execution_count": 6,
   "id": "14b46ddb-7aeb-46e7-a357-0dd91fbeaef4",
   "metadata": {},
   "outputs": [],
   "source": [
    "def do_something(L, x):\n",
    "    if L==[]:\n",
    "        return []\n",
    "    if x==L[0]:\n",
    "        return [x] + do_something(L[1:], x)\n",
    "    else: \n",
    "        return do_something(L[1:], x)"
   ]
  },
  {
   "cell_type": "markdown",
   "id": "83bd6d13-cb69-4a88-8136-78f2d8c040a8",
   "metadata": {},
   "source": [
    "Renaming the function a little more meaningfully."
   ]
  },
  {
   "cell_type": "code",
   "execution_count": 5,
   "id": "2ddd1925-5dcc-48ea-b6c5-67afdbd6f78b",
   "metadata": {},
   "outputs": [],
   "source": [
    "def collect(L, x):\n",
    "    if L==[]:\n",
    "        return []\n",
    "    if x==L[0]:\n",
    "        return [x] + collect(L[1:], x)\n",
    "    else: \n",
    "        return collect(L[1:], x)"
   ]
  },
  {
   "cell_type": "markdown",
   "id": "24026695-543d-4c0e-a3c0-72d9a8694068",
   "metadata": {},
   "source": [
    "* If L is empty, return an empty list.\n",
    "* If x is equal to the first item of L, return the first item plus the collection of x in the remaining list.\n",
    "* Else, return the collection of x in the remaining list."
   ]
  },
  {
   "cell_type": "code",
   "execution_count": 8,
   "id": "78c8b012-cf57-4a54-90c2-b8cdadb15764",
   "metadata": {},
   "outputs": [
    {
     "data": {
      "text/plain": [
       "[2, 2, 2]"
      ]
     },
     "execution_count": 8,
     "metadata": {},
     "output_type": "execute_result"
    }
   ],
   "source": [
    "collect([1,2,3,2,3,1,2,10], 2)"
   ]
  },
  {
   "cell_type": "markdown",
   "id": "7aa67516-4a53-4de5-aa5f-6341a210c291",
   "metadata": {},
   "source": [
    "#### Summary\n",
    "\n",
    "We experimented with:\n",
    "1. Translating ideas/strategies described in English to code.\n",
    "2. Translating code to English."
   ]
  },
  {
   "cell_type": "markdown",
   "id": "4ba8c57c-32f5-4576-965d-36ccc350d7d0",
   "metadata": {},
   "source": [
    "### Finding the majority vote in a list of votes of unhashable items"
   ]
  },
  {
   "cell_type": "markdown",
   "id": "32485a2e-f000-421f-afe5-4302d98632ab",
   "metadata": {},
   "source": [
    "votes = ['red', 'blue', 'red', 'blue', 'red']\n",
    "\n",
    "'red' is the majority vote in this list.\n",
    "\n",
    "the majority vote is a vote that occurs more than 50% of the votes.\n",
    "\n",
    "Given a list of votes, there are 2 possibilities: (1) there's a majority vote, (2) there's no majority."
   ]
  },
  {
   "cell_type": "markdown",
   "id": "f45c0f77-8bbb-4466-9f7d-0d06a84f123c",
   "metadata": {},
   "source": [
    "This is easy and efficient to solve if the items are hashable."
   ]
  },
  {
   "cell_type": "code",
   "execution_count": 10,
   "id": "6f8e12d5-1af7-4907-b8bd-581ba0a69ed3",
   "metadata": {},
   "outputs": [],
   "source": [
    "def find_majority(votes):\n",
    "    freq = {}\n",
    "    for v in votes:\n",
    "        if v not in freq:\n",
    "            freq[v] = 0\n",
    "        freq[v] += 1\n",
    "        if freq[v] > 0.5 * len(votes):\n",
    "            return v\n",
    "    return None"
   ]
  },
  {
   "cell_type": "code",
   "execution_count": 14,
   "id": "7e58e146-4f68-40af-9065-1bb66905c6b7",
   "metadata": {},
   "outputs": [
    {
     "data": {
      "text/plain": [
       "'red'"
      ]
     },
     "execution_count": 14,
     "metadata": {},
     "output_type": "execute_result"
    }
   ],
   "source": [
    "find_majority(['red', 'blue', 'red', 'blue', 'red', 'yellow','red'])"
   ]
  },
  {
   "cell_type": "markdown",
   "id": "7cb1ecab-35ec-4109-9dff-66935aab8eda",
   "metadata": {},
   "source": [
    "Suppose that we are not allowed to hash the votes. But we can compare to see if two different votes are equal.\n",
    "\n",
    "We can still solve this easily (using iteration), but it's not efficient:\n",
    "+ Go through each vote.\n",
    "    + For each of vote, go through the list of votes and count its occurence.\n",
    "    + After this, if the occurrence is greater than 50%, we have a majority, return it.\n",
    "+ After the counting of each vote, and there's no majority, return None."
   ]
  },
  {
   "cell_type": "code",
   "execution_count": 25,
   "id": "c4868cc6-0994-4a36-9ff8-ea262b5c5682",
   "metadata": {},
   "outputs": [],
   "source": [
    "import random\n",
    "def gen_votes(n):\n",
    "    return [ 'red' if random.random()<0.5 else 'blue' for i in range(n) ]"
   ]
  },
  {
   "cell_type": "code",
   "execution_count": 24,
   "id": "a75a6ea9-d399-4472-a95f-db93e5a0b2da",
   "metadata": {},
   "outputs": [],
   "source": [
    "def find_majority(votes):\n",
    "    for vote in votes:\n",
    "        count = 0\n",
    "        for v in votes:\n",
    "            if v==vote:\n",
    "                count += 1\n",
    "        if count > 0.5 * len(votes):\n",
    "            return vote\n",
    "    return None"
   ]
  },
  {
   "cell_type": "markdown",
   "id": "1257aa71-e6e8-402f-8803-801a60784d01",
   "metadata": {},
   "source": [
    "Efficiency analysis:\n",
    "+ Running time equation, $T(n) = a + n*(b + cn) = a + bn + cn^2 \\in \\Theta(n^2)$\n",
    "+ Complexity: $\\Theta(n^2)$\n"
   ]
  },
  {
   "cell_type": "code",
   "execution_count": 33,
   "id": "133fee7f-bfd7-4396-9088-fc0e7ac4896c",
   "metadata": {},
   "outputs": [
    {
     "name": "stdout",
     "output_type": "stream",
     "text": [
      "['blue', 'red', 'red', 'red', 'red', 'blue'] red\n",
      "['red', 'red', 'blue', 'red', 'red', 'blue'] red\n",
      "['blue', 'red', 'blue', 'red', 'red', 'blue'] None\n",
      "['red', 'blue', 'red', 'blue', 'blue', 'blue'] blue\n",
      "['red', 'red', 'blue', 'blue', 'blue', 'blue'] blue\n"
     ]
    }
   ],
   "source": [
    "for i in range(5):\n",
    "    L = gen_votes(6)\n",
    "    print(L, find_majority(L))\n"
   ]
  },
  {
   "cell_type": "markdown",
   "id": "91d38ad3-3624-4251-a270-32be8bc5b00f",
   "metadata": {},
   "source": [
    "Iterative design is simple and has n^2 complexity.\n",
    "\n",
    "Can we do better than n^2?  Yes. But we have to this recursively.\n",
    "\n"
   ]
  },
  {
   "cell_type": "markdown",
   "id": "f4495503-30fa-447a-9011-d3e936d1552c",
   "metadata": {},
   "source": [
    "Recursive (divide and conquer) strategy:\n",
    "+ If the input list has no vote, there's no majority (None).\n",
    "+ If the input list has one vote in it, that vote is the majority.\n",
    "+ Split the list into 2 halves: left and right.\n",
    "+ Find the majority element of left, using the same strategy.\n",
    "+ Find the majority element of right, using the same strategy.\n",
    "+ If they are the same, that's the majority vote.\n",
    "+ If not, declare there's no majority."
   ]
  },
  {
   "cell_type": "code",
   "execution_count": 44,
   "id": "50d14f5d-8fad-4a0f-a261-8edb00e22666",
   "metadata": {},
   "outputs": [],
   "source": [
    "def find_majority(votes):\n",
    "    if votes==[]:\n",
    "        return None\n",
    "    if len(votes)==1:\n",
    "        return votes[0]\n",
    "    left = votes[0 : len(votes)//2]\n",
    "    right = votes[len(votes)//2 : len(votes)]\n",
    "    maj_left = find_majority(left)\n",
    "    maj_right = find_majority(right)\n",
    "    if maj_left == maj_right:\n",
    "        return maj_left\n",
    "    else:\n",
    "        count = 0\n",
    "        for v in votes:\n",
    "            if v==maj_left:\n",
    "                count += 1\n",
    "        if count > len(votes)*0.5:\n",
    "            return maj_left\n",
    "\n",
    "        count = 0\n",
    "        for v in votes:\n",
    "            if v==maj_right:\n",
    "                count += 1\n",
    "        if count > len(votes)*0.5:\n",
    "            return maj_right\n",
    "        \n",
    "        return None\n",
    "    "
   ]
  },
  {
   "cell_type": "code",
   "execution_count": 45,
   "id": "df7f4f99-cdb1-4ba3-8a0a-d13214d08a2a",
   "metadata": {},
   "outputs": [
    {
     "name": "stdout",
     "output_type": "stream",
     "text": [
      "['red', 'blue', 'blue', 'red', 'blue', 'blue']\n"
     ]
    }
   ],
   "source": [
    "L = gen_votes(6)\n",
    "print(L)\n",
    "# print(L[0: len(L)//2])\n",
    "# print(L[len(L)//2 : len(L)])"
   ]
  },
  {
   "cell_type": "code",
   "execution_count": 46,
   "id": "e79f930a-cfbe-4559-a754-fcf2a99d9f6d",
   "metadata": {},
   "outputs": [
    {
     "name": "stdout",
     "output_type": "stream",
     "text": [
      "['red', 'red', 'blue', 'red', 'blue', 'red']\n"
     ]
    }
   ],
   "source": [
    "L = gen_votes(6)\n",
    "print(L)"
   ]
  },
  {
   "cell_type": "code",
   "execution_count": 47,
   "id": "c6b11f93-7ce7-434e-8cf7-8f004acf9757",
   "metadata": {},
   "outputs": [
    {
     "name": "stdout",
     "output_type": "stream",
     "text": [
      "['blue', 'red', 'red', 'red', 'blue', 'red'] red\n",
      "['blue', 'red', 'blue', 'blue', 'red', 'blue'] blue\n",
      "['red', 'blue', 'red', 'red', 'blue', 'red'] red\n",
      "['blue', 'blue', 'red', 'blue', 'red', 'red'] None\n",
      "['blue', 'blue', 'red', 'blue', 'blue', 'red'] blue\n"
     ]
    }
   ],
   "source": [
    "for i in range(5):\n",
    "    L = gen_votes(6)\n",
    "    print(L, find_majority(L))\n"
   ]
  },
  {
   "cell_type": "markdown",
   "id": "01f8e2ff-8fc5-4669-9d81-47601bbec1b4",
   "metadata": {},
   "source": [
    "#### Running time equation\n",
    "\n",
    "$T(n) = n + 2T(n/2)$"
   ]
  },
  {
   "cell_type": "markdown",
   "id": "d1dc0e4c-2550-4202-af6a-f277a333887d",
   "metadata": {},
   "source": [
    "$T(n) \\in \\Theta(n \\log n)$\n",
    "\n",
    "This is alot faster than $\\Theta(n^2)$"
   ]
  },
  {
   "cell_type": "markdown",
   "id": "e1d80399-8854-47bd-b11b-44b6e5f190a0",
   "metadata": {},
   "source": [
    "T(n) = n + 2 T(n/2)\n",
    "\n",
    "T(n) = n + 2T(n/2)\n",
    "\n",
    "T(n) = n + n/2 + 2T(n/2^2)\n",
    "\n",
    "+\n",
    "\n",
    "Scratch space:\n",
    "\n",
    "T(n/2) = n/2 + 2T(n/2^2)\n",
    "\n"
   ]
  }
 ],
 "metadata": {
  "kernelspec": {
   "display_name": "Python 3 (ipykernel)",
   "language": "python",
   "name": "python3"
  },
  "language_info": {
   "codemirror_mode": {
    "name": "ipython",
    "version": 3
   },
   "file_extension": ".py",
   "mimetype": "text/x-python",
   "name": "python",
   "nbconvert_exporter": "python",
   "pygments_lexer": "ipython3",
   "version": "3.9.12"
  }
 },
 "nbformat": 4,
 "nbformat_minor": 5
}
