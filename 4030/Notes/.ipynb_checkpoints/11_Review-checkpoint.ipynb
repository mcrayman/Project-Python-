{
 "cells": [
  {
   "cell_type": "markdown",
   "id": "98d831ab-4bae-4883-b3d2-a24eb14207d9",
   "metadata": {},
   "source": [
    "# Review after Spring Break"
   ]
  },
  {
   "cell_type": "markdown",
   "id": "85cecd46-2478-43f0-9a19-1f85918f568e",
   "metadata": {},
   "source": [
    "#### Important skills for running time analysis:\n",
    "* Figure out the running time equation of a recursive program.\n",
    "* Figure out the running time complexity of the program.\n",
    "\n",
    "#### Important skills for designing recursive program:\n",
    "* Use the same strategy to solve a smaller input.\n",
    "* Often, using the same strategy can be done neatly with a recursive call.\n",
    "* Therefore, it's useful to \"decompose\" a problem into smaller instances of the same problem.\n",
    "    * Each \"smaller\" instance is the same problem but has a smaller input.\n",
    "    * Each smaller instance can be solve using the same strategy, i.e. making a recursive call.\n",
    "* After each smaller instance is solved, you'll need to figure out how to solve the original problem, based on the solutions of the smaller problems."
   ]
  },
  {
   "cell_type": "markdown",
   "id": "5e57b5d2-ee84-4578-8c4c-fd807193357f",
   "metadata": {},
   "source": [
    "### An example: finding the majority winner in a list of votes"
   ]
  },
  {
   "cell_type": "code",
   "execution_count": 1,
   "id": "4395b1a4-5de2-41ce-93eb-6fd8d43a9532",
   "metadata": {},
   "outputs": [],
   "source": [
    "def find_majority(votes):\n",
    "    if votes==[]:\n",
    "        return None\n",
    "    if len(votes)==1:\n",
    "        return votes[0]\n",
    "    left = votes[0 : len(votes)//2]\n",
    "    right = votes[len(votes)//2 : len(votes)]\n",
    "    maj_left = find_majority(left)\n",
    "    maj_right = find_majority(right)\n",
    "    if maj_left == maj_right:\n",
    "        return maj_left\n",
    "    else:\n",
    "        # we check if either of them is the majority vote\n",
    "        # count occurrence of maj_left (c*n steps)\n",
    "        # if occurence > 50%, return maj_left\n",
    "\n",
    "        # count occurrence of maj_right (c*n steps)\n",
    "        # if occurence > 50%, return maj_right\n",
    "        return None"
   ]
  },
  {
   "cell_type": "markdown",
   "id": "aa75eb7d-879c-4f8b-8b26-a71a340621e8",
   "metadata": {},
   "source": [
    "### Design\n",
    "\n",
    "* Problem: finding the majority winner in a list of n votes.\n",
    "* Problem decomposition: \n",
    "    * Two smaller problems: finding the majority winner in a list of n/2 votes.\n",
    "* First smaller problem: finding the majority winner on the first half.\n",
    "* Second smaller problem: finding the majority winner on the second half.\n",
    "* Figuring out how to solve the original problem based on solutions of the two smaller problems:\n",
    "    * the two majority winners are the same.\n",
    "    * they are not the same."
   ]
  },
  {
   "cell_type": "markdown",
   "id": "9fbd3ba4-6e9e-4d00-9b91-b3b7da7d224f",
   "metadata": {},
   "source": [
    "---\n",
    "\n",
    "### Analysis of running time\n",
    "\n",
    "* Figure out the running time equation\n",
    "* Figure out the running time complexity\n"
   ]
  },
  {
   "cell_type": "markdown",
   "id": "cb2b7798-2f1f-4f85-9816-0eb1b8665354",
   "metadata": {},
   "source": [
    "\n",
    "\n",
    "T(n) = ???\n",
    "\n",
    "Steps 2-5, 10-11:  constant time, or $a$\n",
    "\n",
    "Step 6: is linear, or $b1 * n$.\n",
    "\n",
    "Step 7:\n",
    "\n",
    "Step 8:\n",
    "\n",
    "Step 9:\n",
    "\n",
    "Steps 13-15:\n",
    "\n",
    "Steps 17-19:\n",
    "\n"
   ]
  },
  {
   "cell_type": "markdown",
   "id": "c4b98905-4577-4871-a1ec-e36540c7176a",
   "metadata": {},
   "source": [
    "### The Master's Theorem\n",
    "\n",
    "$$T(n) = \\Theta(n^d) + a \\cdot T({n \\over b})$$\n"
   ]
  },
  {
   "cell_type": "code",
   "execution_count": null,
   "id": "58faa3a9-d805-4de3-9d23-ca69250485b2",
   "metadata": {},
   "outputs": [],
   "source": []
  },
  {
   "cell_type": "code",
   "execution_count": null,
   "id": "f75369a7-eaa3-40ec-be83-cceea0ac35f8",
   "metadata": {},
   "outputs": [],
   "source": []
  },
  {
   "cell_type": "markdown",
   "id": "ae9e2a97-c3d6-4357-b143-f9ec4c56350e",
   "metadata": {},
   "source": [
    "### Exercise: find the complexity of recursive integer multiplication"
   ]
  },
  {
   "cell_type": "markdown",
   "id": "a09bb360-cd4b-446b-833e-956006686f13",
   "metadata": {},
   "source": [
    "* Input: $X = x_1 x_2 \\cdots x_n$ and $Y = y_1 y_2 \\cdots y_n$\n",
    "* Output: $X * Y$\n",
    "\n",
    "Let $X_l = x_1 \\cdots x_{n \\over 2}$ and $X_r = x_{n \\over 2 + 1} \\cdots x_{n}$.\n",
    "\n",
    "Let $Y_l = y_1 \\cdots y_{n \\over 2}$ and $Y_r = y_{n \\over 2 + 1} \\cdots y_{n}$."
   ]
  },
  {
   "cell_type": "code",
   "execution_count": null,
   "id": "6fd76b71-5f8e-482f-aa25-3b371b1cfddc",
   "metadata": {},
   "outputs": [],
   "source": []
  }
 ],
 "metadata": {
  "kernelspec": {
   "display_name": "Python 3 (ipykernel)",
   "language": "python",
   "name": "python3"
  },
  "language_info": {
   "codemirror_mode": {
    "name": "ipython",
    "version": 3
   },
   "file_extension": ".py",
   "mimetype": "text/x-python",
   "name": "python",
   "nbconvert_exporter": "python",
   "pygments_lexer": "ipython3",
   "version": "3.9.7"
  }
 },
 "nbformat": 4,
 "nbformat_minor": 5
}
