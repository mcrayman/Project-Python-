{
 "cells": [
  {
   "cell_type": "markdown",
   "id": "c83daee3-cffa-4045-b1d7-e353be93c366",
   "metadata": {},
   "source": [
    "# Non-attacking Queens\n",
    "\n",
    "We are given an n-by-n chessboard.\n",
    "\n",
    "We want to place n queens on the board in such a way that they do not attack each other.\n",
    "\n",
    "A queen can attack any piece that is in its horizontal, vertical, or diagonal path.\n",
    "\n",
    "For this problem, we want to generate all possible non-attacking configurations."
   ]
  },
  {
   "cell_type": "markdown",
   "id": "807ee68c-4eb5-4473-ba20-ce8d171e0930",
   "metadata": {},
   "source": [
    "\n",
    "```\n",
    "sol    0  1  2  3    (col)\n",
    "0         Q\n",
    "1               Q\n",
    "2      Q\n",
    "3            Q     \n",
    "```"
   ]
  },
  {
   "cell_type": "markdown",
   "id": "d201cadf-b406-451b-a110-7559d36c1b23",
   "metadata": {},
   "source": [
    "solution[i] = the column where a Q is placed."
   ]
  },
  {
   "cell_type": "markdown",
   "id": "fe73edc3-c8cc-4806-ab65-14c5822cc496",
   "metadata": {},
   "source": [
    "solution = [1, 3, 0, 2]"
   ]
  },
  {
   "cell_type": "markdown",
   "id": "942dcd8e-3fbf-4e93-ba17-75b807c8505d",
   "metadata": {},
   "source": [
    "Suppose solution has been configured on the first two rows.\n",
    "* solution = [1, 3, None, None]\n",
    "* What possibilities are there on the third row?\n",
    "* What does possibilities(solution, 3) return?"
   ]
  },
  {
   "cell_type": "code",
   "execution_count": 1,
   "id": "a4dc0dc9-96e8-4b87-825d-81561711eea2",
   "metadata": {},
   "outputs": [],
   "source": [
    "def generate(solution, i, possibilities):\n",
    "    if i==len(solution):\n",
    "        print(solution)\n",
    "    else:\n",
    "        for possibility in possibilities(solution, i):\n",
    "            solution[i] = possibility\n",
    "            generate(solution, i+1, possibilities)"
   ]
  },
  {
   "cell_type": "code",
   "execution_count": 6,
   "id": "351d45b0-576b-43f8-94ba-507da5faa5e9",
   "metadata": {},
   "outputs": [
    {
     "name": "stdout",
     "output_type": "stream",
     "text": [
      "[0, 1, 2, 3]\n",
      "[0, 1, 3, 2]\n",
      "[0, 2, 1, 3]\n",
      "[0, 2, 3, 1]\n",
      "[0, 3, 1, 2]\n",
      "[0, 3, 2, 1]\n",
      "[1, 0, 2, 3]\n",
      "[1, 0, 3, 2]\n",
      "[1, 2, 0, 3]\n",
      "[1, 2, 3, 0]\n",
      "[1, 3, 0, 2]\n",
      "[1, 3, 2, 0]\n",
      "[2, 0, 1, 3]\n",
      "[2, 0, 3, 1]\n",
      "[2, 1, 0, 3]\n",
      "[2, 1, 3, 0]\n",
      "[2, 3, 0, 1]\n",
      "[2, 3, 1, 0]\n",
      "[3, 0, 1, 2]\n",
      "[3, 0, 2, 1]\n",
      "[3, 1, 0, 2]\n",
      "[3, 1, 2, 0]\n",
      "[3, 2, 0, 1]\n",
      "[3, 2, 1, 0]\n"
     ]
    }
   ],
   "source": [
    "def diff_column(current_positions, j):\n",
    "    return j not in current_positions\n",
    "\n",
    "def diff_diag(current_positions, j):\n",
    "    return True\n",
    "\n",
    "def nqueen(solution, i):\n",
    "    current_positions = solution[0: i]\n",
    "    valid_positions = []\n",
    "    for j in range(len(solution)):\n",
    "        if diff_column(current_positions, j) and diff_diag(current_positions, j):\n",
    "            valid_positions.append(j)\n",
    "    return valid_positions\n",
    "\n",
    "n = 4\n",
    "generate([None]*n, 0, nqueen)"
   ]
  },
  {
   "cell_type": "markdown",
   "id": "1cff533c-1b92-44a3-b6b7-279d0deeaf6d",
   "metadata": {},
   "source": [
    "### Quick Review of Back Tracking"
   ]
  },
  {
   "cell_type": "markdown",
   "id": "0bb75e59-6a3f-4747-a0a9-1537523ee6f6",
   "metadata": {},
   "source": [
    "```\n",
    "generate(solution, i, possibilities)\n",
    "```\n",
    "\n",
    "<img src=\"https://i.imgur.com/6UCDtuP.png\" width=\"60%\">\n",
    "\n",
    "solution[0], solution[1], solution[2], ..., solution[i-1] have been \"configured\".\n",
    "    \n",
    "<img src=\"https://i.imgur.com/CperqNk.png\" width=\"60%\">"
   ]
  },
  {
   "cell_type": "markdown",
   "id": "0ff7ba50-1ff9-4ec4-824e-1ef99e16d723",
   "metadata": {},
   "source": [
    "The \"possibilities\" function specifies the possibilities that can be assigned to solution[i], given a specific configuration of solution[0], solution[1], ..., solution[i-1]."
   ]
  },
  {
   "cell_type": "markdown",
   "id": "b15e57cb-c7d4-402c-869e-634f22640022",
   "metadata": {},
   "source": [
    "<img src=\"https://i.imgur.com/VdRltkS.png\">"
   ]
  },
  {
   "cell_type": "markdown",
   "id": "bbfee397-ba3a-4526-9912-596eca96570c",
   "metadata": {},
   "source": [
    "**generate(solution, i, possibilities)** generates all solutions with the given configuration solution[0], solution[1], ... solution[i-1]"
   ]
  },
  {
   "cell_type": "code",
   "execution_count": null,
   "id": "067d59a1-0e5f-43d0-812f-fb7ba072b74e",
   "metadata": {},
   "outputs": [],
   "source": []
  }
 ],
 "metadata": {
  "kernelspec": {
   "display_name": "Python 3 (ipykernel)",
   "language": "python",
   "name": "python3"
  },
  "language_info": {
   "codemirror_mode": {
    "name": "ipython",
    "version": 3
   },
   "file_extension": ".py",
   "mimetype": "text/x-python",
   "name": "python",
   "nbconvert_exporter": "python",
   "pygments_lexer": "ipython3",
   "version": "3.9.7"
  }
 },
 "nbformat": 4,
 "nbformat_minor": 5
}
