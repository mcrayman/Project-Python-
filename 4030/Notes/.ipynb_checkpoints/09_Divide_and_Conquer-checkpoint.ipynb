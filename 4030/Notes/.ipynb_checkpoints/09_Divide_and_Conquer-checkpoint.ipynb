{
 "cells": [
  {
   "cell_type": "markdown",
   "id": "fa61a45f-8ae1-49fc-9cdc-474804c9683a",
   "metadata": {},
   "source": [
    "# Divide and Conquer\n",
    "\n",
    "Divide and conquer is a non-linear recursive strategy.\n",
    "\n",
    "Problems:\n",
    "+ Finding the majority vote in a list of votes of unhashable items.\n",
    "+ Finding an interval in a list of numbers with maximum sum.\n"
   ]
  },
  {
   "cell_type": "markdown",
   "id": "7b26187d-2015-4650-a940-e4e12b56cce7",
   "metadata": {},
   "source": [
    "### A Review: Designing Programs in English and in Code\n",
    "\n",
    "Coding or algorithms design often requires you to strategize in both English and code.\n",
    "\n",
    "It's important to be comfortable to describe your strategies in English and in code simultaneously.\n",
    "\n",
    "We've discussed how to describe a strategy in code based on English descriptions.\n",
    "\n",
    "The other direction is to learn how to describe code in English.\n"
   ]
  },
  {
   "cell_type": "markdown",
   "id": "a8179f43-6fff-4a41-a6b4-6487fe5685e3",
   "metadata": {},
   "source": [
    "### Iterative Examples"
   ]
  },
  {
   "cell_type": "code",
   "execution_count": null,
   "id": "12a41cc7-e1e0-4a4e-adda-fe82125ac5d2",
   "metadata": {},
   "outputs": [],
   "source": [
    "def f(L):\n",
    "    s = 0\n",
    "    for x in L:\n",
    "        s += x\n",
    "    return s\n"
   ]
  },
  {
   "cell_type": "code",
   "execution_count": null,
   "id": "c36941b7-e8b7-4931-96c3-3e7d999bca8c",
   "metadata": {},
   "outputs": [],
   "source": []
  },
  {
   "cell_type": "code",
   "execution_count": null,
   "id": "7bed22c1-b8d3-4b4c-a4f1-386fce1f1194",
   "metadata": {},
   "outputs": [],
   "source": [
    "def g(L):\n",
    "    s = 0\n",
    "    for x in L:\n",
    "        for y in L:\n",
    "            s += x*y\n",
    "    return s\n"
   ]
  },
  {
   "cell_type": "code",
   "execution_count": null,
   "id": "10aef022-c673-4446-87b3-cf33eab3d9f7",
   "metadata": {},
   "outputs": [],
   "source": []
  },
  {
   "cell_type": "markdown",
   "id": "88265053-d2fd-4249-b01d-b79b41f1120c",
   "metadata": {},
   "source": [
    "### Recursive examples"
   ]
  },
  {
   "cell_type": "code",
   "execution_count": 3,
   "id": "41c2e02f-e306-44e4-aa72-62c5ec1e163e",
   "metadata": {},
   "outputs": [],
   "source": [
    "#\n",
    "# Input: x is a number; L is a list in increasing order.\n",
    "# Output: True (x in L) or False (x not in L)\n",
    "#\n",
    "def search(L, x):\n",
    "    if len(L)==0:\n",
    "        return False\n",
    "    mid_index = len(L)//2\n",
    "    if x == L[mid_index]:\n",
    "        return True\n",
    "    if x < L[mid_index]:\n",
    "        return search(L[0: mid_index], x)\n",
    "    else:\n",
    "        return search(L[mid_index+1 : len(L)], x)\n"
   ]
  },
  {
   "cell_type": "markdown",
   "id": "598f2d8c-61a1-4f17-bae8-1c72ec54c50d",
   "metadata": {},
   "source": [
    "Describe the strategy used in this program in English:\n",
    "\n",
    "*"
   ]
  },
  {
   "cell_type": "markdown",
   "id": "e5d04374-17d2-4800-9a6d-a030be8e8f20",
   "metadata": {},
   "source": [
    "#### Another example\n",
    "\n",
    "Explain what this program does in English:\n",
    "\n",
    "*\n"
   ]
  },
  {
   "cell_type": "code",
   "execution_count": 2,
   "id": "14b46ddb-7aeb-46e7-a357-0dd91fbeaef4",
   "metadata": {},
   "outputs": [],
   "source": [
    "def do_something(L, x):\n",
    "    if L==[]:\n",
    "        return []\n",
    "    if x==L[0]:\n",
    "        return [x] + do_something(L[1:])\n",
    "    else: \n",
    "        return do_something(L[1:])"
   ]
  },
  {
   "cell_type": "code",
   "execution_count": null,
   "id": "2ddd1925-5dcc-48ea-b6c5-67afdbd6f78b",
   "metadata": {},
   "outputs": [],
   "source": []
  }
 ],
 "metadata": {
  "kernelspec": {
   "display_name": "Python 3 (ipykernel)",
   "language": "python",
   "name": "python3"
  },
  "language_info": {
   "codemirror_mode": {
    "name": "ipython",
    "version": 3
   },
   "file_extension": ".py",
   "mimetype": "text/x-python",
   "name": "python",
   "nbconvert_exporter": "python",
   "pygments_lexer": "ipython3",
   "version": "3.9.7"
  }
 },
 "nbformat": 4,
 "nbformat_minor": 5
}
