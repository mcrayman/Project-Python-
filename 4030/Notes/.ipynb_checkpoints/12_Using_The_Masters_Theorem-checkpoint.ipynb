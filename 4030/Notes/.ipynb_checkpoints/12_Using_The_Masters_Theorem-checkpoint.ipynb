{
 "cells": [
  {
   "cell_type": "markdown",
   "id": "8b82d570-7d03-47d0-bd97-b71b882ed89b",
   "metadata": {},
   "source": [
    "# Using the Master's theorem to Improve Efficiency of Programs"
   ]
  },
  {
   "cell_type": "markdown",
   "id": "617f3b7a-c331-4e2c-bca9-ad4701e894a1",
   "metadata": {},
   "source": [
    "### The Master's Theorem\n",
    "\n",
    "$$T(n) = \\Theta(n^d) + a \\cdot T({n \\over b})$$\n",
    "\n",
    "1. If $d \\neq \\log_b a$, then $T(n) \\in \\Theta(n^{\\max{(d, \\log_b a)}})$\n",
    "2. If $d = \\log_b a$, then $T(n) \\in \\Theta(n^d \\log n)$"
   ]
  },
  {
   "cell_type": "markdown",
   "id": "9d8778f6-7c58-42ae-9f5c-947db5bab723",
   "metadata": {},
   "source": [
    "Examples:\n",
    "* $T(n) = \\Theta(n^2) + T({n \\over 2}) \\in \\Theta(n^2)$\n",
    "* $T(n) = \\Theta(n) + T({n \\over 2}) \\in \\Theta(n)$\n",
    "* $T(n) = \\Theta(1) + T({n \\over 2}) \\in \\Theta(\\log n)$\n"
   ]
  },
  {
   "cell_type": "markdown",
   "id": "ae2e573e-674f-4077-8c88-06f9e0bac9d4",
   "metadata": {},
   "source": [
    "### Multiplying two n-digits integers\n",
    "\n",
    "In a few applications (e.g. crypto), we need to multiply very large numbers.\n",
    "\n",
    "Question: what is the complexity of multiplying two n-digit integers?"
   ]
  },
  {
   "cell_type": "markdown",
   "id": "46e71246-d405-4182-b7a6-6823024cfaf4",
   "metadata": {},
   "source": [
    "* Input: $X = x_1 x_2 \\cdots x_n$ and $Y = y_1 y_2 \\cdots y_n$\n",
    "* Output: $X * Y$\n",
    "\n",
    "Let $X_l = x_1 \\cdots x_{n \\over 2}$ and $X_r = x_{n \\over 2 + 1} \\cdots x_{n}$.\n",
    "\n",
    "Let $Y_l = y_1 \\cdots y_{n \\over 2}$ and $Y_r = y_{n \\over 2 + 1} \\cdots y_{n}$."
   ]
  },
  {
   "cell_type": "markdown",
   "id": "d60b2b56-844d-4bf1-821e-89ae5cd06a6a",
   "metadata": {},
   "source": [
    "Example: X = 123456,  Y = 789321"
   ]
  },
  {
   "cell_type": "markdown",
   "id": "9b09e5f5-176f-441e-b9ca-4e5d611785cc",
   "metadata": {},
   "source": [
    "What are $X_l$, $X_r$, $Y_l$, $Y_r$?"
   ]
  },
  {
   "cell_type": "markdown",
   "id": "6e8b09e3-1841-4bde-9799-2b9bd867b08c",
   "metadata": {},
   "source": [
    "#### Simple way of multiplying 2 n-digit integers"
   ]
  },
  {
   "cell_type": "markdown",
   "id": "abfd609c-d529-4f68-b1eb-2b9afeb97ff7",
   "metadata": {},
   "source": [
    "```\n",
    "              123456  = X\n",
    "              789321  = Y\n",
    "             --------\n",
    "              123456 \n",
    "             246912\n",
    "             ....\n",
    "```\n",
    "\n",
    "multiply last digit of Y with each digit of X.\n",
    "\n",
    "multiply second-last digit of Y with each digit of X.\n",
    "\n",
    "...\n",
    "\n",
    "add all rows together.\n",
    "\n",
    "We can write a program to do this.  Essentially, for each digit of y (starting from last), multiply to each digit of x, and keep records of things.  Finally, add them all up."
   ]
  },
  {
   "cell_type": "markdown",
   "id": "77bac8c8-179d-4385-a80a-9ee03ea395d4",
   "metadata": {},
   "source": [
    "What's the running time complexity of this simple way of multiplying two n-digit integers? $\\Theta(n^2)$"
   ]
  },
  {
   "cell_type": "markdown",
   "id": "6921a6f8-59ce-44c1-aeee-f89fdd0c4939",
   "metadata": {},
   "source": [
    "Can we do faster than $\\Theta(n^2)$?\n",
    "\n",
    "This simply way requires a multiplication of each digit of X with each digit of Y?"
   ]
  },
  {
   "cell_type": "markdown",
   "id": "545c5c0e-574f-4339-9766-4d02b900a609",
   "metadata": {},
   "source": [
    "**Hypothesis: any algorithm that multiplies two n-digit numbers has $\\Omega(n^2)$ running time complexity.**"
   ]
  },
  {
   "cell_type": "markdown",
   "id": "75a08fbb-5069-40a4-aceb-49f990869c54",
   "metadata": {},
   "source": [
    "What this means is that: any algorithm/program that multiplies two n-digit numbers must take at least order of $n^2$ steps."
   ]
  },
  {
   "cell_type": "markdown",
   "id": "9a986d01-ca9c-4938-8724-c7ce09ed9f2a",
   "metadata": {},
   "source": [
    "If this is true, we cannot do faster than $\\Theta(n^2)$."
   ]
  },
  {
   "cell_type": "markdown",
   "id": "a190b8a0-3ea9-4c39-8df4-0a2278ac4161",
   "metadata": {},
   "source": [
    "### Let's try a recursive strategy"
   ]
  },
  {
   "cell_type": "markdown",
   "id": "fb4541cb-3017-49ea-9782-b785cee096dc",
   "metadata": {},
   "source": [
    "* Input: $X = x_1 x_2 \\cdots x_n$ and $Y = y_1 y_2 \\cdots y_n$\n",
    "* Output: $X * Y$\n",
    "\n",
    "Let $X_l = x_1 \\cdots x_{n \\over 2}$ and $X_r = x_{n \\over 2 + 1} \\cdots x_{n}$.\n",
    "\n",
    "Let $Y_l = y_1 \\cdots y_{n \\over 2}$ and $Y_r = y_{n \\over 2 + 1} \\cdots y_{n}$."
   ]
  },
  {
   "cell_type": "markdown",
   "id": "acd3c079-1c63-417d-9a01-0282157182f1",
   "metadata": {},
   "source": [
    "---\n",
    "\n",
    "If X=123456, Y=789321\n",
    "\n",
    "Xl = 123,  Xr = 456\n",
    "\n",
    "Yl = 789,  Yr = 321"
   ]
  },
  {
   "cell_type": "markdown",
   "id": "eee04c13-bd4f-4021-b07e-833d77bc41d1",
   "metadata": {},
   "source": [
    "$123456 * 789321 = (123000 + 456) * (789000 + 321)$\n",
    "\n",
    "$123456 * 789321 = (123*10^3 + 456) * (789*10^3 + 321)$\n",
    "\n",
    "$(123*10^3 + 456) * (789*10^3 + 321) = 123*789*10^6 + 123*321*10^3 + 456*789*10^3 + 456+321$\n"
   ]
  },
  {
   "cell_type": "markdown",
   "id": "17188604-988b-47b4-86a5-b8524c35b9ce",
   "metadata": {},
   "source": [
    "$X*Y = (X_l * 10^{n \\over 2} + X_r) * (Y_l * 10^{n \\over 2} + Y_r)$"
   ]
  },
  {
   "cell_type": "markdown",
   "id": "ccf7d13a-00df-4eed-915a-b10e4a67378e",
   "metadata": {},
   "source": [
    "$X*Y = X_l*Y_l*10^n + X_l*Y_r*10^{n \\over 2} + X_r*Y_l*10^{n \\over 2} + X_r*Y_r$"
   ]
  },
  {
   "cell_type": "markdown",
   "id": "8562f194-2d74-48b1-95bd-006510993410",
   "metadata": {},
   "source": [
    "Let's translate this into code/Python."
   ]
  },
  {
   "cell_type": "code",
   "execution_count": 2,
   "id": "7a7dc26a-480d-441f-ac41-f6aa32b248ec",
   "metadata": {},
   "outputs": [],
   "source": [
    "#\n",
    "# Assumption: X, Y have exactly n=2^k digits \n",
    "#\n",
    "def multiply(X, Y):                     # T(n): multiply 2 n-digit numbers\n",
    "    if len(X)==1:                       # c1\n",
    "        return X*Y\n",
    "    X_l, X_r = split_in_half(X)         # c2 * n\n",
    "    Y_l, Y_r = split_in_half(Y)         # c3 * n\n",
    "    A = multiply(X_l, Y_l)              # T(n/2)\n",
    "    B = multiply(X_l, Y_r)\n",
    "    C = multiply(X_r, Y_l)\n",
    "    D = multiply(X_r, Y_r)\n",
    "    return shift(A, n) + shift(B, n/2) + shift(C, n/2) + D    # c4 * n\n",
    "    "
   ]
  },
  {
   "cell_type": "markdown",
   "id": "b373a3a8-7ead-4e31-8777-f358aac3b5e4",
   "metadata": {},
   "source": [
    "**split_in_half** returns two integers by copying the first n/2 digits of X and the last n/2 digits of X.\n",
    "\n",
    "**shift(Z, k)** left shift Z by k times, i.e. multiply Z by 10^k, i.e. adding k 0's to the right of Z."
   ]
  },
  {
   "cell_type": "markdown",
   "id": "685e0c14-d359-4cee-be4d-101b694776ba",
   "metadata": {},
   "source": [
    "The running time equation of multiple is: $T(n) = \\Theta(n) + 4 * T({n \\over 2}) \\in \\Theta(n^2)$"
   ]
  },
  {
   "cell_type": "markdown",
   "id": "c1bb61fb-fbe1-47d0-a28e-53009cc3717b",
   "metadata": {},
   "source": [
    "To get the complexity of T, compare d=1 and $\\log_2 4 = 2$."
   ]
  },
  {
   "cell_type": "markdown",
   "id": "cda80f76-f2ed-42a3-8ab3-8f61c84efbb7",
   "metadata": {},
   "source": [
    "After all this work, we have a recursive program that exactly the same complexity as the simply program."
   ]
  },
  {
   "cell_type": "markdown",
   "id": "5691f405-9c01-4d92-8ee3-cb961e5b7858",
   "metadata": {},
   "source": [
    "Let's see if we can do this better."
   ]
  },
  {
   "cell_type": "markdown",
   "id": "f32f5c00-bb22-4b9a-a1bc-0fb0bdec4863",
   "metadata": {},
   "source": [
    "$X*Y = X_l*Y_l*10^n + X_l*Y_r*10^{n \\over 2} + X_r*Y_l*10^{n \\over 2} + X_r*Y_r$"
   ]
  },
  {
   "cell_type": "markdown",
   "id": "46757e85-9d06-4efa-8d17-6560f06dc54d",
   "metadata": {},
   "source": [
    "We have 4 recursive calls, each has running time $T({n \\over 2})$.  Left shifting and splitting in half take linear time.\n",
    "\n",
    "This gives a $\\Theta(n^2)$ complexity."
   ]
  },
  {
   "cell_type": "markdown",
   "id": "4fffcf1c-a70e-4a94-aeab-3ec21be647b8",
   "metadata": {},
   "source": [
    "Which dominates the running time of this algorithm: recursive or non-recursive?  The recursive part.  \n",
    "\n",
    "If we want to make this faster, we'll need to be more clever with the recursive calculation."
   ]
  },
  {
   "cell_type": "markdown",
   "id": "6d7bc653-8880-4930-ba70-6c5a6dc55f58",
   "metadata": {},
   "source": [
    "$ X_l*Y_r*10^{n \\over 2} + X_r*Y_l*10^{n \\over 2} = (X_l*Y_r + X_r*Y_l)*10^{n \\over 2} $\n",
    "\n",
    "---"
   ]
  },
  {
   "cell_type": "markdown",
   "id": "b008470e-1a94-484a-967a-717d6768bfdd",
   "metadata": {},
   "source": [
    "$(X_l + X_r) * (Y_l + Y_r)$"
   ]
  },
  {
   "cell_type": "markdown",
   "id": "cb4a79c8-d4ee-408d-9065-ec280a90a9ff",
   "metadata": {},
   "source": [
    "$(X_l + X_r) * (Y_l + Y_r) = X_l*Y_l + X_l*Y_r + X_r*Y_l + X_r*Y_r$"
   ]
  },
  {
   "cell_type": "markdown",
   "id": "225355f8-baa4-4ef0-a4f7-84e0adf91a5f",
   "metadata": {},
   "source": [
    "$(X_l + X_r) * (Y_l + Y_r) - X_l*Y_l - X_r*Y_r  = X_l*Y_r + X_r*Y_l $"
   ]
  },
  {
   "cell_type": "markdown",
   "id": "ee298828-8bea-4923-9c1a-3050746b3912",
   "metadata": {},
   "source": [
    "$((X_l + X_r) * (Y_l + Y_r) - X_l*Y_l - X_r*Y_r)*10^{n \\over 2}  = (X_l*Y_r + X_r*Y_l)*10^{n \\over 2} $"
   ]
  },
  {
   "cell_type": "markdown",
   "id": "d5f95f87-66b6-4a70-b85b-e9711280d4f4",
   "metadata": {},
   "source": [
    "---\n",
    "\n",
    "$X*Y = X_l*Y_l*10^n + (X_l*Y_r + X_r*Y_l)*10^{n \\over 2} + X_r*Y_r$"
   ]
  },
  {
   "cell_type": "markdown",
   "id": "b49ff3ea-1cb4-4665-95f8-b16f515e8c99",
   "metadata": {},
   "source": [
    "multipy(X,Y) requires 4 recursive calls:\n",
    "* $multiply(X_l, Y_l)$\n",
    "* $multiply(X_l, Y_r)$\n",
    "* $multiply(X_r, Y_l)$\n",
    "* $multiply(X_r, Y_r)$\n",
    "\n",
    "We can actually do this with only 3 recursive calls:\n",
    "* $multiply(X_l, Y_l)$\n",
    "* $multiply(X_r, Y_r)$\n",
    "* $multiple(X_l+X_r, Y_l+Y_r)$"
   ]
  },
  {
   "cell_type": "markdown",
   "id": "bb300401-bf7f-4dd0-8d6b-e4acc3f5f791",
   "metadata": {},
   "source": [
    "$T(n) = \\Theta(n) + 3 \\cdot T({n \\over 2}) \\in \\Theta(n^{\\log_2 3})$"
   ]
  },
  {
   "cell_type": "markdown",
   "id": "1afd4283-6016-4a3f-afc2-ed4ef3499b70",
   "metadata": {},
   "source": [
    "Summary:\n",
    "+ By reducing 4 recursive calls to 3 recursive calls, we improve the efficiency of multiplication.\n",
    "\n",
    "+ We could reduce the number of recursive calls because we reused two recursive calls."
   ]
  },
  {
   "cell_type": "code",
   "execution_count": null,
   "id": "3d761727-24cb-4088-b00d-1650d632741e",
   "metadata": {},
   "outputs": [],
   "source": []
  }
 ],
 "metadata": {
  "kernelspec": {
   "display_name": "Python 3 (ipykernel)",
   "language": "python",
   "name": "python3"
  },
  "language_info": {
   "codemirror_mode": {
    "name": "ipython",
    "version": 3
   },
   "file_extension": ".py",
   "mimetype": "text/x-python",
   "name": "python",
   "nbconvert_exporter": "python",
   "pygments_lexer": "ipython3",
   "version": "3.9.12"
  }
 },
 "nbformat": 4,
 "nbformat_minor": 5
}
