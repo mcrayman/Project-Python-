{
 "cells": [
  {
   "cell_type": "markdown",
   "id": "b637ca55-7754-4f5b-b7ef-002346bf812b",
   "metadata": {},
   "source": [
    "# Backtracking\n",
    "\n",
    "Backtracking is a systematic way of enumering all possible solutions."
   ]
  },
  {
   "cell_type": "markdown",
   "id": "2a242c9a-057e-4555-97e5-509679c85c0d",
   "metadata": {},
   "source": [
    "Generate all binary numbers with leading digit of 0.\n",
    "\n",
    "<img src=\"https://i.imgur.com/618KZBe.png\" width=\"60%\">"
   ]
  },
  {
   "cell_type": "markdown",
   "id": "9a74fb0e-dd9e-4eb7-94bc-4d88b0c661a0",
   "metadata": {},
   "source": [
    "Generate all binary numbers with leading digit of 0, but the second digit cannot be 1.\n",
    "\n",
    "<img src=\"https://i.imgur.com/2I7asjV.png\" width=\"60%\">"
   ]
  },
  {
   "cell_type": "markdown",
   "id": "dab806e1-aa83-4814-91c0-83e390b880c2",
   "metadata": {},
   "source": [
    "### Elements of backtracking\n",
    "\n",
    "```\n",
    "def backtrack(solution, i):\n",
    "    pass\n",
    "```"
   ]
  },
  {
   "cell_type": "code",
   "execution_count": null,
   "id": "6f2c9ce2-3716-44b4-9841-d747f70e0ea7",
   "metadata": {},
   "outputs": [],
   "source": []
  }
 ],
 "metadata": {
  "kernelspec": {
   "display_name": "Python 3 (ipykernel)",
   "language": "python",
   "name": "python3"
  },
  "language_info": {
   "codemirror_mode": {
    "name": "ipython",
    "version": 3
   },
   "file_extension": ".py",
   "mimetype": "text/x-python",
   "name": "python",
   "nbconvert_exporter": "python",
   "pygments_lexer": "ipython3",
   "version": "3.9.7"
  }
 },
 "nbformat": 4,
 "nbformat_minor": 5
}
