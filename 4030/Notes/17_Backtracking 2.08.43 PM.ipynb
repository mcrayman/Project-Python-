{
 "cells": [
  {
   "cell_type": "markdown",
   "id": "b637ca55-7754-4f5b-b7ef-002346bf812b",
   "metadata": {},
   "source": [
    "# Backtracking\n",
    "\n",
    "Backtracking is a systematic way of enumering all possible solutions."
   ]
  },
  {
   "cell_type": "markdown",
   "id": "2a242c9a-057e-4555-97e5-509679c85c0d",
   "metadata": {},
   "source": [
    "Generate all 4-digit binary numbers with leading digit of 0.\n",
    "\n",
    "<img src=\"https://i.imgur.com/618KZBe.png\" width=\"60%\">"
   ]
  },
  {
   "cell_type": "markdown",
   "id": "fbcae1da-df7a-43ba-ba79-cca77d047faa",
   "metadata": {},
   "source": [
    "Level 1: A few conceptual observations about backtracking (BT):\n",
    "+ It's an incremental design.  We start from an empty partial solution, and we end up with complete solutions.\n",
    "+ If we visualize this process as generating a tree, the initial solution is the root of the tree and each leaf is a complete solution.\n",
    "+ Each level of the tree indicates the level of partial solutions.\n",
    "+ In each step of BT, we ask \"how many possibilities are there to generate the level of partial solutions?\"\n",
    "    * If there are two possibilities in each step, we have a binary tree.\n",
    "+ After we adopt a possibility, visually, we move to a child of a node.  \n",
    "    * At this point, we face with another subproblem."
   ]
  },
  {
   "cell_type": "markdown",
   "id": "a43dfd87-c96e-42d8-9a80-1772774c91a2",
   "metadata": {},
   "source": [
    "---\n",
    "Level 2: conceptual, some procedural aspects of BT:\n",
    "+ Suppose we are at the root. The problem we need to solve is:\n",
    "    * Generate all 4-digit binary numbers, given the first digit is 0.\n",
    "+ Suppose we are at the right child of the root. The problem we need to solve is:\n",
    "    * Generate all 4-digit binary numbers, given the first 2 digits are 01.\n",
    "+ In general, if we are at an internal node, the problem we need to solve is:\n",
    "    * Generate all 4-digit binary numbers, given the first digits of that node.\n",
    "    * That internal node is an intermediate or \"partial\" solution.  We need to generate all complete solutions, starting with that partial solution."
   ]
  },
  {
   "cell_type": "markdown",
   "id": "ed64ea1c-3190-44a6-9f57-c6796394e76b",
   "metadata": {},
   "source": [
    "---\n",
    "Level 3: a little more procedure of how BT works.\n",
    "+ In a recursive design of BT, we actually do not generate partial solutions each level at a time.  Instead, we start from the root, and \"go deep\" to get the first complete solution (a leaf).  Then, we backtrack.\n",
    "+ In backtracking (especially, in many AI applications), often, we get to a partial solution that will lead to infeasible complete solutions.  At this point, we do not want to proceed expanding this partial solution.\n",
    "    * This is called \"tree pruning\".  This can make the process more efficient.\n",
    "+ We use only 1 list to keep track of all partial and complete solutions."
   ]
  },
  {
   "cell_type": "markdown",
   "id": "9a74fb0e-dd9e-4eb7-94bc-4d88b0c661a0",
   "metadata": {},
   "source": [
    "Generate all 4-digit binary numbers with leading digit of 0, but the second digit cannot be 1.\n",
    "\n",
    "<img src=\"https://i.imgur.com/fjfQ1FQ.png\" width=\"60%\">"
   ]
  },
  {
   "cell_type": "markdown",
   "id": "32599799-37b9-4145-aef7-43256833fe93",
   "metadata": {},
   "source": [
    "BT is a systematic approach to enumerate possibilities.\n",
    "\n",
    "+ All 4-digit binary numbers\n",
    "+ All sets with n items\n",
    "+ All permutations with n items\n",
    "+ All ways of coloring n items with k colors\n",
    "+ All non-attacking positions of n queens on an n-by-n chessboard"
   ]
  },
  {
   "cell_type": "markdown",
   "id": "dab806e1-aa83-4814-91c0-83e390b880c2",
   "metadata": {},
   "source": [
    "### Elements of backtracking\n",
    "\n",
    "```\n",
    "def backtrack(solution, i):\n",
    "    pass\n",
    "```\n",
    "\n",
    "solution is a partial/complete solution, and i is the current level.\n",
    "\n",
    "solution is a list.\n",
    "\n",
    "We use only 1 list to generate all solutions, one at a time."
   ]
  },
  {
   "cell_type": "markdown",
   "id": "aa2b74f0-aa17-4856-aab6-82f86b2321bb",
   "metadata": {},
   "source": [
    "### All sets\n",
    "\n",
    "Program interface\n",
    "+ all_4dbn(solution, i) -- print/generate all 4-digt binary numbers.\n",
    "+ At level i, the first i digits have been \"configured\".  \n",
    "    + solution[0], solution[1], ..., solution[i-1] have been \"configured\".\n",
    "    + We need to generate all 4-digit binary numbers, starting from this partial/incomplete solution.\n",
    "+ When we get to the leaf at the end, we simply print out the complete solution."
   ]
  },
  {
   "cell_type": "markdown",
   "id": "c7b9af1a-b7ca-4b9f-b7ee-a9bc5166faf3",
   "metadata": {},
   "source": [
    "<img src=\"https://i.imgur.com/618KZBe.png\" width=\"60%\">"
   ]
  },
  {
   "cell_type": "code",
   "execution_count": 3,
   "id": "38e01232-1351-48db-84cb-57174faff44a",
   "metadata": {},
   "outputs": [],
   "source": [
    "def all_4dbn(solution, i):\n",
    "    if i==len(solution):\n",
    "        print(solution)\n",
    "    else:\n",
    "        # 1. which node are we going to next? Answer: left and right.\n",
    "        # 'how many possibilities are there to configure solution[i]?'\n",
    "        # \"what do we set/configure solution[i]? Answer: 0 and 1\"\n",
    "        solution[i] = 0\n",
    "        all_4dbn(solution, i+1)\n",
    "        \n",
    "        # at this point right here: we backtrack to try the other possibility\n",
    "        solution[i] = 1\n",
    "        all_4dbn(solution, i+1)\n",
    "    "
   ]
  },
  {
   "cell_type": "code",
   "execution_count": 4,
   "id": "af10b294-4952-46d6-888b-5e6e09b588c2",
   "metadata": {},
   "outputs": [
    {
     "name": "stdout",
     "output_type": "stream",
     "text": [
      "[0, 0, 0, 0]\n",
      "[0, 0, 0, 1]\n",
      "[0, 0, 1, 0]\n",
      "[0, 0, 1, 1]\n",
      "[0, 1, 0, 0]\n",
      "[0, 1, 0, 1]\n",
      "[0, 1, 1, 0]\n",
      "[0, 1, 1, 1]\n",
      "[1, 0, 0, 0]\n",
      "[1, 0, 0, 1]\n",
      "[1, 0, 1, 0]\n",
      "[1, 0, 1, 1]\n",
      "[1, 1, 0, 0]\n",
      "[1, 1, 0, 1]\n",
      "[1, 1, 1, 0]\n",
      "[1, 1, 1, 1]\n"
     ]
    }
   ],
   "source": [
    "all_4dbn([None, None, None, None], 0)"
   ]
  },
  {
   "cell_type": "code",
   "execution_count": 5,
   "id": "37bd1178-d74f-424f-bf8d-ac65413057ca",
   "metadata": {},
   "outputs": [
    {
     "name": "stdout",
     "output_type": "stream",
     "text": [
      "[0, 0, 0, 0]\n",
      "[0, 0, 0, 1]\n",
      "[0, 0, 1, 0]\n",
      "[0, 0, 1, 1]\n",
      "[0, 1, 0, 0]\n",
      "[0, 1, 0, 1]\n",
      "[0, 1, 1, 0]\n",
      "[0, 1, 1, 1]\n"
     ]
    }
   ],
   "source": [
    "# all 4-digit binary numbers with first digit being 0\n",
    "all_4dbn([0, None, None, None], 1)"
   ]
  },
  {
   "cell_type": "code",
   "execution_count": 6,
   "id": "df5d0165-7a23-4eb2-b1db-c778c1aae3ab",
   "metadata": {},
   "outputs": [
    {
     "name": "stdout",
     "output_type": "stream",
     "text": [
      "[0, 0, 0, 0, 0, 0]\n",
      "[0, 0, 0, 0, 0, 1]\n",
      "[0, 0, 0, 0, 1, 0]\n",
      "[0, 0, 0, 0, 1, 1]\n",
      "[0, 0, 0, 1, 0, 0]\n",
      "[0, 0, 0, 1, 0, 1]\n",
      "[0, 0, 0, 1, 1, 0]\n",
      "[0, 0, 0, 1, 1, 1]\n",
      "[0, 0, 1, 0, 0, 0]\n",
      "[0, 0, 1, 0, 0, 1]\n",
      "[0, 0, 1, 0, 1, 0]\n",
      "[0, 0, 1, 0, 1, 1]\n",
      "[0, 0, 1, 1, 0, 0]\n",
      "[0, 0, 1, 1, 0, 1]\n",
      "[0, 0, 1, 1, 1, 0]\n",
      "[0, 0, 1, 1, 1, 1]\n",
      "[0, 1, 0, 0, 0, 0]\n",
      "[0, 1, 0, 0, 0, 1]\n",
      "[0, 1, 0, 0, 1, 0]\n",
      "[0, 1, 0, 0, 1, 1]\n",
      "[0, 1, 0, 1, 0, 0]\n",
      "[0, 1, 0, 1, 0, 1]\n",
      "[0, 1, 0, 1, 1, 0]\n",
      "[0, 1, 0, 1, 1, 1]\n",
      "[0, 1, 1, 0, 0, 0]\n",
      "[0, 1, 1, 0, 0, 1]\n",
      "[0, 1, 1, 0, 1, 0]\n",
      "[0, 1, 1, 0, 1, 1]\n",
      "[0, 1, 1, 1, 0, 0]\n",
      "[0, 1, 1, 1, 0, 1]\n",
      "[0, 1, 1, 1, 1, 0]\n",
      "[0, 1, 1, 1, 1, 1]\n",
      "[1, 0, 0, 0, 0, 0]\n",
      "[1, 0, 0, 0, 0, 1]\n",
      "[1, 0, 0, 0, 1, 0]\n",
      "[1, 0, 0, 0, 1, 1]\n",
      "[1, 0, 0, 1, 0, 0]\n",
      "[1, 0, 0, 1, 0, 1]\n",
      "[1, 0, 0, 1, 1, 0]\n",
      "[1, 0, 0, 1, 1, 1]\n",
      "[1, 0, 1, 0, 0, 0]\n",
      "[1, 0, 1, 0, 0, 1]\n",
      "[1, 0, 1, 0, 1, 0]\n",
      "[1, 0, 1, 0, 1, 1]\n",
      "[1, 0, 1, 1, 0, 0]\n",
      "[1, 0, 1, 1, 0, 1]\n",
      "[1, 0, 1, 1, 1, 0]\n",
      "[1, 0, 1, 1, 1, 1]\n",
      "[1, 1, 0, 0, 0, 0]\n",
      "[1, 1, 0, 0, 0, 1]\n",
      "[1, 1, 0, 0, 1, 0]\n",
      "[1, 1, 0, 0, 1, 1]\n",
      "[1, 1, 0, 1, 0, 0]\n",
      "[1, 1, 0, 1, 0, 1]\n",
      "[1, 1, 0, 1, 1, 0]\n",
      "[1, 1, 0, 1, 1, 1]\n",
      "[1, 1, 1, 0, 0, 0]\n",
      "[1, 1, 1, 0, 0, 1]\n",
      "[1, 1, 1, 0, 1, 0]\n",
      "[1, 1, 1, 0, 1, 1]\n",
      "[1, 1, 1, 1, 0, 0]\n",
      "[1, 1, 1, 1, 0, 1]\n",
      "[1, 1, 1, 1, 1, 0]\n",
      "[1, 1, 1, 1, 1, 1]\n"
     ]
    }
   ],
   "source": [
    "all_4dbn([None]*6, 0)"
   ]
  },
  {
   "cell_type": "code",
   "execution_count": 8,
   "id": "aa51f0c8-4b5c-4bc0-932b-c910d916802c",
   "metadata": {},
   "outputs": [],
   "source": [
    "def all_4dbn(solution, i):\n",
    "    if i==len(solution):\n",
    "        print(solution)\n",
    "    else:\n",
    "        for possibility in [0, 1]:\n",
    "            solution[i] = possibility\n",
    "            all_4dbn(solution, i+1)"
   ]
  },
  {
   "cell_type": "markdown",
   "id": "3423e761-ccec-4150-8d76-07c0e3760efc",
   "metadata": {},
   "source": [
    "#### Generate orderings/permutations\n",
    "\n",
    "An order/permutation with 3 numbers (0, 1, and 2) are:\n",
    "+ solution = [0, 1, 2]\n",
    "+ solution = [0, 2, 1]\n",
    "+ solution = [1, 0, 2]\n",
    "+ solution = [1, 2, 0]\n",
    "+ solution = [2, 0, 1]\n",
    "+ solution = [2, 1, 0]\n",
    "\n",
    "solution is a list of numbers.\n",
    "\n",
    "When we make this call **all_permutations(solution, i)**, solution has been configured at indices 0, 1, ..., i-1.\n",
    "\n",
    "We need to figure out what possibilities must be configured for solution[i].\n",
    "\n",
    "For each possibility, use the same technique to generate/expand the partial solution."
   ]
  },
  {
   "cell_type": "markdown",
   "id": "c4bf02f9-7bc7-4802-a201-855795620b27",
   "metadata": {},
   "source": [
    "\n"
   ]
  },
  {
   "cell_type": "code",
   "execution_count": 13,
   "id": "76f9350e-3564-4bc6-afaa-f6b66760a2d9",
   "metadata": {},
   "outputs": [],
   "source": [
    "def all_4dbn(solution, i):\n",
    "    if i==len(solution):\n",
    "        print(solution)\n",
    "    else:\n",
    "        for possibility in [0, 1]:\n",
    "            solution[i] = possibility\n",
    "            all_4dbn(solution, i+1)"
   ]
  },
  {
   "cell_type": "code",
   "execution_count": 12,
   "id": "49d989ba-d34e-4af9-baaa-e8b93e92cd98",
   "metadata": {},
   "outputs": [],
   "source": [
    "def all_permutations(solution, i):\n",
    "    if i==len(solution):\n",
    "        print(solution)\n",
    "    else:\n",
    "        pass"
   ]
  },
  {
   "cell_type": "markdown",
   "id": "00c35bc1-bc52-4c70-a014-0f9ab12688ff",
   "metadata": {},
   "source": [
    "suppose we need to generate all permutations for 0, 1, .., 9.\n",
    "\n",
    "Let's say at level i=5, with solution having been configured as follows:\n",
    "+ solution = [6, 2, 0, 1, 3, ???, None, None, None, None]\n",
    "+ How many possibilities we can set solution[5]?\n",
    "    + Answer: 4, 5, 7, 9, 8.\n",
    "\n",
    "\n"
   ]
  },
  {
   "cell_type": "code",
   "execution_count": 1,
   "id": "e901efb3-4483-400e-a5aa-aead44f3eae1",
   "metadata": {},
   "outputs": [],
   "source": [
    "def all_permutations(solution, i):\n",
    "    if i==len(solution):\n",
    "        print(solution)\n",
    "    else:\n",
    "        for possibility in range(len(solution)):\n",
    "            if possibility not in solution[0: i]:\n",
    "                solution[i] = possibility\n",
    "                all_permutations(solution, i+1)"
   ]
  },
  {
   "cell_type": "code",
   "execution_count": 2,
   "id": "d5b7bd4a-94e6-492f-9e9a-e67a0bc6487d",
   "metadata": {},
   "outputs": [
    {
     "name": "stdout",
     "output_type": "stream",
     "text": [
      "[0, 1, 2]\n",
      "[0, 2, 1]\n",
      "[1, 0, 2]\n",
      "[1, 2, 0]\n",
      "[2, 0, 1]\n",
      "[2, 1, 0]\n"
     ]
    }
   ],
   "source": [
    "all_permutations([None]*3, 0)"
   ]
  },
  {
   "cell_type": "markdown",
   "id": "7d75e822-7e05-4f63-a416-ef379131da1a",
   "metadata": {},
   "source": [
    "### The basic backtracking template"
   ]
  },
  {
   "cell_type": "code",
   "execution_count": 27,
   "id": "d4cdb9db-5af6-4ba3-ba76-b697931cb894",
   "metadata": {},
   "outputs": [],
   "source": [
    "def backtrack(solution, i, possibilities):\n",
    "    if i==len(solution):\n",
    "        print(solution)\n",
    "    else:\n",
    "        for possibility in possibilities:\n",
    "            solution[i] = possibility\n",
    "            backtrack(solution, i+1, possibilities)"
   ]
  },
  {
   "cell_type": "code",
   "execution_count": 32,
   "id": "2e82fdda-ece3-42e8-a1c5-724d5895684f",
   "metadata": {},
   "outputs": [
    {
     "name": "stdout",
     "output_type": "stream",
     "text": [
      "[0, 0, 0]\n",
      "[0, 0, 1]\n",
      "[0, 1, 0]\n",
      "[0, 1, 1]\n",
      "[1, 0, 0]\n",
      "[1, 0, 1]\n",
      "[1, 1, 0]\n",
      "[1, 1, 1]\n"
     ]
    }
   ],
   "source": [
    "backtrack([None]*3, 0, [0,1])"
   ]
  },
  {
   "cell_type": "code",
   "execution_count": 33,
   "id": "85cd0847-ba6f-4f4b-bd6e-5585f523b53b",
   "metadata": {},
   "outputs": [],
   "source": [
    "def backtrack(solution, i, possibilities):\n",
    "    if i==len(solution):\n",
    "        print(solution)\n",
    "    else:\n",
    "        for possibility in possibilities(solution, i):\n",
    "            solution[i] = possibility\n",
    "            backtrack(solution, i+1, possibilities)"
   ]
  },
  {
   "cell_type": "code",
   "execution_count": 35,
   "id": "0a1ca60f-a400-40a1-be9f-2360b2a22899",
   "metadata": {},
   "outputs": [],
   "source": [
    "def f(solution, i):\n",
    "    return [0,1]\n",
    "\n",
    "def g(solution, i):\n",
    "    return [j for j in range(len(solution)) if j not in solution[0:i]]\n"
   ]
  },
  {
   "cell_type": "code",
   "execution_count": 36,
   "id": "bb67aa86-4403-45e2-98bc-6b18046e5983",
   "metadata": {},
   "outputs": [
    {
     "name": "stdout",
     "output_type": "stream",
     "text": [
      "[0, 0, 0]\n",
      "[0, 0, 1]\n",
      "[0, 1, 0]\n",
      "[0, 1, 1]\n",
      "[1, 0, 0]\n",
      "[1, 0, 1]\n",
      "[1, 1, 0]\n",
      "[1, 1, 1]\n"
     ]
    }
   ],
   "source": [
    "backtrack([None]*3, 0, f)"
   ]
  },
  {
   "cell_type": "code",
   "execution_count": 37,
   "id": "7e57f37d-5867-4b5b-87dc-344e166b7e3b",
   "metadata": {},
   "outputs": [
    {
     "name": "stdout",
     "output_type": "stream",
     "text": [
      "[0, 1, 2]\n",
      "[0, 2, 1]\n",
      "[1, 0, 2]\n",
      "[1, 2, 0]\n",
      "[2, 0, 1]\n",
      "[2, 1, 0]\n"
     ]
    }
   ],
   "source": [
    "backtrack([None]*3, 0, g)"
   ]
  },
  {
   "cell_type": "code",
   "execution_count": 39,
   "id": "7a7cdab5-bdc6-4892-a1fe-2f7a3982b568",
   "metadata": {},
   "outputs": [
    {
     "data": {
      "text/plain": [
       "range(0, 100000000000)"
      ]
     },
     "execution_count": 39,
     "metadata": {},
     "output_type": "execute_result"
    }
   ],
   "source": [
    "range(100000000000)"
   ]
  },
  {
   "cell_type": "markdown",
   "id": "05ebb3b0-25ec-4af8-8d19-a6fc9bac466e",
   "metadata": {},
   "source": [
    "<img src=\"https://i.imgur.com/618KZBe.png\" width=\"60%\">"
   ]
  },
  {
   "cell_type": "markdown",
   "id": "49a4a890-f358-43f0-9672-74e50e496e12",
   "metadata": {},
   "source": [
    "### Disadvantages of the recursive backtracking design\n",
    "\n",
    "It forces a depth-first exploration of the search space.\n",
    "\n",
    "(in the figure above, the search space is a complete binary tree).\n",
    "\n",
    "If you are playing a chess game (2-person game), and you know that there are 10 possibilities for the next move, which one do you select?\n",
    "\n",
    "We'll often select the possibility that gives us the highest chance of winning."
   ]
  },
  {
   "cell_type": "markdown",
   "id": "edb79d3c-e817-4ddd-ac58-511ee1003464",
   "metadata": {},
   "source": [
    "### Systematic generation of \"solutions\"\n",
    "\n",
    "Backtracking (BT) is a systematic way of generating things.\n",
    "\n",
    "Important things about BT.\n",
    "+ We use one solution object (which is a list) to store all solutions (which need to be generated).\n",
    "+ Solutions are conceptually generated one level at a time.\n",
    "+ In terms of the recursive implementation, solutions are generated in a depth-first manner.\n",
    "+ At each level of i, we need to figure out all possibilities that can be configured for solution[i].\n",
    "    * This step is essentially in the only difference between one problem from the others.\n",
    "    * The rest of the backtracking framework/template looks essentially identical.\n",
    "\n",
    "To solve a backtrack problem using our template, we need to figure out:\n",
    "+ The input parameters\n",
    "+ How to define \"possibilities\" to set/configure solution[i] at level i."
   ]
  },
  {
   "cell_type": "code",
   "execution_count": 3,
   "id": "c37b8722-f06d-4112-874e-0669b9e11c5f",
   "metadata": {},
   "outputs": [],
   "source": [
    "def generate(solution, i, possibilities):\n",
    "    if i==len(solution):\n",
    "        print(solution)\n",
    "    else:\n",
    "        for possibility in possibilities(solution, i):\n",
    "            solution[i] = possibility\n",
    "            generate(solution, i+1, possibilities)"
   ]
  },
  {
   "cell_type": "markdown",
   "id": "59772f25-a594-485e-bb9c-8a769b6922d8",
   "metadata": {},
   "source": [
    "Goal: understand the backtracking design\n",
    "+ where do we check for a complete solution?\n",
    "+ where is the backtrack?"
   ]
  },
  {
   "cell_type": "code",
   "execution_count": 31,
   "id": "8fe0613e-a233-4159-aeb1-1dcfe404d77f",
   "metadata": {},
   "outputs": [
    {
     "name": "stdout",
     "output_type": "stream",
     "text": [
      "[1, 1, 1]\n",
      "[1, 1, 0]\n",
      "[1, 0, 1]\n",
      "[1, 0, 0]\n",
      "[0, 1, 1]\n",
      "[0, 1, 0]\n",
      "[0, 0, 1]\n",
      "[0, 0, 0]\n"
     ]
    }
   ],
   "source": [
    "def two_things(solution, i):\n",
    "    return [1,0]\n",
    "\n",
    "# all 3-digit binary numbers (solution is a list of boolean values)\n",
    "generate([None, None, None], 0, two_things)"
   ]
  },
  {
   "cell_type": "markdown",
   "id": "e3fef7eb-687a-403a-93ea-09e39adabf66",
   "metadata": {},
   "source": [
    "#### Lazy generation of possibilities\n",
    "\n",
    "Lists versus generators\n",
    "\n",
    "```\n",
    "[j for j in range(100)]\n",
    "\n",
    "versus\n",
    "\n",
    "(j for j in range(100))\n",
    "\n",
    "```\n",
    "A generator lazy list. Things are generated as needed.\n",
    "\n",
    "A generator is more memory-efficient than a list.  It's also more time-efficient in some way."
   ]
  },
  {
   "cell_type": "code",
   "execution_count": 20,
   "id": "13f05b13-3496-4583-a210-43c19e8ce943",
   "metadata": {},
   "outputs": [
    {
     "data": {
      "text/plain": [
       "0"
      ]
     },
     "execution_count": 20,
     "metadata": {},
     "output_type": "execute_result"
    }
   ],
   "source": [
    "A = (j for j in range(10))\n",
    "B = [j for j in range(10)]\n",
    "A.__next__()"
   ]
  },
  {
   "cell_type": "markdown",
   "id": "7efeb029-3d0c-4e6c-976d-bdbda598df2d",
   "metadata": {},
   "source": [
    "In practice, when there are many possibilities to consider at each level, it's a good idea to use generators.\n"
   ]
  },
  {
   "cell_type": "markdown",
   "id": "a322329f-93fa-464a-be25-43b60f9531ef",
   "metadata": {},
   "source": [
    "#### Generating permutations with 3 things (0, 1, 2)\n",
    "\n",
    "solution = [2, None, None]\n",
    "\n",
    "i = 1 (i.e. we want to configure solution[1], after level 0 is configured with 2.)\n",
    "\n",
    "what are the possibilities can solution[1] be configured with, for a valid permutation? Answer: 0 or 1.\n",
    "* We can look at 0, 1, 2, and pick only those numbers that are not 2.\n",
    "```\n",
    "[j for j in range(len(solution)) if j not in solution[0:i]]\n",
    "```\n",
    "\n",
    "It's more memory efficient to use generators:\n",
    "```\n",
    "(j for j in range(len(solution)) if j not in solution[0:i])\n",
    "```"
   ]
  },
  {
   "cell_type": "code",
   "execution_count": 35,
   "id": "aaa42f19-0ee4-4d46-a7c4-1bde61d3564d",
   "metadata": {},
   "outputs": [
    {
     "name": "stdout",
     "output_type": "stream",
     "text": [
      "[0, 1, 2]\n",
      "[0, 2, 1]\n",
      "[1, 0, 2]\n",
      "[1, 2, 0]\n",
      "[2, 0, 1]\n",
      "[2, 1, 0]\n"
     ]
    }
   ],
   "source": [
    "\n",
    "def non_existing_things(solution, i):\n",
    "    return (j for j in range(len(solution)) if j not in solution[0:i])\n",
    "\n",
    "generate([None]*3, 0, non_existing_things)"
   ]
  },
  {
   "cell_type": "code",
   "execution_count": 4,
   "id": "0db706f1-f98c-4041-8315-2fbf5559dd15",
   "metadata": {
    "tags": []
   },
   "outputs": [],
   "source": [
    "class Perm:\n",
    "    def __init__(self, solution, end):\n",
    "        self.existing_things = solution[0:end]\n",
    "        self.n = len(solution)\n",
    "        self.j = 0\n",
    "    def __iter__(self):\n",
    "        return self\n",
    "    def __next__(self):\n",
    "        if self.j >= self.n:\n",
    "            raise StopIteration\n",
    "        while self.j in self.existing_things:\n",
    "            self.j += 1\n",
    "            if self.j >= self.n:\n",
    "                raise StopIteration\n",
    "        self.j += 1\n",
    "        return self.j-1\n",
    "    "
   ]
  },
  {
   "cell_type": "code",
   "execution_count": 5,
   "id": "b0bf982f-fe67-4c72-a3ad-1aafd3df7917",
   "metadata": {
    "tags": []
   },
   "outputs": [
    {
     "name": "stdout",
     "output_type": "stream",
     "text": [
      "1\n",
      "4\n",
      "5\n",
      "[0, 1, 2]\n",
      "[0, 2, 1]\n",
      "[1, 0, 2]\n",
      "[1, 2, 0]\n",
      "[2, 0, 1]\n",
      "[2, 1, 0]\n"
     ]
    }
   ],
   "source": [
    "for x in Perm([3,2,0,None,None,None],3):\n",
    "    print(x)\n",
    "generate([None]*3, 0, Perm)"
   ]
  },
  {
   "cell_type": "code",
   "execution_count": 44,
   "id": "104150d6-321e-45e6-a84f-ee205478fe9f",
   "metadata": {},
   "outputs": [],
   "source": [
    "def generate(solution, i, possibilities):\n",
    "    if i==len(solution):\n",
    "        print(solution)\n",
    "    else:\n",
    "        for possibility in possibilities(solution, i):\n",
    "            solution[i] = possibility\n",
    "            generate(solution, i+1, possibilities)"
   ]
  },
  {
   "cell_type": "code",
   "execution_count": 45,
   "id": "e136e755-2902-40c3-900a-9d8470f295ed",
   "metadata": {},
   "outputs": [
    {
     "name": "stdout",
     "output_type": "stream",
     "text": [
      "[0, 0, 0]\n",
      "[0, 0, 1]\n",
      "[0, 1, 0]\n",
      "[0, 1, 1]\n",
      "[1, 0, 0]\n",
      "[1, 0, 1]\n",
      "[1, 1, 0]\n",
      "[1, 1, 1]\n"
     ]
    }
   ],
   "source": [
    "generate([None]*3, 0, lambda solution, i: [0,1])"
   ]
  },
  {
   "cell_type": "markdown",
   "id": "eb4a21db-3e2e-4c47-a591-0d67f2865f61",
   "metadata": {},
   "source": [
    "#### Exercises\n",
    "\n",
    "Generate:\n",
    "* All 5-digit ternary numbers.\n"
   ]
  },
  {
   "cell_type": "code",
   "execution_count": 47,
   "id": "50d55de1-4981-4037-abb9-ad29411b34eb",
   "metadata": {
    "collapsed": true,
    "jupyter": {
     "outputs_hidden": true
    },
    "tags": []
   },
   "outputs": [
    {
     "name": "stdout",
     "output_type": "stream",
     "text": [
      "[2, 2, 2, 2, 2]\n",
      "[2, 2, 2, 2, 0]\n",
      "[2, 2, 2, 2, 1]\n",
      "[2, 2, 2, 0, 2]\n",
      "[2, 2, 2, 0, 0]\n",
      "[2, 2, 2, 0, 1]\n",
      "[2, 2, 2, 1, 2]\n",
      "[2, 2, 2, 1, 0]\n",
      "[2, 2, 2, 1, 1]\n",
      "[2, 2, 0, 2, 2]\n",
      "[2, 2, 0, 2, 0]\n",
      "[2, 2, 0, 2, 1]\n",
      "[2, 2, 0, 0, 2]\n",
      "[2, 2, 0, 0, 0]\n",
      "[2, 2, 0, 0, 1]\n",
      "[2, 2, 0, 1, 2]\n",
      "[2, 2, 0, 1, 0]\n",
      "[2, 2, 0, 1, 1]\n",
      "[2, 2, 1, 2, 2]\n",
      "[2, 2, 1, 2, 0]\n",
      "[2, 2, 1, 2, 1]\n",
      "[2, 2, 1, 0, 2]\n",
      "[2, 2, 1, 0, 0]\n",
      "[2, 2, 1, 0, 1]\n",
      "[2, 2, 1, 1, 2]\n",
      "[2, 2, 1, 1, 0]\n",
      "[2, 2, 1, 1, 1]\n",
      "[2, 0, 2, 2, 2]\n",
      "[2, 0, 2, 2, 0]\n",
      "[2, 0, 2, 2, 1]\n",
      "[2, 0, 2, 0, 2]\n",
      "[2, 0, 2, 0, 0]\n",
      "[2, 0, 2, 0, 1]\n",
      "[2, 0, 2, 1, 2]\n",
      "[2, 0, 2, 1, 0]\n",
      "[2, 0, 2, 1, 1]\n",
      "[2, 0, 0, 2, 2]\n",
      "[2, 0, 0, 2, 0]\n",
      "[2, 0, 0, 2, 1]\n",
      "[2, 0, 0, 0, 2]\n",
      "[2, 0, 0, 0, 0]\n",
      "[2, 0, 0, 0, 1]\n",
      "[2, 0, 0, 1, 2]\n",
      "[2, 0, 0, 1, 0]\n",
      "[2, 0, 0, 1, 1]\n",
      "[2, 0, 1, 2, 2]\n",
      "[2, 0, 1, 2, 0]\n",
      "[2, 0, 1, 2, 1]\n",
      "[2, 0, 1, 0, 2]\n",
      "[2, 0, 1, 0, 0]\n",
      "[2, 0, 1, 0, 1]\n",
      "[2, 0, 1, 1, 2]\n",
      "[2, 0, 1, 1, 0]\n",
      "[2, 0, 1, 1, 1]\n",
      "[2, 1, 2, 2, 2]\n",
      "[2, 1, 2, 2, 0]\n",
      "[2, 1, 2, 2, 1]\n",
      "[2, 1, 2, 0, 2]\n",
      "[2, 1, 2, 0, 0]\n",
      "[2, 1, 2, 0, 1]\n",
      "[2, 1, 2, 1, 2]\n",
      "[2, 1, 2, 1, 0]\n",
      "[2, 1, 2, 1, 1]\n",
      "[2, 1, 0, 2, 2]\n",
      "[2, 1, 0, 2, 0]\n",
      "[2, 1, 0, 2, 1]\n",
      "[2, 1, 0, 0, 2]\n",
      "[2, 1, 0, 0, 0]\n",
      "[2, 1, 0, 0, 1]\n",
      "[2, 1, 0, 1, 2]\n",
      "[2, 1, 0, 1, 0]\n",
      "[2, 1, 0, 1, 1]\n",
      "[2, 1, 1, 2, 2]\n",
      "[2, 1, 1, 2, 0]\n",
      "[2, 1, 1, 2, 1]\n",
      "[2, 1, 1, 0, 2]\n",
      "[2, 1, 1, 0, 0]\n",
      "[2, 1, 1, 0, 1]\n",
      "[2, 1, 1, 1, 2]\n",
      "[2, 1, 1, 1, 0]\n",
      "[2, 1, 1, 1, 1]\n",
      "[0, 2, 2, 2, 2]\n",
      "[0, 2, 2, 2, 0]\n",
      "[0, 2, 2, 2, 1]\n",
      "[0, 2, 2, 0, 2]\n",
      "[0, 2, 2, 0, 0]\n",
      "[0, 2, 2, 0, 1]\n",
      "[0, 2, 2, 1, 2]\n",
      "[0, 2, 2, 1, 0]\n",
      "[0, 2, 2, 1, 1]\n",
      "[0, 2, 0, 2, 2]\n",
      "[0, 2, 0, 2, 0]\n",
      "[0, 2, 0, 2, 1]\n",
      "[0, 2, 0, 0, 2]\n",
      "[0, 2, 0, 0, 0]\n",
      "[0, 2, 0, 0, 1]\n",
      "[0, 2, 0, 1, 2]\n",
      "[0, 2, 0, 1, 0]\n",
      "[0, 2, 0, 1, 1]\n",
      "[0, 2, 1, 2, 2]\n",
      "[0, 2, 1, 2, 0]\n",
      "[0, 2, 1, 2, 1]\n",
      "[0, 2, 1, 0, 2]\n",
      "[0, 2, 1, 0, 0]\n",
      "[0, 2, 1, 0, 1]\n",
      "[0, 2, 1, 1, 2]\n",
      "[0, 2, 1, 1, 0]\n",
      "[0, 2, 1, 1, 1]\n",
      "[0, 0, 2, 2, 2]\n",
      "[0, 0, 2, 2, 0]\n",
      "[0, 0, 2, 2, 1]\n",
      "[0, 0, 2, 0, 2]\n",
      "[0, 0, 2, 0, 0]\n",
      "[0, 0, 2, 0, 1]\n",
      "[0, 0, 2, 1, 2]\n",
      "[0, 0, 2, 1, 0]\n",
      "[0, 0, 2, 1, 1]\n",
      "[0, 0, 0, 2, 2]\n",
      "[0, 0, 0, 2, 0]\n",
      "[0, 0, 0, 2, 1]\n",
      "[0, 0, 0, 0, 2]\n",
      "[0, 0, 0, 0, 0]\n",
      "[0, 0, 0, 0, 1]\n",
      "[0, 0, 0, 1, 2]\n",
      "[0, 0, 0, 1, 0]\n",
      "[0, 0, 0, 1, 1]\n",
      "[0, 0, 1, 2, 2]\n",
      "[0, 0, 1, 2, 0]\n",
      "[0, 0, 1, 2, 1]\n",
      "[0, 0, 1, 0, 2]\n",
      "[0, 0, 1, 0, 0]\n",
      "[0, 0, 1, 0, 1]\n",
      "[0, 0, 1, 1, 2]\n",
      "[0, 0, 1, 1, 0]\n",
      "[0, 0, 1, 1, 1]\n",
      "[0, 1, 2, 2, 2]\n",
      "[0, 1, 2, 2, 0]\n",
      "[0, 1, 2, 2, 1]\n",
      "[0, 1, 2, 0, 2]\n",
      "[0, 1, 2, 0, 0]\n",
      "[0, 1, 2, 0, 1]\n",
      "[0, 1, 2, 1, 2]\n",
      "[0, 1, 2, 1, 0]\n",
      "[0, 1, 2, 1, 1]\n",
      "[0, 1, 0, 2, 2]\n",
      "[0, 1, 0, 2, 0]\n",
      "[0, 1, 0, 2, 1]\n",
      "[0, 1, 0, 0, 2]\n",
      "[0, 1, 0, 0, 0]\n",
      "[0, 1, 0, 0, 1]\n",
      "[0, 1, 0, 1, 2]\n",
      "[0, 1, 0, 1, 0]\n",
      "[0, 1, 0, 1, 1]\n",
      "[0, 1, 1, 2, 2]\n",
      "[0, 1, 1, 2, 0]\n",
      "[0, 1, 1, 2, 1]\n",
      "[0, 1, 1, 0, 2]\n",
      "[0, 1, 1, 0, 0]\n",
      "[0, 1, 1, 0, 1]\n",
      "[0, 1, 1, 1, 2]\n",
      "[0, 1, 1, 1, 0]\n",
      "[0, 1, 1, 1, 1]\n",
      "[1, 2, 2, 2, 2]\n",
      "[1, 2, 2, 2, 0]\n",
      "[1, 2, 2, 2, 1]\n",
      "[1, 2, 2, 0, 2]\n",
      "[1, 2, 2, 0, 0]\n",
      "[1, 2, 2, 0, 1]\n",
      "[1, 2, 2, 1, 2]\n",
      "[1, 2, 2, 1, 0]\n",
      "[1, 2, 2, 1, 1]\n",
      "[1, 2, 0, 2, 2]\n",
      "[1, 2, 0, 2, 0]\n",
      "[1, 2, 0, 2, 1]\n",
      "[1, 2, 0, 0, 2]\n",
      "[1, 2, 0, 0, 0]\n",
      "[1, 2, 0, 0, 1]\n",
      "[1, 2, 0, 1, 2]\n",
      "[1, 2, 0, 1, 0]\n",
      "[1, 2, 0, 1, 1]\n",
      "[1, 2, 1, 2, 2]\n",
      "[1, 2, 1, 2, 0]\n",
      "[1, 2, 1, 2, 1]\n",
      "[1, 2, 1, 0, 2]\n",
      "[1, 2, 1, 0, 0]\n",
      "[1, 2, 1, 0, 1]\n",
      "[1, 2, 1, 1, 2]\n",
      "[1, 2, 1, 1, 0]\n",
      "[1, 2, 1, 1, 1]\n",
      "[1, 0, 2, 2, 2]\n",
      "[1, 0, 2, 2, 0]\n",
      "[1, 0, 2, 2, 1]\n",
      "[1, 0, 2, 0, 2]\n",
      "[1, 0, 2, 0, 0]\n",
      "[1, 0, 2, 0, 1]\n",
      "[1, 0, 2, 1, 2]\n",
      "[1, 0, 2, 1, 0]\n",
      "[1, 0, 2, 1, 1]\n",
      "[1, 0, 0, 2, 2]\n",
      "[1, 0, 0, 2, 0]\n",
      "[1, 0, 0, 2, 1]\n",
      "[1, 0, 0, 0, 2]\n",
      "[1, 0, 0, 0, 0]\n",
      "[1, 0, 0, 0, 1]\n",
      "[1, 0, 0, 1, 2]\n",
      "[1, 0, 0, 1, 0]\n",
      "[1, 0, 0, 1, 1]\n",
      "[1, 0, 1, 2, 2]\n",
      "[1, 0, 1, 2, 0]\n",
      "[1, 0, 1, 2, 1]\n",
      "[1, 0, 1, 0, 2]\n",
      "[1, 0, 1, 0, 0]\n",
      "[1, 0, 1, 0, 1]\n",
      "[1, 0, 1, 1, 2]\n",
      "[1, 0, 1, 1, 0]\n",
      "[1, 0, 1, 1, 1]\n",
      "[1, 1, 2, 2, 2]\n",
      "[1, 1, 2, 2, 0]\n",
      "[1, 1, 2, 2, 1]\n",
      "[1, 1, 2, 0, 2]\n",
      "[1, 1, 2, 0, 0]\n",
      "[1, 1, 2, 0, 1]\n",
      "[1, 1, 2, 1, 2]\n",
      "[1, 1, 2, 1, 0]\n",
      "[1, 1, 2, 1, 1]\n",
      "[1, 1, 0, 2, 2]\n",
      "[1, 1, 0, 2, 0]\n",
      "[1, 1, 0, 2, 1]\n",
      "[1, 1, 0, 0, 2]\n",
      "[1, 1, 0, 0, 0]\n",
      "[1, 1, 0, 0, 1]\n",
      "[1, 1, 0, 1, 2]\n",
      "[1, 1, 0, 1, 0]\n",
      "[1, 1, 0, 1, 1]\n",
      "[1, 1, 1, 2, 2]\n",
      "[1, 1, 1, 2, 0]\n",
      "[1, 1, 1, 2, 1]\n",
      "[1, 1, 1, 0, 2]\n",
      "[1, 1, 1, 0, 0]\n",
      "[1, 1, 1, 0, 1]\n",
      "[1, 1, 1, 1, 2]\n",
      "[1, 1, 1, 1, 0]\n",
      "[1, 1, 1, 1, 1]\n"
     ]
    }
   ],
   "source": [
    "generate([None]*5, 0, lambda solution, i: [2,0,1])"
   ]
  },
  {
   "cell_type": "markdown",
   "id": "4d6c6b5e-a64e-4699-8a88-066aa5539b73",
   "metadata": {},
   "source": [
    "* All 5-digit ternary numbers that start with \"21\"."
   ]
  },
  {
   "cell_type": "code",
   "execution_count": 50,
   "id": "9c0a4d47-d9d4-45a3-bcb0-73961781b0f8",
   "metadata": {
    "collapsed": true,
    "jupyter": {
     "outputs_hidden": true
    },
    "tags": []
   },
   "outputs": [
    {
     "name": "stdout",
     "output_type": "stream",
     "text": [
      "[2, 1, 0, 0, 0]\n",
      "[2, 1, 0, 0, 1]\n",
      "[2, 1, 0, 0, 2]\n",
      "[2, 1, 0, 1, 0]\n",
      "[2, 1, 0, 1, 1]\n",
      "[2, 1, 0, 1, 2]\n",
      "[2, 1, 0, 2, 0]\n",
      "[2, 1, 0, 2, 1]\n",
      "[2, 1, 0, 2, 2]\n",
      "[2, 1, 1, 0, 0]\n",
      "[2, 1, 1, 0, 1]\n",
      "[2, 1, 1, 0, 2]\n",
      "[2, 1, 1, 1, 0]\n",
      "[2, 1, 1, 1, 1]\n",
      "[2, 1, 1, 1, 2]\n",
      "[2, 1, 1, 2, 0]\n",
      "[2, 1, 1, 2, 1]\n",
      "[2, 1, 1, 2, 2]\n",
      "[2, 1, 2, 0, 0]\n",
      "[2, 1, 2, 0, 1]\n",
      "[2, 1, 2, 0, 2]\n",
      "[2, 1, 2, 1, 0]\n",
      "[2, 1, 2, 1, 1]\n",
      "[2, 1, 2, 1, 2]\n",
      "[2, 1, 2, 2, 0]\n",
      "[2, 1, 2, 2, 1]\n",
      "[2, 1, 2, 2, 2]\n"
     ]
    }
   ],
   "source": [
    "generate([2,1,None,None,None], 2, lambda solution, i: [0,1,2])"
   ]
  },
  {
   "cell_type": "markdown",
   "id": "efcfec0a-0582-44f2-ac0b-984889513c6e",
   "metadata": {},
   "source": [
    "* All 5-digit ternary numbers where the third digit is not 2.\n"
   ]
  },
  {
   "cell_type": "code",
   "execution_count": 56,
   "id": "b0d2fc3f-b66b-48a2-b680-3ebb5ceeaaaf",
   "metadata": {
    "collapsed": true,
    "jupyter": {
     "outputs_hidden": true
    },
    "tags": []
   },
   "outputs": [
    {
     "name": "stdout",
     "output_type": "stream",
     "text": [
      "[0, 0, 0, 0, 0]\n",
      "[0, 0, 0, 0, 1]\n",
      "[0, 0, 0, 0, 2]\n",
      "[0, 0, 0, 1, 0]\n",
      "[0, 0, 0, 1, 1]\n",
      "[0, 0, 0, 1, 2]\n",
      "[0, 0, 0, 2, 0]\n",
      "[0, 0, 0, 2, 1]\n",
      "[0, 0, 0, 2, 2]\n",
      "[0, 0, 1, 0, 0]\n",
      "[0, 0, 1, 0, 1]\n",
      "[0, 0, 1, 0, 2]\n",
      "[0, 0, 1, 1, 0]\n",
      "[0, 0, 1, 1, 1]\n",
      "[0, 0, 1, 1, 2]\n",
      "[0, 0, 1, 2, 0]\n",
      "[0, 0, 1, 2, 1]\n",
      "[0, 0, 1, 2, 2]\n",
      "[0, 1, 0, 0, 0]\n",
      "[0, 1, 0, 0, 1]\n",
      "[0, 1, 0, 0, 2]\n",
      "[0, 1, 0, 1, 0]\n",
      "[0, 1, 0, 1, 1]\n",
      "[0, 1, 0, 1, 2]\n",
      "[0, 1, 0, 2, 0]\n",
      "[0, 1, 0, 2, 1]\n",
      "[0, 1, 0, 2, 2]\n",
      "[0, 1, 1, 0, 0]\n",
      "[0, 1, 1, 0, 1]\n",
      "[0, 1, 1, 0, 2]\n",
      "[0, 1, 1, 1, 0]\n",
      "[0, 1, 1, 1, 1]\n",
      "[0, 1, 1, 1, 2]\n",
      "[0, 1, 1, 2, 0]\n",
      "[0, 1, 1, 2, 1]\n",
      "[0, 1, 1, 2, 2]\n",
      "[0, 2, 0, 0, 0]\n",
      "[0, 2, 0, 0, 1]\n",
      "[0, 2, 0, 0, 2]\n",
      "[0, 2, 0, 1, 0]\n",
      "[0, 2, 0, 1, 1]\n",
      "[0, 2, 0, 1, 2]\n",
      "[0, 2, 0, 2, 0]\n",
      "[0, 2, 0, 2, 1]\n",
      "[0, 2, 0, 2, 2]\n",
      "[0, 2, 1, 0, 0]\n",
      "[0, 2, 1, 0, 1]\n",
      "[0, 2, 1, 0, 2]\n",
      "[0, 2, 1, 1, 0]\n",
      "[0, 2, 1, 1, 1]\n",
      "[0, 2, 1, 1, 2]\n",
      "[0, 2, 1, 2, 0]\n",
      "[0, 2, 1, 2, 1]\n",
      "[0, 2, 1, 2, 2]\n",
      "[1, 0, 0, 0, 0]\n",
      "[1, 0, 0, 0, 1]\n",
      "[1, 0, 0, 0, 2]\n",
      "[1, 0, 0, 1, 0]\n",
      "[1, 0, 0, 1, 1]\n",
      "[1, 0, 0, 1, 2]\n",
      "[1, 0, 0, 2, 0]\n",
      "[1, 0, 0, 2, 1]\n",
      "[1, 0, 0, 2, 2]\n",
      "[1, 0, 1, 0, 0]\n",
      "[1, 0, 1, 0, 1]\n",
      "[1, 0, 1, 0, 2]\n",
      "[1, 0, 1, 1, 0]\n",
      "[1, 0, 1, 1, 1]\n",
      "[1, 0, 1, 1, 2]\n",
      "[1, 0, 1, 2, 0]\n",
      "[1, 0, 1, 2, 1]\n",
      "[1, 0, 1, 2, 2]\n",
      "[1, 1, 0, 0, 0]\n",
      "[1, 1, 0, 0, 1]\n",
      "[1, 1, 0, 0, 2]\n",
      "[1, 1, 0, 1, 0]\n",
      "[1, 1, 0, 1, 1]\n",
      "[1, 1, 0, 1, 2]\n",
      "[1, 1, 0, 2, 0]\n",
      "[1, 1, 0, 2, 1]\n",
      "[1, 1, 0, 2, 2]\n",
      "[1, 1, 1, 0, 0]\n",
      "[1, 1, 1, 0, 1]\n",
      "[1, 1, 1, 0, 2]\n",
      "[1, 1, 1, 1, 0]\n",
      "[1, 1, 1, 1, 1]\n",
      "[1, 1, 1, 1, 2]\n",
      "[1, 1, 1, 2, 0]\n",
      "[1, 1, 1, 2, 1]\n",
      "[1, 1, 1, 2, 2]\n",
      "[1, 2, 0, 0, 0]\n",
      "[1, 2, 0, 0, 1]\n",
      "[1, 2, 0, 0, 2]\n",
      "[1, 2, 0, 1, 0]\n",
      "[1, 2, 0, 1, 1]\n",
      "[1, 2, 0, 1, 2]\n",
      "[1, 2, 0, 2, 0]\n",
      "[1, 2, 0, 2, 1]\n",
      "[1, 2, 0, 2, 2]\n",
      "[1, 2, 1, 0, 0]\n",
      "[1, 2, 1, 0, 1]\n",
      "[1, 2, 1, 0, 2]\n",
      "[1, 2, 1, 1, 0]\n",
      "[1, 2, 1, 1, 1]\n",
      "[1, 2, 1, 1, 2]\n",
      "[1, 2, 1, 2, 0]\n",
      "[1, 2, 1, 2, 1]\n",
      "[1, 2, 1, 2, 2]\n",
      "[2, 0, 0, 0, 0]\n",
      "[2, 0, 0, 0, 1]\n",
      "[2, 0, 0, 0, 2]\n",
      "[2, 0, 0, 1, 0]\n",
      "[2, 0, 0, 1, 1]\n",
      "[2, 0, 0, 1, 2]\n",
      "[2, 0, 0, 2, 0]\n",
      "[2, 0, 0, 2, 1]\n",
      "[2, 0, 0, 2, 2]\n",
      "[2, 0, 1, 0, 0]\n",
      "[2, 0, 1, 0, 1]\n",
      "[2, 0, 1, 0, 2]\n",
      "[2, 0, 1, 1, 0]\n",
      "[2, 0, 1, 1, 1]\n",
      "[2, 0, 1, 1, 2]\n",
      "[2, 0, 1, 2, 0]\n",
      "[2, 0, 1, 2, 1]\n",
      "[2, 0, 1, 2, 2]\n",
      "[2, 1, 0, 0, 0]\n",
      "[2, 1, 0, 0, 1]\n",
      "[2, 1, 0, 0, 2]\n",
      "[2, 1, 0, 1, 0]\n",
      "[2, 1, 0, 1, 1]\n",
      "[2, 1, 0, 1, 2]\n",
      "[2, 1, 0, 2, 0]\n",
      "[2, 1, 0, 2, 1]\n",
      "[2, 1, 0, 2, 2]\n",
      "[2, 1, 1, 0, 0]\n",
      "[2, 1, 1, 0, 1]\n",
      "[2, 1, 1, 0, 2]\n",
      "[2, 1, 1, 1, 0]\n",
      "[2, 1, 1, 1, 1]\n",
      "[2, 1, 1, 1, 2]\n",
      "[2, 1, 1, 2, 0]\n",
      "[2, 1, 1, 2, 1]\n",
      "[2, 1, 1, 2, 2]\n",
      "[2, 2, 0, 0, 0]\n",
      "[2, 2, 0, 0, 1]\n",
      "[2, 2, 0, 0, 2]\n",
      "[2, 2, 0, 1, 0]\n",
      "[2, 2, 0, 1, 1]\n",
      "[2, 2, 0, 1, 2]\n",
      "[2, 2, 0, 2, 0]\n",
      "[2, 2, 0, 2, 1]\n",
      "[2, 2, 0, 2, 2]\n",
      "[2, 2, 1, 0, 0]\n",
      "[2, 2, 1, 0, 1]\n",
      "[2, 2, 1, 0, 2]\n",
      "[2, 2, 1, 1, 0]\n",
      "[2, 2, 1, 1, 1]\n",
      "[2, 2, 1, 1, 2]\n",
      "[2, 2, 1, 2, 0]\n",
      "[2, 2, 1, 2, 1]\n",
      "[2, 2, 1, 2, 2]\n"
     ]
    }
   ],
   "source": [
    "def f(solution, i):\n",
    "    return [0,1,2] if i!=2 else [0,1]\n",
    "\n",
    "generate([None]*5, 0, lambda solution, i: [0,1,2] if i!=2 else [0,1])"
   ]
  },
  {
   "cell_type": "markdown",
   "id": "5359f929-f19d-4372-a577-fd3234e71883",
   "metadata": {
    "tags": []
   },
   "source": [
    "* All non-attacking positions of n queens on an n-by-n chessboard"
   ]
  },
  {
   "cell_type": "code",
   "execution_count": null,
   "id": "f2010ba6-d690-433f-b0d0-656025aaceb8",
   "metadata": {},
   "outputs": [],
   "source": []
  }
 ],
 "metadata": {
  "kernelspec": {
   "display_name": "Python 3 (ipykernel)",
   "language": "python",
   "name": "python3"
  },
  "language_info": {
   "codemirror_mode": {
    "name": "ipython",
    "version": 3
   },
   "file_extension": ".py",
   "mimetype": "text/x-python",
   "name": "python",
   "nbconvert_exporter": "python",
   "pygments_lexer": "ipython3",
   "version": "3.9.13"
  }
 },
 "nbformat": 4,
 "nbformat_minor": 5
}
