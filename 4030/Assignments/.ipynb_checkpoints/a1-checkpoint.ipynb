{
 "cells": [
  {
   "cell_type": "markdown",
   "id": "cc1e37c0-88f5-453a-927c-be6fcb71b927",
   "metadata": {},
   "source": [
    "# COMP 4030 / 6030 Assignment"
   ]
  },
  {
   "cell_type": "markdown",
   "id": "cbf0f533-09de-4962-a2c8-46af764d91d4",
   "metadata": {},
   "source": [
    "YOUR NAME: Matthew McMeans"
   ]
  },
  {
   "cell_type": "markdown",
   "id": "c9b697e5-4224-40c6-8449-81f98a33a258",
   "metadata": {},
   "source": [
    "**Deadline: Midnight 02/01/2023**"
   ]
  },
  {
   "cell_type": "markdown",
   "id": "bc16fdaa-da2a-4775-92d4-7f300cd999b6",
   "metadata": {},
   "source": [
    "---\n",
    "\n",
    "**Academic misconduct**\n",
    "\n",
    "If you use code that you did not write yourself, mention the source explicitly. If this is not done, you commit plagirism.  You can discuss, explain, get help from your classmate on how to solve a problem.  If the code or writing is not yours, it is plagiarism.   Plagiarism results in a grade of 0 for the assignment.  There might be an additional penalty and report to the department and college.\n",
    "\n",
    "Please review additional information about academic misconduct: https://www.memphis.edu/osa/students/academic-misconduct.php\n",
    "\n",
    "\n",
    "**How a coding problem is graded**\n",
    "\n",
    "This is a general guideline.  There might be some variant for a specific problem.\n",
    "\n",
    "* If the problem does not ask for an explanation of your code:\n",
    "    * Coding: 85%\n",
    "        + Code is correct: 85%\n",
    "        + Code is correct, but missing some minor elements: 25%-75%\n",
    "        + Incorrect solution, but make an effort: 10%-25%\n",
    "        + Empty: 0% \n",
    "    * Testing: 15%\n",
    "        + Providing adequate testing of code: 15%\n",
    "        + Code operational but does not show how the answer(s) were generated: 5%\n",
    "        + Code not runnable or no testing: 0%\n",
    "* If the problem asks specifically for an explanation of your code:\n",
    "    * Coding: 70%\n",
    "        + Code is correct: 70%\n",
    "        + Code is correct, but missing some minor elements: 25%-60%\n",
    "        + Incorrect solution, but make an effort: 10%-25%\n",
    "        + Empty: 0% \n",
    "    * Explanation of code: 15%\n",
    "        + Concise English explanation of your strategy/code: 15%\n",
    "        + No explanation: 0%\n",
    "    * Testing: 15%\n",
    "        + Providing adequate testing of code: 15%\n",
    "        + Code operational but does not show how the answer(s) were generated: 5%\n",
    "        + Code not runnable or no testing: 0%\n",
    "\n",
    "\n",
    "If a problem has multiple parts, then the points are equally divided.  For example, if a 10-point problem has 2 parts, then each part is given 5 points. And each part is graded based on the same criteria.\n",
    "\n",
    "\n",
    "**How to turn in your assignment**\n",
    "\n",
    "+ Export your notebook to an HTML file.\n",
    "+ Upload it to the appropriate folder in Assignments on Canvas."
   ]
  },
  {
   "cell_type": "markdown",
   "id": "8f171df1-9dde-421a-b3cc-c1628a2772c4",
   "metadata": {},
   "source": [
    "---\n",
    "\n",
    "**Each problem is worth 20 points.**\n"
   ]
  },
  {
   "cell_type": "markdown",
   "id": "0a9a097e-ec8b-43d1-a799-5244fc37c31d",
   "metadata": {},
   "source": [
    "---\n",
    "\n",
    "**Problem 1**\n",
    "\n",
    "Use the URL that we used in class in lecture notebook 4 (also shown below) to get the data for this problem.\n",
    "\n",
    "Compute the average horse power of cars for each origin.\n",
    "\n",
    "Explain in English the sequential steps you need to do to accomplish the task. Then implement your strategy in the Python function below.\n",
    "\n",
    "**Note**: \n",
    "* In class, we use the \"requests\" library to read the url and process the data. This processing involves stripping, splitting and converting.\n",
    "* In this exercise, we will use another library, \"pandas\", which is much better at reading well-formatted url. The code below retrieves the content from the url, and properly convert the information into \"data\", which is a list of items.  You can run this code to see what data is.\n",
    "* You should look at the url and inspect the header to see how to retrieve horse power, origin, etc.\n",
    "\n",
    "```\n",
    "import pandas\n",
    "url = 'https://raw.githubusercontent.com/mwaskom/seaborn-data/master/mpg.csv'\n",
    "data = pandas.read_csv(url).values\n",
    "```"
   ]
  },
  {
   "cell_type": "markdown",
   "id": "0249ea13-c5cd-4552-8e85-aaf31b49690d",
   "metadata": {},
   "source": [
    "ANSWER:"
   ]
  },
  {
   "cell_type": "markdown",
   "id": "9347bede-c2cd-4cf7-a31e-45850d1ae131",
   "metadata": {},
   "source": [
    "First get the data\n",
    "\n",
    "Next clean the data by removing any missing values\n",
    "\n",
    "Next create origin values to search for in the data\n",
    "\n",
    "Next iterate through the data and add any values to the specified origin\n",
    "\n",
    "Finally calculate the average horsepower for each origin and return them."
   ]
  },
  {
   "cell_type": "code",
   "execution_count": 386,
   "id": "50ff72ab-6318-4379-a612-ba6e7ceaa8bb",
   "metadata": {
    "tags": []
   },
   "outputs": [],
   "source": [
    "import pandas\n",
    "import math\n",
    "url = 'https://raw.githubusercontent.com/mwaskom/seaborn-data/master/mpg.csv'\n",
    "data = pandas.read_csv(url).values"
   ]
  },
  {
   "cell_type": "code",
   "execution_count": 387,
   "id": "44932151-1106-4658-bd02-fbf2eba3efe6",
   "metadata": {
    "tags": []
   },
   "outputs": [
    {
     "data": {
      "text/plain": [
       "array([[18.0, 8, 307.0, ..., 70, 'usa', 'chevrolet chevelle malibu'],\n",
       "       [15.0, 8, 350.0, ..., 70, 'usa', 'buick skylark 320'],\n",
       "       [18.0, 8, 318.0, ..., 70, 'usa', 'plymouth satellite'],\n",
       "       ...,\n",
       "       [32.0, 4, 135.0, ..., 82, 'usa', 'dodge rampage'],\n",
       "       [28.0, 4, 120.0, ..., 82, 'usa', 'ford ranger'],\n",
       "       [31.0, 4, 119.0, ..., 82, 'usa', 'chevy s-10']], dtype=object)"
      ]
     },
     "execution_count": 387,
     "metadata": {},
     "output_type": "execute_result"
    }
   ],
   "source": [
    "data"
   ]
  },
  {
   "cell_type": "code",
   "execution_count": 460,
   "id": "ed6b3442-c654-40d4-8a47-4b179486bdc3",
   "metadata": {
    "tags": []
   },
   "outputs": [],
   "source": [
    "# clean the data\n",
    "def clean_data(data):\n",
    "    # create empty list for clean data\n",
    "    new_data = []\n",
    "    #iterate through the data removing any empty data\n",
    "    for line in data:\n",
    "        if math.isnan(line[3]):\n",
    "            pass\n",
    "        else:\n",
    "            # add and return the new cleaned data\n",
    "            new_data.append(line)\n",
    "    return new_data\n",
    "\n",
    "# compute the average horsepower for each origin\n",
    "def average_hp(data):\n",
    "    # call clean_data function to clean data\n",
    "    data = clean_data(data)\n",
    "    # asign the first value in origin lists with 0\n",
    "    usa = [0]\n",
    "    japan = [0]\n",
    "    europe = [0]\n",
    "    # iterate through the data and add hp to each origin\n",
    "    for i in data:\n",
    "        if i[7] == 'usa':\n",
    "            usa.append(i[3])\n",
    "            usa[0] += 1\n",
    "        if i[7] == 'japan':\n",
    "            japan.append(i[3])\n",
    "            japan[0] += 1\n",
    "        if i[7] == 'europe':\n",
    "            europe.append(i[3])\n",
    "            europe[0] += 1\n",
    "    # compute the average hp of each origin\n",
    "    usa_average = sum(usa[1:]) / usa[0]\n",
    "    japan_average = sum(japan[1:]) / japan[0]\n",
    "    europe_average = sum(europe[1:]) / europe[0]\n",
    "    #return a formated string of the origin's average hp\n",
    "    return f'USA: {usa_average} Japan: {japan_average} Europe: {europe_average}'\n",
    "    "
   ]
  },
  {
   "cell_type": "code",
   "execution_count": 461,
   "id": "d2b90d9e-a741-43df-868f-61d2c4683f94",
   "metadata": {},
   "outputs": [
    {
     "data": {
      "text/plain": [
       "'USA: 119.04897959183674 Japan: 79.83544303797468 Europe: 80.55882352941177'"
      ]
     },
     "execution_count": 461,
     "metadata": {},
     "output_type": "execute_result"
    }
   ],
   "source": [
    "average_hp(data)"
   ]
  },
  {
   "cell_type": "markdown",
   "id": "8135e094-4cba-43e9-a393-0153c866a1ee",
   "metadata": {},
   "source": [
    "---\n",
    "\n",
    "**Problem 2**\n",
    "\n",
    "Given a list of integers L, a number A, and an integer k, find k consecutive numbers in L that add up to A.\n",
    "\n",
    "Explain or describe your solution in English.\n",
    "\n",
    "Examples:\n",
    "+ Input: L = [10,5,20,8], A = 25, k = 2.  Output: [5,20]\n",
    "+ Input: L = [10,5,20,8], A = 35, k = 3.  Output: [10,5,20]\n",
    "+ Input: L = [10,5,20,8], A = 35, k = 2.  Output: None\n"
   ]
  },
  {
   "cell_type": "markdown",
   "id": "faad1d23-ef0a-406b-b638-58cd399ac76f",
   "metadata": {},
   "source": [
    "ANSWER:"
   ]
  },
  {
   "cell_type": "markdown",
   "id": "aa334f7d-4d1c-417d-aa72-28d66be2835e",
   "metadata": {},
   "source": [
    "First provide appropriate parameters.\n",
    "\n",
    "Second create a new list to store consecutive numbers.\n",
    "\n",
    "Third iterate through the numbers and add them to the new list and summed value of the numbers in the new list.\n",
    "\n",
    "Fourth check if conditions have been satisfied.\n",
    "\n",
    "Finally return the new list or nothing if conditions not satisfied."
   ]
  },
  {
   "cell_type": "code",
   "execution_count": 415,
   "id": "e47f771b-d9e0-480c-98ba-575f5f2df38c",
   "metadata": {},
   "outputs": [],
   "source": [
    "def prob2(L, A, k):\n",
    "    # create new list\n",
    "    nums = []\n",
    "    # iterate through L, L times\n",
    "    for i in range(len(L)):\n",
    "        sum_num = 0\n",
    "        for j in range(i, len(L)):\n",
    "            # add up consecutive integers\n",
    "            # append consecutive integers to nums\n",
    "            sum_num += L[j]\n",
    "            nums.append(L[j])\n",
    "            # check if conditions are met and return consecutive numbers\n",
    "            if sum_num == A and len(nums) == k:\n",
    "                return nums\n",
    "            # if nothing checks, end the loop and move to next iteration\n",
    "            else:\n",
    "                pass\n",
    "        #reset the list of consecutive integers to nothing\n",
    "        nums = []\n",
    "    # returns nothing if conditions not met\n",
    "    return None\n",
    "        \n",
    "        "
   ]
  },
  {
   "cell_type": "code",
   "execution_count": 416,
   "id": "a89af524-4ca2-4039-9a16-129ec245802d",
   "metadata": {},
   "outputs": [
    {
     "data": {
      "text/plain": [
       "[5, 20]"
      ]
     },
     "execution_count": 416,
     "metadata": {},
     "output_type": "execute_result"
    }
   ],
   "source": [
    "prob2([10,5,20,8], 25, 2)"
   ]
  },
  {
   "cell_type": "code",
   "execution_count": 417,
   "id": "630e3dab-4bf7-40dc-8e8e-25dd519c2c9b",
   "metadata": {},
   "outputs": [
    {
     "data": {
      "text/plain": [
       "[10, 5, 20]"
      ]
     },
     "execution_count": 417,
     "metadata": {},
     "output_type": "execute_result"
    }
   ],
   "source": [
    "prob2([10,5,20,8], 35, 3)"
   ]
  },
  {
   "cell_type": "code",
   "execution_count": 419,
   "id": "2977e6ad-810f-4d16-bf2a-4e6fee575e80",
   "metadata": {},
   "outputs": [],
   "source": [
    "prob2([10,5,20,8], 35, 2)"
   ]
  },
  {
   "cell_type": "markdown",
   "id": "47e63cd3-1639-48d1-a1ad-772da6e3dcbc",
   "metadata": {},
   "source": [
    "---\n",
    "\n",
    "**Problem 3**\n",
    "\n",
    "Write down the running time equation, T(n), of the program **prob3** below.\n",
    "\n",
    "Find an upper bound of T(n), using the Big-O notation to describe the upper bound.\n",
    "\n",
    "Find a lower bound of T(n), using the Omega notation to describe the upper bound.\n",
    "\n",
    "\n",
    "```\n",
    "#\n",
    "# Input: a list L that has n numbers.\n",
    "#\n",
    "def prob3(L):                     # T(n)\n",
    "    s = 0                         # a1 steps\n",
    "    for x in L:                   # n iterations\n",
    "        for i in range(len(L)):       # n iterations\n",
    "            s = x * L[i]                  # b steps\n",
    "    for x in L:                   # n iterations\n",
    "        s += x                        # c steps\n",
    "    return s                      # a2 steps\n",
    "```"
   ]
  },
  {
   "cell_type": "markdown",
   "id": "786dfb20-d286-41e9-a0d3-a6b4feb88c86",
   "metadata": {},
   "source": [
    "ANSWER:"
   ]
  },
  {
   "cell_type": "markdown",
   "id": "f06a951f-b489-4b5a-be1d-1b642fb979d8",
   "metadata": {},
   "source": [
    "Running time = $T(n) = a + bn^2 + cn$"
   ]
  },
  {
   "cell_type": "markdown",
   "id": "ba6f0fbf-699b-4f0c-8c23-475ccc695699",
   "metadata": {
    "jp-MarkdownHeadingCollapsed": true,
    "tags": []
   },
   "source": [
    "#### Upper bound Big-O:\n",
    "\n",
    "$T(n) ≤ a + bn^2 + cn$\n",
    "\n",
    "$a + bn^2 + cn \\in O(n^2)$\n",
    "\n",
    "$a + bn^2 + cn ≤ an^2 + bn^2 + cn^2$ for all values of n ≥ 1\n",
    "\n",
    "$an^2 + bn^2 + cn^2 = (a + b + c)n^2$\n",
    "\n",
    "$(a + b + c)n^2 \\in O(n^2)$"
   ]
  },
  {
   "cell_type": "markdown",
   "id": "b432a3ca-dbd6-4964-b423-e92dce321cdf",
   "metadata": {
    "tags": []
   },
   "source": [
    "#### Lower bound Omega:\n",
    "\n",
    "$T(n) = a + bn^2 + cn$\n",
    "\n",
    "let d = 1\n",
    " \n",
    "$a + bn^2 + cn ≥ d * n^2$ for all values of n ≥ 1\n",
    "\n",
    "Therefore, $a + bn^2 + cn \\in \\Omega(n^2)$\n",
    "\n"
   ]
  },
  {
   "cell_type": "markdown",
   "id": "99e48977-0fe5-4ae1-b282-144173fef8bb",
   "metadata": {},
   "source": [
    "---\n",
    "\n",
    "**Problem 4**\n",
    "\n",
    "Use the definition of Big-O to explain why this is true:  $5n^3 + 10 \\in O(n^4)$.\n",
    "\n",
    "Use your intuitive understanding of upper bounds to explain why \"$5n^3 + 10 \\in O(n^4)$\" is true."
   ]
  },
  {
   "cell_type": "markdown",
   "id": "65f4fac3-ea0c-4139-a7b3-76b1d9a6046d",
   "metadata": {},
   "source": [
    "ANSWER:"
   ]
  },
  {
   "cell_type": "markdown",
   "id": "4e1aa634-6887-4377-9d87-55f6960a9d1f",
   "metadata": {},
   "source": [
    "Big-O: There is a number c such that $T(n) ≤ c * f(n)$ for large values of n.\n",
    "\n",
    "$5n^3 + 10 \\in O(n^4)$\n",
    "\n",
    "$5n^3 + 10 ≤ 5n^4 + 10n^4 = 15n^4$ for all n > 1\n",
    "\n",
    "With the choice of c=15, $5n^3 + 10 \\le c*n^4$.  In other words, $5n^3 + 10 \\in O(n^4)$"
   ]
  },
  {
   "cell_type": "markdown",
   "id": "ba2d1d52-a6f8-402f-982a-6c143cd1ca33",
   "metadata": {},
   "source": [
    "---\n",
    "\n",
    "**Problem 5**\n",
    "\n",
    "The code below retrieves the data from the url.  You should look at the url and inspect the header to see how to retrieve horse power, origin, etc.\n",
    "\n",
    "Your task is to select all cars from origin \"usa\" with horsepower less than the average horse power.\n",
    "\n",
    "Implement the following strategy in Python:\n",
    "* Define a function that finds the average horse power of all cars.  Use it to find the average horse power.\n",
    "* Define the following **recursive** function/strategy prob5.  \n",
    "    * prob5 is supposed to \"selects all cars from origin usa with horse power less than average\". \n",
    "    * prob5 has 3 inputs: data, average horse power, and selected_data.\n",
    "    * After prob5 is called, selected_data has all cars from usa with horse power less than average.\n",
    "* prob5 is defined **recursively** as follows:\n",
    "    + If data is empty, there's nothing to select.\n",
    "    + Otherwise, if the first item in the data satisfies the condition, append it to \"selected_data\".\n",
    "    + Use the same strategy/function prob5 to select data from the remaining data.\n",
    "    "
   ]
  },
  {
   "cell_type": "code",
   "execution_count": 475,
   "id": "f0ac656f-fefe-4558-ab57-e3de82286dbd",
   "metadata": {},
   "outputs": [],
   "source": [
    "import pandas\n",
    "import math\n",
    "url = 'https://raw.githubusercontent.com/mwaskom/seaborn-data/master/mpg.csv'\n",
    "data = pandas.read_csv(url).values"
   ]
  },
  {
   "cell_type": "code",
   "execution_count": 538,
   "id": "71086606-220e-418a-8222-f407e5009298",
   "metadata": {},
   "outputs": [],
   "source": [
    "# compute average hp of data\n",
    "def average_horse_power(data):\n",
    "    total_hp = 0\n",
    "    # iterate through the data and add to total hp\n",
    "    for line in clean_data(data):\n",
    "        total_hp += line[3]\n",
    "    # return the average hp for the entire data\n",
    "    return (total_hp / len(clean_data(data)))\n",
    "#\n",
    "# Note: after prob5 is called the list selected_data has all cars with horse power less than average.\n",
    "#\n",
    "def prob5(data, average_horse_power, selected_data):\n",
    "    if data == []:\n",
    "        return\n",
    "    else:\n",
    "        for i in data:\n",
    "            if i[7] == 'usa':\n",
    "                if i[3] < average_horse_power and i[8] not in selected_data:\n",
    "                    selected_data.append(i[8])\n",
    "                    return prob5(data[1:], average_horse_power, selected_data)\n",
    "                else:\n",
    "                    pass\n",
    "    print(selected_data)\n",
    "    "
   ]
  },
  {
   "cell_type": "code",
   "execution_count": 539,
   "id": "b49191c0-99bf-4f5d-a954-19572464d75f",
   "metadata": {},
   "outputs": [
    {
     "name": "stdout",
     "output_type": "stream",
     "text": [
      "['plymouth duster', 'amc hornet', 'ford maverick', 'amc gremlin', 'chevrolet vega 2300', 'chevrolet chevelle malibu', 'ford torino 500', 'amc matador', 'chevrolet vega (sw)', 'pontiac firebird', 'ford mustang', 'mercury capri 2000', 'plymouth cricket', 'dodge colt hardtop', 'chevrolet vega', 'ford pinto runabout', 'ford pinto (sw)', 'dodge colt (sw)', 'chevrolet nova custom', 'ford pinto', 'chevrolet nova', 'chevrolet chevelle malibu classic', 'dodge colt', 'plymouth valiant custom', 'mercury monarch', 'plymouth fury', 'pontiac astro', 'amc pacer', 'capri ii', 'plymouth valiant', 'chevrolet chevette', 'chevrolet woody', 'dodge aspen se', 'ford granada ghia', 'amc pacer d/l', 'buick opel isuzu deluxe', 'plymouth arrow gs', 'plymouth volare custom', 'ford granada', 'pontiac sunbird coupe', 'ford mustang ii 2+2', 'dodge colt m/m', 'ford fiesta', 'chevrolet malibu', 'ford fairmont (auto)', 'ford fairmont (man)', 'plymouth volare', 'amc concord', 'mercury zephyr', 'dodge omni', 'oldsmobile starfire sx', 'mercury zephyr 6', 'ford fairmont 4', 'amc concord dl 6', 'dodge colt hatchback custom', 'amc spirit dl', 'oldsmobile cutlass salon brougham', 'plymouth horizon', 'plymouth horizon tc3', 'buick skylark limited', 'pontiac phoenix', 'chevrolet citation', 'ford fairmont', 'dodge aspen', 'plymouth reliant', 'buick skylark', 'dodge aries wagon (sw)', 'plymouth champ', 'plymouth horizon 4', 'ford escort 4w', 'ford escort 2h', 'ford granada gl', 'chrysler lebaron salon', 'chevrolet cavalier', 'chevrolet cavalier wagon', 'chevrolet cavalier 2-door', 'pontiac j2000 se hatchback', 'dodge aries se', 'ford fairmont futura', 'plymouth horizon miser', 'mercury lynx l', 'oldsmobile cutlass ciera (diesel)', 'chrysler lebaron medallion', 'dodge charger 2.2', 'chevrolet camaro', 'ford mustang gl', 'dodge rampage', 'ford ranger', 'chevy s-10']\n"
     ]
    }
   ],
   "source": [
    "prob5(clean_data(data), average_horse_power(data), [])"
   ]
  }
 ],
 "metadata": {
  "kernelspec": {
   "display_name": "Python 3 (ipykernel)",
   "language": "python",
   "name": "python3"
  },
  "language_info": {
   "codemirror_mode": {
    "name": "ipython",
    "version": 3
   },
   "file_extension": ".py",
   "mimetype": "text/x-python",
   "name": "python",
   "nbconvert_exporter": "python",
   "pygments_lexer": "ipython3",
   "version": "3.9.13"
  },
  "toc-autonumbering": false
 },
 "nbformat": 4,
 "nbformat_minor": 5
}
