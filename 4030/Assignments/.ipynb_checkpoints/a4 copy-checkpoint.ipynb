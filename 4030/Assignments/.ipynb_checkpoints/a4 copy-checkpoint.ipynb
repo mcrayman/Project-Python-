{
 "cells": [
  {
   "cell_type": "markdown",
   "id": "cc1e37c0-88f5-453a-927c-be6fcb71b927",
   "metadata": {},
   "source": [
    "# COMP 4030 / 6030 Assignment 4\n",
    "\n",
    "**Due: Wednesday, 3/22/2023, before midnight.**"
   ]
  },
  {
   "cell_type": "markdown",
   "id": "f59240fb-29cc-4375-87b8-c5581dc0c6d8",
   "metadata": {},
   "source": [
    "YOUR NAME:"
   ]
  },
  {
   "cell_type": "markdown",
   "id": "30d382f4-5df8-4528-a55d-a519fe7416c7",
   "metadata": {},
   "source": [
    "---\n",
    "\n",
    "**Each problem is worth 10 points**\n"
   ]
  },
  {
   "cell_type": "markdown",
   "id": "e1eb6ebc-7d47-4fba-8c8e-ec6db3e2c91a",
   "metadata": {},
   "source": [
    "---\n",
    "\n",
    "**Problem 1**\n",
    "\n",
    "Find the upper bound and lower bound constants for this function $T(n) = 5n^7 + n + 2n^2 $ to show that it is in $\\Theta(n^7)$.\n"
   ]
  },
  {
   "cell_type": "markdown",
   "id": "de6d96b5-0377-4f0a-811e-58a103904d48",
   "metadata": {},
   "source": [
    "---\n",
    "\n",
    "**Problem 2**\n",
    "\n",
    "To apply the Master's Theorem, the running time function is best expressed in this form $T(n) = \\Theta(n^d) + a \\cdot T({n \\over b})$.\n",
    "\n",
    "Rewrite this function $T(n) = 10n^2 + 5n + 1 + 3 \\cdot T({n \\over 4}) $ in the form above.\n",
    "\n"
   ]
  },
  {
   "cell_type": "markdown",
   "id": "88b500bf-6738-41d6-a738-7e06938cb682",
   "metadata": {},
   "source": [
    "---\n",
    "\n",
    "**Problem 3**\n",
    "\n",
    "Suppose that the running time function of some recursive program is $T(n) = n^5 + 4 \\cdot T({n \\over 3})$\n",
    "\n",
    "How many recursive calls are there in this program?\n",
    "\n",
    "What is the input size of each recursive call?"
   ]
  },
  {
   "cell_type": "markdown",
   "id": "19c8671c-08c9-4eff-9191-649f2450ce63",
   "metadata": {},
   "source": [
    "---\n",
    "\n",
    "**Problem 4**\n",
    "\n",
    "Use the Master's theorem to find the complexity of this running time function: $T(n) = n^2 + 4 \\cdot T({n \\over 2})$"
   ]
  },
  {
   "cell_type": "markdown",
   "id": "8aa79191-9284-4287-857a-cd63dad172ab",
   "metadata": {},
   "source": [
    "---\n",
    "\n",
    "**Problem 5**\n",
    "\n",
    "Use the Master's theorem to find the complexity of this running time function: $T(n) = n^2 + 6 \\cdot T({n \\over 2})$."
   ]
  },
  {
   "cell_type": "markdown",
   "id": "97441d2d-0331-490a-936a-0e232ddd8a30",
   "metadata": {},
   "source": [
    "---\n",
    "\n",
    "**Problem 6**\n",
    "\n",
    "Use the Master's theorem to find the complexity of this running time function: $T(n) = n^3 + 4 \\cdot T({n \\over 2})$."
   ]
  },
  {
   "cell_type": "markdown",
   "id": "d4563919-32fe-4f5f-94fc-a5c5107faa8b",
   "metadata": {},
   "source": [
    "---\n",
    "\n",
    "**Problem 7**\n",
    "\n",
    "Compare the running time complexities of these 3 programs (prob7a, prob7b, and prob7c).  \n",
    "\n",
    "Additional information needed to determine the running time functions of these programs:\n",
    "* foo takes linear time. If L has $n$ numbers, foo's running time is $c*n$"
   ]
  },
  {
   "cell_type": "code",
   "execution_count": 3,
   "id": "f64b8acf-6668-4096-bf2d-a85d46362497",
   "metadata": {},
   "outputs": [],
   "source": [
    "#\n",
    "# Input: L is a list of numbers\n",
    "#\n",
    "def prob7a(L):\n",
    "    if len(L)<=1:\n",
    "        return 1\n",
    "    total = 0\n",
    "    for x in L:\n",
    "        total += foo(x, L)\n",
    "    left = L[0 : len(L)//2]\n",
    "    right = L[len(L)//2 : len(L)]\n",
    "    return prob7a(left) + prob7a(right) + total\n",
    "\n",
    "#\n",
    "# Input: L is a list of numbers\n",
    "#\n",
    "def prob7b(L):\n",
    "    if len(L)<=1:\n",
    "        return 1\n",
    "    total = 0\n",
    "    for x in L:\n",
    "        total += x*x + 1\n",
    "    left = L[0 : len(L)//2]\n",
    "    right = L[len(L)//2 : len(L)]\n",
    "    return prob7b(left) + prob7b(right) + prob7b(left) + total\n",
    "\n",
    "#\n",
    "# Input: L is a list of numbers\n",
    "#\n",
    "def prob7c(L):\n",
    "    if len(L)<=1:\n",
    "        return 1\n",
    "    total = 0\n",
    "    for x in L:\n",
    "        total += x*x + 1\n",
    "    left = L[0 : len(L)//2]\n",
    "    right = L[len(L)//2 : len(L)]\n",
    "    A = prob7c(left)\n",
    "    return A + prob7c(right) + A + total\n",
    "\n"
   ]
  },
  {
   "cell_type": "markdown",
   "id": "ef65a1cd-d708-470a-8a10-d4f23255bd3d",
   "metadata": {},
   "source": [
    "---\n",
    "**Problem 8**\n",
    "\n",
    "To determine how much \"space\" (i.e. memory or RAM) a program requires, we need to figure out where memory is created.\n",
    "\n",
    "Memory can be created statically (i.e. variable declarations) or dynamically (i.e. when each statement is executed).\n",
    "\n",
    "In the program prob8 below, for each line of code from 5 to 12, specify if memory is created statically, dynamically, or not at all.\n",
    "\n"
   ]
  },
  {
   "cell_type": "code",
   "execution_count": null,
   "id": "49a5f498-b80d-4c10-b906-b8d5fb8ff93c",
   "metadata": {},
   "outputs": [],
   "source": [
    "#\n",
    "# Input: L is a list of numbers\n",
    "#\n",
    "def prob8(L):\n",
    "    if len(L)<=1:\n",
    "        return 1\n",
    "    total = 0\n",
    "    for x in L:\n",
    "        total += x*x\n",
    "    left = L[0 : len(L)//2]\n",
    "    right = L[len(L)//2 : len(L)]\n",
    "    return prob8(left) + prob8(right) + total\n"
   ]
  },
  {
   "cell_type": "markdown",
   "id": "3826b0d8-9de7-4ab0-ba40-2d733beb6c57",
   "metadata": {},
   "source": [
    "---\n",
    "\n",
    "**Problem 9**\n",
    "\n",
    "Find the space function/equation, $S(n)$, of prob8 (defined in the previous problem).\n",
    "\n",
    "Note that $S(n)$ is the space (memory/RAM) allocated to prob8, when its input (i.e. L) has $n$ numbers.  (Conceptually, if the input size is 10, the amount of space required is S(10)).\n",
    "\n",
    "Note that slicing $k$ things from a list (e.g. lines 10 and 11 below) takes $k$ steps because Python creates a new list, then copies these things into a new list, and returns it.  For example, in line 10, Python will copy all items from 0 to len(L)//2, put them in a new list and then returns it (save it into \"left\")."
   ]
  },
  {
   "cell_type": "markdown",
   "id": "600b9a99-1e35-4471-9dc0-3966df500114",
   "metadata": {},
   "source": [
    "---\n",
    "**Problem 10**\n",
    "\n",
    "To estimate the space complexity of program, we can use the same tools and techniques that we have used to estimate running time complexity.\n",
    "\n",
    "Use the Master's theorem to find the space complexity of the space equation in the previous problem."
   ]
  }
 ],
 "metadata": {
  "kernelspec": {
   "display_name": "Python 3 (ipykernel)",
   "language": "python",
   "name": "python3"
  },
  "language_info": {
   "codemirror_mode": {
    "name": "ipython",
    "version": 3
   },
   "file_extension": ".py",
   "mimetype": "text/x-python",
   "name": "python",
   "nbconvert_exporter": "python",
   "pygments_lexer": "ipython3",
   "version": "3.9.12"
  }
 },
 "nbformat": 4,
 "nbformat_minor": 5
}
