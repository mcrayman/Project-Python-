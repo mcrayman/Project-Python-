{
 "cells": [
  {
   "cell_type": "markdown",
   "id": "cc1e37c0-88f5-453a-927c-be6fcb71b927",
   "metadata": {},
   "source": [
    "# COMP 4030 / 6030 Assignment 7\n",
    "\n",
    "**Due: Monday, 4/26/2023, before midnight.**"
   ]
  },
  {
   "cell_type": "markdown",
   "id": "f59240fb-29cc-4375-87b8-c5581dc0c6d8",
   "metadata": {},
   "source": [
    "YOUR NAME:"
   ]
  },
  {
   "cell_type": "markdown",
   "id": "39cc4add-2354-4451-b97a-77b8199a6fbf",
   "metadata": {},
   "source": [
    "\n"
   ]
  },
  {
   "cell_type": "code",
   "execution_count": 11,
   "id": "2e586f57-e97a-476a-8e3e-6c582415393d",
   "metadata": {},
   "outputs": [
    {
     "data": {
      "image/png": "[encoded data removed]",
      "text/plain": [
       "<Figure size 640x480 with 1 Axes>"
      ]
     },
     "metadata": {},
     "output_type": "display_data"
    }
   ],
   "source": [
    "import networkx as nx\n",
    "G = nx.gnp_random_graph(10, 0.35, seed=2023)\n",
    "nx.draw_networkx(G, with_labels=True)"
   ]
  },
  {
   "cell_type": "markdown",
   "id": "699ec623-8943-4c0d-9d08-daee30297e35",
   "metadata": {},
   "source": [
    "A network of stations and roads, which connect stations together in some way, can be represented as a graph with nodes and edges.\n",
    "\n",
    "Run the code below, you see a network with 10 stations and 13 roads.\n",
    "```\n",
    "import networkx as nx\n",
    "G = nx.gnp_random_graph(10, 0.35, seed=2023)\n",
    "nx.draw_networkx(G, with_labels=True)\n",
    "```"
   ]
  },
  {
   "cell_type": "markdown",
   "id": "ca0c14e4-9809-4407-8c18-130dfe5998a3",
   "metadata": {},
   "source": [
    "---\n",
    "\n",
    "Each question is worth 30 points.  There're a total of 20 bonus points."
   ]
  },
  {
   "cell_type": "markdown",
   "id": "628d487e-0683-4ec6-b61d-c0e18f6ee9a1",
   "metadata": {},
   "source": [
    "---\n",
    "\n",
    "**Problem 1**\n",
    "\n",
    "We are given a network of stations (nodes) and roads (edges), write a program that determines if a set of cameras placed at the stations can watch over all roads in a network. \n",
    "\n",
    "If a camera is placed at station (node) 0, then all the roads (edges) connected to 0 can be watched (presumably by a security guard).\n",
    "\n",
    "In the example above, if a camera is placed at node 0, then all of these 5 roads connected to it will be watched: (0,4), (0,6), (0,7), (0,8), (0,9).\n",
    "\n",
    "This program has inputs: a **network**, a list of **camera_placement**, which specify which stations have cameras.  For example, this list of camera_placement: [True, True, False, False, False, False, False, False, False, True] means that stations 0, 1, and 9 have cameras.\n",
    "\n",
    "The program returns True if all roads in the network are watched, and False otherwise."
   ]
  },
  {
   "cell_type": "code",
   "execution_count": 16,
   "id": "eaf39d53-e349-42a1-8594-a9bd78e35d5a",
   "metadata": {},
   "outputs": [],
   "source": [
    "#\n",
    "# Input: network\n",
    "#        camera_placement -- a list of booleans indicating which stations have cameras.\n",
    "# Output: True - if all roads in the network are watched.\n",
    "#         False - if some road is not watched by any camera.\n",
    "#\n",
    "#\n",
    "def is_watched(network, camera_placement):\n",
    "    pass\n"
   ]
  },
  {
   "cell_type": "markdown",
   "id": "e7ff81d4-2a55-4acf-a421-d8b3368c807b",
   "metadata": {},
   "source": [
    "---\n",
    "\n",
    "**Problem 2**\n",
    "\n",
    "Use backtracking to find all camera placements, each of which can watch all roads of a network.\n",
    "\n"
   ]
  },
  {
   "cell_type": "code",
   "execution_count": 15,
   "id": "dbc0e5cd-b023-4c16-99bd-bb6106e19d83",
   "metadata": {},
   "outputs": [],
   "source": [
    "def get_nodes(solution):\n",
    "    return [i for i in range(len(solution)) if solution[i]]\n",
    "\n",
    "def generate(solution, i, possibilities, g):\n",
    "    if i==len(solution):\n",
    "        if is_triangle(solution, g):\n",
    "            print(get_nodes(solution))\n",
    "    else:\n",
    "        for possibility in possibilities(solution, i, g):\n",
    "            solution[i] = possibility\n",
    "            generate(solution, i+1, possibilities, g)"
   ]
  },
  {
   "cell_type": "markdown",
   "id": "805a0f83-759e-46aa-8292-74de12f88e23",
   "metadata": {},
   "source": [
    "---\n",
    "\n",
    "**Problem 3**\n",
    "\n",
    "Suppose we want to impose the following condition: placing a camera at the station(s) that is/are connected to the most number of roads.  For example, in the network above, node 0 is connected to the most number of roads (5 of them).  We want a camera to be placed at this node/station.\n",
    "\n",
    "Again, use backtracking to list all camera placements, each of which watches all roads, but with the additional requirement of having cameras at the most-connected node(s).\n",
    "\n",
    "Hints:\n",
    "+ Find out which nodes are most connected.\n",
    "+ Modify \"possibilities\" to take into account this requirement.  It might need one extra parameter.\n",
    "+ Use the same backtracking algorithm."
   ]
  },
  {
   "cell_type": "markdown",
   "id": "35cb805b-f673-4243-90e1-994afa977515",
   "metadata": {},
   "source": [
    "---\n",
    "\n",
    "**Problem 4**\n",
    "\n",
    "Use backtracking to find a camera placements with the fewest number of cameras that can watch all roads of a network.\n",
    "\n",
    "Hints:\n",
    "+ Modify your backtracking program to carry along an \"optimal placement\" (one that keeps track of valid placements) and update it along the way.\n",
    "+ When you update the optimal placement, make sure you duplicate the solution.  You don't want to point the optimal placement variable to the solution. You want to duplicate it.\n"
   ]
  },
  {
   "cell_type": "code",
   "execution_count": null,
   "id": "ae178e6d-1862-4896-b279-4cf367bdab75",
   "metadata": {},
   "outputs": [],
   "source": []
  }
 ],
 "metadata": {
  "kernelspec": {
   "display_name": "Python 3 (ipykernel)",
   "language": "python",
   "name": "python3"
  },
  "language_info": {
   "codemirror_mode": {
    "name": "ipython",
    "version": 3
   },
   "file_extension": ".py",
   "mimetype": "text/x-python",
   "name": "python",
   "nbconvert_exporter": "python",
   "pygments_lexer": "ipython3",
   "version": "3.9.7"
  }
 },
 "nbformat": 4,
 "nbformat_minor": 5
}
