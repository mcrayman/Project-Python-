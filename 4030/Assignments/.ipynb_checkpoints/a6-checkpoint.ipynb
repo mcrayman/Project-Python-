{
 "cells": [
  {
   "cell_type": "markdown",
   "id": "cc1e37c0-88f5-453a-927c-be6fcb71b927",
   "metadata": {},
   "source": [
    "# COMP 4030 / 6030 Assignment 6\n",
    "\n",
    "**Due: Monday, 4/17/2023, before midnight.**"
   ]
  },
  {
   "cell_type": "markdown",
   "id": "f59240fb-29cc-4375-87b8-c5581dc0c6d8",
   "metadata": {},
   "source": [
    "YOUR NAME: Matthew McMeans"
   ]
  },
  {
   "cell_type": "markdown",
   "id": "30d382f4-5df8-4528-a55d-a519fe7416c7",
   "metadata": {},
   "source": [
    "---\n",
    "\n",
    "**Each problem is worth 25 points**\n"
   ]
  },
  {
   "cell_type": "markdown",
   "id": "30e37c45-f2dc-432c-acfb-0601e5836918",
   "metadata": {},
   "source": [
    "---\n",
    "\n",
    "**Problem 1**\n",
    "\n",
    "\n",
    "Given a 2D grid, design and implement the program **count_paths(m,n)** that returns the number of ways a robot can move from position (m,n), which is the top right corner on the grid, to position (1,1), which is the bottom left corner of the grid.\n",
    "\n",
    "The constraint is the robot can only move left and down; from position (5,4) for example, it can only move left to (4,4) or move down to (5,3).\n",
    "\n",
    "As an example, **count_paths(2,2)** should return 2 because there are only two ways to move from position (2,2) to position (1,1).\n",
    "\n",
    "In this problem, you have an opportunity to apply the technique we've learned:\n",
    "\n",
    "+ Consider first move to be made.\n",
    "+ Analyze the possibilities.\n",
    "+ Each possibility should reduce the problem to a subproblem (which is the same problem but is smaller in input size).\n",
    "+ Use the same method/strategy to solve the subproblem.\n",
    "+ Make sure all special cases (when you can't reduce to a subproblem) are taken care of.\n",
    "\n",
    "In this figure below, we start from (7,3), and try to get to (1,1).\n",
    "<img src=\"https://i.imgur.com/75jsBWm.png\">"
   ]
  },
  {
   "cell_type": "code",
   "execution_count": 419,
   "id": "0be1ccc9-924d-4264-9cb2-e3469542d594",
   "metadata": {},
   "outputs": [],
   "source": [
    "#\n",
    "# Output: the number of ways to move from (m,n) to (1,1)\n",
    "#\n",
    "def count_paths(m, n):\n",
    "    if m == 1 or n == 1:\n",
    "        return 1\n",
    "    else:\n",
    "        return count_paths(m - 1, n) + count_paths(m, n-1)\n",
    "        "
   ]
  },
  {
   "cell_type": "code",
   "execution_count": 425,
   "id": "e960554a-fbcf-494a-aad7-580ac41944e7",
   "metadata": {
    "tags": []
   },
   "outputs": [
    {
     "data": {
      "text/plain": [
       "28"
      ]
     },
     "execution_count": 425,
     "metadata": {},
     "output_type": "execute_result"
    }
   ],
   "source": [
    "count_paths(7, 3)"
   ]
  },
  {
   "cell_type": "markdown",
   "id": "39c7c52c-9097-46f2-bb26-850ffa724e34",
   "metadata": {},
   "source": [
    "---\n",
    "\n",
    "**Problem 2**\n",
    "\n",
    "In this version, **count_paths** has an extra input called **obstacles**, which is a list of coordinates of obstacles.  The robot cannot move through an obstacle.\n",
    "\n",
    "Examples:\n",
    "\n",
    "+ **count_paths(2, 2, [(2,1)])** returns 1.  There's only 1 path from (2,2) to (1,1); the robot cannot move through (2,1).\n",
    "\n",
    "+ **count_paths(2, 2, [(2,1), (1,2)])** returns 0.  There's no path from (2,2) to (1,1), with the obstacles at (2,1) and (1,2).\n",
    "\n",
    "As visual example, the figure below shows the robot starting from (7,3), trying to get to (1,1) while avoiding two obstacles at (3,2) and (5,1).  \n",
    "\n",
    "The call **count_paths(7, 3, [(3,2), (5,1)])** should return the number of paths from (7,3) to (1,1) given the coordinates of the two obstacles.\n",
    "\n",
    "\n",
    "<img src=\"https://i.imgur.com/xNoHWaf.png\">"
   ]
  },
  {
   "cell_type": "code",
   "execution_count": 430,
   "id": "9a5b2eda-479e-4087-88ae-dd3799928e94",
   "metadata": {},
   "outputs": [],
   "source": [
    "#\n",
    "# Output: the number of ways to move from (m,n) to (1,1)\n",
    "#         without going through the obstacles\n",
    "#\n",
    "def count_paths(m, n, obstacles):\n",
    "    if (m, n) in obstacles:\n",
    "        return 0\n",
    "    if m == 1 and n == 1:\n",
    "        return 1\n",
    "    if n == 1:\n",
    "        return count_paths(m - 1, n, obstacles)\n",
    "    if m == 1:\n",
    "        return count_paths(m, n - 1, obstacles)\n",
    "    else:\n",
    "        return count_paths(m - 1, n, obstacles) + count_paths(m, n - 1, obstacles)"
   ]
  },
  {
   "cell_type": "code",
   "execution_count": 429,
   "id": "58b4f807-7338-4778-820d-733ee2260f12",
   "metadata": {},
   "outputs": [
    {
     "data": {
      "text/plain": [
       "7"
      ]
     },
     "execution_count": 429,
     "metadata": {},
     "output_type": "execute_result"
    }
   ],
   "source": [
    "count_paths(7,3, [(3,2), (5,1)])"
   ]
  },
  {
   "cell_type": "markdown",
   "id": "4820f696-1646-49f1-920b-537410c3a036",
   "metadata": {},
   "source": [
    "---\n",
    "\n",
    "**Problem 3**\n",
    "\n",
    "We discussed in Notebook 14, the \"boolean making change\" problem, which is to determine out if it's possible to make change for X dollars using certain coin values.\n",
    "\n",
    "Examples:\n",
    "+ Input: values = [5, 7], X=19.  Output: True.  (Reason: 19 = 5 + 7 + 7)\n",
    "+ Input: values = [5, 7], X=13.  Output: False.\n",
    "\n",
    "The Python implementation of this problem is as follows:\n",
    "```\n",
    "def make_change(values, X):\n",
    "    if X==0:\n",
    "        return True\n",
    "    if X<0:\n",
    "        return False\n",
    "    for v in values:\n",
    "        a = make_change(values, X-v)\n",
    "        if a==True:\n",
    "            return True\n",
    "    return False\n",
    "```"
   ]
  },
  {
   "cell_type": "markdown",
   "id": "e8576424-8bce-48c0-8d68-1bf3ddc435e8",
   "metadata": {},
   "source": [
    "In this problem, you will need to solve a problem that is similar to the original \"boolean\" change making problem.\n",
    "\n",
    "**Here, we need to determine the actual solution.**\n",
    "\n",
    "Examples:\n",
    "+ Input: values = [5, 7], X=19.  Output: [5,7,7]\n",
    "+ Input: values = [5, 7], X=13.  Output: None.\n",
    "\n",
    "**Solve this problem **recursively** by modifying the original implementation above.**"
   ]
  },
  {
   "cell_type": "code",
   "execution_count": 278,
   "id": "14b0a3f8-4491-4672-aaa4-f0a7861e986e",
   "metadata": {},
   "outputs": [],
   "source": [
    "#\n",
    "# Output: \n",
    "#  a list of changes, if it's possible to make change for M, or\n",
    "#  None if it's not possible to make change for M.\n",
    "#\n",
    "def make_change_with_solution(values, M, change = []):\n",
    "    if M == 0:\n",
    "        return change\n",
    "    if M < 0:\n",
    "        return False\n",
    "    for v in values:\n",
    "        a = make_change_with_solution(values, M - v, change + [v])\n",
    "        if a:\n",
    "            return a\n",
    "    return None"
   ]
  },
  {
   "cell_type": "code",
   "execution_count": 279,
   "id": "83e3ddeb-1edf-4cb3-a470-172b4ca3aab4",
   "metadata": {},
   "outputs": [
    {
     "data": {
      "text/plain": [
       "[5, 7, 7]"
      ]
     },
     "execution_count": 279,
     "metadata": {},
     "output_type": "execute_result"
    }
   ],
   "source": [
    "make_change_with_solution([5, 7], 19)"
   ]
  },
  {
   "cell_type": "markdown",
   "id": "cfe7e442-2709-4271-be9b-f86d8e11d72f",
   "metadata": {},
   "source": [
    "---\n",
    "\n",
    "**Problem 4**\n",
    "\n",
    "Use the backtracking technique we learned to implement the **buy_fruits** program below.\n",
    "\n",
    "This program has 2 inputs: the number of fruits you need to buy and the types of fruits you can buy.\n",
    "\n",
    "This program does not return anything, but it prints out all possible combinations of fruits you can buy with the given constraints.\n",
    "\n",
    "As an example, **buy_fruits(2, ['apple','orange','lemon','strawberry'])** prints out these:\n",
    "\n",
    "```\n",
    "    ['apple', 'apple']\n",
    "    ['apple', 'orange']\n",
    "    ['apple', 'lemon']\n",
    "    ['apple', 'strawberry']\n",
    "    ['orange', 'apple']\n",
    "    ['orange', 'orange']\n",
    "    ['orange', 'lemon']\n",
    "    ['orange', 'strawberry']\n",
    "    ['lemon', 'apple']\n",
    "    ['lemon', 'orange']\n",
    "    ['lemon', 'lemon']\n",
    "    ['lemon', 'strawberry']\n",
    "    ['strawberry', 'apple']\n",
    "    ['strawberry', 'orange']\n",
    "    ['strawberry', 'lemon']\n",
    "    ['strawberry', 'strawberry']\n",
    "```"
   ]
  },
  {
   "cell_type": "code",
   "execution_count": 431,
   "id": "35429516-4d16-4397-b895-8d38d69c339f",
   "metadata": {},
   "outputs": [],
   "source": [
    "#\n",
    "# Input: \n",
    "#   how_many: number of fruits you need to buy\n",
    "#   options: types of fruits you can buy\n",
    "#\n",
    "def buy_fruits(how_many, options):\n",
    "    def generate(fruits, i, possibilities = []):\n",
    "        if i==len(fruits):\n",
    "            print(fruits)\n",
    "        else:\n",
    "            for possibility in possibilities(fruits, i):\n",
    "                fruits[i] = possibility\n",
    "                generate(fruits, i+1, possibilities)\n",
    "                \n",
    "    generate([None] * how_many, 0, lambda fruits, i: options) "
   ]
  },
  {
   "cell_type": "code",
   "execution_count": 433,
   "id": "6c71f96a-f1ad-4565-b23f-9cbe65a9aaf1",
   "metadata": {},
   "outputs": [
    {
     "name": "stdout",
     "output_type": "stream",
     "text": [
      "['apple', 'apple']\n",
      "['apple', 'orange']\n",
      "['apple', 'lemon']\n",
      "['apple', 'strawberry']\n",
      "['orange', 'apple']\n",
      "['orange', 'orange']\n",
      "['orange', 'lemon']\n",
      "['orange', 'strawberry']\n",
      "['lemon', 'apple']\n",
      "['lemon', 'orange']\n",
      "['lemon', 'lemon']\n",
      "['lemon', 'strawberry']\n",
      "['strawberry', 'apple']\n",
      "['strawberry', 'orange']\n",
      "['strawberry', 'lemon']\n",
      "['strawberry', 'strawberry']\n"
     ]
    }
   ],
   "source": [
    "buy_fruits(2, ['apple','orange','lemon','strawberry'])"
   ]
  }
 ],
 "metadata": {
  "kernelspec": {
   "display_name": "Python 3 (ipykernel)",
   "language": "python",
   "name": "python3"
  },
  "language_info": {
   "codemirror_mode": {
    "name": "ipython",
    "version": 3
   },
   "file_extension": ".py",
   "mimetype": "text/x-python",
   "name": "python",
   "nbconvert_exporter": "python",
   "pygments_lexer": "ipython3",
   "version": "3.9.13"
  }
 },
 "nbformat": 4,
 "nbformat_minor": 5
}
