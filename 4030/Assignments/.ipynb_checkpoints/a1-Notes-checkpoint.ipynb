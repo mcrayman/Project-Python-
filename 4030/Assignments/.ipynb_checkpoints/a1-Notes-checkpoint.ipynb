{
 "cells": [
  {
   "cell_type": "markdown",
   "id": "66942a8a-d5f9-4cbf-9474-ffffd81a56c3",
   "metadata": {},
   "source": [
    "# Notes on assignment 1"
   ]
  },
  {
   "cell_type": "markdown",
   "id": "6f86a2c7-19a1-4433-8924-15e9bf3ac922",
   "metadata": {},
   "source": [
    "#### General things\n",
    "\n",
    "If you haven't done this, it feels strange.\n",
    "\n",
    "Know how to convert Jupyter notebooks to HTML files.\n",
    "\n",
    "If you're asked to explain in English, you should describe the major steps in English.  Review the grading rubric.\n",
    "\n",
    "The goal is to be able to translate (your and others') ideas from English and Python and vice versa.\n"
   ]
  },
  {
   "cell_type": "markdown",
   "id": "c3b278ab-6f93-4a1a-9e81-a1b67aaa5ff2",
   "metadata": {},
   "source": [
    "---\n",
    "\n",
    "#### Problem 1 \n",
    "\n",
    "Goal: use an iterative design, i.e. a loop, to solve the problem.\n",
    "\n",
    "Dataframes are really about declarative.\n",
    "\n",
    "Do not use pandas other than what was done already.\n",
    "\n",
    "Use math.isnan to test for nan.\n"
   ]
  },
  {
   "cell_type": "code",
   "execution_count": 15,
   "id": "92f95eca-edfc-4cd1-8e3f-727e96f66d4b",
   "metadata": {},
   "outputs": [],
   "source": [
    "import pandas\n",
    "url = 'https://raw.githubusercontent.com/mwaskom/seaborn-data/master/mpg.csv'\n",
    "data = pandas.read_csv(url).values"
   ]
  },
  {
   "cell_type": "code",
   "execution_count": 18,
   "id": "11a0973b-3798-42d3-a55e-b0c7bc9ffd9e",
   "metadata": {},
   "outputs": [
    {
     "data": {
      "text/plain": [
       "False"
      ]
     },
     "execution_count": 18,
     "metadata": {},
     "output_type": "execute_result"
    }
   ],
   "source": [
    "import math\n",
    "math.isnan(3)"
   ]
  },
  {
   "cell_type": "markdown",
   "id": "bbf93fea-4645-41f9-9e9d-5318fd319624",
   "metadata": {},
   "source": [
    "---\n",
    "\n",
    "#### Problem 2\n",
    "\n",
    "Remember to test your program.\n"
   ]
  },
  {
   "cell_type": "markdown",
   "id": "fe520820-7580-432d-91b3-91144a8687d3",
   "metadata": {},
   "source": [
    "---\n",
    "\n",
    "#### Problem 3\n",
    "\n",
    "Goals: \n",
    "+ Determine the running time equation of a program.\n",
    "+ Learn how to estimate the complexity of a running time equation.\n",
    "+ Estimate complexity by \"bounding\"\n",
    "    + Upper bounding means determines at most how many steps the program takes.\n",
    "    + Lower bounding means determines at least how many steps the program takes.\n",
    "\n",
    "Related concept:\n",
    "+ Worse-case versus best-case complexity.\n",
    "\n"
   ]
  },
  {
   "cell_type": "markdown",
   "id": "7c85ce33-0006-4fb5-83ff-ee1d0429fca0",
   "metadata": {},
   "source": [
    "#### Definition of O and Omega ($\\Omega$)"
   ]
  },
  {
   "cell_type": "markdown",
   "id": "cfa22ebb-a56c-44d9-9373-7de037244227",
   "metadata": {},
   "source": [
    "Suppose we have a running time function, T(n).\n",
    "\n",
    "$T(n) \\in O( f(n) )$ if there is a number $c$ such that $T(n) \\le c * f(n)$ for large values of n.\n",
    "\n",
    "This means f(n) is an upper bound of T(n).\n"
   ]
  },
  {
   "cell_type": "markdown",
   "id": "20467800-82bf-4e18-a34d-213830dbb741",
   "metadata": {},
   "source": [
    "Goal: understand this concept of \"upper bound\" mathematically and intuitively."
   ]
  },
  {
   "cell_type": "markdown",
   "id": "97c1483f-6646-4868-be06-b3fee6c1bf58",
   "metadata": {},
   "source": [
    "An example: \n",
    "+ T(n) = 3n + 5\n",
    "+ f(n) = n^2\n",
    "\n",
    "Question: is n^2 an upper bound of 3n+5?\n",
    "\n",
    "Answer: Yes.\n",
    "\n",
    "1. Intuitively, n^2 dominates (is \"larger than\") 3n+5, so it is an upper bound.\n",
    "\n",
    "2. Mathematically (by definition), $3n + 5 \\le 8n^2$ for all n>1."
   ]
  },
  {
   "cell_type": "markdown",
   "id": "0748c287-bb9e-40ba-9b66-879f6e41adcf",
   "metadata": {},
   "source": [
    "First, we found a specific number c, in this case c=8, to satisfy the formal definition of O.\n",
    "\n",
    "Second, how did we find c=8?\n",
    "\n",
    "$3n+5 \\le 3n^2 + 5n^2 = 8n^2$.  This is how I found a specific value of c (i.e. 8).\n"
   ]
  },
  {
   "cell_type": "markdown",
   "id": "1b9f32c8-be25-4826-ae8e-ef9ebcef3395",
   "metadata": {},
   "source": [
    "We need to understand that we upper bounded each term of 3n+5 with n^2."
   ]
  },
  {
   "cell_type": "markdown",
   "id": "9b7d1a9f-d509-4b3d-ae8f-5667848e1348",
   "metadata": {},
   "source": [
    "Another example:  show that 5 + 10n^7 is in O(n^7).\n",
    "\n",
    "Yes.  We'll bound both terms with n^7.\n",
    "\n",
    "$5 + 10n^7 \\le 5n^7 + 10n^7 = 15n^7$\n",
    "\n",
    "We found a specific value of c (15) to show that $5 + 10n^7 \\le c * n^7$ for all n>1."
   ]
  },
  {
   "cell_type": "markdown",
   "id": "2c0e008a-707f-4a4e-885a-984e9d70509b",
   "metadata": {},
   "source": [
    "Another example: \n",
    "\n",
    "Is $2n + n^2 \\in O(n^3)$?\n"
   ]
  },
  {
   "cell_type": "markdown",
   "id": "88781d65-4009-480b-b38b-4cb5ab64298c",
   "metadata": {},
   "source": [
    "Is $n^3$ an upper bound of $2n+n^2$?  Intuitively, yes."
   ]
  },
  {
   "cell_type": "markdown",
   "id": "a9f1ac7a-dd64-464a-b019-5761d40d75a2",
   "metadata": {},
   "source": [
    "Mathematically, $2n + n^2 \\le 2n^3 + n^3$ for all n>1."
   ]
  },
  {
   "cell_type": "markdown",
   "id": "cd5a66a0-43e2-4cc5-8f79-6557e525d91d",
   "metadata": {},
   "source": [
    "Therefore, $2n+n^2 \\le 3n^3$ for all n>1.\n",
    "\n",
    "So, I found a specific number c=3 to show that $2n+n^2 \\le c * n^3$\n",
    "\n",
    "In other words, $2n+n^2 \\in O(n^3)$."
   ]
  },
  {
   "cell_type": "markdown",
   "id": "47f8c64a-daae-4745-ab3c-850b76c9afe2",
   "metadata": {},
   "source": [
    "#### Lower bound: Omega\n",
    "\n",
    "$T(n) \\in \\Omega( f(n))$ means that:\n",
    "+ Intuitively, f(n) is a lower bound of T(n).\n",
    "+ Mathematically, there is a specific number c, such that $T(n) \\ge c * f(n)$ for large values of n."
   ]
  },
  {
   "cell_type": "markdown",
   "id": "cd71d5da-3f0c-4510-a5b3-5f6ffb39915e",
   "metadata": {},
   "source": [
    "Contrast this definition with that of O:\n",
    "\n",
    "$T(n) \\in O( f(n))$ means that:\n",
    "+ Intuitively, f(n) is an upper bound of T(n).\n",
    "+ Mathematically, there is a specific number c, such that $T(n) \\le c * f(n)$ for large values of n.\n"
   ]
  },
  {
   "cell_type": "markdown",
   "id": "3dedd8bc-bf66-4b73-9b83-308b3bf26c07",
   "metadata": {},
   "source": [
    "#### An example:\n",
    "\n",
    "Show that $5n^2 + 2n \\in \\Omega(n)$.\n"
   ]
  },
  {
   "cell_type": "markdown",
   "id": "e0f56061-dbcd-4acc-a2f0-4c3585178645",
   "metadata": {},
   "source": [
    "Intuitively, n^2 dominates n. So n is a lower bound of n^2.\n",
    "\n",
    "Mathematically, $5n^2 + 2n \\ge 1*n$, for all n>1.\n",
    "\n",
    "We found a specific number c=1 to show that $5n^2 + 2n \\ge c*n$ for all n>1."
   ]
  },
  {
   "cell_type": "markdown",
   "id": "efaa6796-8b76-4d15-966e-72c7448265ca",
   "metadata": {},
   "source": [
    "Another example:\n",
    "\n",
    "Show that $0.1*n^3 \\in \\Omega(n)$.\n"
   ]
  },
  {
   "cell_type": "markdown",
   "id": "c09a2dc6-ae01-4948-b59a-7615632adba4",
   "metadata": {},
   "source": [
    "Intuitively, is n a lower bound of 0.1*n^3?  Yes.  n is \"smaller than\" n^3."
   ]
  },
  {
   "cell_type": "markdown",
   "id": "85063260-4d59-4eb6-9be6-8d838fb7dfbb",
   "metadata": {},
   "source": [
    "If n=1, 0.1*n^3 < n.\n",
    "\n",
    "If n=2, 0.1*n^3 < n.\n",
    "\n",
    "If n=3, 0.1*n^3 < n."
   ]
  },
  {
   "cell_type": "markdown",
   "id": "4d333045-f009-42ea-8797-6a5867036e28",
   "metadata": {},
   "source": [
    "Even though 0.1*n^3 is smaller than n when n<=3,  when n>3, $0.1*n^3$ is larger than n."
   ]
  },
  {
   "cell_type": "markdown",
   "id": "11cdec0c-94f1-4c43-95c8-fdea7596f00d",
   "metadata": {},
   "source": [
    "Mathematically, $0.1*n^3 \\ge 0.1*n$ for all $n>1$.\n",
    "\n",
    "We found a constant c=0.1, to show than $0.1*n^3 \\ge c*n$ for all $n>1$."
   ]
  },
  {
   "cell_type": "markdown",
   "id": "563746e4-b02e-42ca-b1d4-7c1a370f6c0c",
   "metadata": {},
   "source": [
    "---\n",
    "\n",
    "#### Problem 4\n",
    "\n",
    "Another problem on how to estimate complexity by \"bounding\".\n",
    "\n",
    "Understand big-O."
   ]
  },
  {
   "cell_type": "markdown",
   "id": "ab4f8b27-4969-47bf-a054-d651bc4fe56b",
   "metadata": {},
   "source": [
    "---\n",
    "\n",
    "#### Problem 5\n",
    "\n",
    "We are tiptoeing into recursive designs.\n",
    "\n",
    "To master recursive designs, you have to be able to go back and forth between Python and English fluently.\n",
    "\n",
    "Goals: \n",
    "\n",
    "1. Translate English to Python.  I describe my strategy (in English), you implement it (in Python).\n",
    "2. You strategize in English, and then implement it in Python.\n",
    "\n",
    "Examples:\n",
    "+ Compute the length of a list\n",
    "+ Counting an item's frequency in a list"
   ]
  },
  {
   "cell_type": "markdown",
   "id": "1f6a5139-e4cf-4aaa-bf92-614ddf9d7326",
   "metadata": {},
   "source": [
    "### Recursive design to find the length of a list"
   ]
  },
  {
   "cell_type": "markdown",
   "id": "1f5384b0-2694-4c80-98cf-478cc93cb157",
   "metadata": {},
   "source": [
    "My recursive strategy:\n",
    "+ If L is empty, its length is 0; we just need to return 0.\n",
    "+ If L is not empty, we use \"some function\" to compute the length of the remaining list (without the first item) and add 1 to it.\n",
    "   + Explanation: Suppose L = ['a', ...... ] = ['a'] + remaining_list\n",
    "   + And if I tell you that, the remaining list has length 97, then you know that L has length 98."
   ]
  },
  {
   "cell_type": "code",
   "execution_count": 28,
   "id": "c8bdc42f-e93c-4c1d-b3aa-28ddd2ed1e80",
   "metadata": {},
   "outputs": [],
   "source": [
    "def length(L):\n",
    "    if L==[]:\n",
    "        return 0\n",
    "    else:\n",
    "        remaining_list = L[1:]    # this is a slice of L starting from the second item.\n",
    "        return 1 + some_function(remaining_list)"
   ]
  },
  {
   "cell_type": "code",
   "execution_count": 25,
   "id": "bd0d9291-50d6-45ff-8df3-9edcfb6c09e5",
   "metadata": {},
   "outputs": [],
   "source": [
    "length(['a','b'])  # should be 2"
   ]
  },
  {
   "cell_type": "markdown",
   "id": "c4c9c273-ca45-4b7c-bc3c-327bbb63fcdb",
   "metadata": {},
   "source": [
    "What is some_function?\n",
    "\n",
    "Case 1: len"
   ]
  },
  {
   "cell_type": "code",
   "execution_count": 29,
   "id": "5ef0e2af-10d2-42d1-9db6-db72cac44b91",
   "metadata": {},
   "outputs": [],
   "source": [
    "def length(L):\n",
    "    if L==[]:\n",
    "        return 0\n",
    "    else:\n",
    "        remaining_list = L[1:]    # this is a slice of L starting from the second item.\n",
    "        return 1 + len(remaining_list)"
   ]
  },
  {
   "cell_type": "code",
   "execution_count": 30,
   "id": "c59e138a-87ea-4166-93d9-a30114aa5d4a",
   "metadata": {},
   "outputs": [
    {
     "data": {
      "text/plain": [
       "2"
      ]
     },
     "execution_count": 30,
     "metadata": {},
     "output_type": "execute_result"
    }
   ],
   "source": [
    "length(['a','b'])  # should be 2"
   ]
  },
  {
   "cell_type": "markdown",
   "id": "acd53c32-2d38-436d-86dc-8c983886a1c5",
   "metadata": {},
   "source": [
    "Obviously, this is not desirable. Because if you can use \"len\", why even define \"length\"."
   ]
  },
  {
   "cell_type": "markdown",
   "id": "73b3b5b1-5fb2-40e6-9d3d-51522b6b6481",
   "metadata": {},
   "source": [
    "Case 2: use the same strategy to compute length.\n",
    "\n",
    "Revised recursive strategy:\n",
    "+ If L is empty, its length is 0; we just need to return 0.\n",
    "+ If L is not empty, we use *the same strategy* to compute the length of the remaining list (without the first item) and add 1 to it.\n"
   ]
  },
  {
   "cell_type": "code",
   "execution_count": 33,
   "id": "a0b3c754-cdd7-46a6-9ade-53bc029d7573",
   "metadata": {},
   "outputs": [],
   "source": [
    "def length(L):\n",
    "    if L==[]:\n",
    "        return 0\n",
    "    else:\n",
    "        remaining_list = L[1:]    # this is a slice of L starting from the second item.\n",
    "        return 1 + length(remaining_list)"
   ]
  },
  {
   "cell_type": "code",
   "execution_count": 34,
   "id": "424e4850-c989-469e-9d20-5c35527da131",
   "metadata": {},
   "outputs": [
    {
     "data": {
      "text/plain": [
       "3"
      ]
     },
     "execution_count": 34,
     "metadata": {},
     "output_type": "execute_result"
    }
   ],
   "source": [
    "length([1,2,3])"
   ]
  },
  {
   "cell_type": "code",
   "execution_count": 35,
   "id": "7d211991-3cf1-4279-88d2-36894bc3743e",
   "metadata": {},
   "outputs": [
    {
     "data": {
      "text/plain": [
       "5"
      ]
     },
     "execution_count": 35,
     "metadata": {},
     "output_type": "execute_result"
    }
   ],
   "source": [
    "length(list('hello'))"
   ]
  },
  {
   "cell_type": "markdown",
   "id": "21b14f6b-965e-4c77-9cd1-a29edd68b670",
   "metadata": {},
   "source": [
    "Note: \"using the same strategy\" is a recursive call, in terms of how it's implemented."
   ]
  },
  {
   "cell_type": "markdown",
   "id": "3381d6ae-c0ec-41e4-adff-e2d75c3e3e5e",
   "metadata": {},
   "source": [
    "#### Example 2: find the frequency of an item in a list.\n",
    "\n",
    "My strategy:\n",
    "+ If L is empty, frequency of x should be 0 (i.e. x occurs 0 items in L).\n",
    "+ If not, count how many times x occurs in the first item.  (count = 0 or 1)\n",
    "    + add this frequency to the frequency of x in the remaining list.\n",
    "        + **use the same strategy** to find the frequency of x in the remaining list.\n",
    "    + Explanation:\n",
    "        L = [5] + some_remaining_list\n",
    "        Frequency of 5 in L, is 1 + frequency of 5 in remaining list.\n",
    "        Frequency of 4 in L, is 0 + frequency of 4 in remaining list.\n",
    "\n",
    "L = [first] + remaining_list"
   ]
  },
  {
   "cell_type": "code",
   "execution_count": 40,
   "id": "f7ae5807-d44d-4313-8bfd-0dfa0e8dcde0",
   "metadata": {},
   "outputs": [],
   "source": [
    "def freq(L, x):\n",
    "    if L==[]:\n",
    "        return 0\n",
    "    else:\n",
    "        if L[0]==x:\n",
    "            count = 1\n",
    "        else:\n",
    "            count = 0\n",
    "        return count + freq(L[1:], x)"
   ]
  },
  {
   "cell_type": "code",
   "execution_count": 42,
   "id": "56c4899e-a346-4ce7-a6f7-f8edd44f5a0e",
   "metadata": {},
   "outputs": [
    {
     "data": {
      "text/plain": [
       "3"
      ]
     },
     "execution_count": 42,
     "metadata": {},
     "output_type": "execute_result"
    }
   ],
   "source": [
    "freq([1,2,4,2,5,2], 2)  # should be 3"
   ]
  },
  {
   "cell_type": "markdown",
   "id": "37036967-3959-4982-a5df-53afc6c23d37",
   "metadata": {},
   "source": [
    "You don't use recursive designs a lot. But when you need it, it's very powerful."
   ]
  },
  {
   "cell_type": "markdown",
   "id": "02bc934a-9935-4899-83a7-c4e43b0e69eb",
   "metadata": {},
   "source": [
    "The recursive pattern is identical with that of problem 5, assignment 1."
   ]
  }
 ],
 "metadata": {
  "kernelspec": {
   "display_name": "Python 3 (ipykernel)",
   "language": "python",
   "name": "python3"
  },
  "language_info": {
   "codemirror_mode": {
    "name": "ipython",
    "version": 3
   },
   "file_extension": ".py",
   "mimetype": "text/x-python",
   "name": "python",
   "nbconvert_exporter": "python",
   "pygments_lexer": "ipython3",
   "version": "3.9.7"
  }
 },
 "nbformat": 4,
 "nbformat_minor": 5
}
