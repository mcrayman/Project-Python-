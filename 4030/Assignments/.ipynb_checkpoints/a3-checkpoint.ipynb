{
 "cells": [
  {
   "cell_type": "markdown",
   "id": "cc1e37c0-88f5-453a-927c-be6fcb71b927",
   "metadata": {},
   "source": [
    "# COMP 4030 / 6030 Assignment 3"
   ]
  },
  {
   "cell_type": "markdown",
   "id": "a2b527b6-c520-4977-bf10-674ae5917912",
   "metadata": {},
   "source": [
    "NAME:  Matthew McMeans"
   ]
  },
  {
   "cell_type": "markdown",
   "id": "bc16fdaa-da2a-4775-92d4-7f300cd999b6",
   "metadata": {},
   "source": [
    "---\n",
    "\n",
    "**How a coding problem is graded**\n",
    "\n",
    "This is a general guideline for grading coding problems.\n",
    "\n",
    "* If you are not asked for an explanation of your code:\n",
    "    * Coding: 85%\n",
    "        + Code is correct: 85%\n",
    "        + Code is correct, but missing some minor elements: 25%-75%\n",
    "        + Incorrect solution, but make an effort: 10%-25%\n",
    "        + Empty: 0% \n",
    "    * Testing: 15%\n",
    "        + Providing adequate testing of code: 15%\n",
    "        + Code operational but does not show how the answer(s) were generated: 5%\n",
    "        + Code not runnable or no testing: 0%\n",
    "* If  you are specifically asked for an explanation of your code:\n",
    "    * Coding: 70%\n",
    "        + Code is correct: 70%\n",
    "        + Code is correct, but missing some minor elements: 25%-60%\n",
    "        + Incorrect solution, but make an effort: 10%-25%\n",
    "        + Empty: 0% \n",
    "    * Explanation of code: 15%\n",
    "        + Concise English explanation of your strategy/code: 15%\n",
    "        + No explanation: 0%\n",
    "    * Testing: 15%\n",
    "        + Providing adequate testing of code: 15%\n",
    "        + Code operational but does not show how the answer(s) were generated: 5%\n",
    "        + Code not runnable or no testing: 0%\n",
    "\n",
    "\n",
    "If a problem has multiple parts, then the points are equally divided.  For example, if a 10-point problem has 2 parts, then each part is given 5 points. And each part is graded based on the same criteria.\n",
    "\n",
    "\n",
    "**How to turn in your assignment**\n",
    "\n",
    "+ Export your notebook to an HTML file.\n",
    "+ Upload it to the appropriate folder in Assignments on Canvas."
   ]
  },
  {
   "cell_type": "markdown",
   "id": "30d382f4-5df8-4528-a55d-a519fe7416c7",
   "metadata": {},
   "source": [
    "---\n",
    "\n",
    "**Each problem is worth 18 points**\n"
   ]
  },
  {
   "cell_type": "markdown",
   "id": "e1eb6ebc-7d47-4fba-8c8e-ec6db3e2c91a",
   "metadata": {},
   "source": [
    "---\n",
    "\n",
    "**Problem 1**\n",
    "\n",
    "Use the definition of Theta ($\\Theta$) to explain why this is true:  $15n^7 + n^7 + 5n^6 \\in \\Theta(n^7)$.\n"
   ]
  },
  {
   "cell_type": "markdown",
   "id": "2cf0473c-c48e-44f6-a231-b37a6214d3cf",
   "metadata": {},
   "source": [
    "$T(n) = 15n^7 + n^7 + 5n^6 \\in \\Theta(n^7)$\n",
    "\n",
    "c1 = 1\n",
    " \n",
    "c2 = 28\n",
    "\n",
    "$c1 * n^7 ≤ 15n^7 + n^7 + 5n^6 ≤ c2 * n^7$ for all n > 1\n",
    "\n",
    "In other words, $n^7 ≤ 15n^7 + n^7 + 5n^6 ≤ 28n^7$\n",
    "\n",
    "So, $15n^7 + n^7 + 5n^6 \\in \\Theta(n^7)$"
   ]
  },
  {
   "cell_type": "markdown",
   "id": "de6d96b5-0377-4f0a-811e-58a103904d48",
   "metadata": {},
   "source": [
    "---\n",
    "\n",
    "**Problem 2**\n",
    "\n",
    "Explain why we can also find the tight bound of any polynomial running time equation, for example, something like this: $T(n) = an^3 + bn^2 + cn + d$, for some numbers a, b, c, and d.\n",
    "\n"
   ]
  },
  {
   "cell_type": "markdown",
   "id": "83dd8a6a-958e-42c7-a691-270aa99995e9",
   "metadata": {},
   "source": [
    "Given the example, the tight bound of $\\in \\Theta(n^3)$ is found by \n",
    "understanding that $n^3$ will always be less than anything added to \n",
    "it ($+ bn^2 + cn + d$). It will also always be greatest when multiplied \n",
    "by the minimum constant found by adding the numbers from T(n).\n",
    "In other words, there are two constants $c_1$ and $c_2$ such that \n",
    "$c_1 \\cdot f(n) \\le T(n) \\le c_2 \\cdot f(n)$, \n",
    "for all large values of n."
   ]
  },
  {
   "cell_type": "markdown",
   "id": "ecae5243-93a6-41fc-91cd-d1c8e77037a6",
   "metadata": {},
   "source": [
    "---\n",
    "\n",
    "**Problem 3**\n",
    "\n",
    "Find the tight-bound complexity of this program.  Here, the input size, $n$, is the total number of items in both input lists, A and B."
   ]
  },
  {
   "cell_type": "code",
   "execution_count": 2,
   "id": "60693214-2d5e-4354-a852-f86c3e2a1abc",
   "metadata": {},
   "outputs": [],
   "source": [
    "#\n",
    "# Input : two lists of numbers A and B\n",
    "# Output : another list of numbers\n",
    "#\n",
    "def prob3(A, B): \n",
    "    output = [] #a\n",
    "    for x in A: #n\n",
    "        output += x*x #b\n",
    "    for y in B: #n\n",
    "        output += y*y*y #b\n",
    "    return output #a\n"
   ]
  },
  {
   "cell_type": "markdown",
   "id": "88b500bf-6738-41d6-a738-7e06938cb682",
   "metadata": {},
   "source": [
    "---\n",
    "\n",
    "**Problem 4**\n",
    "\n",
    "Use substitution to find the tight-bound complexity of this function: T(n) = 13 + T(n-1), and T(0) = 13.\n",
    "\n",
    "Show all the steps of your work.   "
   ]
  },
  {
   "cell_type": "markdown",
   "id": "19c8671c-08c9-4eff-9191-649f2450ce63",
   "metadata": {},
   "source": [
    "---\n",
    "\n",
    "**Problem 5**\n",
    "\n",
    "Find the upper-bound complexity of this function:  T(n) = 13 + T(n-13).\n"
   ]
  },
  {
   "cell_type": "markdown",
   "id": "97441d2d-0331-490a-936a-0e232ddd8a30",
   "metadata": {},
   "source": [
    "---\n",
    "\n",
    "**Problem 6**\n",
    "\n",
    "Given a number n, count the number of 0's in its binary representation.\n",
    "\n",
    "Examples:\n",
    "* count_zeros(0) returns 1.  (binary representation is 0)\n",
    "* count_zeros(1) returns 0.  (binary representation is 1)\n",
    "* count_zeros(2) returns 1.  (binary representation is 10)\n",
    "* count_zeros(3) returns 0.  (binary representation is 11)\n",
    "* count_zeros(4) returns 2.  (binary representation is 100)\n",
    "* count_zeros(5) returns 1.  (binary representation is 101)\n",
    "* count_zeros(6) returns 1.  (binary representation is 110)\n",
    "* count_zeros(15) returns 0.  (binary representation is 1111)\n",
    "* count_zeros(16) returns 4.  (binary representation is 10000)\n",
    "\n",
    "\n",
    "**You must use the following recursive strategy to implement your program**:\n",
    "* Check for the cases when n is smallest, and solve them directly.\n",
    "* Otherwise, \n",
    "    + if n is even, its last binary digit is 0, add 1 to the number of 0's of n/2.  Note: count the number of 0's of n/2 using the same strategy recursively.\n",
    "    + if n is odd, its last binary digit is 1, simply count the number of zeros of (n-1)/2 using the same strategy recursively.\n"
   ]
  },
  {
   "cell_type": "code",
   "execution_count": 25,
   "id": "97be248d-c43d-491d-8765-0144c63a6946",
   "metadata": {},
   "outputs": [],
   "source": [
    "#\n",
    "# Input: a non-negative number n\n",
    "# Output: the number of 0's in the binary representation of n\n",
    "#\n",
    "def count_zeros(n):\n",
    "    pass"
   ]
  },
  {
   "cell_type": "code",
   "execution_count": null,
   "id": "f64b8acf-6668-4096-bf2d-a85d46362497",
   "metadata": {},
   "outputs": [],
   "source": []
  }
 ],
 "metadata": {
  "kernelspec": {
   "display_name": "Python 3 (ipykernel)",
   "language": "python",
   "name": "python3"
  },
  "language_info": {
   "codemirror_mode": {
    "name": "ipython",
    "version": 3
   },
   "file_extension": ".py",
   "mimetype": "text/x-python",
   "name": "python",
   "nbconvert_exporter": "python",
   "pygments_lexer": "ipython3",
   "version": "3.9.13"
  }
 },
 "nbformat": 4,
 "nbformat_minor": 5
}
