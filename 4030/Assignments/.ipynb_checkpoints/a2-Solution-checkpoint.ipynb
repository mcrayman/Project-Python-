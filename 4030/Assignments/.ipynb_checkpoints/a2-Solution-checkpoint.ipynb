{
 "cells": [
  {
   "cell_type": "markdown",
   "id": "cc1e37c0-88f5-453a-927c-be6fcb71b927",
   "metadata": {},
   "source": [
    "# COMP 4030 / 6030 Assignment 2 SOLUTION\n"
   ]
  },
  {
   "cell_type": "markdown",
   "id": "bc16fdaa-da2a-4775-92d4-7f300cd999b6",
   "metadata": {},
   "source": [
    "---\n",
    "**How a coding problem is graded**\n",
    "\n",
    "This is a general guideline for grading coding problems.\n",
    "\n",
    "* If you are not asked for an explanation of your code:\n",
    "    * Coding: 85%\n",
    "        + Code is correct: 85%\n",
    "        + Code is correct, but missing some minor elements: 25%-75%\n",
    "        + Incorrect solution, but make an effort: 10%-25%\n",
    "        + Empty: 0% \n",
    "    * Testing: 15%\n",
    "        + Providing adequate testing of code: 15%\n",
    "        + Code operational but does not show how the answer(s) were generated: 5%\n",
    "        + Code not runnable or no testing: 0%\n",
    "* If  you are specifically asked for an explanation of your code:\n",
    "    * Coding: 70%\n",
    "        + Code is correct: 70%\n",
    "        + Code is correct, but missing some minor elements: 25%-60%\n",
    "        + Incorrect solution, but make an effort: 10%-25%\n",
    "        + Empty: 0% \n",
    "    * Explanation of code: 15%\n",
    "        + Concise English explanation of your strategy/code: 15%\n",
    "        + No explanation: 0%\n",
    "    * Testing: 15%\n",
    "        + Providing adequate testing of code: 15%\n",
    "        + Code operational but does not show how the answer(s) were generated: 5%\n",
    "        + Code not runnable or no testing: 0%\n",
    "\n",
    "\n",
    "If a problem has multiple parts, then the points are equally divided.  For example, if a 10-point problem has 2 parts, then each part is given 5 points. And each part is graded based on the same criteria.\n",
    "\n",
    "\n",
    "**How to turn in your assignment**\n",
    "\n",
    "+ Export your notebook to an HTML file.\n",
    "+ Upload it to the appropriate folder in Assignments on Canvas."
   ]
  },
  {
   "cell_type": "markdown",
   "id": "30d382f4-5df8-4528-a55d-a519fe7416c7",
   "metadata": {},
   "source": [
    "---\n",
    "\n",
    "**Each problem is worth 15 points.**"
   ]
  },
  {
   "cell_type": "markdown",
   "id": "99e48977-0fe5-4ae1-b282-144173fef8bb",
   "metadata": {},
   "source": [
    "---\n",
    "\n",
    "**Problem 1**\n",
    "\n",
    "Use the definition of Big-O to explain why this is true:  \n",
    "\n",
    "$7n^4 + 10n + 5 \\in O(n^5)$.\n"
   ]
  },
  {
   "cell_type": "markdown",
   "id": "9b63111c-aae0-4ac4-8167-9a381d0b0365",
   "metadata": {},
   "source": [
    "ANSWER:\n",
    "\n",
    "We'll need to identify a specific upper-bound constant. \n",
    "\n",
    "We will upper bound each term with $n^5$.\n",
    "\n",
    "$7n^4 + 10n + 5 \\le 7n^5 + 10n^5 + 5n^5 = 22n^5$, for all $n>1$\n",
    "\n",
    "We found the upper bound constant 22. This mean $7n^4 + 10n + 5 \\in O(n^5)$"
   ]
  },
  {
   "cell_type": "markdown",
   "id": "85ca06bc-d36a-4812-bad1-e16c410bcd51",
   "metadata": {},
   "source": [
    "---\n",
    "\n",
    "**Problem 2**\n",
    "\n",
    "Use the definition of Omega ($\\Omega$) to explain why this is true:  \n",
    "\n",
    "$7n^4 + 10n + 5 \\in \\Omega(n^4)$.\n"
   ]
  },
  {
   "cell_type": "markdown",
   "id": "45b577ab-b8f4-4a30-8e14-8ee3be200fe4",
   "metadata": {},
   "source": [
    "ANSWER:\n",
    "\n",
    "We will need to identify a lower bound constant.\n",
    "\n",
    " $7n^4 + 10n + 5 \\ge 1*n^4$, for all $n>1$.\n",
    "\n",
    "We found the lower bound constant 1. This mean $7n^4 + 10n + 5 \\in \\Omega(n^4)$"
   ]
  },
  {
   "cell_type": "markdown",
   "id": "e1eb6ebc-7d47-4fba-8c8e-ec6db3e2c91a",
   "metadata": {},
   "source": [
    "---\n",
    "\n",
    "**Problem 3**\n",
    "\n",
    "Use the definition of Theta ($\\Theta$) to explain why this is true:  \n",
    "\n",
    "$7n^4 + 10n + 5 \\in \\Theta(n^4)$\n"
   ]
  },
  {
   "cell_type": "markdown",
   "id": "605a5c14-0b6e-4475-ae15-3e0ae5fd7efc",
   "metadata": {},
   "source": [
    "ANSWER:\n",
    "\n",
    "We will need to identify both lower-bound and upper-bound constants.\n",
    "\n",
    "$1*n^4 \\le 7n^4 + 10n + 5 \\le 7n^4 + 10n^4 + 5n^4 = 22n^4$ \n",
    "\n",
    "for all $n>1$\n",
    "\n",
    "The lower-bound constant is 1, and the upper-bound constant is 22.\n",
    "\n",
    "This means $7n^4 + 10n + 5 \\in \\Theta(n^4)$.\n"
   ]
  },
  {
   "cell_type": "markdown",
   "id": "2641cde8-80b5-4e84-90c3-def591933e66",
   "metadata": {},
   "source": [
    "---\n",
    "\n",
    "**Problem 4**\n",
    "\n",
    "Determine the running time equation of this program.  Next, use $\\Omega$ to specify the lower bound complexity of the running time function.\n"
   ]
  },
  {
   "cell_type": "code",
   "execution_count": 1,
   "id": "3e467879-6bcd-4448-ae8a-d86860d247c3",
   "metadata": {},
   "outputs": [],
   "source": [
    "def prob(L):\n",
    "    total = 10\n",
    "    for x in L:\n",
    "        total += x*x + 5\n",
    "    for i in range(0, len(L)):                  \n",
    "        for j in range(i+3, len(L)):          \n",
    "            total += L[i] * L[j] + 2              \n",
    "    return total"
   ]
  },
  {
   "cell_type": "markdown",
   "id": "6bb8f6fb-bb5d-4e75-a243-eed4164fa48e",
   "metadata": {},
   "source": [
    "ANSWER:\n",
    "\n",
    "$T(n) \\ge a + b*n \\ge an + bn = (a+b)*n $ for all $n>1$\n",
    "\n",
    "With the lower bound constant (a+b), we have shown that $T(n) \\in \\Omega(n)$.\n",
    "\n",
    "This means, intuitively, $T(n)$ takes at least $c*n$ steps.\n",
    "\n",
    "You can show that $n^2$ is a lower bound. But it's much harder.\n",
    "\n",
    "You can also show that $1$ is a lower bound. But we can get a better lower bound than 1."
   ]
  },
  {
   "cell_type": "markdown",
   "id": "ceff2c4d-9303-4750-aea7-1649857d3f08",
   "metadata": {},
   "source": [
    "---\n",
    "\n",
    "**Problem 5**\n",
    "\n",
    "Determine the running time equation of the program in the previous problem. Next, use $O$ to specify the upper bound complexity of the running time function.\n"
   ]
  },
  {
   "cell_type": "markdown",
   "id": "89f308e5-d5de-46d0-ab1e-d87be803d3de",
   "metadata": {},
   "source": [
    "ANSWER:\n",
    "\n",
    "Line 6 takes at most n steps.  This means, line 5-7 take at most $b*n^2$ steps.\n",
    "\n",
    "Line 2, 8 take constant steps.\n",
    "\n",
    "Line 3-4 take linear steps.\n",
    "\n",
    "$T(n) \\le a + d*n + b*n^2 \\le an^2 + dn^2 + bn^2 = (a+b+d)*n^2 $ for all $n>1$\n",
    "\n",
    "With the upper bound constant (a+b+d), we have shown that $T(n) \\in O(n^2)$.\n",
    "\n",
    "This means, intuitively, $T(n)$ takes at most $c*n^2$ steps."
   ]
  },
  {
   "cell_type": "markdown",
   "id": "3f14a05c-c563-41fb-9eb3-41eceeda6609",
   "metadata": {},
   "source": [
    "---\n",
    "\n",
    "**Problem 6**\n",
    "\n",
    "Write down the running time equation, T(n), of the program do_something below.  Note that list's pop takes constant ($\\Theta(1)$) time."
   ]
  },
  {
   "cell_type": "code",
   "execution_count": 2,
   "id": "26274167-2020-4249-a6b0-f6192b56d022",
   "metadata": {},
   "outputs": [],
   "source": [
    "def do_something(L):\n",
    "    if len(L) < 2:\n",
    "        return 1\n",
    "    total = 0\n",
    "    for x in L:\n",
    "        total += x\n",
    "    first = L.pop(0)\n",
    "    last = L.pop(-1)\n",
    "    if first==last:\n",
    "        return total + do_something(L)\n",
    "    else: \n",
    "        return 2*total + do_something(L)"
   ]
  },
  {
   "cell_type": "markdown",
   "id": "5ea44fae-4bf0-4f4a-b5c0-29288a0ffe7d",
   "metadata": {},
   "source": [
    "ANSWER:\n",
    "\n",
    "$T(n) = a + bn + T(n-2) $\n",
    "\n",
    "We describe the running time of the recursive call on line 10 and 12 using the same running time function T.\n",
    "\n",
    "T(n) is the running time of do_something when the input has n items.\n",
    "\n",
    "Because the input of each recursive (line 10 and 12) has n-2 items, the running time of each recursive call is T(n-2). "
   ]
  },
  {
   "cell_type": "markdown",
   "id": "3664badb-a829-4a6d-bbd0-22d0174db15b",
   "metadata": {},
   "source": [
    "---\n",
    "\n",
    "**Problem 7**\n",
    "\n",
    "Write a Python function to sort numbers in decreasing order, based on the following recursive strategy:\n",
    "* Note: this strategy returns a list, which is in decreasing order.\n",
    "\n",
    "* Check the smallest case(s), and return the proper sorted output.  The smallest cases is when you cannot reduce the input list in your recursive strategy.\n",
    "\n",
    "* Recursive strategy when the input L is still reducible in size:\n",
    "    + Find the largest number in the input list, L.  Use Python's built-in **max** function to do this.\n",
    "    + Remove the largest number.  Use Python's **remove** method of lists to do this.\n",
    "    + After you remove the largest, L has one item fewer, i.e. you've \"reduced\" the input size of L.\n",
    "    + Use \"the same recursive strategy\" to get a sorted list of the remaining numbers in L.  \n",
    "    + Assemble the largest number and the sorted list of the remaining numbers to construct a sorted list of L. \n",
    "\n",
    "Examples:\n",
    "+ sort_max([10, 5, 7, 12]) returns [12, 10, 7, 5]\n",
    "+ sort_max([5]) returns [5]\n",
    "+ sort_max([]) returns []\n",
    "\n",
    "Examples of Python's functions:\n",
    "+ L = [1,4,10,3]\n",
    "+ max(L) returns 10\n",
    "+ L.remove(10) removes 10 from L. This method returns None.\n",
    "+ List concatenation: [1] + [2, 3] --> [1, 2, 3]\n",
    "\n",
    "\n",
    "\n",
    "**Note**: this problem is not meant to produce the best way to sort a list. It's meant to orient you toward a recursive mindset, which is helpful for more complex problems."
   ]
  },
  {
   "cell_type": "code",
   "execution_count": 5,
   "id": "7e6db481-39ff-40db-8baf-da2e7927364f",
   "metadata": {},
   "outputs": [],
   "source": [
    "#\n",
    "# Input: a list of numbers\n",
    "# Output: the same list of numbers, but in decreasing order\n",
    "#\n",
    "def sort_max(L):\n",
    "    if len(L) <= 1:\n",
    "        return L\n",
    "    m = max(L)\n",
    "    L.remove(m)\n",
    "    sorted_remaining_numbers = sort_max(L)\n",
    "    return [m] + sorted_remaining_numbers"
   ]
  },
  {
   "cell_type": "code",
   "execution_count": 9,
   "id": "8f27d1df-fe71-4ebf-8813-529d2144090d",
   "metadata": {},
   "outputs": [
    {
     "data": {
      "text/plain": [
       "[30, 25, 20, 15, 10, 3, 3, 1]"
      ]
     },
     "execution_count": 9,
     "metadata": {},
     "output_type": "execute_result"
    }
   ],
   "source": [
    "sort_max([10, 20, 1, 25, 3, 30, 3, 15])"
   ]
  },
  {
   "cell_type": "markdown",
   "id": "6a68a603-caaa-4b32-817d-3d324c09d95e",
   "metadata": {},
   "source": [
    "Explain how this sort_max works with this specific example: [10, 20, 1, 25, 3, 30, 3, 15]:\n",
    "\n",
    "+ Find max, that is 30. \n",
    "+ Remove 30 from the input; the remaining list is: [10, 20, 1, 25, 3, 3, 15]\n",
    "+ Sort the remaing numbers using the same strategy recursively, we get his: [25, 20, 15, 10, 3, 3, 1]\n",
    "+ Now here is the original list sorted: [30] + [25, 20, 15, 10, 3, 3, 1]\n"
   ]
  },
  {
   "cell_type": "markdown",
   "id": "a64830fe-53bd-4469-bc2a-6c9f2a05a745",
   "metadata": {},
   "source": [
    "#### Additional note.\n",
    "\n",
    "Here's a potential non-recursive (very tedious) explanation:\n",
    "\n",
    "Explain how this sort_max works with this specific example: [10, 20, 1, 25, 3, 30, 3, 15]:\n",
    "\n",
    "+ Find max, that is 30. \n",
    "+ Remove 30 from the input; the remaining list is: [10, 20, 1, 25, 3, 3, 15]\n",
    "+ Sort the remaining numbers using the same strategy,\n",
    "    + find max of remaining list, which is 25.\n",
    "    + remove max, we have [10, 20,  1, 3, 3, 15]\n",
    "    + sort remaining numbers using the same strategy,\n",
    "        + find max of this 20,\n",
    "        + remove max, we have [10, 1, 3, 3, 15]\n",
    "        + etc....\n",
    "    + [25] + ....\n",
    "+ Now here is the original list sorted: [30] + [25, 20, 15, 10, 3, 3, 1]"
   ]
  },
  {
   "cell_type": "markdown",
   "id": "8ebda576-72f7-4ed0-ba1e-69409c059d73",
   "metadata": {},
   "source": [
    "---\n",
    "\n",
    "**Problem 8**\n",
    "\n",
    "Write down the running time equation, T(n), of the recursive strategy in Problem 7."
   ]
  },
  {
   "cell_type": "markdown",
   "id": "59a1fc30-f9b1-418d-bcaa-cb2edf9c7c42",
   "metadata": {},
   "source": [
    "ANSWER:\n",
    "\n",
    "Python's built-in max function takes $b*n$ steps because it has to go through all numbers in a list to find the maximum value.\n",
    "\n",
    "Python's built-in remove function also takes $c*n$ steps because it potentially has to go through all numbers in the list to find the item and remove it.\n",
    "\n",
    "$T(n) = a + (b+c)*n + T(n-1) $"
   ]
  },
  {
   "cell_type": "markdown",
   "id": "e829a7f2-52da-4aab-8cab-f9c7e508d348",
   "metadata": {},
   "source": [
    "If you assume that max and remove take a constant number of steps, that is not exactly correct.\n",
    "\n",
    "But under that assumption, the running time equation would be $T(n) = c + T(n-1) $.  If you get this, you'll get some credit for that."
   ]
  },
  {
   "cell_type": "code",
   "execution_count": null,
   "id": "7ea8715d-5e52-4926-8900-b56ec98dcf48",
   "metadata": {},
   "outputs": [],
   "source": []
  }
 ],
 "metadata": {
  "kernelspec": {
   "display_name": "Python 3 (ipykernel)",
   "language": "python",
   "name": "python3"
  },
  "language_info": {
   "codemirror_mode": {
    "name": "ipython",
    "version": 3
   },
   "file_extension": ".py",
   "mimetype": "text/x-python",
   "name": "python",
   "nbconvert_exporter": "python",
   "pygments_lexer": "ipython3",
   "version": "3.9.12"
  }
 },
 "nbformat": 4,
 "nbformat_minor": 5
}
