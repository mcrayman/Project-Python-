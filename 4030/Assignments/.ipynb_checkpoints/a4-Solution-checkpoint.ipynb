{
 "cells": [
  {
   "cell_type": "markdown",
   "id": "cc1e37c0-88f5-453a-927c-be6fcb71b927",
   "metadata": {},
   "source": [
    "# COMP 4030 / 6030 Assignment 4 SOLUTION"
   ]
  },
  {
   "cell_type": "markdown",
   "id": "30d382f4-5df8-4528-a55d-a519fe7416c7",
   "metadata": {},
   "source": [
    "---\n",
    "\n",
    "**Each problem is worth 10 points**\n",
    "\n",
    "Topics: \n",
    "+ analysis of complexity.\n",
    "+ determining running time (or memory) equations.\n",
    "\n",
    "Two types of resources a program needs: time and space."
   ]
  },
  {
   "cell_type": "markdown",
   "id": "e1eb6ebc-7d47-4fba-8c8e-ec6db3e2c91a",
   "metadata": {},
   "source": [
    "---\n",
    "\n",
    "**Problem 1**\n",
    "\n",
    "Find the upper bound and lower bound constants for this function $T(n) = 5n^7 + n + 2n^2 $ to show that it is in $\\Theta(n^7)$.\n"
   ]
  },
  {
   "cell_type": "markdown",
   "id": "beafb772-1e02-43d6-b3da-b243473b8d6b",
   "metadata": {},
   "source": [
    "ANSWER:\n",
    "\n",
    "We'll determine the lower-bound constant (c1) and upper-bound constant (c7) at the same time.\n",
    "\n",
    "$1*n^7 \\le 5n^7 + n + 2n^2 \\le 8*n^7$ for all $n>1$.\n",
    "\n",
    "c1 = 1, c2 = 8.\n",
    "\n",
    "This shows that $T(n) \\in \\Theta(n^7)$.\n"
   ]
  },
  {
   "cell_type": "markdown",
   "id": "de6d96b5-0377-4f0a-811e-58a103904d48",
   "metadata": {},
   "source": [
    "---\n",
    "\n",
    "**Problem 2**\n",
    "\n",
    "To apply the Master's Theorem, the running time function is best expressed in this form $T(n) = \\Theta(n^d) + a \\cdot T({n \\over b})$.\n",
    "\n",
    "Rewrite this function $T(n) = 10n^2 + 5n + 1 + 3 \\cdot T({n \\over 4}) $ in the form above.\n",
    "\n"
   ]
  },
  {
   "cell_type": "markdown",
   "id": "559230ee-6250-4f5f-8b4a-c86835bb8787",
   "metadata": {},
   "source": [
    "ANSWER:\n",
    "\n",
    "$1*n^2 \\le 10n^2 + 5n +1 \\le 16*n^2$ for all $n>1$. c1=1, c2=16.\n",
    "\n",
    "So, $10n^2 + 5n + 1 \\in \\Theta(n^2)$\n",
    "\n",
    "$T(n) = \\Theta(n^2) + 3 T({n \\over 4})$\n"
   ]
  },
  {
   "cell_type": "markdown",
   "id": "88b500bf-6738-41d6-a738-7e06938cb682",
   "metadata": {},
   "source": [
    "---\n",
    "\n",
    "**Problem 3**\n",
    "\n",
    "Suppose that the running time function of some recursive program is $T(n) = n^5 + 4 \\cdot T({n \\over 3})$\n",
    "\n",
    "How many recursive calls are there in this program?\n",
    "\n",
    "What is the input size of each recursive call?"
   ]
  },
  {
   "cell_type": "markdown",
   "id": "ecf04dfd-bc43-46d7-b9c2-7e640b3576d9",
   "metadata": {},
   "source": [
    "ANSWER:\n",
    "\n",
    "There are 4 recursive calls.  Each recursive call is made on an input of size ${n \\over 3}$.\n",
    "\n",
    "Note:\n",
    "+ When the input size is $n$, the running time is $T(n)$.\n",
    "+ When the input size is ${n \\over 3}$, the running time is $T({n \\over 3})$."
   ]
  },
  {
   "cell_type": "markdown",
   "id": "19c8671c-08c9-4eff-9191-649f2450ce63",
   "metadata": {},
   "source": [
    "---\n",
    "\n",
    "**Problem 4**\n",
    "\n",
    "Use the Master's theorem to find the complexity of this running time function: $T(n) = n^2 + 4 \\cdot T({n \\over 2})$"
   ]
  },
  {
   "cell_type": "markdown",
   "id": "9602ddda-2059-4ef8-96ec-51a99b46eb70",
   "metadata": {},
   "source": [
    "ANSWER:\n",
    "\n",
    "$d = 2 = \\log_b a = \\log_2 4 = 2$.\n",
    "\n",
    "$T(n) \\in \\Theta(n^2 \\log n)$."
   ]
  },
  {
   "cell_type": "markdown",
   "id": "8aa79191-9284-4287-857a-cd63dad172ab",
   "metadata": {},
   "source": [
    "---\n",
    "\n",
    "**Problem 5**\n",
    "\n",
    "Use the Master's theorem to find the complexity of this running time function: $T(n) = n^2 + 6 \\cdot T({n \\over 2})$."
   ]
  },
  {
   "cell_type": "markdown",
   "id": "8554f446-4bfb-40ad-9f60-78a74f23bf75",
   "metadata": {},
   "source": [
    "ANSWER:\n",
    "\n",
    "\n",
    "$d=2 < \\log_2 6$.  $T(n) \\in \\Theta(n^{\\log_2 6})$"
   ]
  },
  {
   "cell_type": "markdown",
   "id": "97441d2d-0331-490a-936a-0e232ddd8a30",
   "metadata": {},
   "source": [
    "---\n",
    "\n",
    "**Problem 6**\n",
    "\n",
    "Use the Master's theorem to find the complexity of this running time function: $T(n) = n^3 + 4 \\cdot T({n \\over 2})$."
   ]
  },
  {
   "cell_type": "markdown",
   "id": "b9f91e27-31ea-4abe-b3bb-8440df9f0385",
   "metadata": {},
   "source": [
    "ANSWER:\n",
    "\n",
    "\n",
    "$3 > \\log_2 4$.  So, $T(n) \\in \\Theta(n^3)$."
   ]
  },
  {
   "cell_type": "markdown",
   "id": "d4563919-32fe-4f5f-94fc-a5c5107faa8b",
   "metadata": {},
   "source": [
    "---\n",
    "\n",
    "**Problem 7**\n",
    "\n",
    "Compare the running time complexities of these 3 programs (prob7a, prob7b, and prob7c).  \n",
    "\n",
    "Additional information needed to determine the running time functions of these programs:\n",
    "* foo takes linear time. If L has $n$ numbers, foo's running time is $c*n$"
   ]
  },
  {
   "cell_type": "markdown",
   "id": "6161920e-adc7-4272-964e-2edcffc18772",
   "metadata": {},
   "source": [
    "Slicing is linear, because Python makes a copy.\n",
    "\n",
    "Assignment of lists is constant, because Python does not make a copy."
   ]
  },
  {
   "cell_type": "code",
   "execution_count": 6,
   "id": "47410477-aaf8-4740-88fa-12e34e55d77a",
   "metadata": {},
   "outputs": [
    {
     "name": "stdout",
     "output_type": "stream",
     "text": [
      "[10, 2, 3, 4] [10, 2, 3, 4]\n"
     ]
    }
   ],
   "source": [
    "a = [1,2,3,4]\n",
    "b = a\n",
    "b[0] = 10\n",
    "print(a, b)\n",
    "\n",
    "# Python points b to the same memory location of a."
   ]
  },
  {
   "cell_type": "code",
   "execution_count": 5,
   "id": "776d2c1d-378b-4b6c-98e9-97344cf3d8f2",
   "metadata": {},
   "outputs": [
    {
     "name": "stdout",
     "output_type": "stream",
     "text": [
      "[1, 2, 3, 4] [1, 2]\n",
      "[1, 2, 3, 4] [10, 2]\n"
     ]
    }
   ],
   "source": [
    "a = [1,2,3,4]\n",
    "b = a[0:2]\n",
    "print(a,b)\n",
    "b[0] = 10\n",
    "print(a,b)\n",
    "\n",
    "# Python makes a copy of the slice on line 2."
   ]
  },
  {
   "cell_type": "code",
   "execution_count": 15,
   "id": "f64b8acf-6668-4096-bf2d-a85d46362497",
   "metadata": {},
   "outputs": [],
   "source": [
    "#\n",
    "# Input: L is a list of numbers\n",
    "#\n",
    "def prob7a(L):\n",
    "    if len(L)<=1:\n",
    "        return 1\n",
    "    total = 0\n",
    "    for x in L:\n",
    "        total += foo(x, L)\n",
    "    left = L[0 : len(L)//2]\n",
    "    right = L[len(L)//2 : len(L)]\n",
    "    return prob7a(left) + prob7a(right) + total\n",
    "\n",
    "# 7a,  $T(n) =  c_1*n^2 + c_2*n + c_3 + 2T({n \\over 2})$\n",
    "#\n",
    "# Input: L is a list of numbers\n",
    "#\n",
    "def prob7b(L):\n",
    "    if len(L)<=1:\n",
    "        return 1\n",
    "    total = 0\n",
    "    for x in L:\n",
    "        total += x*x + 1\n",
    "    left = L[0 : len(L)//2]\n",
    "    right = L[len(L)//2 : len(L)]\n",
    "    return prob7b(left) + prob7b(right) + prob7b(left) + total\n",
    "\n",
    "# 7a,  $T(n) =  c_2*n + c_3 + 3T({n \\over 2})$\n",
    "\n",
    "\n",
    "#\n",
    "# Input: L is a list of numbers\n",
    "#\n",
    "def prob7c(L):\n",
    "    if len(L)<=1:\n",
    "        return 1\n",
    "    total = 0\n",
    "    for x in L:\n",
    "        total += x*x + 1\n",
    "    left = L[0 : len(L)//2]\n",
    "    right = L[len(L)//2 : len(L)]\n",
    "    A = prob7c(left)                          # T(n/2)\n",
    "    return A + prob7c(right) + A + total      # T(n/2)\n",
    "\n",
    "# 7c, $T(n) = \\Theta(n) + 2T({n \\over 2})$\n"
   ]
  },
  {
   "cell_type": "markdown",
   "id": "6100e415-d83e-42ee-b176-0fec98daedc6",
   "metadata": {},
   "source": [
    "ANSWER:\n",
    "\n",
    "For 7a,  $T(n) =  c_1*n^2 + c_2*n + c_3 + 2T({n \\over 2}) = \\Theta(n^2) + 2T({n \\over 2}) \\in \\Theta(n^2)$\n",
    "\n",
    "For 7b,  $T(n) =  c_2*n + c_3 + 3T({n \\over 2}) = \\Theta(n) + 3T({n \\over 2}) \\in \\Theta(n^{\\log_2 3})$\n",
    "\n",
    "For 7c, $T(n) = \\Theta(n) + 2T({n \\over 2}) \\in \\Theta(n \\log n)$\n",
    "\n",
    "prob7a is slower than prob7b.\n",
    "\n",
    "prob7a is slowest.\n",
    "\n",
    "prob7c is faster than prob7b.\n"
   ]
  },
  {
   "cell_type": "code",
   "execution_count": 16,
   "id": "a16a069e-cff6-4a7f-a32c-70806e7243f7",
   "metadata": {},
   "outputs": [
    {
     "name": "stdout",
     "output_type": "stream",
     "text": [
      "10 33.0 38.0\n",
      "50 282.0 493.0\n",
      "100 664.0 1479.0\n",
      "150 1084.0 2812.0\n",
      "200 1529.0 4437.0\n",
      "300 2469.0 8436.0\n",
      "500 4483.0 18957.0\n",
      "1000 9966.0 56871.0\n"
     ]
    }
   ],
   "source": [
    "import math\n",
    "math.log2(3)\n",
    "for n in [10, 50, 100, 150, 200, 300, 500, 1000]:\n",
    "    print(n, round(n*math.log2(n),0), round(n**math.log2(3),0))"
   ]
  },
  {
   "cell_type": "markdown",
   "id": "ef65a1cd-d708-470a-8a10-d4f23255bd3d",
   "metadata": {},
   "source": [
    "---\n",
    "**Problem 8**\n",
    "\n",
    "To determine how much \"space\" (i.e. memory or RAM) a program requires, we need to figure out where memory is created.\n",
    "\n",
    "Memory can be created statically (i.e. variable declarations) or dynamically (i.e. when each statement is executed).\n",
    "\n",
    "In the program prob8 below, for each line of code from 5 to 12, specify if memory is created statically, dynamically, or not at all.\n",
    "\n"
   ]
  },
  {
   "cell_type": "code",
   "execution_count": null,
   "id": "49a5f498-b80d-4c10-b906-b8d5fb8ff93c",
   "metadata": {},
   "outputs": [],
   "source": [
    "#\n",
    "# Input: L is a list of numbers\n",
    "#\n",
    "def prob8(L):\n",
    "    if len(L)<=1:\n",
    "        return 1\n",
    "    total = 0\n",
    "    for x in L:\n",
    "        total += x*x\n",
    "    left = L[0 : len(L)//2]\n",
    "    right = L[len(L)//2 : len(L)]\n",
    "    return prob8(left) + prob8(right) + total\n"
   ]
  },
  {
   "cell_type": "markdown",
   "id": "e6367152-f4f9-4456-9a0c-bc917709f301",
   "metadata": {},
   "source": [
    "ANSWER:\n",
    "\n",
    "**Note to TA: easy on the grading, give lots of partial credits**"
   ]
  },
  {
   "cell_type": "code",
   "execution_count": 14,
   "id": "676a7ff4-5a73-4ca5-9035-fd8cc5ab9181",
   "metadata": {},
   "outputs": [],
   "source": [
    "#\n",
    "# Input: L is a list of numbers\n",
    "#\n",
    "def prob8(L):                                   # S(n) is the space required by prob8 with input size n\n",
    "    if len(L)<=1:                               # None; no extra memory created\n",
    "        return 1                                # None; no extra memory created\n",
    "    total = 0                                   # Static; constant static memory\n",
    "    for x in L:                                 # Dynamic; constant dynamic memory\n",
    "        total += x*x                            # None; no extra memory created\n",
    "    left = L[0 : len(L)//2]                     # Dynamic; dynamic linear space (this is 0.5*n \\in Theta(n))\n",
    "    right = L[len(L)//2 : len(L)]               # Dynamic; dynamic linear space \n",
    "    return prob8(left) + prob8(right) + total   # Dynamic"
   ]
  },
  {
   "cell_type": "markdown",
   "id": "3826b0d8-9de7-4ab0-ba40-2d733beb6c57",
   "metadata": {},
   "source": [
    "---\n",
    "\n",
    "**Problem 9**\n",
    "\n",
    "Find the space function/equation, $S(n)$, of prob8 (defined in the previous problem).\n",
    "\n",
    "Note that $S(n)$ is the space (memory/RAM) allocated to prob8, when its input (i.e. L) has $n$ numbers.  (Conceptually, if the input size is 10, the amount of space required is S(10)).\n",
    "\n",
    "Note that slicing $k$ things from a list (e.g. lines 10 and 11 below) takes $k$ steps because Python creates a new list, then copies these things into a new list, and returns it.  For example, in line 10, Python will copy all items from 0 to len(L)//2, put them in a new list and then returns it (save it into \"left\")."
   ]
  },
  {
   "cell_type": "markdown",
   "id": "7accdc45-93e8-45b8-8cbb-e3e4fd45244f",
   "metadata": {},
   "source": [
    "ANSWER:\n",
    "\n",
    "define S(n) to be the space required by prob8 with input size n.\n",
    "\n",
    "$S(n) = c_1 + c_2*n + 2*S({n \\over 2})$\n"
   ]
  },
  {
   "cell_type": "markdown",
   "id": "600b9a99-1e35-4471-9dc0-3966df500114",
   "metadata": {},
   "source": [
    "---\n",
    "**Problem 10**\n",
    "\n",
    "To estimate the space complexity of program, we can use the same tools and techniques that we have used to estimate running time complexity.\n",
    "\n",
    "Use the Master's theorem to find the space complexity of the space equation in the previous problem."
   ]
  },
  {
   "cell_type": "markdown",
   "id": "24e30457-7feb-40c8-a991-4a9d7cea4590",
   "metadata": {},
   "source": [
    "ANSWER:\n",
    "\n",
    "$S(n) = \\Theta(n) + 2*S({n \\over 2}) \\in \\Theta(n \\log n)$"
   ]
  },
  {
   "cell_type": "code",
   "execution_count": null,
   "id": "4a39806a-18db-4786-8200-33c0df87c0fe",
   "metadata": {},
   "outputs": [],
   "source": []
  }
 ],
 "metadata": {
  "kernelspec": {
   "display_name": "Python 3 (ipykernel)",
   "language": "python",
   "name": "python3"
  },
  "language_info": {
   "codemirror_mode": {
    "name": "ipython",
    "version": 3
   },
   "file_extension": ".py",
   "mimetype": "text/x-python",
   "name": "python",
   "nbconvert_exporter": "python",
   "pygments_lexer": "ipython3",
   "version": "3.9.12"
  }
 },
 "nbformat": 4,
 "nbformat_minor": 5
}
