{
 "cells": [
  {
   "cell_type": "markdown",
   "id": "cc1e37c0-88f5-453a-927c-be6fcb71b927",
   "metadata": {},
   "source": [
    "# COMP 4030 / 6030 Assignment 5\n",
    "\n",
    "**Due: Wednesday, 4/2/2023, before midnight.**"
   ]
  },
  {
   "cell_type": "markdown",
   "id": "f59240fb-29cc-4375-87b8-c5581dc0c6d8",
   "metadata": {},
   "source": [
    "YOUR NAME: Matthew McMeans"
   ]
  },
  {
   "cell_type": "markdown",
   "id": "30d382f4-5df8-4528-a55d-a519fe7416c7",
   "metadata": {},
   "source": [
    "---\n",
    "\n",
    "**Each problem is worth 20 points**\n"
   ]
  },
  {
   "cell_type": "markdown",
   "id": "4e1393c2-d288-4b88-ad7f-eea2fac29675",
   "metadata": {},
   "source": [
    "---\n",
    "**Problem 1**\n",
    "\n",
    "The goal of this problem is to find the a sublist of a list that gives the largest sum.  For example, if the list is [-10, 5, -3, 4, 1, -7, 3], then the sublist [5, -3, 4, 1] gives the largest sum of 7.  The sublist could be the entirely list itself.  In this case, [5, -3, 4, 1] gives the largest sum. No other sublist gives larger sum than 7.  In this case, the output should be 7.\n",
    "\n",
    "Design an iterative algorithm based on this strategy below:\n",
    "* Initialize variable that is used to keep track of the largest sum.\n",
    "* Go through each sublist of the input list L. Note each sublist starts at i and ends at j, where i<=j.\n",
    "    * Calculate the sum of each sublist \n",
    "    * Update the largest sum.\n",
    "* Return the largest sum after all sublists are gone through.\n",
    "\n"
   ]
  },
  {
   "cell_type": "code",
   "execution_count": 81,
   "id": "eadd71c1-1bcb-4f48-b6fb-09a4fb781772",
   "metadata": {},
   "outputs": [],
   "source": [
    "#\n",
    "# Input: L, a list of numbers\n",
    "# Output: the largest sum of a sublist of L.\n",
    "#\n",
    "def prob1(L): #a1\n",
    "    largest = L[0]\n",
    "    if len(L) == 1: \n",
    "        return largest #a2\n",
    "    else:\n",
    "        for i in L: #n\n",
    "            sum = i #b1\n",
    "            for j in L[1:]: #n^2\n",
    "                sum += j #b2\n",
    "                if sum > largest: \n",
    "                    largest = sum #b3\n",
    "            L = L[1:] #c1\n",
    "                \n",
    "        return largest\n",
    "    \n",
    "    \n"
   ]
  },
  {
   "cell_type": "code",
   "execution_count": 85,
   "id": "6f2e32f4-8715-4e56-b935-bd7334c1ff3d",
   "metadata": {},
   "outputs": [
    {
     "data": {
      "text/plain": [
       "7"
      ]
     },
     "execution_count": 85,
     "metadata": {},
     "output_type": "execute_result"
    }
   ],
   "source": [
    "L = [-10, 5, -3, 4, 1, -7, 3]\n",
    "prob1(L)"
   ]
  },
  {
   "cell_type": "markdown",
   "id": "968f477c-31f5-4d65-9088-6786e12e1e99",
   "metadata": {},
   "source": [
    "---\n",
    "\n",
    "**Problem 2**\n",
    "\n",
    "If your solution of Problem 1 is $\\Theta(n^2)$, you get all points for this problem.\n",
    "\n",
    "If not, redesign your solution of Problem 1 so that it is $\\Theta(n^2)$.\n",
    "\n",
    "Hint: you can update the sum of each sublist in constant time."
   ]
  },
  {
   "cell_type": "code",
   "execution_count": 3,
   "id": "aad5f0a1-397b-4371-b7ff-45045140be57",
   "metadata": {},
   "outputs": [],
   "source": [
    "#\n",
    "# Input: L, a list of numbers\n",
    "# Output: the largest sum of a sublist of L.\n",
    "#\n",
    "def prob2(L):\n",
    "    pass"
   ]
  },
  {
   "cell_type": "markdown",
   "id": "dd7f2ad2-1554-42c6-9d9a-bf61ed4ec4d9",
   "metadata": {},
   "source": [
    "---\n",
    "**Problem 3**\n",
    "\n",
    "Use the following recusive strategy to find the largest sum of a sublist (Problem 1):\n",
    "\n",
    "+ If the list has only one number, return the largest sum of this list.\n",
    "+ Divide the list L in two halves: left and right.\n",
    "+ Find the largest sum of the sublist on the left half.\n",
    "+ Find the largest sum of the sublist on the right half.\n",
    "+ Find the largest sum of the sublist that \"crosses\" both left and right.\n",
    "    + Hint: start in the middle and go to all the way to the beginnig, and then all the way to the end.\n",
    "+ The largest sum of a sublist in L, should be the largest value of these 3 cases.\n",
    "\n",
    "Note: if your solution works out right, the running time should be faster than $\\Theta(n^2)$."
   ]
  },
  {
   "cell_type": "code",
   "execution_count": 127,
   "id": "ffe85024-1319-44d4-8416-96f3abca6c77",
   "metadata": {},
   "outputs": [],
   "source": [
    "#\n",
    "# Input: L, a list of numbers\n",
    "# Output: the largest sum of a sublist of L.\n",
    "#\n",
    "def prob3(L):\n",
    "    if len(L) == 1:\n",
    "        return L\n",
    "    else:\n",
    "        mid = len(L) // 2\n",
    "        left = L[:mid]\n",
    "        right = L[mid:]\n",
    "        sum_left = prob1(left)\n",
    "        sum_right = prob1(right)\n",
    "        left.reverse()\n",
    "        cross_left = prob1(left)\n",
    "        crossed = cross_left + sum_right\n",
    "        return max(crossed, sum_left, sum_right)\n"
   ]
  },
  {
   "cell_type": "code",
   "execution_count": 128,
   "id": "f10f7d6e-8a56-4c2d-9ca9-42b62293e0fa",
   "metadata": {},
   "outputs": [
    {
     "data": {
      "text/plain": [
       "7"
      ]
     },
     "execution_count": 128,
     "metadata": {},
     "output_type": "execute_result"
    }
   ],
   "source": [
    "L = [-10, 5, -3, 4, 1, -7, 3]\n",
    "prob3(L)"
   ]
  },
  {
   "cell_type": "markdown",
   "id": "05f143fe-2cea-4e33-adca-667e0eeff2f5",
   "metadata": {},
   "source": [
    "---\n",
    "**Problem 4**\n",
    "\n",
    "Design and implement a program call **climb4**, which takes as input a non-negative integer $n$ and returns the number of ways you can climb a stair with $n$ steps.   The constraint is that each time you can either clim 1 step, 2 steps, 3 steps, or 4 steps.\n",
    "\n",
    "Make sure you test your program for n from 0 to 10."
   ]
  },
  {
   "cell_type": "code",
   "execution_count": null,
   "id": "86eb7c6f-9c67-4cb1-a1d4-50ba51781c87",
   "metadata": {},
   "outputs": [],
   "source": [
    "count = 0\n",
    "def climb4(n):\n",
    "    if n == 0:\n",
    "        return count\n",
    "    \n",
    "    else:\n",
    "        for i in range(1,5):\n",
    "        count += 1\n",
    "        return climb4(n - i)\n",
    "            \n",
    "    return count"
   ]
  },
  {
   "cell_type": "code",
   "execution_count": null,
   "id": "a3c5227d-07af-4f90-8766-d4a0894e9616",
   "metadata": {},
   "outputs": [],
   "source": [
    "n = 6\n",
    "climb4(n)\n",
    "print('helo')"
   ]
  },
  {
   "cell_type": "markdown",
   "id": "6bc092a5-485c-47c3-b0b0-50b06b4649da",
   "metadata": {},
   "source": [
    "---\n",
    "**Problem 5**\n",
    "\n",
    "\n",
    "If your program, climb4, does not store outputs of repeated computation, it is very slow.  For example, with n=50, it might take a long long time to run.\n",
    "\n",
    "Reimplement climb4 and use a table to store outputs and show that your program runs much faster."
   ]
  },
  {
   "cell_type": "code",
   "execution_count": 16,
   "id": "31775af5-0d5c-4029-a5b6-e2a9935e90a6",
   "metadata": {},
   "outputs": [],
   "source": [
    "def prob5(n):\n",
    "    pass"
   ]
  },
  {
   "cell_type": "markdown",
   "id": "e0269711-eb6d-4403-9d30-ff102b78f924",
   "metadata": {},
   "source": [
    "---\n",
    "**Problem 6**\n",
    "\n",
    "In this problem, you will design an algorithm to count the number of red nodes in a randomly generated binary tree.\n",
    "\n",
    "A binary tree is a bunch of nodes linked together.\n",
    "\n",
    "A binary tree is specified using a root node. \n",
    "\n",
    "Each node n (including the root node) these attributes:\n",
    "+ n.color -- the color of the node, which is either Red or Blue.\n",
    "+ n.left -- another node.  In other words, n.left is another binary tree.\n",
    "+ n.right -- another node.  In other words, n.right is another binary tree.\n",
    "\n",
    "Use the code below for testing.\n",
    "\n",
    "Hint: because n.left and n.right are also trees, you can use the same strategy to find the number of red nodes in these trees.\n"
   ]
  },
  {
   "cell_type": "code",
   "execution_count": 13,
   "id": "15010d38-9019-4052-bafc-aa5a6592bcad",
   "metadata": {},
   "outputs": [],
   "source": [
    "import random\n",
    "\n",
    "#\n",
    "# The parameter m controls how deep the tree is. \n",
    "# If m is not given, a random number is assigned to it.\n",
    "#\n",
    "class BTree:\n",
    "    def __init__(self, m=None):\n",
    "        if m is None:\n",
    "            m = random.randint(2, 7)\n",
    "        self.left = None\n",
    "        self.right = None\n",
    "        if random.randint(0, 1) == 0:\n",
    "            self.color = 'Blue'\n",
    "        else:\n",
    "            self.color = 'Red'\n",
    "        if random.randint(0, m) > 0:\n",
    "            self.left = BTree(m-1)\n",
    "        if random.randint(0, m) > 0:\n",
    "            self.right = BTree(m-1)\n",
    "\n",
    "    def print(self, indents=0):\n",
    "        print('\\t'*indents + self.color[0])\n",
    "        if self.left is not None:\n",
    "            self.left.print(indents+1)\n",
    "        if self.right is not None:\n",
    "            self.right.print(indents+1)\n",
    "            "
   ]
  },
  {
   "cell_type": "code",
   "execution_count": 11,
   "id": "8b5c2344-8fa3-4e2a-83c4-80e60b834786",
   "metadata": {},
   "outputs": [
    {
     "name": "stdout",
     "output_type": "stream",
     "text": [
      "B\n",
      "\tB\n",
      "\t\tB\n",
      "\t\t\tB\n",
      "\t\t\t\tB\n",
      "\t\t\t\t\tR\n",
      "\t\t\t\t\t\tR\n",
      "\t\t\t\t\t\tB\n",
      "\t\t\t\t\tR\n",
      "\t\t\t\t\t\tR\n",
      "\t\t\t\t\t\tR\n",
      "\t\t\tR\n",
      "\t\t\t\tB\n",
      "\t\t\t\t\tB\n",
      "\t\t\t\t\t\tR\n",
      "\t\t\t\t\t\tB\n",
      "\t\t\t\t\tR\n",
      "\t\t\t\t\t\tR\n",
      "\t\t\t\tR\n",
      "\t\t\t\t\tB\n",
      "\t\t\t\t\t\tR\n",
      "\tR\n",
      "\t\tB\n",
      "\t\t\tB\n",
      "\t\t\t\tB\n",
      "\t\t\t\t\tB\n",
      "\t\t\t\t\t\tR\n",
      "\t\t\t\t\t\tR\n",
      "\t\t\t\tB\n",
      "\t\t\t\t\tB\n",
      "\t\t\tR\n",
      "\t\t\t\tB\n",
      "\t\t\t\t\tB\n",
      "\t\t\t\t\tB\n",
      "\t\tR\n",
      "\t\t\tB\n",
      "\t\t\t\tB\n",
      "\t\t\t\t\tR\n",
      "\t\t\tB\n",
      "\t\t\t\tB\n",
      "\t\t\t\t\tB\n",
      "\t\t\t\t\t\tB\n",
      "\t\t\t\t\t\tB\n",
      "\t\t\t\t\tB\n",
      "\t\t\t\t\t\tR\n",
      "\t\t\t\tR\n",
      "\t\t\t\t\tB\n",
      "\t\t\t\t\t\tB\n"
     ]
    }
   ],
   "source": [
    "# an example of a random tree\n",
    "a_tree = BTree()\n",
    "a_tree.print()"
   ]
  },
  {
   "cell_type": "code",
   "execution_count": 14,
   "id": "2b736544-3949-4fc6-b92a-42e841f8e559",
   "metadata": {},
   "outputs": [],
   "source": [
    "#\n",
    "# Input: T is a root node\n",
    "# Output: the number of red nodes in the tree rooted at T\n",
    "#\n",
    "def prob6(T):\n",
    "    pass"
   ]
  },
  {
   "cell_type": "code",
   "execution_count": null,
   "id": "35429516-4d16-4397-b895-8d38d69c339f",
   "metadata": {},
   "outputs": [],
   "source": []
  }
 ],
 "metadata": {
  "kernelspec": {
   "display_name": "Python 3 (ipykernel)",
   "language": "python",
   "name": "python3"
  },
  "language_info": {
   "codemirror_mode": {
    "name": "ipython",
    "version": 3
   },
   "file_extension": ".py",
   "mimetype": "text/x-python",
   "name": "python",
   "nbconvert_exporter": "python",
   "pygments_lexer": "ipython3",
   "version": "3.9.13"
  }
 },
 "nbformat": 4,
 "nbformat_minor": 5
}
