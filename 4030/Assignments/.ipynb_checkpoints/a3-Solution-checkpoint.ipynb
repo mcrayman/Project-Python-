{
 "cells": [
  {
   "cell_type": "markdown",
   "id": "cc1e37c0-88f5-453a-927c-be6fcb71b927",
   "metadata": {},
   "source": [
    "# COMP 4030 / 6030 Assignment 3 SOLUTION"
   ]
  },
  {
   "cell_type": "markdown",
   "id": "30d382f4-5df8-4528-a55d-a519fe7416c7",
   "metadata": {},
   "source": [
    "---\n",
    "\n",
    "**Each problem is worth 18 points**\n"
   ]
  },
  {
   "cell_type": "markdown",
   "id": "e1eb6ebc-7d47-4fba-8c8e-ec6db3e2c91a",
   "metadata": {},
   "source": [
    "---\n",
    "\n",
    "**Problem 1**\n",
    "\n",
    "Use the definition of Theta ($\\Theta$) to explain why this is true:  $15n^7 + n^7 + 5n^6 \\in \\Theta(n^7)$.\n"
   ]
  },
  {
   "cell_type": "markdown",
   "id": "3d0d96fb-240d-458c-9bd4-43645400261e",
   "metadata": {},
   "source": [
    "ANSWER:\n",
    "+ We can show that this function is in $O(n^7)$ by finding an upper-bound constant (Note: you should know the mathematical definition of O).\n",
    "\n",
    "+ We can show that this function is in $\\Omega(n^7)$ by finding an lower-bound constant (Note: you should know the mathematical definition of O).\n",
    "\n",
    "$1n^7 \\le 15n^7 + n^7 + 5n^6 \\le 21n^7$ for all $n>1$.\n",
    "\n",
    "(Note: $5n^6 \\le 5n^7$ for all $n>1$)"
   ]
  },
  {
   "cell_type": "markdown",
   "id": "9225cec4-875e-479f-a9c0-c408c3b3b0fa",
   "metadata": {},
   "source": [
    "Therefore, with the lower-bound constant of 1, and upper-bound constant of 21, we show that this function is in $\\Theta(n^7)$."
   ]
  },
  {
   "cell_type": "markdown",
   "id": "de6d96b5-0377-4f0a-811e-58a103904d48",
   "metadata": {},
   "source": [
    "---\n",
    "\n",
    "**Problem 2**\n",
    "\n",
    "Explain why we can always find the tight bound of any polynomial running time equation, for example, something like this: $T(n) = an^3 + bn^2 + cn + d$, for some numbers a, b, c, and d.\n",
    "\n"
   ]
  },
  {
   "cell_type": "markdown",
   "id": "95176154-6e15-40c8-89d7-b28d01990a08",
   "metadata": {},
   "source": [
    "ANSWER:\n",
    "\n",
    "We can always find the tight bound ($\\Theta$) of a polynomial function by (1) finding the largest exponent, and (2) tight-bounding each term using the largest exponent.\n",
    "\n",
    "$an^3 \\le an^3 + bn^2 + cn + d \\le (a + b + c + d)n^3$ for all $n>1$,"
   ]
  },
  {
   "cell_type": "markdown",
   "id": "ecae5243-93a6-41fc-91cd-d1c8e77037a6",
   "metadata": {},
   "source": [
    "---\n",
    "\n",
    "**Problem 3**\n",
    "\n",
    "Find the tight-bound complexity of this program.  Here, the input size, $n$, is the total number of items in both input lists, A and B."
   ]
  },
  {
   "cell_type": "code",
   "execution_count": 2,
   "id": "60693214-2d5e-4354-a852-f86c3e2a1abc",
   "metadata": {},
   "outputs": [],
   "source": [
    "#\n",
    "# Input : two lists of numbers A and B\n",
    "# Output : another list of numbers\n",
    "#\n",
    "def prob3(A, B):\n",
    "    output = []\n",
    "    for x in A:\n",
    "        output += x*x\n",
    "    for y in B:\n",
    "        output += y*y*y\n",
    "    return output\n"
   ]
  },
  {
   "cell_type": "markdown",
   "id": "79efbba8-3737-4fda-8128-16e0cee3b029",
   "metadata": {},
   "source": [
    "ANSWER:\n",
    "\n",
    "The running time function is: $T(n) = a + b*n \\in \\Theta(n)$.\n"
   ]
  },
  {
   "cell_type": "markdown",
   "id": "88b500bf-6738-41d6-a738-7e06938cb682",
   "metadata": {},
   "source": [
    "---\n",
    "\n",
    "**Problem 4**\n",
    "\n",
    "Use substitution to find the tight-bound complexity of this function: T(n) = 13 + T(n-1), and T(0) = 13.\n",
    "\n",
    "Show all the steps of your work.   "
   ]
  },
  {
   "cell_type": "markdown",
   "id": "82d88f20-2f03-4214-a2f6-6392ec209dae",
   "metadata": {},
   "source": [
    "ANSWER:\n",
    "\n",
    "T(n) = 13 + T(n-1)\n",
    "\n",
    "T(n) = 13 + 13 + T(n-2) = 13*2 + T(n-2)\n",
    "\n",
    "T(n) = 13*2 + T(n-2) = 13*2 + 13 + T(n-3) = 13*3 + T(n-3)\n",
    "\n",
    "keep doing this k times:  \n",
    "\n",
    "T(n) = 13*k + T(n-k)\n",
    "\n",
    "After n times (i.e. k=n), $T(n) = 13*n + T(0)= 13n + 13 \\in \\Theta(n)$\n",
    "\n",
    "\n",
    "Scratch space:\n",
    "\n",
    "Original equation: T(n) = 13 + T(n-1)\n",
    "\n",
    "Plugging n-1 into the original equation we get:\n",
    "\n",
    "T(n-1) = 13 + T(n-2)\n",
    " \n",
    "Plugging n-2 into the original equation we get:\n",
    "\n",
    "T(n-2) = 13 + T(n-2-1)\n",
    " "
   ]
  },
  {
   "cell_type": "markdown",
   "id": "19c8671c-08c9-4eff-9191-649f2450ce63",
   "metadata": {},
   "source": [
    "---\n",
    "\n",
    "**Problem 5**\n",
    "\n",
    "Find the upper-bound complexity of this function:  T(n) = 13 + T(n-13).\n"
   ]
  },
  {
   "cell_type": "markdown",
   "id": "00cf7d4d-f697-4537-ac6d-22e6bb6230d6",
   "metadata": {},
   "source": [
    "Given,\n",
    "* $T(n) = 13 + T(n-13)$\n",
    "* $S(n) = 13 + S(n-1)$\n",
    "\n",
    "$S(n)$ is \"slower\" than $T(n)$, or $S(n)$ is an upper bound of $T(n)$.  But we know that $S(n) \\in \\Theta(n)$ (from the previous problem).\n",
    "\n",
    "So, $T(n) \\in O(n)$."
   ]
  },
  {
   "cell_type": "markdown",
   "id": "97441d2d-0331-490a-936a-0e232ddd8a30",
   "metadata": {},
   "source": [
    "---\n",
    "\n",
    "**Problem 6**\n",
    "\n",
    "Given a number n, count the number of 0's in its binary representation.\n",
    "\n",
    "Examples:\n",
    "* count_zeros(0) returns 1.  (binary representation is 0)\n",
    "* count_zeros(1) returns 0.  (binary representation is 1)\n",
    "* count_zeros(2) returns 1.  (binary representation is 10)\n",
    "* count_zeros(3) returns 0.  (binary representation is 11)\n",
    "* count_zeros(4) returns 2.  (binary representation is 100)\n",
    "* count_zeros(5) returns 1.  (binary representation is 101)\n",
    "* count_zeros(6) returns 1.  (binary representation is 110)\n",
    "* count_zeros(15) returns 0.  (binary representation is 1111)\n",
    "* count_zeros(16) returns 4.  (binary representation is 10000)\n",
    "\n",
    "\n",
    "**You must use the following recursive strategy to implement your program**:\n",
    "* Check for the cases when n is smallest, and solve them directly.\n",
    "* Otherwise, \n",
    "    + if n is even, its last binary digit is 0, add 1 to the number of 0's of n/2.  Note: count the number of 0's of n/2 using the same strategy recursively.\n",
    "    + if n is odd, its last binary digit is 1, simply count the number of zeros of (n-1)/2 using the same strategy recursively.\n"
   ]
  },
  {
   "cell_type": "code",
   "execution_count": 1,
   "id": "97be248d-c43d-491d-8765-0144c63a6946",
   "metadata": {},
   "outputs": [],
   "source": [
    "#\n",
    "# Input: a non-negative number n\n",
    "# Output: the number of 0's in the binary representation of n\n",
    "#\n",
    "def count_zeros(n):\n",
    "    if n==0:\n",
    "        return 1\n",
    "    if n==1:\n",
    "        return 0\n",
    "    if n%2==0:\n",
    "        return 1 + count_zeros(n/2)\n",
    "    else:\n",
    "        return count_zeros((n-1)/2)"
   ]
  },
  {
   "cell_type": "markdown",
   "id": "3a0a3000-56cb-4280-b19e-b281ceac45b6",
   "metadata": {},
   "source": [
    "The goal here is to see that \n",
    "+ In order so solve the problem for input size n, we solve the same problem for smaller input(s).\n",
    "\n",
    "+ We can use the same strategy, the same function, to solve the same problem for a smaller input."
   ]
  },
  {
   "cell_type": "code",
   "execution_count": 2,
   "id": "0431807f-bc85-464b-91fb-cd91db689ea1",
   "metadata": {},
   "outputs": [
    {
     "name": "stdout",
     "output_type": "stream",
     "text": [
      "0 1\n",
      "1 0\n",
      "2 1\n",
      "3 0\n",
      "4 2\n",
      "5 1\n",
      "6 1\n",
      "7 0\n",
      "8 3\n",
      "9 2\n"
     ]
    }
   ],
   "source": [
    "for n in range(10):\n",
    "    print(n, count_zeros(n))"
   ]
  },
  {
   "cell_type": "markdown",
   "id": "07e10470-cbe0-4cc6-ad7d-43e464568a40",
   "metadata": {},
   "source": [
    "9 = 1001"
   ]
  },
  {
   "cell_type": "code",
   "execution_count": null,
   "id": "423f0b18-2b9e-49e3-a850-1a8e209ed28e",
   "metadata": {},
   "outputs": [],
   "source": []
  }
 ],
 "metadata": {
  "kernelspec": {
   "display_name": "Python 3 (ipykernel)",
   "language": "python",
   "name": "python3"
  },
  "language_info": {
   "codemirror_mode": {
    "name": "ipython",
    "version": 3
   },
   "file_extension": ".py",
   "mimetype": "text/x-python",
   "name": "python",
   "nbconvert_exporter": "python",
   "pygments_lexer": "ipython3",
   "version": "3.9.12"
  }
 },
 "nbformat": 4,
 "nbformat_minor": 5
}
