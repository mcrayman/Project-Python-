{
 "cells": [
  {
   "cell_type": "markdown",
   "id": "cc1e37c0-88f5-453a-927c-be6fcb71b927",
   "metadata": {},
   "source": [
    "# COMP 4030 / 6030 Assignment 5\n",
    "\n",
    "**Due: Wednesday, 4/2/2023, before midnight.**"
   ]
  },
  {
   "cell_type": "markdown",
   "id": "f59240fb-29cc-4375-87b8-c5581dc0c6d8",
   "metadata": {},
   "source": [
    "YOUR NAME: Matthew McMeans"
   ]
  },
  {
   "cell_type": "markdown",
   "id": "30d382f4-5df8-4528-a55d-a519fe7416c7",
   "metadata": {},
   "source": [
    "---\n",
    "\n",
    "**Each problem is worth 20 points**\n"
   ]
  },
  {
   "cell_type": "markdown",
   "id": "4e1393c2-d288-4b88-ad7f-eea2fac29675",
   "metadata": {},
   "source": [
    "---\n",
    "**Problem 1**\n",
    "\n",
    "The goal of this problem is to find the a sublist of a list that gives the largest sum.  For example, if the list is [-10, 5, -3, 4, 1, -7, 3], then the sublist [5, -3, 4, 1] gives the largest sum of 7.  The sublist could be the entirely list itself.  In this case, [5, -3, 4, 1] gives the largest sum. No other sublist gives larger sum than 7.  In this case, the output should be 7.\n",
    "\n",
    "Design an iterative algorithm based on this strategy below:\n",
    "* Initialize variable that is used to keep track of the largest sum.\n",
    "* Go through each sublist of the input list L. Note each sublist starts at i and ends at j, where i<=j.\n",
    "    * Calculate the sum of each sublist \n",
    "    * Update the largest sum.\n",
    "* Return the largest sum after all sublists are gone through.\n",
    "\n"
   ]
  },
  {
   "cell_type": "code",
   "execution_count": 1,
   "id": "eadd71c1-1bcb-4f48-b6fb-09a4fb781772",
   "metadata": {},
   "outputs": [],
   "source": [
    "#\n",
    "# Input: L, a list of numbers\n",
    "# Output: the largest sum of a sublist of L.\n",
    "#\n",
    "def prob1(L): #a1\n",
    "    if L==[]:\n",
    "        print('Not acceptable input')\n",
    "        return\n",
    "    max_sum = L[0]\n",
    "    for i in range(len(L)):\n",
    "        for j in range(i, len(L)):\n",
    "            current_sum = sum(L[i: j + 1])\n",
    "            max_sum = max(current_sum, max_sum)\n",
    "            print((i,j), current_sum, max_sum)\n",
    "    return max_sum\n",
    "    \n"
   ]
  },
  {
   "cell_type": "code",
   "execution_count": 2,
   "id": "6f2e32f4-8715-4e56-b935-bd7334c1ff3d",
   "metadata": {},
   "outputs": [
    {
     "name": "stdout",
     "output_type": "stream",
     "text": [
      "(0, 0) -10 -10\n",
      "(0, 1) -5 -5\n",
      "(0, 2) -8 -5\n",
      "(0, 3) -4 -4\n",
      "(0, 4) -3 -3\n",
      "(0, 5) -10 -3\n",
      "(0, 6) -7 -3\n",
      "(1, 1) 5 5\n",
      "(1, 2) 2 5\n",
      "(1, 3) 6 6\n",
      "(1, 4) 7 7\n",
      "(1, 5) 0 7\n",
      "(1, 6) 3 7\n",
      "(2, 2) -3 7\n",
      "(2, 3) 1 7\n",
      "(2, 4) 2 7\n",
      "(2, 5) -5 7\n",
      "(2, 6) -2 7\n",
      "(3, 3) 4 7\n",
      "(3, 4) 5 7\n",
      "(3, 5) -2 7\n",
      "(3, 6) 1 7\n",
      "(4, 4) 1 7\n",
      "(4, 5) -6 7\n",
      "(4, 6) -3 7\n",
      "(5, 5) -7 7\n",
      "(5, 6) -4 7\n",
      "(6, 6) 3 7\n"
     ]
    },
    {
     "data": {
      "text/plain": [
       "7"
      ]
     },
     "execution_count": 2,
     "metadata": {},
     "output_type": "execute_result"
    }
   ],
   "source": [
    "L = [-10, 5, -3, 4, 1, -7, 3]\n",
    "prob1(L)"
   ]
  },
  {
   "cell_type": "markdown",
   "id": "968f477c-31f5-4d65-9088-6786e12e1e99",
   "metadata": {},
   "source": [
    "---\n",
    "\n",
    "**Problem 2**\n",
    "\n",
    "If your solution of Problem 1 is $\\Theta(n^2)$, you get all points for this problem.\n",
    "\n",
    "If not, redesign your solution of Problem 1 so that it is $\\Theta(n^2)$.\n",
    "\n",
    "Hint: you can update the sum of each sublist in constant time."
   ]
  },
  {
   "cell_type": "code",
   "execution_count": 155,
   "id": "aad5f0a1-397b-4371-b7ff-45045140be57",
   "metadata": {},
   "outputs": [],
   "source": [
    "#\n",
    "# Input: L, a list of numbers\n",
    "# Output: the largest sum of a sublist of L.\n",
    "#\n",
    "def prob2(L):\n",
    "    pass"
   ]
  },
  {
   "cell_type": "markdown",
   "id": "dd7f2ad2-1554-42c6-9d9a-bf61ed4ec4d9",
   "metadata": {},
   "source": [
    "---\n",
    "**Problem 3**\n",
    "\n",
    "Use the following recusive strategy to find the largest sum of a sublist (Problem 1):\n",
    "\n",
    "+ If the list has only one number, return the largest sum of this list.\n",
    "+ Divide the list L in two halves: left and right.\n",
    "+ Find the largest sum of the sublist on the left half.\n",
    "+ Find the largest sum of the sublist on the right half.\n",
    "+ Find the largest sum of the sublist that \"crosses\" both left and right.\n",
    "    + Hint: start in the middle and go to all the way to the beginnig, and then all the way to the end.\n",
    "+ The largest sum of a sublist in L, should be the largest value of these 3 cases.\n",
    "\n",
    "Note: if your solution works out right, the running time should be faster than $\\Theta(n^2)$."
   ]
  },
  {
   "cell_type": "code",
   "execution_count": 156,
   "id": "ffe85024-1319-44d4-8416-96f3abca6c77",
   "metadata": {},
   "outputs": [],
   "source": [
    "#\n",
    "# Input: L, a list of numbers\n",
    "# Output: the largest sum of a sublist of L.\n",
    "#\n",
    "def prob3(L):\n",
    "    if len(L) == 1:\n",
    "        return L\n",
    "    else:\n",
    "        mid = len(L) // 2\n",
    "        left = L[:mid]\n",
    "        right = L[mid:]\n",
    "        sum_left = prob1(left)\n",
    "        sum_right = prob1(right)\n",
    "        left.reverse()\n",
    "        cross_left = prob1(left)\n",
    "        crossed = cross_left + sum_right\n",
    "        return max(crossed, sum_left, sum_right)\n"
   ]
  },
  {
   "cell_type": "code",
   "execution_count": 157,
   "id": "f10f7d6e-8a56-4c2d-9ca9-42b62293e0fa",
   "metadata": {},
   "outputs": [
    {
     "data": {
      "text/plain": [
       "7"
      ]
     },
     "execution_count": 157,
     "metadata": {},
     "output_type": "execute_result"
    }
   ],
   "source": [
    "L = [-10, 5, -3, 4, 1, -7, 3]\n",
    "prob3(L)"
   ]
  },
  {
   "cell_type": "markdown",
   "id": "05f143fe-2cea-4e33-adca-667e0eeff2f5",
   "metadata": {},
   "source": [
    "---\n",
    "**Problem 4**\n",
    "\n",
    "Design and implement a program call **climb4**, which takes as input a non-negative integer $n$ and returns the number of ways you can climb a stair with $n$ steps.   The constraint is that each time you can either clim 1 step, 2 steps, 3 steps, or 4 steps.\n",
    "\n",
    "Make sure you test your program for n from 0 to 10."
   ]
  },
  {
   "cell_type": "code",
   "execution_count": 231,
   "id": "86eb7c6f-9c67-4cb1-a1d4-50ba51781c87",
   "metadata": {},
   "outputs": [],
   "source": [
    "\n",
    "def climb4(n):\n",
    "    if n == 0:\n",
    "        return 1\n",
    "    if n <= 0:\n",
    "        return 0\n",
    "    total = 0\n",
    "    for i in range(1,5):\n",
    "        m = climb4(n - i)\n",
    "        total += m\n",
    "        \n",
    "    return total "
   ]
  },
  {
   "cell_type": "code",
   "execution_count": 232,
   "id": "a3c5227d-07af-4f90-8766-d4a0894e9616",
   "metadata": {},
   "outputs": [
    {
     "name": "stdout",
     "output_type": "stream",
     "text": [
      "1\n",
      "2\n",
      "4\n",
      "8\n",
      "15\n",
      "29\n",
      "56\n",
      "108\n",
      "208\n",
      "401\n"
     ]
    }
   ],
   "source": [
    "for n in range(1,11):\n",
    "    print(climb4(n))"
   ]
  },
  {
   "cell_type": "markdown",
   "id": "6bc092a5-485c-47c3-b0b0-50b06b4649da",
   "metadata": {},
   "source": [
    "---\n",
    "**Problem 5**\n",
    "\n",
    "\n",
    "If your program, climb4, does not store outputs of repeated computation, it is very slow.  For example, with n=50, it might take a long long time to run.\n",
    "\n",
    "Reimplement climb4 and use a table to store outputs and show that your program runs much faster."
   ]
  },
  {
   "cell_type": "code",
   "execution_count": 2,
   "id": "31775af5-0d5c-4029-a5b6-e2a9935e90a6",
   "metadata": {},
   "outputs": [],
   "source": [
    "def climb4(n):\n",
    "    table = [0] * (n + 1)\n",
    "    table[0] = 1\n",
    "    \n",
    "    for i in range(1, n + 1):\n",
    "        total = 0\n",
    "        for j in range(1, 5):\n",
    "            if i - j >= 0:\n",
    "                total += table[i - j]\n",
    "        table[i] = total\n",
    "        \n",
    "    return table"
   ]
  },
  {
   "cell_type": "code",
   "execution_count": 3,
   "id": "b8824dd3-7391-4460-9d97-b5c6dfa32fb9",
   "metadata": {},
   "outputs": [
    {
     "data": {
      "text/plain": [
       "[1,\n",
       " 1,\n",
       " 2,\n",
       " 4,\n",
       " 8,\n",
       " 15,\n",
       " 29,\n",
       " 56,\n",
       " 108,\n",
       " 208,\n",
       " 401,\n",
       " 773,\n",
       " 1490,\n",
       " 2872,\n",
       " 5536,\n",
       " 10671,\n",
       " 20569,\n",
       " 39648,\n",
       " 76424,\n",
       " 147312,\n",
       " 283953,\n",
       " 547337,\n",
       " 1055026,\n",
       " 2033628,\n",
       " 3919944,\n",
       " 7555935,\n",
       " 14564533,\n",
       " 28074040,\n",
       " 54114452,\n",
       " 104308960,\n",
       " 201061985,\n",
       " 387559437,\n",
       " 747044834,\n",
       " 1439975216,\n",
       " 2775641472,\n",
       " 5350220959,\n",
       " 10312882481,\n",
       " 19878720128,\n",
       " 38317465040,\n",
       " 73859288608,\n",
       " 142368356257,\n",
       " 274423830033,\n",
       " 528968939938,\n",
       " 1019620414836,\n",
       " 1965381541064,\n",
       " 3788394725871,\n",
       " 7302365621709,\n",
       " 14075762303480,\n",
       " 27131904192124,\n",
       " 52298426843184,\n",
       " 100808458960497]"
      ]
     },
     "execution_count": 3,
     "metadata": {},
     "output_type": "execute_result"
    }
   ],
   "source": [
    "climb4(50)"
   ]
  },
  {
   "cell_type": "markdown",
   "id": "e0269711-eb6d-4403-9d30-ff102b78f924",
   "metadata": {},
   "source": [
    "---\n",
    "**Problem 6**\n",
    "\n",
    "In this problem, you will design an algorithm to count the number of red nodes in a randomly generated binary tree.\n",
    "\n",
    "A binary tree is a bunch of nodes linked together.\n",
    "\n",
    "A binary tree is specified using a root node. \n",
    "\n",
    "Each node n (including the root node) these attributes:\n",
    "+ n.color -- the color of the node, which is either Red or Blue.\n",
    "+ n.left -- another node.  In other words, n.left is another binary tree.\n",
    "+ n.right -- another node.  In other words, n.right is another binary tree.\n",
    "\n",
    "Use the code below for testing.\n",
    "\n",
    "Hint: because n.left and n.right are also trees, you can use the same strategy to find the number of red nodes in these trees.\n"
   ]
  },
  {
   "cell_type": "code",
   "execution_count": 247,
   "id": "15010d38-9019-4052-bafc-aa5a6592bcad",
   "metadata": {},
   "outputs": [],
   "source": [
    "import random\n",
    "\n",
    "#\n",
    "# The parameter m controls how deep the tree is. \n",
    "# If m is not given, a random number is assigned to it.\n",
    "#\n",
    "class BTree:\n",
    "    def __init__(self, m=None):\n",
    "        if m is None:\n",
    "            m = random.randint(2, 7)\n",
    "        self.left = None\n",
    "        self.right = None\n",
    "        if random.randint(0, 1) == 0:\n",
    "            self.color = 'Blue'\n",
    "        else:\n",
    "            self.color = 'Red'\n",
    "        if random.randint(0, m) > 0:\n",
    "            self.left = BTree(m-1)\n",
    "        if random.randint(0, m) > 0:\n",
    "            self.right = BTree(m-1)\n",
    "\n",
    "    def print(self, indents=0):\n",
    "        print('\\t'*indents + self.color[0])\n",
    "        if self.left is not None:\n",
    "            self.left.print(indents+1)\n",
    "        if self.right is not None:\n",
    "            self.right.print(indents+1)\n",
    "            "
   ]
  },
  {
   "cell_type": "code",
   "execution_count": 248,
   "id": "8b5c2344-8fa3-4e2a-83c4-80e60b834786",
   "metadata": {},
   "outputs": [
    {
     "name": "stdout",
     "output_type": "stream",
     "text": [
      "R\n",
      "\tR\n",
      "\t\tR\n",
      "\t\t\tB\n",
      "\t\t\t\tR\n",
      "\t\t\t\t\tR\n",
      "\t\t\t\t\t\tB\n",
      "\t\t\t\t\t\t\tB\n",
      "\t\t\t\t\t\tR\n",
      "\t\t\t\t\t\t\tR\n",
      "\t\t\t\t\tR\n",
      "\t\t\t\t\t\tB\n",
      "\t\t\t\t\t\t\tR\n",
      "\t\t\t\t\t\tR\n",
      "\t\t\t\t\t\t\tB\n",
      "\t\t\t\tR\n",
      "\t\t\t\t\tR\n",
      "\tB\n",
      "\t\tR\n",
      "\t\t\tR\n",
      "\t\t\t\tR\n",
      "\t\t\t\t\tB\n",
      "\t\t\t\t\t\tB\n",
      "\t\t\t\t\t\tB\n",
      "\t\t\t\t\t\t\tB\n",
      "\t\t\tB\n",
      "\t\t\t\tR\n",
      "\t\t\t\t\tB\n",
      "\t\t\t\t\t\tR\n",
      "\t\t\t\t\t\t\tB\n",
      "\t\t\t\t\t\t\tB\n",
      "\t\t\t\t\t\tB\n",
      "\t\t\t\t\t\t\tB\n",
      "\t\t\t\t\t\t\tR\n",
      "\t\t\t\t\tR\n",
      "\t\t\t\t\t\tR\n",
      "\t\t\t\t\t\t\tR\n"
     ]
    }
   ],
   "source": [
    "# an example of a random tree\n",
    "a_tree = BTree()\n",
    "a_tree.print()"
   ]
  },
  {
   "cell_type": "code",
   "execution_count": 249,
   "id": "2b736544-3949-4fc6-b92a-42e841f8e559",
   "metadata": {},
   "outputs": [],
   "source": [
    "#\n",
    "# Input: T is a root node\n",
    "# Output: the number of red nodes in the tree rooted at T\n",
    "#\n",
    "def prob6(T):\n",
    "    if not T:\n",
    "        return 0\n",
    "    count = 0\n",
    "    if T.color == 'Red':\n",
    "        count = 1    \n",
    "    count += prob6(T.right)\n",
    "    count += prob6(T.left)\n",
    "    return count\n",
    "        \n",
    "    "
   ]
  },
  {
   "cell_type": "code",
   "execution_count": 250,
   "id": "35429516-4d16-4397-b895-8d38d69c339f",
   "metadata": {},
   "outputs": [
    {
     "data": {
      "text/plain": [
       "21"
      ]
     },
     "execution_count": 250,
     "metadata": {},
     "output_type": "execute_result"
    }
   ],
   "source": [
    "prob6(a_tree)"
   ]
  }
 ],
 "metadata": {
  "kernelspec": {
   "display_name": "Python 3 (ipykernel)",
   "language": "python",
   "name": "python3"
  },
  "language_info": {
   "codemirror_mode": {
    "name": "ipython",
    "version": 3
   },
   "file_extension": ".py",
   "mimetype": "text/x-python",
   "name": "python",
   "nbconvert_exporter": "python",
   "pygments_lexer": "ipython3",
   "version": "3.9.13"
  }
 },
 "nbformat": 4,
 "nbformat_minor": 5
}
