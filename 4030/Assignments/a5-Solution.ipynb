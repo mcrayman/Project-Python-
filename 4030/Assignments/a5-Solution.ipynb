{
 "cells": [
  {
   "cell_type": "markdown",
   "id": "cc1e37c0-88f5-453a-927c-be6fcb71b927",
   "metadata": {},
   "source": [
    "# COMP 4030 / 6030 Assignment 5 SOLUTION"
   ]
  },
  {
   "cell_type": "markdown",
   "id": "30d382f4-5df8-4528-a55d-a519fe7416c7",
   "metadata": {},
   "source": [
    "---\n",
    "\n",
    "**Each problem is worth 20 points**\n"
   ]
  },
  {
   "cell_type": "markdown",
   "id": "4e1393c2-d288-4b88-ad7f-eea2fac29675",
   "metadata": {},
   "source": [
    "---\n",
    "**Problem 1**\n",
    "\n",
    "The goal of this problem is to find the a sublist of a list that gives the largest sum.  For example, if the list is [-10, 5, -3, 4, 1, -7, 3], then the sublist [5, -3, 4, 1] gives the largest sum of 7.  The sublist could be the entirely list itself.  In this case, [5, -3, 4, 1] gives the largest sum. No other sublist gives larger sum than 7.  In this case, the output should be 7.\n",
    "\n",
    "Design an iterative algorithm based on this strategy below:\n",
    "* Initialize variable that is used to keep track of the largest sum.\n",
    "* Go through each sublist of the input list L. Note each sublist starts at i and ends at j, where i<=j.\n",
    "    * Calculate the sum of each sublist \n",
    "    * Update the largest sum.\n",
    "* Return the largest sum after all sublists are gone through.\n",
    "\n"
   ]
  },
  {
   "cell_type": "markdown",
   "id": "147f7cf6-56f2-4607-8d44-fa7c890b7059",
   "metadata": {},
   "source": [
    "ANSWER:\n",
    "\n",
    "A sublist starrs at i and ends at j, where j>=i.\n",
    "\n",
    "To go through all sublists, we have to go through each pair (i, j), where j>=i.\n",
    "\n",
    "Ideas: \n",
    "\n",
    "+ Given a similar problem like this, you have to be able to identify this iterative pattern.\n",
    "\n",
    "+ If you look for one of the items in a set, you can initialize the \"record keeping variable\" to one of those items.\n",
    "\n"
   ]
  },
  {
   "cell_type": "code",
   "execution_count": 1,
   "id": "eadd71c1-1bcb-4f48-b6fb-09a4fb781772",
   "metadata": {},
   "outputs": [],
   "source": [
    "#\n",
    "# Input: L, a list of numbers\n",
    "# Output: the largest sum of a sublist of L.\n",
    "#\n",
    "def prob1(L):\n",
    "    if L==[]:\n",
    "        print('Not acceptable input')\n",
    "        return\n",
    "    max_sum = L[0]   # this is one of the options from which max_sum is determined\n",
    "    for i in range(len(L)):\n",
    "        for j in range(i, len(L)):\n",
    "            current_sum = sum(L[i : j+1])   # O(n)\n",
    "            max_sum = max(current_sum, max_sum)\n",
    "            print((i,j), current_sum, max_sum)\n",
    "    return max_sum"
   ]
  },
  {
   "cell_type": "code",
   "execution_count": 3,
   "id": "8d156173-4cfd-4863-8faa-6cee7ca557bf",
   "metadata": {},
   "outputs": [
    {
     "name": "stdout",
     "output_type": "stream",
     "text": [
      "(0, 0) -10 -10\n",
      "(0, 1) -5 -5\n",
      "(0, 2) -8 -5\n",
      "(0, 3) -4 -4\n",
      "(0, 4) -3 -3\n",
      "(0, 5) -10 -3\n",
      "(0, 6) -7 -3\n",
      "(1, 1) 5 5\n",
      "(1, 2) 2 5\n",
      "(1, 3) 6 6\n",
      "(1, 4) 7 7\n",
      "(1, 5) 0 7\n",
      "(1, 6) 3 7\n",
      "(2, 2) -3 7\n",
      "(2, 3) 1 7\n",
      "(2, 4) 2 7\n",
      "(2, 5) -5 7\n",
      "(2, 6) -2 7\n",
      "(3, 3) 4 7\n",
      "(3, 4) 5 7\n",
      "(3, 5) -2 7\n",
      "(3, 6) 1 7\n",
      "(4, 4) 1 7\n",
      "(4, 5) -6 7\n",
      "(4, 6) -3 7\n",
      "(5, 5) -7 7\n",
      "(5, 6) -4 7\n",
      "(6, 6) 3 7\n"
     ]
    },
    {
     "data": {
      "text/plain": [
       "7"
      ]
     },
     "execution_count": 3,
     "metadata": {},
     "output_type": "execute_result"
    }
   ],
   "source": [
    "L = [-10, 5, -3, 4, 1, -7, 3]\n",
    "prob1(L)"
   ]
  },
  {
   "cell_type": "markdown",
   "id": "968f477c-31f5-4d65-9088-6786e12e1e99",
   "metadata": {},
   "source": [
    "---\n",
    "\n",
    "**Problem 2**\n",
    "\n",
    "If your solution of Problem 1 is $\\Theta(n^2)$, you get all points for this problem.\n",
    "\n",
    "If not, redesign your solution of Problem 1 so that it is $\\Theta(n^2)$.\n",
    "\n",
    "Hint: you can update the sum of each sublist in constant time."
   ]
  },
  {
   "cell_type": "markdown",
   "id": "4f19104f-65f8-44ae-96e2-d3623763218e",
   "metadata": {},
   "source": [
    "ANSWER:\n",
    "\n",
    "The running time complexit of prob1 is $\\Theta(n^3)$.\n",
    "\n",
    "prob2 has running time $\\Theta(n^2)$."
   ]
  },
  {
   "cell_type": "code",
   "execution_count": 41,
   "id": "aad5f0a1-397b-4371-b7ff-45045140be57",
   "metadata": {},
   "outputs": [],
   "source": [
    "def prob2(L):\n",
    "    max_sum = L[0]\n",
    "    for i in range(len(L)):\n",
    "        current_sum = 0 \n",
    "        for j in range(i, len(L)):\n",
    "            current_sum += L[j]\n",
    "            max_sum = max(max_sum, current_sum)\n",
    "    return max_sum"
   ]
  },
  {
   "cell_type": "code",
   "execution_count": 45,
   "id": "9a43e306-473c-426d-96e2-133ad4d9e8dd",
   "metadata": {},
   "outputs": [
    {
     "data": {
      "text/plain": [
       "9"
      ]
     },
     "execution_count": 45,
     "metadata": {},
     "output_type": "execute_result"
    }
   ],
   "source": [
    "L = [9,-10, 5, -3, 1, -7, 5, 3]\n",
    "prob2(L)"
   ]
  },
  {
   "cell_type": "markdown",
   "id": "dd7f2ad2-1554-42c6-9d9a-bf61ed4ec4d9",
   "metadata": {},
   "source": [
    "---\n",
    "**Problem 3**\n",
    "\n",
    "Use the following recusive strategy to find the largest sum of a sublist (Problem 1):\n",
    "\n",
    "+ If the list has only one number, return the largest sum of this list.\n",
    "+ Divide the list L in two halves: left and right.\n",
    "+ Find the largest sum of the sublist on the left half.\n",
    "+ Find the largest sum of the sublist on the right half.\n",
    "+ Find the largest sum of the sublist that \"crosses\" both left and right.\n",
    "    + Hint: start in the middle and go to all the way to the beginnig, and then all the way to the end.\n",
    "+ The largest sum of a sublist in L, should be the largest value of these 3 cases.\n",
    "\n",
    "Note: if your solution works out right, the running time should be faster than $\\Theta(n^2)$."
   ]
  },
  {
   "cell_type": "markdown",
   "id": "e75b6497-9549-46c9-96e2-b7a4a1a3c39b",
   "metadata": {},
   "source": [
    "ANSWER:\n",
    "\n",
    "L = -------left-------- --------right--------\n",
    "\n",
    "There're 3 possibilities:\n",
    "1. largest sum comes from left.\n",
    "2. largest sum comes from right.\n",
    "3. ???"
   ]
  },
  {
   "cell_type": "code",
   "execution_count": 71,
   "id": "ffe85024-1319-44d4-8416-96f3abca6c77",
   "metadata": {},
   "outputs": [],
   "source": [
    "#\n",
    "# Input: L, a list of numbers\n",
    "# Output: the largest sum of a sublist of L.\n",
    "#\n",
    "def prob3(L):\n",
    "    if len(L)==1:\n",
    "        return L[0]\n",
    "    left = L[0: len(L)//2]          # c1*n\n",
    "    right = L[len(L)//2 : len(L)]   # c2*n\n",
    "    # print(left, right)\n",
    "    A = prob3(left)                 # T(n/2)\n",
    "    B = prob3(right)                # T(n/2)\n",
    "    C = max_sum_cross(L)            # c3*n\n",
    "    return max(A,B,C)\n",
    "\n",
    "# if we do this in linear time, T(n) = n + 2T(n/2)\n",
    "def max_sum_cross(L):\n",
    "    left_idx = len(L)//2 - 1\n",
    "    cur_sum = 0\n",
    "    max_sum1 = L[left_idx]\n",
    "    for i in range(left_idx, -1, -1):\n",
    "        cur_sum += L[i]\n",
    "        max_sum1 = max(max_sum1, cur_sum)\n",
    "        \n",
    "    right_idx = len(L)//2\n",
    "    cur_sum = 0\n",
    "    max_sum2 = L[right_idx]\n",
    "    for i in range(right_idx, len(L)):\n",
    "        cur_sum += L[i]\n",
    "        max_sum2 = max(max_sum2, cur_sum)\n",
    "    \n",
    "    return max_sum1 + max_sum2\n",
    "\n"
   ]
  },
  {
   "cell_type": "code",
   "execution_count": 72,
   "id": "dab0afbc-77b1-4bec-beae-a37a1e0d3ec9",
   "metadata": {},
   "outputs": [],
   "source": [
    "# max_sum_cross(L)"
   ]
  },
  {
   "cell_type": "markdown",
   "id": "a926a8e1-8920-4386-94be-0daecde3367b",
   "metadata": {},
   "source": [
    "$T(n) = n + 2T(n/2) \\in \\Theta(n \\log n)$\n"
   ]
  },
  {
   "cell_type": "code",
   "execution_count": 74,
   "id": "337d33e7-9e14-405a-809a-b178988d2b07",
   "metadata": {},
   "outputs": [
    {
     "data": {
      "text/plain": [
       "(21, 21)"
      ]
     },
     "execution_count": 74,
     "metadata": {},
     "output_type": "execute_result"
    }
   ],
   "source": [
    "L = [19,-10, 5, 3, 1, -7, 5, 3, 2]\n",
    "prob3(L), prob2(L)"
   ]
  },
  {
   "cell_type": "markdown",
   "id": "cd87c6d4-c134-4f79-9b73-175dbd1d36cd",
   "metadata": {},
   "source": [
    "How do find the largest sum of a \"crossing\" sublist in linear time?\n",
    "\n",
    "+ It must include -3 and 1.\n",
    "\n",
    "+ The left part of the crossing sublist must be one of these:\n",
    "    + [-3]   --> -3\n",
    "    + [5, -3] --> 2    <-- this is the one from the left.\n",
    "    + [-10, 5, -3] --> -8\n",
    "    + [9, -10, 5, -3] -> 1\n",
    "\n",
    "+ The right part of the crossing sublist must be one of these:\n",
    "    + [1] --> 1\n",
    "    + [1, -7] --> -6\n",
    "    + [1, -7, 5] --> -1\n",
    "    + [1, -7, 5, 3] --> 2\n",
    "    + [1, -7, 5, 3, 2] --> 5  <--- this is the one from the right.\n",
    "    \n",
    "The crossing sublist is [5, -3, 1, -7, 5, 3, 2] with sum = 2 + 5 = 7\n"
   ]
  },
  {
   "cell_type": "markdown",
   "id": "05f143fe-2cea-4e33-adca-667e0eeff2f5",
   "metadata": {},
   "source": [
    "---\n",
    "**Problem 4**\n",
    "\n",
    "Design and implement a program call **climb4**, which takes as input a non-negative integer $n$ and returns the number of ways you can climb a stair with $n$ steps.   The constraint is that each time you can either clim 1 step, 2 steps, 3 steps, or 4 steps.\n",
    "\n",
    "Make sure you test your program for n from 0 to 10."
   ]
  },
  {
   "cell_type": "code",
   "execution_count": 76,
   "id": "86eb7c6f-9c67-4cb1-a1d4-50ba51781c87",
   "metadata": {},
   "outputs": [],
   "source": [
    "def prob4(n):\n",
    "    if n==0:\n",
    "        return 0\n",
    "    if n==1:\n",
    "        return 1\n",
    "    if n==2:\n",
    "        # 2 = 1+1, 2\n",
    "        return 2\n",
    "    if n==3:\n",
    "        # 3 = 1+1+1, 1+2, 2+1, 3\n",
    "        return 4\n",
    "    if n==4:\n",
    "        # 4 = 1+1+1+1, 1+2+1, 1+1+2, 1+3, 2+1+1, 2+2, 3+1, 4\n",
    "        return 8\n",
    "    \n",
    "    a = prob4(n-1)   # number of ways to walk n-1 steps\n",
    "    b = prob4(n-2)   # number of ways to walk n-2 steps\n",
    "    c = prob4(n-3)   # number of ways to walk n-3 steps\n",
    "    d = prob4(n-4)   # number of ways to walk n-4 steps\n",
    "    \n",
    "    return a+b+c+d"
   ]
  },
  {
   "cell_type": "code",
   "execution_count": 83,
   "id": "4e78a972-fed5-4ec2-a029-5c681a773113",
   "metadata": {},
   "outputs": [
    {
     "name": "stdout",
     "output_type": "stream",
     "text": [
      "0 0\n",
      "1 1\n",
      "2 2\n",
      "3 4\n",
      "4 8\n",
      "5 15\n",
      "6 29\n",
      "7 56\n",
      "8 108\n",
      "9 208\n",
      "10 401\n",
      "11 773\n",
      "12 1490\n",
      "13 2872\n",
      "14 5536\n",
      "15 10671\n",
      "16 20569\n",
      "17 39648\n",
      "18 76424\n",
      "19 147312\n",
      "20 283953\n",
      "21 547337\n",
      "22 1055026\n",
      "23 2033628\n",
      "24 3919944\n",
      "25 7555935\n",
      "26 14564533\n",
      "27 28074040\n",
      "28 54114452\n",
      "29 104308960\n"
     ]
    }
   ],
   "source": [
    "for n in range(30):\n",
    "    print(n, prob4(n))"
   ]
  },
  {
   "cell_type": "markdown",
   "id": "6bc092a5-485c-47c3-b0b0-50b06b4649da",
   "metadata": {},
   "source": [
    "---\n",
    "**Problem 5**\n",
    "\n",
    "\n",
    "If your program, climb4, does not store outputs of repeated computation, it is very slow.  For example, with n=50, it might take a long long time to run.\n",
    "\n",
    "Reimplement climb4 and use a table to store outputs and show that your program runs much faster."
   ]
  },
  {
   "cell_type": "code",
   "execution_count": null,
   "id": "3cf18a61-b2e5-4e81-814b-ecabfbef6639",
   "metadata": {},
   "outputs": [],
   "source": []
  },
  {
   "cell_type": "code",
   "execution_count": 84,
   "id": "31775af5-0d5c-4029-a5b6-e2a9935e90a6",
   "metadata": {},
   "outputs": [],
   "source": [
    "Table = {}\n",
    "def prob5(n):\n",
    "    if n in Table:\n",
    "        return Table[n]\n",
    "    \n",
    "    if n==0:\n",
    "        Table[n] = 0\n",
    "        return 0\n",
    "    if n==1:\n",
    "        Table[n] = 1\n",
    "        return 1\n",
    "    if n==2:\n",
    "        Table[n] = 2\n",
    "        return 2\n",
    "    if n==3:\n",
    "        Table[n] = 4\n",
    "        return 4\n",
    "    if n==4:\n",
    "        Table[n] = 8\n",
    "        return 8\n",
    "    \n",
    "    a = prob5(n-1)   # number of ways to walk n-1 steps\n",
    "    b = prob5(n-2)   # number of ways to walk n-2 steps\n",
    "    c = prob5(n-3)   # number of ways to walk n-3 steps\n",
    "    d = prob5(n-4)   # number of ways to walk n-4 steps\n",
    "        \n",
    "    Table[n] = a+b+c+d\n",
    "    return a+b+c+d"
   ]
  },
  {
   "cell_type": "code",
   "execution_count": 85,
   "id": "2d90a56c-bb01-41e1-afc7-7855bed4d0e5",
   "metadata": {},
   "outputs": [
    {
     "name": "stdout",
     "output_type": "stream",
     "text": [
      "0 0\n",
      "1 1\n",
      "2 2\n",
      "3 4\n",
      "4 8\n",
      "5 15\n",
      "6 29\n",
      "7 56\n",
      "8 108\n",
      "9 208\n",
      "10 401\n",
      "11 773\n",
      "12 1490\n",
      "13 2872\n",
      "14 5536\n",
      "15 10671\n",
      "16 20569\n",
      "17 39648\n",
      "18 76424\n",
      "19 147312\n",
      "20 283953\n",
      "21 547337\n",
      "22 1055026\n",
      "23 2033628\n",
      "24 3919944\n",
      "25 7555935\n",
      "26 14564533\n",
      "27 28074040\n",
      "28 54114452\n",
      "29 104308960\n",
      "30 201061985\n",
      "31 387559437\n",
      "32 747044834\n",
      "33 1439975216\n",
      "34 2775641472\n",
      "35 5350220959\n",
      "36 10312882481\n",
      "37 19878720128\n",
      "38 38317465040\n",
      "39 73859288608\n",
      "40 142368356257\n",
      "41 274423830033\n",
      "42 528968939938\n",
      "43 1019620414836\n",
      "44 1965381541064\n",
      "45 3788394725871\n",
      "46 7302365621709\n",
      "47 14075762303480\n",
      "48 27131904192124\n",
      "49 52298426843184\n",
      "50 100808458960497\n",
      "51 194314552299285\n",
      "52 374553342295090\n",
      "53 721974780398056\n",
      "54 1391651133952928\n",
      "55 2682493808945359\n",
      "56 5170673065591433\n",
      "57 9966792788887776\n",
      "58 19211610797377496\n",
      "59 37031570460802064\n",
      "60 71380647112658769\n",
      "61 137590621159726105\n",
      "62 265214449530564434\n",
      "63 511217288263751372\n",
      "64 985403006066700680\n",
      "65 1899425365020742591\n",
      "66 3661260108881759077\n",
      "67 7057305768232953720\n",
      "68 13603394248202156068\n",
      "69 26221385490337611456\n",
      "70 50543345615654480321\n",
      "71 97425431122427201565\n",
      "72 187793556476621449410\n",
      "73 361983718705040742752\n",
      "74 697746051919743874048\n",
      "75 1344948758223833267775\n",
      "76 2592472085325239333985\n",
      "77 4997150614173857218560\n",
      "78 9632317509642673694368\n",
      "79 18566888967365603514688\n",
      "80 35788829176507373761601\n",
      "81 68985186267689508189217\n",
      "82 132973221921205159159874\n",
      "83 256314126332767644625380\n",
      "84 494061363698169685736072\n",
      "85 952333898219831997710543\n",
      "86 1835682610171974487231869\n",
      "87 3538391998422743815303864\n",
      "88 6820469870512719985982348\n",
      "89 13146878377327270286228624\n",
      "90 25341422856434708574746705\n",
      "91 48847163102697442662261541\n",
      "92 94155934206972141509219218\n",
      "93 181491398543431563032456088\n",
      "94 349835918709535855778683552\n",
      "95 674330414562637002982620399\n",
      "96 1299813666022576563302979257\n",
      "97 2505471397838180985096739296\n",
      "98 4829451397132930407161022504\n",
      "99 9309066875556324958543361456\n"
     ]
    }
   ],
   "source": [
    "for n in range(100):\n",
    "    print(n, prob5(n))"
   ]
  },
  {
   "cell_type": "markdown",
   "id": "e0269711-eb6d-4403-9d30-ff102b78f924",
   "metadata": {},
   "source": [
    "---\n",
    "**Problem 6**\n",
    "\n",
    "In this problem, you will design an algorithm to count the number of red nodes in a randomly generated binary tree.\n",
    "\n",
    "A binary tree is a bunch of nodes linked together.\n",
    "\n",
    "A binary tree is specified using a root node. \n",
    "\n",
    "Each node n (including the root node) these attributes:\n",
    "+ n.color -- the color of the node, which is either Red or Blue.\n",
    "+ n.left -- another node.  In other words, n.left is another binary tree.\n",
    "+ n.right -- another node.  In other words, n.right is another binary tree.\n",
    "\n",
    "Use the code below for testing.\n",
    "\n",
    "Hint: because n.left and n.right are also trees, you can use the same strategy to find the number of red nodes in these trees.\n"
   ]
  },
  {
   "cell_type": "code",
   "execution_count": 86,
   "id": "15010d38-9019-4052-bafc-aa5a6592bcad",
   "metadata": {},
   "outputs": [],
   "source": [
    "import random\n",
    "\n",
    "#\n",
    "# The parameter m controls how deep the tree is. \n",
    "# If m is not given, a random number is assigned to it.\n",
    "#\n",
    "class BTree:\n",
    "    def __init__(self, m=None):\n",
    "        if m is None:\n",
    "            m = random.randint(2, 7)\n",
    "        self.left = None\n",
    "        self.right = None\n",
    "        if random.randint(0, 1) == 0:\n",
    "            self.color = 'Blue'\n",
    "        else:\n",
    "            self.color = 'Red'\n",
    "        if random.randint(0, m) > 0:\n",
    "            self.left = BTree(m-1)\n",
    "        if random.randint(0, m) > 0:\n",
    "            self.right = BTree(m-1)\n",
    "\n",
    "    def print(self, indents=0):\n",
    "        print('\\t'*indents + self.color[0])\n",
    "        if self.left is not None:\n",
    "            self.left.print(indents+1)\n",
    "        if self.right is not None:\n",
    "            self.right.print(indents+1)\n",
    "            "
   ]
  },
  {
   "cell_type": "code",
   "execution_count": 94,
   "id": "8b5c2344-8fa3-4e2a-83c4-80e60b834786",
   "metadata": {},
   "outputs": [
    {
     "name": "stdout",
     "output_type": "stream",
     "text": [
      "R\n",
      "\tR\n",
      "\t\tB\n",
      "\tB\n",
      "\t\tB\n",
      "\t\t\tB\n",
      "\t\tR\n",
      "\t\t\tB\n",
      "\t\t\t\tB\n",
      "\t\t\tR\n"
     ]
    }
   ],
   "source": [
    "# an example of a random tree\n",
    "a_tree = BTree(4)\n",
    "a_tree.print()\n"
   ]
  },
  {
   "cell_type": "code",
   "execution_count": 98,
   "id": "2b736544-3949-4fc6-b92a-42e841f8e559",
   "metadata": {},
   "outputs": [],
   "source": [
    "#\n",
    "# Input: T is a root node\n",
    "# Output: the number of red nodes in the tree rooted at T\n",
    "#\n",
    "def prob6(T):\n",
    "    if T is None:\n",
    "        return 0\n",
    "    count = 0\n",
    "    if T.color == 'Red':\n",
    "        count += 1\n",
    "    return count + prob6(T.left) + prob6(T.right)"
   ]
  },
  {
   "cell_type": "markdown",
   "id": "ba432823-5808-45cf-9ccd-27e138e76e2f",
   "metadata": {},
   "source": [
    "The number of red nodes in T is equal to:\n",
    "+ The number of red nodes in the left child of T, plus\n",
    "+ The number of red nodes in the right child of T, plus\n",
    "+ 1 if T is red.\n"
   ]
  },
  {
   "cell_type": "code",
   "execution_count": 101,
   "id": "db3edd42-fe6a-4b6a-8cdc-aa6ac2348232",
   "metadata": {},
   "outputs": [
    {
     "name": "stdout",
     "output_type": "stream",
     "text": [
      "B\n",
      "\tB\n",
      "\t\tR\n",
      "\t\t\tR\n",
      "\t\t\t\tB\n",
      "\t\t\t\t\tR\n",
      "\t\t\tR\n",
      "\t\t\t\tB\n",
      "\t\t\t\t\tR\n",
      "\t\t\t\t\tR\n",
      "\t\t\t\tB\n",
      "\t\tR\n"
     ]
    }
   ],
   "source": [
    "a_tree = BTree(5)\n",
    "a_tree.print()"
   ]
  },
  {
   "cell_type": "code",
   "execution_count": 102,
   "id": "17f086b9-86b8-40dd-9de6-7450a6272645",
   "metadata": {},
   "outputs": [
    {
     "data": {
      "text/plain": [
       "7"
      ]
     },
     "execution_count": 102,
     "metadata": {},
     "output_type": "execute_result"
    }
   ],
   "source": [
    "prob6(a_tree)"
   ]
  },
  {
   "cell_type": "code",
   "execution_count": null,
   "id": "f09b6c49-4d72-4ab3-ba40-b70a0227e3cc",
   "metadata": {},
   "outputs": [],
   "source": []
  },
  {
   "cell_type": "code",
   "execution_count": null,
   "id": "f151c526-b27a-4ce3-b780-ffc1d15db6b8",
   "metadata": {},
   "outputs": [],
   "source": []
  },
  {
   "cell_type": "code",
   "execution_count": null,
   "id": "daf3708f-0976-4976-92ff-6d091226fd60",
   "metadata": {},
   "outputs": [],
   "source": []
  }
 ],
 "metadata": {
  "kernelspec": {
   "display_name": "Python 3 (ipykernel)",
   "language": "python",
   "name": "python3"
  },
  "language_info": {
   "codemirror_mode": {
    "name": "ipython",
    "version": 3
   },
   "file_extension": ".py",
   "mimetype": "text/x-python",
   "name": "python",
   "nbconvert_exporter": "python",
   "pygments_lexer": "ipython3",
   "version": "3.9.13"
  }
 },
 "nbformat": 4,
 "nbformat_minor": 5
}
