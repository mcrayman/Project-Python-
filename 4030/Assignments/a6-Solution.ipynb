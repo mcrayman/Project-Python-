{
 "cells": [
  {
   "cell_type": "markdown",
   "id": "cc1e37c0-88f5-453a-927c-be6fcb71b927",
   "metadata": {},
   "source": [
    "# COMP 4030 / 6030 Assignment 6 SOLUTION\n",
    "\n",
    "**Due: Monday, 4/17/2023, before midnight.**"
   ]
  },
  {
   "cell_type": "markdown",
   "id": "30d382f4-5df8-4528-a55d-a519fe7416c7",
   "metadata": {},
   "source": [
    "---\n",
    "\n",
    "**Each problem is worth 20 points**\n"
   ]
  },
  {
   "cell_type": "markdown",
   "id": "30e37c45-f2dc-432c-acfb-0601e5836918",
   "metadata": {},
   "source": [
    "---\n",
    "\n",
    "**Problem 1**\n",
    "\n",
    "\n",
    "Given a 2D grid, design and implement the program **count_paths(m,n)** that returns the number of ways a robot can move from position (m,n), which is the top right corner on the grid, to position (1,1), which is the bottom left corner of the grid.\n",
    "\n",
    "The constraint is the robot can only move left and down; from position (5,4) for example, it can only move left to (4,4) or move down to (5,3).\n",
    "\n",
    "As an example, **count_paths(2,2)** should return 2 because there are only two ways to move from position (2,2) to position (1,1).\n",
    "\n",
    "In this problem, you have an opportunity to apply the technique we've learned:\n",
    "\n",
    "+ Consider first move to be made.\n",
    "+ Analyze the possibilities.\n",
    "+ Each possibility should reduce the problem to a subproblem (which is the same problem but is smaller in input size).\n",
    "+ Use the same method/strategy to solve the subproblem.\n",
    "+ Make sure all special cases (when you can't reduce to a subproblem) are taken care of.\n",
    "\n",
    "In this figure below, we start from (7,3), and try to get to (1,1).\n",
    "\n",
    "<img src=\"https://i.imgur.com/75jsBWm.png\">"
   ]
  },
  {
   "cell_type": "markdown",
   "id": "41677963-d098-4918-b11a-2219e4126382",
   "metadata": {},
   "source": [
    "ANSWER:\n",
    "\n",
    "At a given coordinate (m,n), there are only two possibilities to move: left or down.\n",
    "+ Moving left, (m,n) --> (m-1,n)   (assuming m>1)\n",
    "    + the number of ways to move from (m-1,n) to (1,1) is count_paths(m-1, n)\n",
    "+ Moving down, (m,n) --> (m,n-1)   (assuming n>1)\n",
    "    + the number of ways to move from (m,n-1) to (1,1) is count_paths(m, n-1)\n"
   ]
  },
  {
   "cell_type": "code",
   "execution_count": 4,
   "id": "7e53de4f-2df1-4abd-91e2-16b7ccbd45b0",
   "metadata": {},
   "outputs": [],
   "source": [
    "#\n",
    "# Output: the number of ways to move from (m,n) to (1,1)\n",
    "#\n",
    "def count_paths(m, n):\n",
    "    if m==1:\n",
    "        return 1\n",
    "    if n==1:\n",
    "        return 1\n",
    "    return count_paths(m-1,n) + count_paths(m,n-1)"
   ]
  },
  {
   "cell_type": "code",
   "execution_count": 6,
   "id": "7276200d-937d-49a9-a91a-03d8fa05838f",
   "metadata": {},
   "outputs": [
    {
     "data": {
      "text/plain": [
       "28"
      ]
     },
     "execution_count": 6,
     "metadata": {},
     "output_type": "execute_result"
    }
   ],
   "source": [
    "count_paths(7,3)"
   ]
  },
  {
   "cell_type": "markdown",
   "id": "c980c7d0-612f-4a84-b2ed-b3ab50afffaf",
   "metadata": {},
   "source": [
    "Note: Storing outputs will speed things up. "
   ]
  },
  {
   "cell_type": "code",
   "execution_count": 5,
   "id": "3d5aae8f-aadd-411e-aaed-9ea55ea946e4",
   "metadata": {},
   "outputs": [],
   "source": [
    "Table = {}\n",
    "def count_paths(m, n):\n",
    "    if (m,n) in Table:\n",
    "        return Table[m,n]\n",
    "    if m==1:\n",
    "        return 1\n",
    "    if n==1:\n",
    "        return 1\n",
    "    Table[m,n] = count_paths(m-1,n) + count_paths(m,n-1)\n",
    "    return Table[m,n]"
   ]
  },
  {
   "cell_type": "code",
   "execution_count": 6,
   "id": "7d875cba-ddce-4236-baa8-92d970d78b7c",
   "metadata": {},
   "outputs": [
    {
     "data": {
      "text/plain": [
       "28"
      ]
     },
     "execution_count": 6,
     "metadata": {},
     "output_type": "execute_result"
    }
   ],
   "source": [
    "count_paths(7,3)"
   ]
  },
  {
   "cell_type": "markdown",
   "id": "39c7c52c-9097-46f2-bb26-850ffa724e34",
   "metadata": {},
   "source": [
    "---\n",
    "\n",
    "**Problem 2**\n",
    "\n",
    "In this version, **count_paths** has an extra input called **obstacles**, which is a list of coordinates of obstacles.  The robot cannot move through an obstacle.\n",
    "\n",
    "Examples:\n",
    "\n",
    "+ **count_paths(2, 2, [(2,1)])** returns 1.  There's only 1 path from (2,2) to (1,1); the robot cannot move through (2,1).\n",
    "\n",
    "+ **count_paths(2, 2, [(2,1), (1,2)])** returns 0.  There's no path from (2,2) to (1,1), with the obstacles at (2,1) and (1,2).\n",
    "\n",
    "As visual example, the figure below shows the robot starting from (7,3), trying to get to (1,1) while avoiding two obstacles at (3,2) and (5,1).  \n",
    "\n",
    "The call **count_paths(7, 3, [(3,2), (5,1)])** should return the number of paths from (7,3) to (1,1) given the coordinates of the two obstacles.\n",
    "\n",
    "\n",
    "<img src=\"https://i.imgur.com/xNoHWaf.png\">"
   ]
  },
  {
   "cell_type": "code",
   "execution_count": 10,
   "id": "879a709d-5590-493a-83ad-d779057d070a",
   "metadata": {},
   "outputs": [],
   "source": [
    "#\n",
    "# Output: the number of ways to move from (m,n) to (1,1)\n",
    "#         without going through the obstacles\n",
    "#\n",
    "def count_paths(m, n, obstacles):\n",
    "    if (m,n) in obstacles:\n",
    "        return 0\n",
    "    if m==1 and n==1:\n",
    "        return 1\n",
    "    if m==1:\n",
    "        return count_paths(m, n-1, obstacles)\n",
    "    if n==1:\n",
    "        return count_paths(m-1, n, obstacles)\n",
    "    return count_paths(m-1, n, obstacles) + count_paths(m, n-1, obstacles)\n"
   ]
  },
  {
   "cell_type": "code",
   "execution_count": 11,
   "id": "06738cd1-6473-4831-aa29-a1787dae6a88",
   "metadata": {},
   "outputs": [
    {
     "data": {
      "text/plain": [
       "1"
      ]
     },
     "execution_count": 11,
     "metadata": {},
     "output_type": "execute_result"
    }
   ],
   "source": [
    "count_paths(4, 2, [(3,2), (5,1)])"
   ]
  },
  {
   "cell_type": "markdown",
   "id": "4820f696-1646-49f1-920b-537410c3a036",
   "metadata": {},
   "source": [
    "---\n",
    "\n",
    "**Problem 3**\n",
    "\n",
    "We discussed in Notebook 14, the \"boolean making change\" problem, which is to determine out if it's possible to make change for X dollars using certain coin values.\n",
    "\n",
    "Examples:\n",
    "+ Input: values = [5, 7], X=19.  Output: True.  (Reason: 19 = 5 + 7 + 7)\n",
    "+ Input: values = [5, 7], X=13.  Output: False.\n",
    "\n",
    "The Python implementation of this problem is as follows:\n",
    "```\n",
    "def make_change(values, X):\n",
    "    if X==0:\n",
    "        return True\n",
    "    if X<0:\n",
    "        return False\n",
    "    for v in values:\n",
    "        a = make_change(values, X-v)\n",
    "        if a==True:\n",
    "            return True\n",
    "    return False\n",
    "```"
   ]
  },
  {
   "cell_type": "markdown",
   "id": "e8576424-8bce-48c0-8d68-1bf3ddc435e8",
   "metadata": {},
   "source": [
    "In this problem, you will need to solve a problem that is similar to the original \"boolean\" change making problem.\n",
    "\n",
    "Here, we need to determine the actual solution.\n",
    "\n",
    "Examples:\n",
    "+ Input: values = [5, 7], X=19.  Output: [5,7,7]\n",
    "+ Input: values = [5, 7], X=13.  Output: None.\n",
    "\n",
    "Solve this problem **recursively** by modifying the original implementation above."
   ]
  },
  {
   "cell_type": "code",
   "execution_count": 17,
   "id": "9f18b500-2133-4cf2-bd10-ff15f93dea20",
   "metadata": {},
   "outputs": [],
   "source": [
    "#\n",
    "# Input: values, X\n",
    "# Output: a solution (a list) or None (in case it's not possible to make change for X)\n",
    "#\n",
    "def make_change_with_solution(values, X):\n",
    "    if X==0:\n",
    "        return []\n",
    "    if X<0:\n",
    "        # not possible to make change for X\n",
    "        return None\n",
    "    for v in values:\n",
    "        changes = make_change_with_solution(values, X-v)\n",
    "        if changes is not None:\n",
    "            changes.append(v)\n",
    "            return changes\n",
    "    return None"
   ]
  },
  {
   "cell_type": "code",
   "execution_count": 29,
   "id": "a8664a14-a21b-4207-887f-c51bb635d8f9",
   "metadata": {},
   "outputs": [
    {
     "data": {
      "text/plain": [
       "[5, 5, 5]"
      ]
     },
     "execution_count": 29,
     "metadata": {},
     "output_type": "execute_result"
    }
   ],
   "source": [
    "make_change_with_solution([5,7], 15)"
   ]
  },
  {
   "cell_type": "markdown",
   "id": "c09b3449-60ea-46fe-bf8a-f3cc040c56fe",
   "metadata": {},
   "source": [
    "---\n",
    "\n",
    "**Problem 4**\n",
    "\n",
    "Use the backtracking technique we learned to implement the **buy_fruits** program below.\n",
    "\n",
    "This program has 2 inputs: the number of fruits you need to buy and the types of fruits you can buy.\n",
    "\n",
    "This program does not return anything, but it prints out all possible combinations of fruits you can buy with the given constraints.\n",
    "\n",
    "As an example, **buy_fruits(2, ['apple','orange','lemon','strawberry'])** prints out these:\n",
    "\n",
    "```\n",
    "    ['apple', 'apple']\n",
    "    ['apple', 'orange']\n",
    "    ['apple', 'lemon']\n",
    "    ['apple', 'strawberry']\n",
    "    ['orange', 'apple']\n",
    "    ['orange', 'orange']\n",
    "    ['orange', 'lemon']\n",
    "    ['orange', 'strawberry']\n",
    "    ['lemon', 'apple']\n",
    "    ['lemon', 'orange']\n",
    "    ['lemon', 'lemon']\n",
    "    ['lemon', 'strawberry']\n",
    "    ['strawberry', 'apple']\n",
    "    ['strawberry', 'orange']\n",
    "    ['strawberry', 'lemon']\n",
    "    ['strawberry', 'strawberry']\n",
    "```"
   ]
  },
  {
   "cell_type": "code",
   "execution_count": null,
   "id": "35429516-4d16-4397-b895-8d38d69c339f",
   "metadata": {},
   "outputs": [],
   "source": [
    "#\n",
    "# Input: solution, i, possibilities\n",
    "# Questions:\n",
    "#    what does backtrack(solution, i, possibilities) do?\n",
    "#    what is possibilities? and what does it do?\n",
    "#    what is i? what does it tell us?\n",
    "#\n",
    "#\n",
    "def generate(solution, i, possibilities):\n",
    "    if i==len(solution):\n",
    "        print(solution)\n",
    "    else:\n",
    "        for p in possibilities(solution, i):\n",
    "            solution[i] = p\n",
    "            generate(solution, i+1, possibilities)\n",
    "\n",
    "#\n",
    "# Input: \n",
    "#   how_many: number of fruits you need to buy\n",
    "#   options: types of fruits you can buy\n",
    "#\n",
    "def buy_fruits(how_many, options):\n",
    "    generate([None]*how_many, 0, options)"
   ]
  },
  {
   "cell_type": "code",
   "execution_count": 9,
   "id": "2276880e-4c9b-46c8-8e31-c7835f537fa4",
   "metadata": {},
   "outputs": [
    {
     "name": "stdout",
     "output_type": "stream",
     "text": [
      "['apple']\n",
      "['orange']\n",
      "['lemon']\n",
      "['strawberry']\n"
     ]
    }
   ],
   "source": [
    "buy_fruits(1, lambda solution, i: ['apple','orange','lemon','strawberry'])"
   ]
  },
  {
   "cell_type": "code",
   "execution_count": 45,
   "id": "9c21aedc-29d4-492c-86a1-ca9e97931b6d",
   "metadata": {},
   "outputs": [
    {
     "name": "stdout",
     "output_type": "stream",
     "text": [
      "['orange', 'orange', 'orange']\n",
      "['orange', 'orange', 'lemon']\n",
      "['orange', 'lemon', 'orange']\n",
      "['orange', 'lemon', 'lemon']\n",
      "['lemon', 'orange', 'orange']\n",
      "['lemon', 'orange', 'lemon']\n",
      "['lemon', 'lemon', 'orange']\n",
      "['lemon', 'lemon', 'lemon']\n"
     ]
    }
   ],
   "source": [
    "buy_fruits(3, lambda solution, i: ['orange','lemon'])"
   ]
  },
  {
   "cell_type": "code",
   "execution_count": null,
   "id": "f8e03d9f-b11b-4970-be95-801e751a21e6",
   "metadata": {},
   "outputs": [],
   "source": []
  },
  {
   "cell_type": "code",
   "execution_count": null,
   "id": "269a8375-bfaf-45a2-8503-cbe8c43df941",
   "metadata": {},
   "outputs": [],
   "source": []
  }
 ],
 "metadata": {
  "kernelspec": {
   "display_name": "Python 3 (ipykernel)",
   "language": "python",
   "name": "python3"
  },
  "language_info": {
   "codemirror_mode": {
    "name": "ipython",
    "version": 3
   },
   "file_extension": ".py",
   "mimetype": "text/x-python",
   "name": "python",
   "nbconvert_exporter": "python",
   "pygments_lexer": "ipython3",
   "version": "3.9.13"
  }
 },
 "nbformat": 4,
 "nbformat_minor": 5
}
