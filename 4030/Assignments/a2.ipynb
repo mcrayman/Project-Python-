{
 "cells": [
  {
   "cell_type": "markdown",
   "id": "cc1e37c0-88f5-453a-927c-be6fcb71b927",
   "metadata": {},
   "source": [
    "# COMP 4030 / 6030 Assignment 2\n",
    "\n",
    "Deadline: before midnight Monday 02/20/2023"
   ]
  },
  {
   "cell_type": "markdown",
   "id": "a2b527b6-c520-4977-bf10-674ae5917912",
   "metadata": {},
   "source": [
    "NAME:  Matthew McMeans"
   ]
  },
  {
   "cell_type": "markdown",
   "id": "bc16fdaa-da2a-4775-92d4-7f300cd999b6",
   "metadata": {},
   "source": [
    "---\n",
    "\n",
    "**Academic misconduct**\n",
    "\n",
    "If you use code that you did not write yourself, mention the source explicitly. If this is not done, you commit plagirism.  You can discuss, explain, get help from your classmate on how to solve a problem.  If the code or writing is not yours, it is plagiarism.   Plagiarism results in a grade of 0 for the assignment.  There might be an additional penalty and report to the department and college.\n",
    "\n",
    "Please review additional information about academic misconduct: https://www.memphis.edu/osa/students/academic-misconduct.php\n",
    "\n",
    "\n",
    "**How a coding problem is graded**\n",
    "\n",
    "This is a general guideline for grading coding problems.\n",
    "\n",
    "* If you are not asked for an explanation of your code:\n",
    "    * Coding: 85%\n",
    "        + Code is correct: 85%\n",
    "        + Code is correct, but missing some minor elements: 25%-75%\n",
    "        + Incorrect solution, but make an effort: 10%-25%\n",
    "        + Empty: 0% \n",
    "    * Testing: 15%\n",
    "        + Providing adequate testing of code: 15%\n",
    "        + Code operational but does not show how the answer(s) were generated: 5%\n",
    "        + Code not runnable or no testing: 0%\n",
    "* If  you are specifically asked for an explanation of your code:\n",
    "    * Coding: 70%\n",
    "        + Code is correct: 70%\n",
    "        + Code is correct, but missing some minor elements: 25%-60%\n",
    "        + Incorrect solution, but make an effort: 10%-25%\n",
    "        + Empty: 0% \n",
    "    * Explanation of code: 15%\n",
    "        + Concise English explanation of your strategy/code: 15%\n",
    "        + No explanation: 0%\n",
    "    * Testing: 15%\n",
    "        + Providing adequate testing of code: 15%\n",
    "        + Code operational but does not show how the answer(s) were generated: 5%\n",
    "        + Code not runnable or no testing: 0%\n",
    "\n",
    "\n",
    "If a problem has multiple parts, then the points are equally divided.  For example, if a 10-point problem has 2 parts, then each part is given 5 points. And each part is graded based on the same criteria.\n",
    "\n",
    "\n",
    "**How to turn in your assignment**\n",
    "\n",
    "+ Export your notebook to an HTML file.\n",
    "+ Upload it to the appropriate folder in Assignments on Canvas."
   ]
  },
  {
   "cell_type": "markdown",
   "id": "30d382f4-5df8-4528-a55d-a519fe7416c7",
   "metadata": {},
   "source": [
    "---\n",
    "\n",
    "**Each problem is worth 15 points.**"
   ]
  },
  {
   "cell_type": "markdown",
   "id": "99e48977-0fe5-4ae1-b282-144173fef8bb",
   "metadata": {},
   "source": [
    "---\n",
    "\n",
    "**Problem 1**\n",
    "\n",
    "Use the definition of Big-O to explain why this is true:  $7n^4 + 10n + 5 \\in O(n^5)$.\n"
   ]
  },
  {
   "cell_type": "markdown",
   "id": "943f2926-50ea-4cb4-86fd-1818d18fc710",
   "metadata": {},
   "source": [
    "T(n) = $7n^4 + 10n + 5 ≤ 7n^5 + 10n^5 + 5n^5 = 22n^5$ for all n > 1\n",
    "\n",
    "c = 22\n",
    "\n",
    "T(n) = $7n^4 + 10n + 5 ≤ c * n^5$ in other words, $7n^4 + 10n + 5 \\in O(n^5)$"
   ]
  },
  {
   "cell_type": "markdown",
   "id": "85ca06bc-d36a-4812-bad1-e16c410bcd51",
   "metadata": {},
   "source": [
    "---\n",
    "\n",
    "**Problem 2**\n",
    "\n",
    "Use the definition of Omega ($\\Omega$) to explain why this is true:  $7n^4 + 10n + 5 \\in \\Omega(n^4)$.\n"
   ]
  },
  {
   "cell_type": "markdown",
   "id": "03c0a1f9-9e0b-42ee-89ba-bc1efd79aaeb",
   "metadata": {},
   "source": [
    "T(n) = $7n^4 + 10n + 5$\n",
    "\n",
    "c = 1\n",
    "\n",
    "$7n^4 + 10n + 5 ≥ c * n^4$ for all values n ≥ 1\n",
    "\n",
    "Therefore, $7n^4 + 10n + 5 \\in \\Omega(n^4)$"
   ]
  },
  {
   "cell_type": "markdown",
   "id": "e1eb6ebc-7d47-4fba-8c8e-ec6db3e2c91a",
   "metadata": {},
   "source": [
    "---\n",
    "\n",
    "**Problem 3**\n",
    "\n",
    "Use the definition of Theta ($\\Theta$) to explain why this is true:  $7n^4 + 10n + 5 \\in \\Theta(n^4)$.\n"
   ]
  },
  {
   "cell_type": "markdown",
   "id": "38797772-2813-4270-a558-4c652fbd8f02",
   "metadata": {},
   "source": [
    "T(n) = $7n^4 + 10n + 5$\n",
    "\n",
    "c1 = 1\n",
    "\n",
    "c2 = 22\n",
    "\n",
    "$c1 * n^4 ≤ 7n^4 + 10n + 5 ≤ c2 * n^4$ for all n ≥ 1\n",
    "\n",
    "In other words, $n^4 ≤ 7n^4 + 10n + 5 ≤ 22n^4$\n",
    "\n",
    "So, $7n^4 + 10n + 5 \\in \\Theta(n^4)$"
   ]
  },
  {
   "cell_type": "markdown",
   "id": "2641cde8-80b5-4e84-90c3-def591933e66",
   "metadata": {},
   "source": [
    "---\n",
    "\n",
    "**Problem 4**\n",
    "\n",
    "Determine the running time equation of this program.  Next, use $\\Omega$ to specify the lower bound complexity of the running time function.\n"
   ]
  },
  {
   "cell_type": "code",
   "execution_count": 4,
   "id": "3e467879-6bcd-4448-ae8a-d86860d247c3",
   "metadata": {},
   "outputs": [],
   "source": [
    "def prob(L): #T(n)\n",
    "    total = 10 #a1\n",
    "    for x in L: #n\n",
    "        total += x*x + 5 #b1\n",
    "    for i in range(0, len(L)): #n               \n",
    "        for j in range(i+3, len(L)): #n      \n",
    "            total += L[i] * L[j] + 2 #c1             \n",
    "    return total #a2"
   ]
  },
  {
   "cell_type": "markdown",
   "id": "db426c5e-8afb-4fc3-b525-021c108fdcec",
   "metadata": {},
   "source": [
    "$T(n) = a + bn + cn^2$\n",
    "\n",
    "c = 1\n",
    "\n",
    "$a + bn + cn^2 ≥ c * n^2$ for all n > 1\n",
    "\n",
    "$a + bn + cn^2 \\in \\Omega(n^2)$"
   ]
  },
  {
   "cell_type": "markdown",
   "id": "ceff2c4d-9303-4750-aea7-1649857d3f08",
   "metadata": {},
   "source": [
    "---\n",
    "\n",
    "**Problem 5**\n",
    "\n",
    "Determine the running time equation of the program in the previous problem. Next, use $O$ to specify the upper bound complexity of the running time function.\n"
   ]
  },
  {
   "cell_type": "markdown",
   "id": "b1f37fe5-5d26-4899-a0ac-64f5c045197a",
   "metadata": {},
   "source": [
    "$T(n) = a + bn + cn^2$\n",
    "\n",
    "$a + bn + cn^2 ≤ an^2 + bn^2 + cn^2 = (a + b + c)n^2$ for all n > 1\n",
    "\n",
    "Therefore, $T(n) \\in O(n^2)$"
   ]
  },
  {
   "cell_type": "markdown",
   "id": "3f14a05c-c563-41fb-9eb3-41eceeda6609",
   "metadata": {},
   "source": [
    "---\n",
    "\n",
    "**Problem 6**\n",
    "\n",
    "Write down the running time equation, T(n), of the program do_something below.  Note that list's pop takes constant ($\\Theta(1)$) time."
   ]
  },
  {
   "cell_type": "code",
   "execution_count": 5,
   "id": "26274167-2020-4249-a6b0-f6192b56d022",
   "metadata": {},
   "outputs": [],
   "source": [
    "def do_something(L): #T(n)\n",
    "    if len(L) < 2: #a1\n",
    "        return 1 #a2\n",
    "    total = 0 #a3\n",
    "    for x in L: #n\n",
    "        total += x #bn\n",
    "    first = L.pop(0) #a4\n",
    "    last = L.pop(-1) #a5\n",
    "    if first==last: #a6\n",
    "        return total + do_something(L) #T(n-1)\n",
    "    else: #a7\n",
    "        return 2*total + do_something(L) #T(n-1)"
   ]
  },
  {
   "cell_type": "markdown",
   "id": "d265e554-071d-4a91-b71a-f29b95a7ddce",
   "metadata": {},
   "source": [
    "$T(n) = a + bn + T(n-2)$\n",
    "\n",
    "or, \n",
    "\n",
    "$T(n) = \\Theta(1) + T(n-2)$"
   ]
  },
  {
   "cell_type": "markdown",
   "id": "3664badb-a829-4a6d-bbd0-22d0174db15b",
   "metadata": {},
   "source": [
    "---\n",
    "\n",
    "**Problem 7**\n",
    "\n",
    "Write a Python function to sort numbers in decreasing order, based on the following recursive strategy:\n",
    "* Note: this strategy returns a list, which is in decreasing order.\n",
    "\n",
    "* Check the smallest case(s), and return the proper sorted output.  The smallest cases is when you cannot reduce the input list in your recursive strategy.\n",
    "\n",
    "* Recursive strategy when the input L is still reducible in size:\n",
    "    + Find the largest number in the input list, L.  Use Python's built-in **max** function to do this.\n",
    "    + Remove the largest number.  Use Python's **remove** method of lists to do this.\n",
    "    + After you remove the largest, L has one item fewer, i.e. you've \"reduced\" the input size of L.\n",
    "    + Use \"the same recursive strategy\" to get a sorted list of the remaining numbers in L.  \n",
    "    + Assemble the largest number and the sorted list of the remaining numbers to construct a sorted list of L. \n",
    "\n",
    "Examples:\n",
    "+ sort_max([10, 5, 7, 12]) returns [12, 10, 7, 5]\n",
    "+ sort_max([5]) returns [5]\n",
    "+ sort_max([]) returns []\n",
    "\n",
    "Examples of Python's functions:\n",
    "+ L = [1,4,10,3]\n",
    "+ max(L) returns 10\n",
    "+ L.remove(10) removes 10 from L. This method returns None.\n",
    "+ List concatenation: [1] + [2, 3] --> [1, 2, 3]\n",
    "\n",
    "\n",
    "\n",
    "**Note**: this problem is not meant to produce the best way to sort a list. It's meant to orient you toward a recursive mindset, which is helpful for more complex problems."
   ]
  },
  {
   "cell_type": "code",
   "execution_count": 45,
   "id": "7e6db481-39ff-40db-8baf-da2e7927364f",
   "metadata": {},
   "outputs": [],
   "source": [
    "#\n",
    "# Input: a list of numbers\n",
    "# Output: the same list of numbers, but in decreasing order\n",
    "# \n",
    "def sort_max(L): #T(n)\n",
    "    if len(L) <= 1: #a1\n",
    "        return L #a2\n",
    "    else: #a3\n",
    "        x = max(L) #a4\n",
    "        L.remove(x) #a5 (n-1)\n",
    "        return [x] + sort_max(L) #T(n-1)"
   ]
  },
  {
   "cell_type": "code",
   "execution_count": 46,
   "id": "f32591d5-56b2-405a-8513-9e814ccc2f7c",
   "metadata": {},
   "outputs": [
    {
     "data": {
      "text/plain": [
       "[12, 10, 7, 5]"
      ]
     },
     "execution_count": 46,
     "metadata": {},
     "output_type": "execute_result"
    }
   ],
   "source": [
    "L = [10, 5, 7, 12]\n",
    "sort_max(L)"
   ]
  },
  {
   "cell_type": "code",
   "execution_count": 47,
   "id": "4d493eaf-1577-4c11-822d-76526ed75678",
   "metadata": {},
   "outputs": [
    {
     "data": {
      "text/plain": [
       "[5]"
      ]
     },
     "execution_count": 47,
     "metadata": {},
     "output_type": "execute_result"
    }
   ],
   "source": [
    "L = [5]\n",
    "sort_max(L)"
   ]
  },
  {
   "cell_type": "code",
   "execution_count": 48,
   "id": "2ce12009-7347-44fc-b072-ff8554283897",
   "metadata": {},
   "outputs": [
    {
     "data": {
      "text/plain": [
       "[]"
      ]
     },
     "execution_count": 48,
     "metadata": {},
     "output_type": "execute_result"
    }
   ],
   "source": [
    "L = []\n",
    "sort_max(L)"
   ]
  },
  {
   "cell_type": "markdown",
   "id": "8ebda576-72f7-4ed0-ba1e-69409c059d73",
   "metadata": {},
   "source": [
    "---\n",
    "\n",
    "**Problem 8**\n",
    "\n",
    "Write down the running time equation, T(n), of the recursive strategy in Problem 7."
   ]
  },
  {
   "cell_type": "markdown",
   "id": "830b6237-62d4-4bf1-9085-ccabfe20f303",
   "metadata": {},
   "source": [
    "T(n) = a + T(n-1)\n",
    "\n",
    "or \n",
    "\n",
    "T(n) = $\\Theta(1) + T(n-1)$"
   ]
  }
 ],
 "metadata": {
  "kernelspec": {
   "display_name": "Python 3 (ipykernel)",
   "language": "python",
   "name": "python3"
  },
  "language_info": {
   "codemirror_mode": {
    "name": "ipython",
    "version": 3
   },
   "file_extension": ".py",
   "mimetype": "text/x-python",
   "name": "python",
   "nbconvert_exporter": "python",
   "pygments_lexer": "ipython3",
   "version": "3.9.13"
  }
 },
 "nbformat": 4,
 "nbformat_minor": 5
}
