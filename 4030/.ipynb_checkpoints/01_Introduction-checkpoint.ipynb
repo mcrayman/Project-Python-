{
 "cells": [
  {
   "cell_type": "markdown",
   "id": "e3713bf4-3a97-49e0-8902-4a07400e2512",
   "metadata": {
    "tags": []
   },
   "source": [
    "# COMP 4030 / 6030"
   ]
  },
  {
   "cell_type": "markdown",
   "id": "7e30b9c2-1500-4963-9c6f-b7d86498203d",
   "metadata": {},
   "source": [
    "Learning goals:\n",
    "* Understand what Anaconda is.\n",
    "* Know how to start Anaconda\n",
    "* Understand what computational notebooks are.\n",
    "* Know how to start Jupyter Lab\n",
    "* Know how to create notebooks\n",
    "* Know how to download and upload notebooks\n",
    "* Know how to edit notebooks\n",
    "* Organize notebooks for this course effectively"
   ]
  },
  {
   "cell_type": "markdown",
   "id": "da6a6344-d33e-4e45-8eda-31e94178b2c1",
   "metadata": {
    "tags": []
   },
   "source": [
    "Anaconda is a scientific distribution of Python.\n",
    "\n",
    "After you install this, there's something called Anaconda Navigator.\n",
    "\n",
    "When you open Anaconda Navigator, you see a few tools, one of which is \"Jupyter Lab\".\n",
    "\n",
    "Jupyter Lab is a web app.  It hosts Jupyter notebooks.\n",
    "\n",
    "The root folder is probably your home directory.\n",
    "\n",
    "It's important for you to organize your notebooks in a sensible way.  Have a COMP4030 folder.\n",
    "\n",
    "We will write notes and code in Jupyter Notebooks.\n",
    "\n",
    "A Jupyter notebook is a list of blocks (in json format).\n",
    "\n",
    "There are two types of blocks: text (Markdown syntax) and code (Python syntax).\n",
    "\n",
    "We use Jupyter notebooks to write code and text.\n",
    "\n",
    "A block is written in a particular language: Markdown or Python.  So we need to understand the syntax of Markdown and Python.\n",
    "\n",
    "To see the effect of whatever is in a block, we need to \"execute\" the block.\n",
    "\n"
   ]
  },
  {
   "cell_type": "code",
   "execution_count": null,
   "id": "1ff3b074-e799-4bae-b9b0-a632cbe5a363",
   "metadata": {},
   "outputs": [
    {
     "ename": "",
     "evalue": "",
     "output_type": "error",
     "traceback": [
      "\u001b[1;31mRunning cells with 'Python 3.10.2 64-bit' requires ipykernel package.\n",
      "\u001b[1;31mRun the following command to install 'ipykernel' into the Python environment. \n",
      "\u001b[1;31mCommand: '/usr/local/bin/python3 -m pip install ipykernel -U --user --force-reinstall'"
     ]
    }
   ],
   "source": [
    "3 + 8*2 + 1"
   ]
  },
  {
   "cell_type": "markdown",
   "id": "ac5800f2-f87f-4536-8dea-230997bbd804",
   "metadata": {},
   "source": [
    "Welcome...\n",
    "\n",
    "A few things...\n",
    "+ Anaconda, Python\n",
    "+ Prerequisites (COMP 2700, COMP 2150)\n",
    "\n",
    "Expectations\n",
    "+ Coding in class\n",
    "+ Attending lectures\n"
   ]
  },
  {
   "cell_type": "markdown",
   "id": "fc6dbb95-e04c-43f1-8f29-b5b534e3798a",
   "metadata": {},
   "source": [
    "We need to know only a few things to write in Markdown.\n",
    "\n",
    "+ Headings\n",
    "+ Lists\n",
    "\n",
    "You can organize information within a notebook reasonably well with these two things.\n",
    "\n",
    "Headings: use # (h1), ## (h2), ### (h3), etc.\n",
    "\n",
    "# This is an h1 heading\n",
    "\n",
    "## This is h2\n",
    "\n",
    "This is an unorder list (ul):\n",
    "\n",
    "+ Apple\n",
    "+ Orange\n",
    "\n",
    "- Apple\n",
    "- Orange\n",
    "\n",
    "* Apple\n",
    "    + Gala\n",
    "    + Granny\n",
    "* Orange\n"
   ]
  },
  {
   "cell_type": "markdown",
   "id": "8a74cdbd-4f29-4e1b-bf2d-534dbbf2f06a",
   "metadata": {
    "jp-MarkdownHeadingCollapsed": true,
    "tags": []
   },
   "source": [
    "---\n",
    "### Jupyter Lab and Jupyter Notebooks\n",
    "\n",
    "+ Syntax\n",
    "+ Practice\n"
   ]
  },
  {
   "cell_type": "markdown",
   "id": "7184afc0-acb8-41a6-8fe5-77fde4da618b",
   "metadata": {
    "jupyter": {
     "source_hidden": true
    },
    "tags": []
   },
   "source": [
    "Jupyter lab is a web app (served right on your labtop).\n",
    "\n",
    "Jupyter lab consists of Jupyter Notebook together with other things.\n",
    "\n",
    "Jupyter lab is included in Ananconda."
   ]
  },
  {
   "cell_type": "markdown",
   "id": "928fdd20-e08d-4bf8-8419-b43fe22beec9",
   "metadata": {},
   "source": [
    "Jupyter notebook is a \"computational\" notebook.\n",
    "\n",
    "You can write regular texts and code in a computational notebook."
   ]
  },
  {
   "cell_type": "markdown",
   "id": "9277d005-1330-4947-9be7-a95f6e8d30e2",
   "metadata": {},
   "source": [
    "A Jupyter notebook is a json-formatted text file.  It consists of a sequence of blocks.\n",
    "\n",
    "Each block is either in Markdown syntax (for regular text) or Python syntax (for code).\n",
    "\n",
    "You have to \"execute\" a block to see the outcome."
   ]
  },
  {
   "cell_type": "markdown",
   "id": "97cf2d63-cd14-4b9e-b09e-2c2b6e2b4b83",
   "metadata": {},
   "source": [
    "In Markdown, regular texts appear as regular texts.\n",
    "\n",
    "Sometimes, you want to make texts bold, italized, headings, lists."
   ]
  },
  {
   "cell_type": "markdown",
   "id": "5837efb0-4912-4a6d-93a4-9304170cb859",
   "metadata": {},
   "source": [
    "Headings start with the # symbol.\n",
    "\n",
    "# First level heading (h1 in html)\n",
    "\n",
    "## Second level heading (h2 in html)\n",
    "\n",
    "### Third level heading (h3 in html)"
   ]
  },
  {
   "cell_type": "markdown",
   "id": "718260a2-7db7-4938-bcb2-3ecf60715b72",
   "metadata": {},
   "source": [
    "After a block is executed, a new code block is automatically created. "
   ]
  },
  {
   "cell_type": "markdown",
   "id": "bb90419c-3d2c-484a-9297-a074570d0dac",
   "metadata": {},
   "source": [
    "We can tell Jupyter Notebook to convert a text block to a code block, and vice versa.\n",
    "\n"
   ]
  },
  {
   "cell_type": "markdown",
   "id": "cd26a12c-acd5-4c59-a079-5d376a897075",
   "metadata": {},
   "source": [
    "Shortcuts:\n",
    "+ Shift+Enter --  to execute a block.\n",
    "+ Escape, M -- switching to Markdown\n",
    "+ Escape, Y -- switching to Code"
   ]
  },
  {
   "cell_type": "markdown",
   "id": "8bb871a1-e0c1-47d7-9b9c-e567db2256f6",
   "metadata": {},
   "source": [
    "Making a list with + or * or - or numbers\n",
    "\n",
    "1. First\n",
    "2. Second\n",
    "\n",
    "+ Apple\n",
    "+ Orange\n",
    "\n",
    "Use two * to bolden text:  **this is bold**\n",
    "\n",
    "Use one * to italicize:  *this is italicized*\n",
    "\n"
   ]
  },
  {
   "cell_type": "markdown",
   "id": "253cd6fa-f66d-4bf9-8ced-38964e62bd02",
   "metadata": {},
   "source": [
    "This below is a code block:"
   ]
  },
  {
   "cell_type": "code",
   "execution_count": 3,
   "id": "18fded74-d23b-40f1-b730-bfe01aaa18db",
   "metadata": {},
   "outputs": [
    {
     "name": "stdout",
     "output_type": "stream",
     "text": [
      "10\n"
     ]
    }
   ],
   "source": [
    "a = 10\n",
    "print(a)"
   ]
  },
  {
   "cell_type": "markdown",
   "id": "c5e16019-2663-41ef-ba7a-89696f5a64c2",
   "metadata": {},
   "source": [
    "A new block is automatically configured as a \"code\" block.\n",
    "\n",
    "Escape + M --- change block to markdown.\n",
    "\n",
    "Escape + Y --- change block to python.\n",
    "\n"
   ]
  },
  {
   "cell_type": "code",
   "execution_count": null,
   "id": "ac4b7dda-eade-4774-872d-4f64fdf7ea21",
   "metadata": {},
   "outputs": [],
   "source": [
    "\n"
   ]
  },
  {
   "cell_type": "code",
   "execution_count": null,
   "id": "ac9ee110-474b-4eba-a016-5da78d186a38",
   "metadata": {},
   "outputs": [],
   "source": []
  }
 ],
 "metadata": {
  "kernelspec": {
   "display_name": "Python 3.10.2 64-bit",
   "language": "python",
   "name": "python3"
  },
  "language_info": {
   "codemirror_mode": {
    "name": "ipython",
    "version": 3
   },
   "file_extension": ".py",
   "mimetype": "text/x-python",
   "name": "python",
   "nbconvert_exporter": "python",
   "pygments_lexer": "ipython3",
   "version": "3.10.2"
  },
  "vscode": {
   "interpreter": {
    "hash": "aee8b7b246df8f9039afb4144a1f6fd8d2ca17a180786b69acc140d282b71a49"
   }
  }
 },
 "nbformat": 4,
 "nbformat_minor": 5
}
